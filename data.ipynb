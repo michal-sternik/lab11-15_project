{
 "cells": [
  {
   "cell_type": "code",
   "execution_count": 80,
   "metadata": {
    "collapsed": true
   },
   "outputs": [],
   "source": [
    "import matplotlib.pyplot as plt\n",
    "import numpy as np\n",
    "from tabulate import tabulate\n",
    "from bs4 import BeautifulSoup\n",
    "import urllib.request\n",
    "import re\n",
    "import requests\n",
    "import pandas as pd\n",
    "import datetime\n",
    "import os\n",
    "import glob\n"
   ]
  },
  {
   "cell_type": "code",
   "execution_count": 81,
   "outputs": [],
   "source": [
    "\n",
    "df = pd.DataFrame(columns=['ilosc_przejazdow', 'data_przejazdu'])\n",
    "\n",
    "html_page = requests.get(\"https://www.wroclaw.pl/open-data/dataset/wrmprzejazdy_data/resource_history/c737af89-bcf7-4f7d-8bbc-4a0946d7006e\").text\n",
    "soup = BeautifulSoup(html_page, 'html.parser')\n",
    "list = soup.find_all(class_='heading')\n",
    "list = list[1:]\n",
    "list.reverse()"
   ],
   "metadata": {
    "collapsed": false,
    "pycharm": {
     "name": "#%%\n"
    }
   }
  },
  {
   "cell_type": "code",
   "execution_count": 82,
   "outputs": [],
   "source": [
    "date2022 = datetime.datetime(2022, 1, 1)"
   ],
   "metadata": {
    "collapsed": false,
    "pycharm": {
     "name": "#%%\n"
    }
   }
  },
  {
   "cell_type": "code",
   "execution_count": 83,
   "outputs": [
    {
     "name": "stderr",
     "output_type": "stream",
     "text": [
      "C:\\Users\\march\\AppData\\Local\\Temp\\ipykernel_18104\\2380825751.py:23: FutureWarning:\n",
      "\n",
      "The frame.append method is deprecated and will be removed from pandas in a future version. Use pandas.concat instead.\n",
      "\n",
      "C:\\Users\\march\\AppData\\Local\\Temp\\ipykernel_18104\\2380825751.py:23: FutureWarning:\n",
      "\n",
      "The frame.append method is deprecated and will be removed from pandas in a future version. Use pandas.concat instead.\n",
      "\n",
      "C:\\Users\\march\\AppData\\Local\\Temp\\ipykernel_18104\\2380825751.py:23: FutureWarning:\n",
      "\n",
      "The frame.append method is deprecated and will be removed from pandas in a future version. Use pandas.concat instead.\n",
      "\n",
      "C:\\Users\\march\\AppData\\Local\\Temp\\ipykernel_18104\\2380825751.py:23: FutureWarning:\n",
      "\n",
      "The frame.append method is deprecated and will be removed from pandas in a future version. Use pandas.concat instead.\n",
      "\n",
      "C:\\Users\\march\\AppData\\Local\\Temp\\ipykernel_18104\\2380825751.py:23: FutureWarning:\n",
      "\n",
      "The frame.append method is deprecated and will be removed from pandas in a future version. Use pandas.concat instead.\n",
      "\n",
      "C:\\Users\\march\\AppData\\Local\\Temp\\ipykernel_18104\\2380825751.py:23: FutureWarning:\n",
      "\n",
      "The frame.append method is deprecated and will be removed from pandas in a future version. Use pandas.concat instead.\n",
      "\n",
      "C:\\Users\\march\\AppData\\Local\\Temp\\ipykernel_18104\\2380825751.py:23: FutureWarning:\n",
      "\n",
      "The frame.append method is deprecated and will be removed from pandas in a future version. Use pandas.concat instead.\n",
      "\n",
      "C:\\Users\\march\\AppData\\Local\\Temp\\ipykernel_18104\\2380825751.py:23: FutureWarning:\n",
      "\n",
      "The frame.append method is deprecated and will be removed from pandas in a future version. Use pandas.concat instead.\n",
      "\n",
      "C:\\Users\\march\\AppData\\Local\\Temp\\ipykernel_18104\\2380825751.py:23: FutureWarning:\n",
      "\n",
      "The frame.append method is deprecated and will be removed from pandas in a future version. Use pandas.concat instead.\n",
      "\n",
      "C:\\Users\\march\\AppData\\Local\\Temp\\ipykernel_18104\\2380825751.py:23: FutureWarning:\n",
      "\n",
      "The frame.append method is deprecated and will be removed from pandas in a future version. Use pandas.concat instead.\n",
      "\n",
      "C:\\Users\\march\\AppData\\Local\\Temp\\ipykernel_18104\\2380825751.py:23: FutureWarning:\n",
      "\n",
      "The frame.append method is deprecated and will be removed from pandas in a future version. Use pandas.concat instead.\n",
      "\n",
      "C:\\Users\\march\\AppData\\Local\\Temp\\ipykernel_18104\\2380825751.py:23: FutureWarning:\n",
      "\n",
      "The frame.append method is deprecated and will be removed from pandas in a future version. Use pandas.concat instead.\n",
      "\n",
      "C:\\Users\\march\\AppData\\Local\\Temp\\ipykernel_18104\\2380825751.py:23: FutureWarning:\n",
      "\n",
      "The frame.append method is deprecated and will be removed from pandas in a future version. Use pandas.concat instead.\n",
      "\n",
      "C:\\Users\\march\\AppData\\Local\\Temp\\ipykernel_18104\\2380825751.py:23: FutureWarning:\n",
      "\n",
      "The frame.append method is deprecated and will be removed from pandas in a future version. Use pandas.concat instead.\n",
      "\n",
      "C:\\Users\\march\\AppData\\Local\\Temp\\ipykernel_18104\\2380825751.py:23: FutureWarning:\n",
      "\n",
      "The frame.append method is deprecated and will be removed from pandas in a future version. Use pandas.concat instead.\n",
      "\n",
      "C:\\Users\\march\\AppData\\Local\\Temp\\ipykernel_18104\\2380825751.py:23: FutureWarning:\n",
      "\n",
      "The frame.append method is deprecated and will be removed from pandas in a future version. Use pandas.concat instead.\n",
      "\n",
      "C:\\Users\\march\\AppData\\Local\\Temp\\ipykernel_18104\\2380825751.py:23: FutureWarning:\n",
      "\n",
      "The frame.append method is deprecated and will be removed from pandas in a future version. Use pandas.concat instead.\n",
      "\n",
      "C:\\Users\\march\\AppData\\Local\\Temp\\ipykernel_18104\\2380825751.py:23: FutureWarning:\n",
      "\n",
      "The frame.append method is deprecated and will be removed from pandas in a future version. Use pandas.concat instead.\n",
      "\n",
      "C:\\Users\\march\\AppData\\Local\\Temp\\ipykernel_18104\\2380825751.py:23: FutureWarning:\n",
      "\n",
      "The frame.append method is deprecated and will be removed from pandas in a future version. Use pandas.concat instead.\n",
      "\n",
      "C:\\Users\\march\\AppData\\Local\\Temp\\ipykernel_18104\\2380825751.py:23: FutureWarning:\n",
      "\n",
      "The frame.append method is deprecated and will be removed from pandas in a future version. Use pandas.concat instead.\n",
      "\n",
      "C:\\Users\\march\\AppData\\Local\\Temp\\ipykernel_18104\\2380825751.py:23: FutureWarning:\n",
      "\n",
      "The frame.append method is deprecated and will be removed from pandas in a future version. Use pandas.concat instead.\n",
      "\n",
      "C:\\Users\\march\\AppData\\Local\\Temp\\ipykernel_18104\\2380825751.py:23: FutureWarning:\n",
      "\n",
      "The frame.append method is deprecated and will be removed from pandas in a future version. Use pandas.concat instead.\n",
      "\n",
      "C:\\Users\\march\\AppData\\Local\\Temp\\ipykernel_18104\\2380825751.py:23: FutureWarning:\n",
      "\n",
      "The frame.append method is deprecated and will be removed from pandas in a future version. Use pandas.concat instead.\n",
      "\n",
      "C:\\Users\\march\\AppData\\Local\\Temp\\ipykernel_18104\\2380825751.py:23: FutureWarning:\n",
      "\n",
      "The frame.append method is deprecated and will be removed from pandas in a future version. Use pandas.concat instead.\n",
      "\n",
      "C:\\Users\\march\\AppData\\Local\\Temp\\ipykernel_18104\\2380825751.py:23: FutureWarning:\n",
      "\n",
      "The frame.append method is deprecated and will be removed from pandas in a future version. Use pandas.concat instead.\n",
      "\n",
      "C:\\Users\\march\\AppData\\Local\\Temp\\ipykernel_18104\\2380825751.py:23: FutureWarning:\n",
      "\n",
      "The frame.append method is deprecated and will be removed from pandas in a future version. Use pandas.concat instead.\n",
      "\n",
      "C:\\Users\\march\\AppData\\Local\\Temp\\ipykernel_18104\\2380825751.py:23: FutureWarning:\n",
      "\n",
      "The frame.append method is deprecated and will be removed from pandas in a future version. Use pandas.concat instead.\n",
      "\n",
      "C:\\Users\\march\\AppData\\Local\\Temp\\ipykernel_18104\\2380825751.py:23: FutureWarning:\n",
      "\n",
      "The frame.append method is deprecated and will be removed from pandas in a future version. Use pandas.concat instead.\n",
      "\n",
      "C:\\Users\\march\\AppData\\Local\\Temp\\ipykernel_18104\\2380825751.py:23: FutureWarning:\n",
      "\n",
      "The frame.append method is deprecated and will be removed from pandas in a future version. Use pandas.concat instead.\n",
      "\n",
      "C:\\Users\\march\\AppData\\Local\\Temp\\ipykernel_18104\\2380825751.py:23: FutureWarning:\n",
      "\n",
      "The frame.append method is deprecated and will be removed from pandas in a future version. Use pandas.concat instead.\n",
      "\n",
      "C:\\Users\\march\\AppData\\Local\\Temp\\ipykernel_18104\\2380825751.py:23: FutureWarning:\n",
      "\n",
      "The frame.append method is deprecated and will be removed from pandas in a future version. Use pandas.concat instead.\n",
      "\n",
      "C:\\Users\\march\\AppData\\Local\\Temp\\ipykernel_18104\\2380825751.py:23: FutureWarning:\n",
      "\n",
      "The frame.append method is deprecated and will be removed from pandas in a future version. Use pandas.concat instead.\n",
      "\n",
      "C:\\Users\\march\\AppData\\Local\\Temp\\ipykernel_18104\\2380825751.py:23: FutureWarning:\n",
      "\n",
      "The frame.append method is deprecated and will be removed from pandas in a future version. Use pandas.concat instead.\n",
      "\n",
      "C:\\Users\\march\\AppData\\Local\\Temp\\ipykernel_18104\\2380825751.py:23: FutureWarning:\n",
      "\n",
      "The frame.append method is deprecated and will be removed from pandas in a future version. Use pandas.concat instead.\n",
      "\n",
      "C:\\Users\\march\\AppData\\Local\\Temp\\ipykernel_18104\\2380825751.py:23: FutureWarning:\n",
      "\n",
      "The frame.append method is deprecated and will be removed from pandas in a future version. Use pandas.concat instead.\n",
      "\n",
      "C:\\Users\\march\\AppData\\Local\\Temp\\ipykernel_18104\\2380825751.py:23: FutureWarning:\n",
      "\n",
      "The frame.append method is deprecated and will be removed from pandas in a future version. Use pandas.concat instead.\n",
      "\n",
      "C:\\Users\\march\\AppData\\Local\\Temp\\ipykernel_18104\\2380825751.py:23: FutureWarning:\n",
      "\n",
      "The frame.append method is deprecated and will be removed from pandas in a future version. Use pandas.concat instead.\n",
      "\n",
      "C:\\Users\\march\\AppData\\Local\\Temp\\ipykernel_18104\\2380825751.py:23: FutureWarning:\n",
      "\n",
      "The frame.append method is deprecated and will be removed from pandas in a future version. Use pandas.concat instead.\n",
      "\n",
      "C:\\Users\\march\\AppData\\Local\\Temp\\ipykernel_18104\\2380825751.py:23: FutureWarning:\n",
      "\n",
      "The frame.append method is deprecated and will be removed from pandas in a future version. Use pandas.concat instead.\n",
      "\n",
      "C:\\Users\\march\\AppData\\Local\\Temp\\ipykernel_18104\\2380825751.py:23: FutureWarning:\n",
      "\n",
      "The frame.append method is deprecated and will be removed from pandas in a future version. Use pandas.concat instead.\n",
      "\n",
      "C:\\Users\\march\\AppData\\Local\\Temp\\ipykernel_18104\\2380825751.py:23: FutureWarning:\n",
      "\n",
      "The frame.append method is deprecated and will be removed from pandas in a future version. Use pandas.concat instead.\n",
      "\n",
      "C:\\Users\\march\\AppData\\Local\\Temp\\ipykernel_18104\\2380825751.py:23: FutureWarning:\n",
      "\n",
      "The frame.append method is deprecated and will be removed from pandas in a future version. Use pandas.concat instead.\n",
      "\n",
      "C:\\Users\\march\\AppData\\Local\\Temp\\ipykernel_18104\\2380825751.py:23: FutureWarning:\n",
      "\n",
      "The frame.append method is deprecated and will be removed from pandas in a future version. Use pandas.concat instead.\n",
      "\n",
      "C:\\Users\\march\\AppData\\Local\\Temp\\ipykernel_18104\\2380825751.py:23: FutureWarning:\n",
      "\n",
      "The frame.append method is deprecated and will be removed from pandas in a future version. Use pandas.concat instead.\n",
      "\n",
      "C:\\Users\\march\\AppData\\Local\\Temp\\ipykernel_18104\\2380825751.py:23: FutureWarning:\n",
      "\n",
      "The frame.append method is deprecated and will be removed from pandas in a future version. Use pandas.concat instead.\n",
      "\n",
      "C:\\Users\\march\\AppData\\Local\\Temp\\ipykernel_18104\\2380825751.py:23: FutureWarning:\n",
      "\n",
      "The frame.append method is deprecated and will be removed from pandas in a future version. Use pandas.concat instead.\n",
      "\n",
      "C:\\Users\\march\\AppData\\Local\\Temp\\ipykernel_18104\\2380825751.py:23: FutureWarning:\n",
      "\n",
      "The frame.append method is deprecated and will be removed from pandas in a future version. Use pandas.concat instead.\n",
      "\n",
      "C:\\Users\\march\\AppData\\Local\\Temp\\ipykernel_18104\\2380825751.py:23: FutureWarning:\n",
      "\n",
      "The frame.append method is deprecated and will be removed from pandas in a future version. Use pandas.concat instead.\n",
      "\n",
      "C:\\Users\\march\\AppData\\Local\\Temp\\ipykernel_18104\\2380825751.py:23: FutureWarning:\n",
      "\n",
      "The frame.append method is deprecated and will be removed from pandas in a future version. Use pandas.concat instead.\n",
      "\n",
      "C:\\Users\\march\\AppData\\Local\\Temp\\ipykernel_18104\\2380825751.py:23: FutureWarning:\n",
      "\n",
      "The frame.append method is deprecated and will be removed from pandas in a future version. Use pandas.concat instead.\n",
      "\n",
      "C:\\Users\\march\\AppData\\Local\\Temp\\ipykernel_18104\\2380825751.py:23: FutureWarning:\n",
      "\n",
      "The frame.append method is deprecated and will be removed from pandas in a future version. Use pandas.concat instead.\n",
      "\n",
      "C:\\Users\\march\\AppData\\Local\\Temp\\ipykernel_18104\\2380825751.py:23: FutureWarning:\n",
      "\n",
      "The frame.append method is deprecated and will be removed from pandas in a future version. Use pandas.concat instead.\n",
      "\n",
      "C:\\Users\\march\\AppData\\Local\\Temp\\ipykernel_18104\\2380825751.py:23: FutureWarning:\n",
      "\n",
      "The frame.append method is deprecated and will be removed from pandas in a future version. Use pandas.concat instead.\n",
      "\n",
      "C:\\Users\\march\\AppData\\Local\\Temp\\ipykernel_18104\\2380825751.py:23: FutureWarning:\n",
      "\n",
      "The frame.append method is deprecated and will be removed from pandas in a future version. Use pandas.concat instead.\n",
      "\n",
      "C:\\Users\\march\\AppData\\Local\\Temp\\ipykernel_18104\\2380825751.py:23: FutureWarning:\n",
      "\n",
      "The frame.append method is deprecated and will be removed from pandas in a future version. Use pandas.concat instead.\n",
      "\n",
      "C:\\Users\\march\\AppData\\Local\\Temp\\ipykernel_18104\\2380825751.py:23: FutureWarning:\n",
      "\n",
      "The frame.append method is deprecated and will be removed from pandas in a future version. Use pandas.concat instead.\n",
      "\n",
      "C:\\Users\\march\\AppData\\Local\\Temp\\ipykernel_18104\\2380825751.py:23: FutureWarning:\n",
      "\n",
      "The frame.append method is deprecated and will be removed from pandas in a future version. Use pandas.concat instead.\n",
      "\n",
      "C:\\Users\\march\\AppData\\Local\\Temp\\ipykernel_18104\\2380825751.py:23: FutureWarning:\n",
      "\n",
      "The frame.append method is deprecated and will be removed from pandas in a future version. Use pandas.concat instead.\n",
      "\n",
      "C:\\Users\\march\\AppData\\Local\\Temp\\ipykernel_18104\\2380825751.py:23: FutureWarning:\n",
      "\n",
      "The frame.append method is deprecated and will be removed from pandas in a future version. Use pandas.concat instead.\n",
      "\n",
      "C:\\Users\\march\\AppData\\Local\\Temp\\ipykernel_18104\\2380825751.py:23: FutureWarning:\n",
      "\n",
      "The frame.append method is deprecated and will be removed from pandas in a future version. Use pandas.concat instead.\n",
      "\n",
      "C:\\Users\\march\\AppData\\Local\\Temp\\ipykernel_18104\\2380825751.py:23: FutureWarning:\n",
      "\n",
      "The frame.append method is deprecated and will be removed from pandas in a future version. Use pandas.concat instead.\n",
      "\n",
      "C:\\Users\\march\\AppData\\Local\\Temp\\ipykernel_18104\\2380825751.py:23: FutureWarning:\n",
      "\n",
      "The frame.append method is deprecated and will be removed from pandas in a future version. Use pandas.concat instead.\n",
      "\n",
      "C:\\Users\\march\\AppData\\Local\\Temp\\ipykernel_18104\\2380825751.py:23: FutureWarning:\n",
      "\n",
      "The frame.append method is deprecated and will be removed from pandas in a future version. Use pandas.concat instead.\n",
      "\n",
      "C:\\Users\\march\\AppData\\Local\\Temp\\ipykernel_18104\\2380825751.py:23: FutureWarning:\n",
      "\n",
      "The frame.append method is deprecated and will be removed from pandas in a future version. Use pandas.concat instead.\n",
      "\n",
      "C:\\Users\\march\\AppData\\Local\\Temp\\ipykernel_18104\\2380825751.py:23: FutureWarning:\n",
      "\n",
      "The frame.append method is deprecated and will be removed from pandas in a future version. Use pandas.concat instead.\n",
      "\n",
      "C:\\Users\\march\\AppData\\Local\\Temp\\ipykernel_18104\\2380825751.py:23: FutureWarning:\n",
      "\n",
      "The frame.append method is deprecated and will be removed from pandas in a future version. Use pandas.concat instead.\n",
      "\n",
      "C:\\Users\\march\\AppData\\Local\\Temp\\ipykernel_18104\\2380825751.py:23: FutureWarning:\n",
      "\n",
      "The frame.append method is deprecated and will be removed from pandas in a future version. Use pandas.concat instead.\n",
      "\n",
      "C:\\Users\\march\\AppData\\Local\\Temp\\ipykernel_18104\\2380825751.py:23: FutureWarning:\n",
      "\n",
      "The frame.append method is deprecated and will be removed from pandas in a future version. Use pandas.concat instead.\n",
      "\n",
      "C:\\Users\\march\\AppData\\Local\\Temp\\ipykernel_18104\\2380825751.py:23: FutureWarning:\n",
      "\n",
      "The frame.append method is deprecated and will be removed from pandas in a future version. Use pandas.concat instead.\n",
      "\n",
      "C:\\Users\\march\\AppData\\Local\\Temp\\ipykernel_18104\\2380825751.py:23: FutureWarning:\n",
      "\n",
      "The frame.append method is deprecated and will be removed from pandas in a future version. Use pandas.concat instead.\n",
      "\n",
      "C:\\Users\\march\\AppData\\Local\\Temp\\ipykernel_18104\\2380825751.py:23: FutureWarning:\n",
      "\n",
      "The frame.append method is deprecated and will be removed from pandas in a future version. Use pandas.concat instead.\n",
      "\n",
      "C:\\Users\\march\\AppData\\Local\\Temp\\ipykernel_18104\\2380825751.py:23: FutureWarning:\n",
      "\n",
      "The frame.append method is deprecated and will be removed from pandas in a future version. Use pandas.concat instead.\n",
      "\n",
      "C:\\Users\\march\\AppData\\Local\\Temp\\ipykernel_18104\\2380825751.py:23: FutureWarning:\n",
      "\n",
      "The frame.append method is deprecated and will be removed from pandas in a future version. Use pandas.concat instead.\n",
      "\n",
      "C:\\Users\\march\\AppData\\Local\\Temp\\ipykernel_18104\\2380825751.py:23: FutureWarning:\n",
      "\n",
      "The frame.append method is deprecated and will be removed from pandas in a future version. Use pandas.concat instead.\n",
      "\n",
      "C:\\Users\\march\\AppData\\Local\\Temp\\ipykernel_18104\\2380825751.py:23: FutureWarning:\n",
      "\n",
      "The frame.append method is deprecated and will be removed from pandas in a future version. Use pandas.concat instead.\n",
      "\n",
      "C:\\Users\\march\\AppData\\Local\\Temp\\ipykernel_18104\\2380825751.py:23: FutureWarning:\n",
      "\n",
      "The frame.append method is deprecated and will be removed from pandas in a future version. Use pandas.concat instead.\n",
      "\n",
      "C:\\Users\\march\\AppData\\Local\\Temp\\ipykernel_18104\\2380825751.py:23: FutureWarning:\n",
      "\n",
      "The frame.append method is deprecated and will be removed from pandas in a future version. Use pandas.concat instead.\n",
      "\n",
      "C:\\Users\\march\\AppData\\Local\\Temp\\ipykernel_18104\\2380825751.py:23: FutureWarning:\n",
      "\n",
      "The frame.append method is deprecated and will be removed from pandas in a future version. Use pandas.concat instead.\n",
      "\n",
      "C:\\Users\\march\\AppData\\Local\\Temp\\ipykernel_18104\\2380825751.py:23: FutureWarning:\n",
      "\n",
      "The frame.append method is deprecated and will be removed from pandas in a future version. Use pandas.concat instead.\n",
      "\n",
      "C:\\Users\\march\\AppData\\Local\\Temp\\ipykernel_18104\\2380825751.py:23: FutureWarning:\n",
      "\n",
      "The frame.append method is deprecated and will be removed from pandas in a future version. Use pandas.concat instead.\n",
      "\n",
      "C:\\Users\\march\\AppData\\Local\\Temp\\ipykernel_18104\\2380825751.py:23: FutureWarning:\n",
      "\n",
      "The frame.append method is deprecated and will be removed from pandas in a future version. Use pandas.concat instead.\n",
      "\n",
      "C:\\Users\\march\\AppData\\Local\\Temp\\ipykernel_18104\\2380825751.py:23: FutureWarning:\n",
      "\n",
      "The frame.append method is deprecated and will be removed from pandas in a future version. Use pandas.concat instead.\n",
      "\n",
      "C:\\Users\\march\\AppData\\Local\\Temp\\ipykernel_18104\\2380825751.py:23: FutureWarning:\n",
      "\n",
      "The frame.append method is deprecated and will be removed from pandas in a future version. Use pandas.concat instead.\n",
      "\n",
      "C:\\Users\\march\\AppData\\Local\\Temp\\ipykernel_18104\\2380825751.py:23: FutureWarning:\n",
      "\n",
      "The frame.append method is deprecated and will be removed from pandas in a future version. Use pandas.concat instead.\n",
      "\n",
      "C:\\Users\\march\\AppData\\Local\\Temp\\ipykernel_18104\\2380825751.py:23: FutureWarning:\n",
      "\n",
      "The frame.append method is deprecated and will be removed from pandas in a future version. Use pandas.concat instead.\n",
      "\n",
      "C:\\Users\\march\\AppData\\Local\\Temp\\ipykernel_18104\\2380825751.py:23: FutureWarning:\n",
      "\n",
      "The frame.append method is deprecated and will be removed from pandas in a future version. Use pandas.concat instead.\n",
      "\n",
      "C:\\Users\\march\\AppData\\Local\\Temp\\ipykernel_18104\\2380825751.py:23: FutureWarning:\n",
      "\n",
      "The frame.append method is deprecated and will be removed from pandas in a future version. Use pandas.concat instead.\n",
      "\n",
      "C:\\Users\\march\\AppData\\Local\\Temp\\ipykernel_18104\\2380825751.py:23: FutureWarning:\n",
      "\n",
      "The frame.append method is deprecated and will be removed from pandas in a future version. Use pandas.concat instead.\n",
      "\n",
      "C:\\Users\\march\\AppData\\Local\\Temp\\ipykernel_18104\\2380825751.py:23: FutureWarning:\n",
      "\n",
      "The frame.append method is deprecated and will be removed from pandas in a future version. Use pandas.concat instead.\n",
      "\n",
      "C:\\Users\\march\\AppData\\Local\\Temp\\ipykernel_18104\\2380825751.py:23: FutureWarning:\n",
      "\n",
      "The frame.append method is deprecated and will be removed from pandas in a future version. Use pandas.concat instead.\n",
      "\n",
      "C:\\Users\\march\\AppData\\Local\\Temp\\ipykernel_18104\\2380825751.py:23: FutureWarning:\n",
      "\n",
      "The frame.append method is deprecated and will be removed from pandas in a future version. Use pandas.concat instead.\n",
      "\n",
      "C:\\Users\\march\\AppData\\Local\\Temp\\ipykernel_18104\\2380825751.py:23: FutureWarning:\n",
      "\n",
      "The frame.append method is deprecated and will be removed from pandas in a future version. Use pandas.concat instead.\n",
      "\n",
      "C:\\Users\\march\\AppData\\Local\\Temp\\ipykernel_18104\\2380825751.py:23: FutureWarning:\n",
      "\n",
      "The frame.append method is deprecated and will be removed from pandas in a future version. Use pandas.concat instead.\n",
      "\n",
      "C:\\Users\\march\\AppData\\Local\\Temp\\ipykernel_18104\\2380825751.py:23: FutureWarning:\n",
      "\n",
      "The frame.append method is deprecated and will be removed from pandas in a future version. Use pandas.concat instead.\n",
      "\n",
      "C:\\Users\\march\\AppData\\Local\\Temp\\ipykernel_18104\\2380825751.py:23: FutureWarning:\n",
      "\n",
      "The frame.append method is deprecated and will be removed from pandas in a future version. Use pandas.concat instead.\n",
      "\n",
      "C:\\Users\\march\\AppData\\Local\\Temp\\ipykernel_18104\\2380825751.py:23: FutureWarning:\n",
      "\n",
      "The frame.append method is deprecated and will be removed from pandas in a future version. Use pandas.concat instead.\n",
      "\n",
      "C:\\Users\\march\\AppData\\Local\\Temp\\ipykernel_18104\\2380825751.py:23: FutureWarning:\n",
      "\n",
      "The frame.append method is deprecated and will be removed from pandas in a future version. Use pandas.concat instead.\n",
      "\n",
      "C:\\Users\\march\\AppData\\Local\\Temp\\ipykernel_18104\\2380825751.py:23: FutureWarning:\n",
      "\n",
      "The frame.append method is deprecated and will be removed from pandas in a future version. Use pandas.concat instead.\n",
      "\n",
      "C:\\Users\\march\\AppData\\Local\\Temp\\ipykernel_18104\\2380825751.py:23: FutureWarning:\n",
      "\n",
      "The frame.append method is deprecated and will be removed from pandas in a future version. Use pandas.concat instead.\n",
      "\n",
      "C:\\Users\\march\\AppData\\Local\\Temp\\ipykernel_18104\\2380825751.py:23: FutureWarning:\n",
      "\n",
      "The frame.append method is deprecated and will be removed from pandas in a future version. Use pandas.concat instead.\n",
      "\n",
      "C:\\Users\\march\\AppData\\Local\\Temp\\ipykernel_18104\\2380825751.py:23: FutureWarning:\n",
      "\n",
      "The frame.append method is deprecated and will be removed from pandas in a future version. Use pandas.concat instead.\n",
      "\n",
      "C:\\Users\\march\\AppData\\Local\\Temp\\ipykernel_18104\\2380825751.py:23: FutureWarning:\n",
      "\n",
      "The frame.append method is deprecated and will be removed from pandas in a future version. Use pandas.concat instead.\n",
      "\n",
      "C:\\Users\\march\\AppData\\Local\\Temp\\ipykernel_18104\\2380825751.py:23: FutureWarning:\n",
      "\n",
      "The frame.append method is deprecated and will be removed from pandas in a future version. Use pandas.concat instead.\n",
      "\n",
      "C:\\Users\\march\\AppData\\Local\\Temp\\ipykernel_18104\\2380825751.py:23: FutureWarning:\n",
      "\n",
      "The frame.append method is deprecated and will be removed from pandas in a future version. Use pandas.concat instead.\n",
      "\n",
      "C:\\Users\\march\\AppData\\Local\\Temp\\ipykernel_18104\\2380825751.py:23: FutureWarning:\n",
      "\n",
      "The frame.append method is deprecated and will be removed from pandas in a future version. Use pandas.concat instead.\n",
      "\n",
      "C:\\Users\\march\\AppData\\Local\\Temp\\ipykernel_18104\\2380825751.py:23: FutureWarning:\n",
      "\n",
      "The frame.append method is deprecated and will be removed from pandas in a future version. Use pandas.concat instead.\n",
      "\n",
      "C:\\Users\\march\\AppData\\Local\\Temp\\ipykernel_18104\\2380825751.py:23: FutureWarning:\n",
      "\n",
      "The frame.append method is deprecated and will be removed from pandas in a future version. Use pandas.concat instead.\n",
      "\n",
      "C:\\Users\\march\\AppData\\Local\\Temp\\ipykernel_18104\\2380825751.py:23: FutureWarning:\n",
      "\n",
      "The frame.append method is deprecated and will be removed from pandas in a future version. Use pandas.concat instead.\n",
      "\n",
      "C:\\Users\\march\\AppData\\Local\\Temp\\ipykernel_18104\\2380825751.py:23: FutureWarning:\n",
      "\n",
      "The frame.append method is deprecated and will be removed from pandas in a future version. Use pandas.concat instead.\n",
      "\n",
      "C:\\Users\\march\\AppData\\Local\\Temp\\ipykernel_18104\\2380825751.py:23: FutureWarning:\n",
      "\n",
      "The frame.append method is deprecated and will be removed from pandas in a future version. Use pandas.concat instead.\n",
      "\n",
      "C:\\Users\\march\\AppData\\Local\\Temp\\ipykernel_18104\\2380825751.py:23: FutureWarning:\n",
      "\n",
      "The frame.append method is deprecated and will be removed from pandas in a future version. Use pandas.concat instead.\n",
      "\n",
      "C:\\Users\\march\\AppData\\Local\\Temp\\ipykernel_18104\\2380825751.py:23: FutureWarning:\n",
      "\n",
      "The frame.append method is deprecated and will be removed from pandas in a future version. Use pandas.concat instead.\n",
      "\n",
      "C:\\Users\\march\\AppData\\Local\\Temp\\ipykernel_18104\\2380825751.py:23: FutureWarning:\n",
      "\n",
      "The frame.append method is deprecated and will be removed from pandas in a future version. Use pandas.concat instead.\n",
      "\n",
      "C:\\Users\\march\\AppData\\Local\\Temp\\ipykernel_18104\\2380825751.py:23: FutureWarning:\n",
      "\n",
      "The frame.append method is deprecated and will be removed from pandas in a future version. Use pandas.concat instead.\n",
      "\n",
      "C:\\Users\\march\\AppData\\Local\\Temp\\ipykernel_18104\\2380825751.py:23: FutureWarning:\n",
      "\n",
      "The frame.append method is deprecated and will be removed from pandas in a future version. Use pandas.concat instead.\n",
      "\n",
      "C:\\Users\\march\\AppData\\Local\\Temp\\ipykernel_18104\\2380825751.py:23: FutureWarning:\n",
      "\n",
      "The frame.append method is deprecated and will be removed from pandas in a future version. Use pandas.concat instead.\n",
      "\n",
      "C:\\Users\\march\\AppData\\Local\\Temp\\ipykernel_18104\\2380825751.py:23: FutureWarning:\n",
      "\n",
      "The frame.append method is deprecated and will be removed from pandas in a future version. Use pandas.concat instead.\n",
      "\n",
      "C:\\Users\\march\\AppData\\Local\\Temp\\ipykernel_18104\\2380825751.py:23: FutureWarning:\n",
      "\n",
      "The frame.append method is deprecated and will be removed from pandas in a future version. Use pandas.concat instead.\n",
      "\n",
      "C:\\Users\\march\\AppData\\Local\\Temp\\ipykernel_18104\\2380825751.py:23: FutureWarning:\n",
      "\n",
      "The frame.append method is deprecated and will be removed from pandas in a future version. Use pandas.concat instead.\n",
      "\n",
      "C:\\Users\\march\\AppData\\Local\\Temp\\ipykernel_18104\\2380825751.py:23: FutureWarning:\n",
      "\n",
      "The frame.append method is deprecated and will be removed from pandas in a future version. Use pandas.concat instead.\n",
      "\n",
      "C:\\Users\\march\\AppData\\Local\\Temp\\ipykernel_18104\\2380825751.py:23: FutureWarning:\n",
      "\n",
      "The frame.append method is deprecated and will be removed from pandas in a future version. Use pandas.concat instead.\n",
      "\n",
      "C:\\Users\\march\\AppData\\Local\\Temp\\ipykernel_18104\\2380825751.py:23: FutureWarning:\n",
      "\n",
      "The frame.append method is deprecated and will be removed from pandas in a future version. Use pandas.concat instead.\n",
      "\n",
      "C:\\Users\\march\\AppData\\Local\\Temp\\ipykernel_18104\\2380825751.py:23: FutureWarning:\n",
      "\n",
      "The frame.append method is deprecated and will be removed from pandas in a future version. Use pandas.concat instead.\n",
      "\n",
      "C:\\Users\\march\\AppData\\Local\\Temp\\ipykernel_18104\\2380825751.py:23: FutureWarning:\n",
      "\n",
      "The frame.append method is deprecated and will be removed from pandas in a future version. Use pandas.concat instead.\n",
      "\n",
      "C:\\Users\\march\\AppData\\Local\\Temp\\ipykernel_18104\\2380825751.py:23: FutureWarning:\n",
      "\n",
      "The frame.append method is deprecated and will be removed from pandas in a future version. Use pandas.concat instead.\n",
      "\n",
      "C:\\Users\\march\\AppData\\Local\\Temp\\ipykernel_18104\\2380825751.py:23: FutureWarning:\n",
      "\n",
      "The frame.append method is deprecated and will be removed from pandas in a future version. Use pandas.concat instead.\n",
      "\n",
      "C:\\Users\\march\\AppData\\Local\\Temp\\ipykernel_18104\\2380825751.py:23: FutureWarning:\n",
      "\n",
      "The frame.append method is deprecated and will be removed from pandas in a future version. Use pandas.concat instead.\n",
      "\n",
      "C:\\Users\\march\\AppData\\Local\\Temp\\ipykernel_18104\\2380825751.py:23: FutureWarning:\n",
      "\n",
      "The frame.append method is deprecated and will be removed from pandas in a future version. Use pandas.concat instead.\n",
      "\n",
      "C:\\Users\\march\\AppData\\Local\\Temp\\ipykernel_18104\\2380825751.py:23: FutureWarning:\n",
      "\n",
      "The frame.append method is deprecated and will be removed from pandas in a future version. Use pandas.concat instead.\n",
      "\n",
      "C:\\Users\\march\\AppData\\Local\\Temp\\ipykernel_18104\\2380825751.py:23: FutureWarning:\n",
      "\n",
      "The frame.append method is deprecated and will be removed from pandas in a future version. Use pandas.concat instead.\n",
      "\n",
      "C:\\Users\\march\\AppData\\Local\\Temp\\ipykernel_18104\\2380825751.py:23: FutureWarning:\n",
      "\n",
      "The frame.append method is deprecated and will be removed from pandas in a future version. Use pandas.concat instead.\n",
      "\n",
      "C:\\Users\\march\\AppData\\Local\\Temp\\ipykernel_18104\\2380825751.py:23: FutureWarning:\n",
      "\n",
      "The frame.append method is deprecated and will be removed from pandas in a future version. Use pandas.concat instead.\n",
      "\n",
      "C:\\Users\\march\\AppData\\Local\\Temp\\ipykernel_18104\\2380825751.py:23: FutureWarning:\n",
      "\n",
      "The frame.append method is deprecated and will be removed from pandas in a future version. Use pandas.concat instead.\n",
      "\n",
      "C:\\Users\\march\\AppData\\Local\\Temp\\ipykernel_18104\\2380825751.py:23: FutureWarning:\n",
      "\n",
      "The frame.append method is deprecated and will be removed from pandas in a future version. Use pandas.concat instead.\n",
      "\n",
      "C:\\Users\\march\\AppData\\Local\\Temp\\ipykernel_18104\\2380825751.py:23: FutureWarning:\n",
      "\n",
      "The frame.append method is deprecated and will be removed from pandas in a future version. Use pandas.concat instead.\n",
      "\n",
      "C:\\Users\\march\\AppData\\Local\\Temp\\ipykernel_18104\\2380825751.py:23: FutureWarning:\n",
      "\n",
      "The frame.append method is deprecated and will be removed from pandas in a future version. Use pandas.concat instead.\n",
      "\n",
      "C:\\Users\\march\\AppData\\Local\\Temp\\ipykernel_18104\\2380825751.py:23: FutureWarning:\n",
      "\n",
      "The frame.append method is deprecated and will be removed from pandas in a future version. Use pandas.concat instead.\n",
      "\n",
      "C:\\Users\\march\\AppData\\Local\\Temp\\ipykernel_18104\\2380825751.py:23: FutureWarning:\n",
      "\n",
      "The frame.append method is deprecated and will be removed from pandas in a future version. Use pandas.concat instead.\n",
      "\n",
      "C:\\Users\\march\\AppData\\Local\\Temp\\ipykernel_18104\\2380825751.py:23: FutureWarning:\n",
      "\n",
      "The frame.append method is deprecated and will be removed from pandas in a future version. Use pandas.concat instead.\n",
      "\n",
      "C:\\Users\\march\\AppData\\Local\\Temp\\ipykernel_18104\\2380825751.py:23: FutureWarning:\n",
      "\n",
      "The frame.append method is deprecated and will be removed from pandas in a future version. Use pandas.concat instead.\n",
      "\n",
      "C:\\Users\\march\\AppData\\Local\\Temp\\ipykernel_18104\\2380825751.py:23: FutureWarning:\n",
      "\n",
      "The frame.append method is deprecated and will be removed from pandas in a future version. Use pandas.concat instead.\n",
      "\n",
      "C:\\Users\\march\\AppData\\Local\\Temp\\ipykernel_18104\\2380825751.py:23: FutureWarning:\n",
      "\n",
      "The frame.append method is deprecated and will be removed from pandas in a future version. Use pandas.concat instead.\n",
      "\n",
      "C:\\Users\\march\\AppData\\Local\\Temp\\ipykernel_18104\\2380825751.py:23: FutureWarning:\n",
      "\n",
      "The frame.append method is deprecated and will be removed from pandas in a future version. Use pandas.concat instead.\n",
      "\n",
      "C:\\Users\\march\\AppData\\Local\\Temp\\ipykernel_18104\\2380825751.py:23: FutureWarning:\n",
      "\n",
      "The frame.append method is deprecated and will be removed from pandas in a future version. Use pandas.concat instead.\n",
      "\n",
      "C:\\Users\\march\\AppData\\Local\\Temp\\ipykernel_18104\\2380825751.py:23: FutureWarning:\n",
      "\n",
      "The frame.append method is deprecated and will be removed from pandas in a future version. Use pandas.concat instead.\n",
      "\n",
      "C:\\Users\\march\\AppData\\Local\\Temp\\ipykernel_18104\\2380825751.py:23: FutureWarning:\n",
      "\n",
      "The frame.append method is deprecated and will be removed from pandas in a future version. Use pandas.concat instead.\n",
      "\n",
      "C:\\Users\\march\\AppData\\Local\\Temp\\ipykernel_18104\\2380825751.py:23: FutureWarning:\n",
      "\n",
      "The frame.append method is deprecated and will be removed from pandas in a future version. Use pandas.concat instead.\n",
      "\n",
      "C:\\Users\\march\\AppData\\Local\\Temp\\ipykernel_18104\\2380825751.py:23: FutureWarning:\n",
      "\n",
      "The frame.append method is deprecated and will be removed from pandas in a future version. Use pandas.concat instead.\n",
      "\n",
      "C:\\Users\\march\\AppData\\Local\\Temp\\ipykernel_18104\\2380825751.py:23: FutureWarning:\n",
      "\n",
      "The frame.append method is deprecated and will be removed from pandas in a future version. Use pandas.concat instead.\n",
      "\n",
      "C:\\Users\\march\\AppData\\Local\\Temp\\ipykernel_18104\\2380825751.py:23: FutureWarning:\n",
      "\n",
      "The frame.append method is deprecated and will be removed from pandas in a future version. Use pandas.concat instead.\n",
      "\n",
      "C:\\Users\\march\\AppData\\Local\\Temp\\ipykernel_18104\\2380825751.py:23: FutureWarning:\n",
      "\n",
      "The frame.append method is deprecated and will be removed from pandas in a future version. Use pandas.concat instead.\n",
      "\n",
      "C:\\Users\\march\\AppData\\Local\\Temp\\ipykernel_18104\\2380825751.py:23: FutureWarning:\n",
      "\n",
      "The frame.append method is deprecated and will be removed from pandas in a future version. Use pandas.concat instead.\n",
      "\n",
      "C:\\Users\\march\\AppData\\Local\\Temp\\ipykernel_18104\\2380825751.py:23: FutureWarning:\n",
      "\n",
      "The frame.append method is deprecated and will be removed from pandas in a future version. Use pandas.concat instead.\n",
      "\n",
      "C:\\Users\\march\\AppData\\Local\\Temp\\ipykernel_18104\\2380825751.py:23: FutureWarning:\n",
      "\n",
      "The frame.append method is deprecated and will be removed from pandas in a future version. Use pandas.concat instead.\n",
      "\n",
      "C:\\Users\\march\\AppData\\Local\\Temp\\ipykernel_18104\\2380825751.py:23: FutureWarning:\n",
      "\n",
      "The frame.append method is deprecated and will be removed from pandas in a future version. Use pandas.concat instead.\n",
      "\n",
      "C:\\Users\\march\\AppData\\Local\\Temp\\ipykernel_18104\\2380825751.py:23: FutureWarning:\n",
      "\n",
      "The frame.append method is deprecated and will be removed from pandas in a future version. Use pandas.concat instead.\n",
      "\n",
      "C:\\Users\\march\\AppData\\Local\\Temp\\ipykernel_18104\\2380825751.py:23: FutureWarning:\n",
      "\n",
      "The frame.append method is deprecated and will be removed from pandas in a future version. Use pandas.concat instead.\n",
      "\n",
      "C:\\Users\\march\\AppData\\Local\\Temp\\ipykernel_18104\\2380825751.py:23: FutureWarning:\n",
      "\n",
      "The frame.append method is deprecated and will be removed from pandas in a future version. Use pandas.concat instead.\n",
      "\n",
      "C:\\Users\\march\\AppData\\Local\\Temp\\ipykernel_18104\\2380825751.py:23: FutureWarning:\n",
      "\n",
      "The frame.append method is deprecated and will be removed from pandas in a future version. Use pandas.concat instead.\n",
      "\n",
      "C:\\Users\\march\\AppData\\Local\\Temp\\ipykernel_18104\\2380825751.py:23: FutureWarning:\n",
      "\n",
      "The frame.append method is deprecated and will be removed from pandas in a future version. Use pandas.concat instead.\n",
      "\n",
      "C:\\Users\\march\\AppData\\Local\\Temp\\ipykernel_18104\\2380825751.py:29: FutureWarning:\n",
      "\n",
      "The frame.append method is deprecated and will be removed from pandas in a future version. Use pandas.concat instead.\n",
      "\n"
     ]
    },
    {
     "data": {
      "text/plain": "    ilosc_przejazdow data_przejazdu\n0               1259       2022-1-1\n1               1259       2022-1-2\n2               1172       2022-1-3\n3               2083       2022-1-4\n4               2083       2022-1-4\n..               ...            ...\n156            11309       2022-6-3\n157            11299       2022-6-4\n158            11777       2022-6-5\n159             8244       2022-6-6\n160            11713       2022-6-7\n\n[161 rows x 2 columns]",
      "text/html": "<div>\n<style scoped>\n    .dataframe tbody tr th:only-of-type {\n        vertical-align: middle;\n    }\n\n    .dataframe tbody tr th {\n        vertical-align: top;\n    }\n\n    .dataframe thead th {\n        text-align: right;\n    }\n</style>\n<table border=\"1\" class=\"dataframe\">\n  <thead>\n    <tr style=\"text-align: right;\">\n      <th></th>\n      <th>ilosc_przejazdow</th>\n      <th>data_przejazdu</th>\n    </tr>\n  </thead>\n  <tbody>\n    <tr>\n      <th>0</th>\n      <td>1259</td>\n      <td>2022-1-1</td>\n    </tr>\n    <tr>\n      <th>1</th>\n      <td>1259</td>\n      <td>2022-1-2</td>\n    </tr>\n    <tr>\n      <th>2</th>\n      <td>1172</td>\n      <td>2022-1-3</td>\n    </tr>\n    <tr>\n      <th>3</th>\n      <td>2083</td>\n      <td>2022-1-4</td>\n    </tr>\n    <tr>\n      <th>4</th>\n      <td>2083</td>\n      <td>2022-1-4</td>\n    </tr>\n    <tr>\n      <th>...</th>\n      <td>...</td>\n      <td>...</td>\n    </tr>\n    <tr>\n      <th>156</th>\n      <td>11309</td>\n      <td>2022-6-3</td>\n    </tr>\n    <tr>\n      <th>157</th>\n      <td>11299</td>\n      <td>2022-6-4</td>\n    </tr>\n    <tr>\n      <th>158</th>\n      <td>11777</td>\n      <td>2022-6-5</td>\n    </tr>\n    <tr>\n      <th>159</th>\n      <td>8244</td>\n      <td>2022-6-6</td>\n    </tr>\n    <tr>\n      <th>160</th>\n      <td>11713</td>\n      <td>2022-6-7</td>\n    </tr>\n  </tbody>\n</table>\n<p>161 rows × 2 columns</p>\n</div>"
     },
     "execution_count": 83,
     "metadata": {},
     "output_type": "execute_result"
    }
   ],
   "source": [
    "\n",
    "# list = list[:5] #test na malej ilosc elem\n",
    "# quantity = []\n",
    "for elem in list:\n",
    "\n",
    "    name = elem.contents\n",
    "    elem = str(elem)\n",
    "\n",
    "    name = str(name)\n",
    "    name = name.split(\"_\")[2]\n",
    "\n",
    "    date = datetime.datetime(int(name.split(\"-\")[0]), int(name.split(\"-\")[1]), int(name.split(\"-\")[2]))\n",
    "    if date>=date2022:\n",
    "        link = elem.split(\" \")\n",
    "        link = link[2]\n",
    "        link = link[5:]\n",
    "        link = link[1:]\n",
    "        link = link[:-1]\n",
    "        # link = link.replace(\"\\\"\",\" \")\n",
    "\n",
    "        if os.path.exists(os.path.join(\"daily_csv\", f\"{name}.csv\")):\n",
    "            dailyDate = pd.read_csv(os.path.join(\"daily_csv\", f\"{name}.csv\"))\n",
    "            quantity = len(dailyDate)\n",
    "            df = df.append({'ilosc_przejazdow':quantity,'data_przejazdu':name},ignore_index=True)\n",
    "            continue\n",
    "\n",
    "        dailyDate = pd.read_csv(link)\n",
    "        dailyDate.to_csv(os.path.join(\"daily_csv\", f\"{name}.csv\"))\n",
    "        quantity = len(dailyDate)\n",
    "        df = df.append({'ilosc_przejazdow':quantity,'data_przejazdu':name},ignore_index=True)\n",
    "\n",
    "\n",
    "\n",
    "        # df[\"ilosc_przejazdow\"]=c.__len__()\n",
    "        # print(str(date) + \" greater than \"+ str(date2022))\n",
    "    # else : print(str(date) + \" less than \"+ str(date2022))\n",
    "\n",
    "\n",
    "# df[\"ilosc_przejazdow\"]=quantity\n",
    "df\n",
    "# items = list.find_all('a')\n",
    "# print(soup.prettify())\n",
    "# for link in soup.findAll('a', attrs={'href': re.compile(\"^http://\")}):\n",
    "#     print(link.get('href'))"
   ],
   "metadata": {
    "collapsed": false,
    "pycharm": {
     "name": "#%%\n"
    }
   }
  },
  {
   "cell_type": "code",
   "execution_count": 84,
   "outputs": [
    {
     "data": {
      "application/vnd.plotly.v1+json": {
       "data": [
        {
         "marker": {
          "color": "blue",
          "size": 3
         },
         "mode": "markers",
         "x": [
          "2022-1-1",
          "2022-1-2",
          "2022-1-3",
          "2022-1-4",
          "2022-1-4",
          "2022-1-4",
          "2022-1-5",
          "2022-1-6",
          "2022-1-7",
          "2022-1-8",
          "2022-1-9",
          "2022-1-10",
          "2022-1-11",
          "2022-1-12",
          "2022-1-13",
          "2022-1-14",
          "2022-1-15",
          "2022-1-16",
          "2022-1-17",
          "2022-1-18",
          "2022-1-19",
          "2022-1-20",
          "2022-1-21",
          "2022-1-22",
          "2022-1-23",
          "2022-1-24",
          "2022-1-25",
          "2022-1-26",
          "2022-1-27",
          "2022-1-28",
          "2022-1-29",
          "2022-1-30",
          "2022-1-31",
          "2022-2-1",
          "2022-2-1",
          "2022-2-2",
          "2022-2-3",
          "2022-2-4",
          "2022-2-5",
          "2022-2-6",
          "2022-2-7",
          "2022-2-8",
          "2022-2-9",
          "2022-2-10",
          "2022-2-11",
          "2022-2-12",
          "2022-2-13",
          "2022-2-14",
          "2022-2-15",
          "2022-2-16",
          "2022-2-17",
          "2022-2-18",
          "2022-2-19",
          "2022-2-20",
          "2022-2-21",
          "2022-2-22",
          "2022-2-23",
          "2022-2-24",
          "2022-2-25",
          "2022-2-26",
          "2022-2-27",
          "2022-2-28",
          "2022-3-1",
          "2022-3-2",
          "2022-3-3",
          "2022-3-4",
          "2022-3-5",
          "2022-3-6",
          "2022-3-7",
          "2022-3-8",
          "2022-3-9",
          "2022-3-10",
          "2022-3-11",
          "2022-3-12",
          "2022-3-13",
          "2022-3-14",
          "2022-3-15",
          "2022-3-16",
          "2022-3-17",
          "2022-3-18",
          "2022-3-19",
          "2022-3-20",
          "2022-3-21",
          "2022-3-22",
          "2022-3-23",
          "2022-3-24",
          "2022-3-25",
          "2022-3-26",
          "2022-3-27",
          "2022-3-28",
          "2022-3-29",
          "2022-3-30",
          "2022-3-31",
          "2022-4-1",
          "2022-4-2",
          "2022-4-3",
          "2022-4-4",
          "2022-4-5",
          "2022-4-6",
          "2022-4-7",
          "2022-4-8",
          "2022-4-9",
          "2022-4-10",
          "2022-4-11",
          "2022-4-12",
          "2022-4-13",
          "2022-4-14",
          "2022-4-15",
          "2022-4-16",
          "2022-4-17",
          "2022-4-18",
          "2022-4-19",
          "2022-4-20",
          "2022-4-21",
          "2022-4-22",
          "2022-4-23",
          "2022-4-24",
          "2022-4-25",
          "2022-4-26",
          "2022-4-27",
          "2022-4-28",
          "2022-4-29",
          "2022-4-30",
          "2022-5-1",
          "2022-5-2",
          "2022-5-3",
          "2022-5-4",
          "2022-5-5",
          "2022-5-6",
          "2022-5-7",
          "2022-5-8",
          "2022-5-9",
          "2022-5-10",
          "2022-5-11",
          "2022-5-12",
          "2022-5-13",
          "2022-5-14",
          "2022-5-15",
          "2022-5-16",
          "2022-5-17",
          "2022-5-18",
          "2022-5-19",
          "2022-5-20",
          "2022-5-21",
          "2022-5-22",
          "2022-5-23",
          "2022-5-24",
          "2022-5-25",
          "2022-5-26",
          "2022-5-27",
          "2022-5-28",
          "2022-5-29",
          "2022-5-30",
          "2022-5-31",
          "2022-6-1",
          "2022-6-2",
          "2022-6-3",
          "2022-6-4",
          "2022-6-5",
          "2022-6-6",
          "2022-6-7"
         ],
         "y": [
          1259,
          1259,
          1172,
          2083,
          2083,
          2083,
          2083,
          1564,
          1807,
          1034,
          1328,
          1442,
          1255,
          1935,
          1799,
          1582,
          1945,
          1658,
          1636,
          1295,
          1417,
          1755,
          1929,
          1181,
          1208,
          975,
          855,
          1478,
          1531,
          1474,
          1226,
          1522,
          849,
          1546,
          1546,
          1546,
          1302,
          1164,
          1490,
          1613,
          1395,
          1113,
          1130,
          1385,
          1779,
          2140,
          1170,
          1600,
          1610,
          1985,
          1983,
          1968,
          1133,
          1670,
          1261,
          1067,
          1697,
          1821,
          1965,
          2167,
          2101,
          1552,
          1437,
          2553,
          2940,
          3033,
          3123,
          2241,
          2189,
          1850,
          2976,
          3558,
          4171,
          3782,
          3433,
          3353,
          3732,
          5171,
          5944,
          5944,
          5231,
          5547,
          4586,
          4969,
          6036,
          7528,
          7528,
          7969,
          7691,
          5950,
          6652,
          8637,
          6261,
          4625,
          3291,
          2445,
          3059,
          2287,
          4377,
          3351,
          5243,
          5937,
          4507,
          4233,
          3333,
          5575,
          7710,
          9098,
          8691,
          3805,
          2835,
          3451,
          4068,
          4413,
          4413,
          5968,
          6359,
          8654,
          2793,
          3209,
          6910,
          8615,
          9215,
          9116,
          7494,
          8929,
          9437,
          11156,
          10833,
          8836,
          10473,
          11665,
          11250,
          12327,
          13293,
          13910,
          13281,
          12126,
          12034,
          12466,
          12203,
          10286,
          10137,
          12348,
          11499,
          7692,
          8364,
          11569,
          9130,
          6572,
          10718,
          6672,
          6204,
          7926,
          9028,
          11328,
          11309,
          11299,
          11777,
          8244,
          11713
         ],
         "type": "scatter"
        }
       ],
       "layout": {
        "template": {
         "data": {
          "histogram2dcontour": [
           {
            "type": "histogram2dcontour",
            "colorbar": {
             "outlinewidth": 0,
             "ticks": ""
            },
            "colorscale": [
             [
              0.0,
              "#0d0887"
             ],
             [
              0.1111111111111111,
              "#46039f"
             ],
             [
              0.2222222222222222,
              "#7201a8"
             ],
             [
              0.3333333333333333,
              "#9c179e"
             ],
             [
              0.4444444444444444,
              "#bd3786"
             ],
             [
              0.5555555555555556,
              "#d8576b"
             ],
             [
              0.6666666666666666,
              "#ed7953"
             ],
             [
              0.7777777777777778,
              "#fb9f3a"
             ],
             [
              0.8888888888888888,
              "#fdca26"
             ],
             [
              1.0,
              "#f0f921"
             ]
            ]
           }
          ],
          "choropleth": [
           {
            "type": "choropleth",
            "colorbar": {
             "outlinewidth": 0,
             "ticks": ""
            }
           }
          ],
          "histogram2d": [
           {
            "type": "histogram2d",
            "colorbar": {
             "outlinewidth": 0,
             "ticks": ""
            },
            "colorscale": [
             [
              0.0,
              "#0d0887"
             ],
             [
              0.1111111111111111,
              "#46039f"
             ],
             [
              0.2222222222222222,
              "#7201a8"
             ],
             [
              0.3333333333333333,
              "#9c179e"
             ],
             [
              0.4444444444444444,
              "#bd3786"
             ],
             [
              0.5555555555555556,
              "#d8576b"
             ],
             [
              0.6666666666666666,
              "#ed7953"
             ],
             [
              0.7777777777777778,
              "#fb9f3a"
             ],
             [
              0.8888888888888888,
              "#fdca26"
             ],
             [
              1.0,
              "#f0f921"
             ]
            ]
           }
          ],
          "heatmap": [
           {
            "type": "heatmap",
            "colorbar": {
             "outlinewidth": 0,
             "ticks": ""
            },
            "colorscale": [
             [
              0.0,
              "#0d0887"
             ],
             [
              0.1111111111111111,
              "#46039f"
             ],
             [
              0.2222222222222222,
              "#7201a8"
             ],
             [
              0.3333333333333333,
              "#9c179e"
             ],
             [
              0.4444444444444444,
              "#bd3786"
             ],
             [
              0.5555555555555556,
              "#d8576b"
             ],
             [
              0.6666666666666666,
              "#ed7953"
             ],
             [
              0.7777777777777778,
              "#fb9f3a"
             ],
             [
              0.8888888888888888,
              "#fdca26"
             ],
             [
              1.0,
              "#f0f921"
             ]
            ]
           }
          ],
          "heatmapgl": [
           {
            "type": "heatmapgl",
            "colorbar": {
             "outlinewidth": 0,
             "ticks": ""
            },
            "colorscale": [
             [
              0.0,
              "#0d0887"
             ],
             [
              0.1111111111111111,
              "#46039f"
             ],
             [
              0.2222222222222222,
              "#7201a8"
             ],
             [
              0.3333333333333333,
              "#9c179e"
             ],
             [
              0.4444444444444444,
              "#bd3786"
             ],
             [
              0.5555555555555556,
              "#d8576b"
             ],
             [
              0.6666666666666666,
              "#ed7953"
             ],
             [
              0.7777777777777778,
              "#fb9f3a"
             ],
             [
              0.8888888888888888,
              "#fdca26"
             ],
             [
              1.0,
              "#f0f921"
             ]
            ]
           }
          ],
          "contourcarpet": [
           {
            "type": "contourcarpet",
            "colorbar": {
             "outlinewidth": 0,
             "ticks": ""
            }
           }
          ],
          "contour": [
           {
            "type": "contour",
            "colorbar": {
             "outlinewidth": 0,
             "ticks": ""
            },
            "colorscale": [
             [
              0.0,
              "#0d0887"
             ],
             [
              0.1111111111111111,
              "#46039f"
             ],
             [
              0.2222222222222222,
              "#7201a8"
             ],
             [
              0.3333333333333333,
              "#9c179e"
             ],
             [
              0.4444444444444444,
              "#bd3786"
             ],
             [
              0.5555555555555556,
              "#d8576b"
             ],
             [
              0.6666666666666666,
              "#ed7953"
             ],
             [
              0.7777777777777778,
              "#fb9f3a"
             ],
             [
              0.8888888888888888,
              "#fdca26"
             ],
             [
              1.0,
              "#f0f921"
             ]
            ]
           }
          ],
          "surface": [
           {
            "type": "surface",
            "colorbar": {
             "outlinewidth": 0,
             "ticks": ""
            },
            "colorscale": [
             [
              0.0,
              "#0d0887"
             ],
             [
              0.1111111111111111,
              "#46039f"
             ],
             [
              0.2222222222222222,
              "#7201a8"
             ],
             [
              0.3333333333333333,
              "#9c179e"
             ],
             [
              0.4444444444444444,
              "#bd3786"
             ],
             [
              0.5555555555555556,
              "#d8576b"
             ],
             [
              0.6666666666666666,
              "#ed7953"
             ],
             [
              0.7777777777777778,
              "#fb9f3a"
             ],
             [
              0.8888888888888888,
              "#fdca26"
             ],
             [
              1.0,
              "#f0f921"
             ]
            ]
           }
          ],
          "mesh3d": [
           {
            "type": "mesh3d",
            "colorbar": {
             "outlinewidth": 0,
             "ticks": ""
            }
           }
          ],
          "scatter": [
           {
            "fillpattern": {
             "fillmode": "overlay",
             "size": 10,
             "solidity": 0.2
            },
            "type": "scatter"
           }
          ],
          "parcoords": [
           {
            "type": "parcoords",
            "line": {
             "colorbar": {
              "outlinewidth": 0,
              "ticks": ""
             }
            }
           }
          ],
          "scatterpolargl": [
           {
            "type": "scatterpolargl",
            "marker": {
             "colorbar": {
              "outlinewidth": 0,
              "ticks": ""
             }
            }
           }
          ],
          "bar": [
           {
            "error_x": {
             "color": "#2a3f5f"
            },
            "error_y": {
             "color": "#2a3f5f"
            },
            "marker": {
             "line": {
              "color": "#E5ECF6",
              "width": 0.5
             },
             "pattern": {
              "fillmode": "overlay",
              "size": 10,
              "solidity": 0.2
             }
            },
            "type": "bar"
           }
          ],
          "scattergeo": [
           {
            "type": "scattergeo",
            "marker": {
             "colorbar": {
              "outlinewidth": 0,
              "ticks": ""
             }
            }
           }
          ],
          "scatterpolar": [
           {
            "type": "scatterpolar",
            "marker": {
             "colorbar": {
              "outlinewidth": 0,
              "ticks": ""
             }
            }
           }
          ],
          "histogram": [
           {
            "marker": {
             "pattern": {
              "fillmode": "overlay",
              "size": 10,
              "solidity": 0.2
             }
            },
            "type": "histogram"
           }
          ],
          "scattergl": [
           {
            "type": "scattergl",
            "marker": {
             "colorbar": {
              "outlinewidth": 0,
              "ticks": ""
             }
            }
           }
          ],
          "scatter3d": [
           {
            "type": "scatter3d",
            "line": {
             "colorbar": {
              "outlinewidth": 0,
              "ticks": ""
             }
            },
            "marker": {
             "colorbar": {
              "outlinewidth": 0,
              "ticks": ""
             }
            }
           }
          ],
          "scattermapbox": [
           {
            "type": "scattermapbox",
            "marker": {
             "colorbar": {
              "outlinewidth": 0,
              "ticks": ""
             }
            }
           }
          ],
          "scatterternary": [
           {
            "type": "scatterternary",
            "marker": {
             "colorbar": {
              "outlinewidth": 0,
              "ticks": ""
             }
            }
           }
          ],
          "scattercarpet": [
           {
            "type": "scattercarpet",
            "marker": {
             "colorbar": {
              "outlinewidth": 0,
              "ticks": ""
             }
            }
           }
          ],
          "carpet": [
           {
            "aaxis": {
             "endlinecolor": "#2a3f5f",
             "gridcolor": "white",
             "linecolor": "white",
             "minorgridcolor": "white",
             "startlinecolor": "#2a3f5f"
            },
            "baxis": {
             "endlinecolor": "#2a3f5f",
             "gridcolor": "white",
             "linecolor": "white",
             "minorgridcolor": "white",
             "startlinecolor": "#2a3f5f"
            },
            "type": "carpet"
           }
          ],
          "table": [
           {
            "cells": {
             "fill": {
              "color": "#EBF0F8"
             },
             "line": {
              "color": "white"
             }
            },
            "header": {
             "fill": {
              "color": "#C8D4E3"
             },
             "line": {
              "color": "white"
             }
            },
            "type": "table"
           }
          ],
          "barpolar": [
           {
            "marker": {
             "line": {
              "color": "#E5ECF6",
              "width": 0.5
             },
             "pattern": {
              "fillmode": "overlay",
              "size": 10,
              "solidity": 0.2
             }
            },
            "type": "barpolar"
           }
          ],
          "pie": [
           {
            "automargin": true,
            "type": "pie"
           }
          ]
         },
         "layout": {
          "autotypenumbers": "strict",
          "colorway": [
           "#636efa",
           "#EF553B",
           "#00cc96",
           "#ab63fa",
           "#FFA15A",
           "#19d3f3",
           "#FF6692",
           "#B6E880",
           "#FF97FF",
           "#FECB52"
          ],
          "font": {
           "color": "#2a3f5f"
          },
          "hovermode": "closest",
          "hoverlabel": {
           "align": "left"
          },
          "paper_bgcolor": "white",
          "plot_bgcolor": "#E5ECF6",
          "polar": {
           "bgcolor": "#E5ECF6",
           "angularaxis": {
            "gridcolor": "white",
            "linecolor": "white",
            "ticks": ""
           },
           "radialaxis": {
            "gridcolor": "white",
            "linecolor": "white",
            "ticks": ""
           }
          },
          "ternary": {
           "bgcolor": "#E5ECF6",
           "aaxis": {
            "gridcolor": "white",
            "linecolor": "white",
            "ticks": ""
           },
           "baxis": {
            "gridcolor": "white",
            "linecolor": "white",
            "ticks": ""
           },
           "caxis": {
            "gridcolor": "white",
            "linecolor": "white",
            "ticks": ""
           }
          },
          "coloraxis": {
           "colorbar": {
            "outlinewidth": 0,
            "ticks": ""
           }
          },
          "colorscale": {
           "sequential": [
            [
             0.0,
             "#0d0887"
            ],
            [
             0.1111111111111111,
             "#46039f"
            ],
            [
             0.2222222222222222,
             "#7201a8"
            ],
            [
             0.3333333333333333,
             "#9c179e"
            ],
            [
             0.4444444444444444,
             "#bd3786"
            ],
            [
             0.5555555555555556,
             "#d8576b"
            ],
            [
             0.6666666666666666,
             "#ed7953"
            ],
            [
             0.7777777777777778,
             "#fb9f3a"
            ],
            [
             0.8888888888888888,
             "#fdca26"
            ],
            [
             1.0,
             "#f0f921"
            ]
           ],
           "sequentialminus": [
            [
             0.0,
             "#0d0887"
            ],
            [
             0.1111111111111111,
             "#46039f"
            ],
            [
             0.2222222222222222,
             "#7201a8"
            ],
            [
             0.3333333333333333,
             "#9c179e"
            ],
            [
             0.4444444444444444,
             "#bd3786"
            ],
            [
             0.5555555555555556,
             "#d8576b"
            ],
            [
             0.6666666666666666,
             "#ed7953"
            ],
            [
             0.7777777777777778,
             "#fb9f3a"
            ],
            [
             0.8888888888888888,
             "#fdca26"
            ],
            [
             1.0,
             "#f0f921"
            ]
           ],
           "diverging": [
            [
             0,
             "#8e0152"
            ],
            [
             0.1,
             "#c51b7d"
            ],
            [
             0.2,
             "#de77ae"
            ],
            [
             0.3,
             "#f1b6da"
            ],
            [
             0.4,
             "#fde0ef"
            ],
            [
             0.5,
             "#f7f7f7"
            ],
            [
             0.6,
             "#e6f5d0"
            ],
            [
             0.7,
             "#b8e186"
            ],
            [
             0.8,
             "#7fbc41"
            ],
            [
             0.9,
             "#4d9221"
            ],
            [
             1,
             "#276419"
            ]
           ]
          },
          "xaxis": {
           "gridcolor": "white",
           "linecolor": "white",
           "ticks": "",
           "title": {
            "standoff": 15
           },
           "zerolinecolor": "white",
           "automargin": true,
           "zerolinewidth": 2
          },
          "yaxis": {
           "gridcolor": "white",
           "linecolor": "white",
           "ticks": "",
           "title": {
            "standoff": 15
           },
           "zerolinecolor": "white",
           "automargin": true,
           "zerolinewidth": 2
          },
          "scene": {
           "xaxis": {
            "backgroundcolor": "#E5ECF6",
            "gridcolor": "white",
            "linecolor": "white",
            "showbackground": true,
            "ticks": "",
            "zerolinecolor": "white",
            "gridwidth": 2
           },
           "yaxis": {
            "backgroundcolor": "#E5ECF6",
            "gridcolor": "white",
            "linecolor": "white",
            "showbackground": true,
            "ticks": "",
            "zerolinecolor": "white",
            "gridwidth": 2
           },
           "zaxis": {
            "backgroundcolor": "#E5ECF6",
            "gridcolor": "white",
            "linecolor": "white",
            "showbackground": true,
            "ticks": "",
            "zerolinecolor": "white",
            "gridwidth": 2
           }
          },
          "shapedefaults": {
           "line": {
            "color": "#2a3f5f"
           }
          },
          "annotationdefaults": {
           "arrowcolor": "#2a3f5f",
           "arrowhead": 0,
           "arrowwidth": 1
          },
          "geo": {
           "bgcolor": "white",
           "landcolor": "#E5ECF6",
           "subunitcolor": "white",
           "showland": true,
           "showlakes": true,
           "lakecolor": "white"
          },
          "title": {
           "x": 0.05
          },
          "mapbox": {
           "style": "light"
          }
         }
        }
       },
       "config": {
        "plotlyServerURL": "https://plot.ly"
       }
      },
      "text/html": "<div>                            <div id=\"3fd65541-3ad4-46a5-a03a-b6c865a8a242\" class=\"plotly-graph-div\" style=\"height:525px; width:100%;\"></div>            <script type=\"text/javascript\">                require([\"plotly\"], function(Plotly) {                    window.PLOTLYENV=window.PLOTLYENV || {};                                    if (document.getElementById(\"3fd65541-3ad4-46a5-a03a-b6c865a8a242\")) {                    Plotly.newPlot(                        \"3fd65541-3ad4-46a5-a03a-b6c865a8a242\",                        [{\"marker\":{\"color\":\"blue\",\"size\":3},\"mode\":\"markers\",\"x\":[\"2022-1-1\",\"2022-1-2\",\"2022-1-3\",\"2022-1-4\",\"2022-1-4\",\"2022-1-4\",\"2022-1-5\",\"2022-1-6\",\"2022-1-7\",\"2022-1-8\",\"2022-1-9\",\"2022-1-10\",\"2022-1-11\",\"2022-1-12\",\"2022-1-13\",\"2022-1-14\",\"2022-1-15\",\"2022-1-16\",\"2022-1-17\",\"2022-1-18\",\"2022-1-19\",\"2022-1-20\",\"2022-1-21\",\"2022-1-22\",\"2022-1-23\",\"2022-1-24\",\"2022-1-25\",\"2022-1-26\",\"2022-1-27\",\"2022-1-28\",\"2022-1-29\",\"2022-1-30\",\"2022-1-31\",\"2022-2-1\",\"2022-2-1\",\"2022-2-2\",\"2022-2-3\",\"2022-2-4\",\"2022-2-5\",\"2022-2-6\",\"2022-2-7\",\"2022-2-8\",\"2022-2-9\",\"2022-2-10\",\"2022-2-11\",\"2022-2-12\",\"2022-2-13\",\"2022-2-14\",\"2022-2-15\",\"2022-2-16\",\"2022-2-17\",\"2022-2-18\",\"2022-2-19\",\"2022-2-20\",\"2022-2-21\",\"2022-2-22\",\"2022-2-23\",\"2022-2-24\",\"2022-2-25\",\"2022-2-26\",\"2022-2-27\",\"2022-2-28\",\"2022-3-1\",\"2022-3-2\",\"2022-3-3\",\"2022-3-4\",\"2022-3-5\",\"2022-3-6\",\"2022-3-7\",\"2022-3-8\",\"2022-3-9\",\"2022-3-10\",\"2022-3-11\",\"2022-3-12\",\"2022-3-13\",\"2022-3-14\",\"2022-3-15\",\"2022-3-16\",\"2022-3-17\",\"2022-3-18\",\"2022-3-19\",\"2022-3-20\",\"2022-3-21\",\"2022-3-22\",\"2022-3-23\",\"2022-3-24\",\"2022-3-25\",\"2022-3-26\",\"2022-3-27\",\"2022-3-28\",\"2022-3-29\",\"2022-3-30\",\"2022-3-31\",\"2022-4-1\",\"2022-4-2\",\"2022-4-3\",\"2022-4-4\",\"2022-4-5\",\"2022-4-6\",\"2022-4-7\",\"2022-4-8\",\"2022-4-9\",\"2022-4-10\",\"2022-4-11\",\"2022-4-12\",\"2022-4-13\",\"2022-4-14\",\"2022-4-15\",\"2022-4-16\",\"2022-4-17\",\"2022-4-18\",\"2022-4-19\",\"2022-4-20\",\"2022-4-21\",\"2022-4-22\",\"2022-4-23\",\"2022-4-24\",\"2022-4-25\",\"2022-4-26\",\"2022-4-27\",\"2022-4-28\",\"2022-4-29\",\"2022-4-30\",\"2022-5-1\",\"2022-5-2\",\"2022-5-3\",\"2022-5-4\",\"2022-5-5\",\"2022-5-6\",\"2022-5-7\",\"2022-5-8\",\"2022-5-9\",\"2022-5-10\",\"2022-5-11\",\"2022-5-12\",\"2022-5-13\",\"2022-5-14\",\"2022-5-15\",\"2022-5-16\",\"2022-5-17\",\"2022-5-18\",\"2022-5-19\",\"2022-5-20\",\"2022-5-21\",\"2022-5-22\",\"2022-5-23\",\"2022-5-24\",\"2022-5-25\",\"2022-5-26\",\"2022-5-27\",\"2022-5-28\",\"2022-5-29\",\"2022-5-30\",\"2022-5-31\",\"2022-6-1\",\"2022-6-2\",\"2022-6-3\",\"2022-6-4\",\"2022-6-5\",\"2022-6-6\",\"2022-6-7\"],\"y\":[1259,1259,1172,2083,2083,2083,2083,1564,1807,1034,1328,1442,1255,1935,1799,1582,1945,1658,1636,1295,1417,1755,1929,1181,1208,975,855,1478,1531,1474,1226,1522,849,1546,1546,1546,1302,1164,1490,1613,1395,1113,1130,1385,1779,2140,1170,1600,1610,1985,1983,1968,1133,1670,1261,1067,1697,1821,1965,2167,2101,1552,1437,2553,2940,3033,3123,2241,2189,1850,2976,3558,4171,3782,3433,3353,3732,5171,5944,5944,5231,5547,4586,4969,6036,7528,7528,7969,7691,5950,6652,8637,6261,4625,3291,2445,3059,2287,4377,3351,5243,5937,4507,4233,3333,5575,7710,9098,8691,3805,2835,3451,4068,4413,4413,5968,6359,8654,2793,3209,6910,8615,9215,9116,7494,8929,9437,11156,10833,8836,10473,11665,11250,12327,13293,13910,13281,12126,12034,12466,12203,10286,10137,12348,11499,7692,8364,11569,9130,6572,10718,6672,6204,7926,9028,11328,11309,11299,11777,8244,11713],\"type\":\"scatter\"}],                        {\"template\":{\"data\":{\"histogram2dcontour\":[{\"type\":\"histogram2dcontour\",\"colorbar\":{\"outlinewidth\":0,\"ticks\":\"\"},\"colorscale\":[[0.0,\"#0d0887\"],[0.1111111111111111,\"#46039f\"],[0.2222222222222222,\"#7201a8\"],[0.3333333333333333,\"#9c179e\"],[0.4444444444444444,\"#bd3786\"],[0.5555555555555556,\"#d8576b\"],[0.6666666666666666,\"#ed7953\"],[0.7777777777777778,\"#fb9f3a\"],[0.8888888888888888,\"#fdca26\"],[1.0,\"#f0f921\"]]}],\"choropleth\":[{\"type\":\"choropleth\",\"colorbar\":{\"outlinewidth\":0,\"ticks\":\"\"}}],\"histogram2d\":[{\"type\":\"histogram2d\",\"colorbar\":{\"outlinewidth\":0,\"ticks\":\"\"},\"colorscale\":[[0.0,\"#0d0887\"],[0.1111111111111111,\"#46039f\"],[0.2222222222222222,\"#7201a8\"],[0.3333333333333333,\"#9c179e\"],[0.4444444444444444,\"#bd3786\"],[0.5555555555555556,\"#d8576b\"],[0.6666666666666666,\"#ed7953\"],[0.7777777777777778,\"#fb9f3a\"],[0.8888888888888888,\"#fdca26\"],[1.0,\"#f0f921\"]]}],\"heatmap\":[{\"type\":\"heatmap\",\"colorbar\":{\"outlinewidth\":0,\"ticks\":\"\"},\"colorscale\":[[0.0,\"#0d0887\"],[0.1111111111111111,\"#46039f\"],[0.2222222222222222,\"#7201a8\"],[0.3333333333333333,\"#9c179e\"],[0.4444444444444444,\"#bd3786\"],[0.5555555555555556,\"#d8576b\"],[0.6666666666666666,\"#ed7953\"],[0.7777777777777778,\"#fb9f3a\"],[0.8888888888888888,\"#fdca26\"],[1.0,\"#f0f921\"]]}],\"heatmapgl\":[{\"type\":\"heatmapgl\",\"colorbar\":{\"outlinewidth\":0,\"ticks\":\"\"},\"colorscale\":[[0.0,\"#0d0887\"],[0.1111111111111111,\"#46039f\"],[0.2222222222222222,\"#7201a8\"],[0.3333333333333333,\"#9c179e\"],[0.4444444444444444,\"#bd3786\"],[0.5555555555555556,\"#d8576b\"],[0.6666666666666666,\"#ed7953\"],[0.7777777777777778,\"#fb9f3a\"],[0.8888888888888888,\"#fdca26\"],[1.0,\"#f0f921\"]]}],\"contourcarpet\":[{\"type\":\"contourcarpet\",\"colorbar\":{\"outlinewidth\":0,\"ticks\":\"\"}}],\"contour\":[{\"type\":\"contour\",\"colorbar\":{\"outlinewidth\":0,\"ticks\":\"\"},\"colorscale\":[[0.0,\"#0d0887\"],[0.1111111111111111,\"#46039f\"],[0.2222222222222222,\"#7201a8\"],[0.3333333333333333,\"#9c179e\"],[0.4444444444444444,\"#bd3786\"],[0.5555555555555556,\"#d8576b\"],[0.6666666666666666,\"#ed7953\"],[0.7777777777777778,\"#fb9f3a\"],[0.8888888888888888,\"#fdca26\"],[1.0,\"#f0f921\"]]}],\"surface\":[{\"type\":\"surface\",\"colorbar\":{\"outlinewidth\":0,\"ticks\":\"\"},\"colorscale\":[[0.0,\"#0d0887\"],[0.1111111111111111,\"#46039f\"],[0.2222222222222222,\"#7201a8\"],[0.3333333333333333,\"#9c179e\"],[0.4444444444444444,\"#bd3786\"],[0.5555555555555556,\"#d8576b\"],[0.6666666666666666,\"#ed7953\"],[0.7777777777777778,\"#fb9f3a\"],[0.8888888888888888,\"#fdca26\"],[1.0,\"#f0f921\"]]}],\"mesh3d\":[{\"type\":\"mesh3d\",\"colorbar\":{\"outlinewidth\":0,\"ticks\":\"\"}}],\"scatter\":[{\"fillpattern\":{\"fillmode\":\"overlay\",\"size\":10,\"solidity\":0.2},\"type\":\"scatter\"}],\"parcoords\":[{\"type\":\"parcoords\",\"line\":{\"colorbar\":{\"outlinewidth\":0,\"ticks\":\"\"}}}],\"scatterpolargl\":[{\"type\":\"scatterpolargl\",\"marker\":{\"colorbar\":{\"outlinewidth\":0,\"ticks\":\"\"}}}],\"bar\":[{\"error_x\":{\"color\":\"#2a3f5f\"},\"error_y\":{\"color\":\"#2a3f5f\"},\"marker\":{\"line\":{\"color\":\"#E5ECF6\",\"width\":0.5},\"pattern\":{\"fillmode\":\"overlay\",\"size\":10,\"solidity\":0.2}},\"type\":\"bar\"}],\"scattergeo\":[{\"type\":\"scattergeo\",\"marker\":{\"colorbar\":{\"outlinewidth\":0,\"ticks\":\"\"}}}],\"scatterpolar\":[{\"type\":\"scatterpolar\",\"marker\":{\"colorbar\":{\"outlinewidth\":0,\"ticks\":\"\"}}}],\"histogram\":[{\"marker\":{\"pattern\":{\"fillmode\":\"overlay\",\"size\":10,\"solidity\":0.2}},\"type\":\"histogram\"}],\"scattergl\":[{\"type\":\"scattergl\",\"marker\":{\"colorbar\":{\"outlinewidth\":0,\"ticks\":\"\"}}}],\"scatter3d\":[{\"type\":\"scatter3d\",\"line\":{\"colorbar\":{\"outlinewidth\":0,\"ticks\":\"\"}},\"marker\":{\"colorbar\":{\"outlinewidth\":0,\"ticks\":\"\"}}}],\"scattermapbox\":[{\"type\":\"scattermapbox\",\"marker\":{\"colorbar\":{\"outlinewidth\":0,\"ticks\":\"\"}}}],\"scatterternary\":[{\"type\":\"scatterternary\",\"marker\":{\"colorbar\":{\"outlinewidth\":0,\"ticks\":\"\"}}}],\"scattercarpet\":[{\"type\":\"scattercarpet\",\"marker\":{\"colorbar\":{\"outlinewidth\":0,\"ticks\":\"\"}}}],\"carpet\":[{\"aaxis\":{\"endlinecolor\":\"#2a3f5f\",\"gridcolor\":\"white\",\"linecolor\":\"white\",\"minorgridcolor\":\"white\",\"startlinecolor\":\"#2a3f5f\"},\"baxis\":{\"endlinecolor\":\"#2a3f5f\",\"gridcolor\":\"white\",\"linecolor\":\"white\",\"minorgridcolor\":\"white\",\"startlinecolor\":\"#2a3f5f\"},\"type\":\"carpet\"}],\"table\":[{\"cells\":{\"fill\":{\"color\":\"#EBF0F8\"},\"line\":{\"color\":\"white\"}},\"header\":{\"fill\":{\"color\":\"#C8D4E3\"},\"line\":{\"color\":\"white\"}},\"type\":\"table\"}],\"barpolar\":[{\"marker\":{\"line\":{\"color\":\"#E5ECF6\",\"width\":0.5},\"pattern\":{\"fillmode\":\"overlay\",\"size\":10,\"solidity\":0.2}},\"type\":\"barpolar\"}],\"pie\":[{\"automargin\":true,\"type\":\"pie\"}]},\"layout\":{\"autotypenumbers\":\"strict\",\"colorway\":[\"#636efa\",\"#EF553B\",\"#00cc96\",\"#ab63fa\",\"#FFA15A\",\"#19d3f3\",\"#FF6692\",\"#B6E880\",\"#FF97FF\",\"#FECB52\"],\"font\":{\"color\":\"#2a3f5f\"},\"hovermode\":\"closest\",\"hoverlabel\":{\"align\":\"left\"},\"paper_bgcolor\":\"white\",\"plot_bgcolor\":\"#E5ECF6\",\"polar\":{\"bgcolor\":\"#E5ECF6\",\"angularaxis\":{\"gridcolor\":\"white\",\"linecolor\":\"white\",\"ticks\":\"\"},\"radialaxis\":{\"gridcolor\":\"white\",\"linecolor\":\"white\",\"ticks\":\"\"}},\"ternary\":{\"bgcolor\":\"#E5ECF6\",\"aaxis\":{\"gridcolor\":\"white\",\"linecolor\":\"white\",\"ticks\":\"\"},\"baxis\":{\"gridcolor\":\"white\",\"linecolor\":\"white\",\"ticks\":\"\"},\"caxis\":{\"gridcolor\":\"white\",\"linecolor\":\"white\",\"ticks\":\"\"}},\"coloraxis\":{\"colorbar\":{\"outlinewidth\":0,\"ticks\":\"\"}},\"colorscale\":{\"sequential\":[[0.0,\"#0d0887\"],[0.1111111111111111,\"#46039f\"],[0.2222222222222222,\"#7201a8\"],[0.3333333333333333,\"#9c179e\"],[0.4444444444444444,\"#bd3786\"],[0.5555555555555556,\"#d8576b\"],[0.6666666666666666,\"#ed7953\"],[0.7777777777777778,\"#fb9f3a\"],[0.8888888888888888,\"#fdca26\"],[1.0,\"#f0f921\"]],\"sequentialminus\":[[0.0,\"#0d0887\"],[0.1111111111111111,\"#46039f\"],[0.2222222222222222,\"#7201a8\"],[0.3333333333333333,\"#9c179e\"],[0.4444444444444444,\"#bd3786\"],[0.5555555555555556,\"#d8576b\"],[0.6666666666666666,\"#ed7953\"],[0.7777777777777778,\"#fb9f3a\"],[0.8888888888888888,\"#fdca26\"],[1.0,\"#f0f921\"]],\"diverging\":[[0,\"#8e0152\"],[0.1,\"#c51b7d\"],[0.2,\"#de77ae\"],[0.3,\"#f1b6da\"],[0.4,\"#fde0ef\"],[0.5,\"#f7f7f7\"],[0.6,\"#e6f5d0\"],[0.7,\"#b8e186\"],[0.8,\"#7fbc41\"],[0.9,\"#4d9221\"],[1,\"#276419\"]]},\"xaxis\":{\"gridcolor\":\"white\",\"linecolor\":\"white\",\"ticks\":\"\",\"title\":{\"standoff\":15},\"zerolinecolor\":\"white\",\"automargin\":true,\"zerolinewidth\":2},\"yaxis\":{\"gridcolor\":\"white\",\"linecolor\":\"white\",\"ticks\":\"\",\"title\":{\"standoff\":15},\"zerolinecolor\":\"white\",\"automargin\":true,\"zerolinewidth\":2},\"scene\":{\"xaxis\":{\"backgroundcolor\":\"#E5ECF6\",\"gridcolor\":\"white\",\"linecolor\":\"white\",\"showbackground\":true,\"ticks\":\"\",\"zerolinecolor\":\"white\",\"gridwidth\":2},\"yaxis\":{\"backgroundcolor\":\"#E5ECF6\",\"gridcolor\":\"white\",\"linecolor\":\"white\",\"showbackground\":true,\"ticks\":\"\",\"zerolinecolor\":\"white\",\"gridwidth\":2},\"zaxis\":{\"backgroundcolor\":\"#E5ECF6\",\"gridcolor\":\"white\",\"linecolor\":\"white\",\"showbackground\":true,\"ticks\":\"\",\"zerolinecolor\":\"white\",\"gridwidth\":2}},\"shapedefaults\":{\"line\":{\"color\":\"#2a3f5f\"}},\"annotationdefaults\":{\"arrowcolor\":\"#2a3f5f\",\"arrowhead\":0,\"arrowwidth\":1},\"geo\":{\"bgcolor\":\"white\",\"landcolor\":\"#E5ECF6\",\"subunitcolor\":\"white\",\"showland\":true,\"showlakes\":true,\"lakecolor\":\"white\"},\"title\":{\"x\":0.05},\"mapbox\":{\"style\":\"light\"}}}},                        {\"responsive\": true}                    ).then(function(){\n                            \nvar gd = document.getElementById('3fd65541-3ad4-46a5-a03a-b6c865a8a242');\nvar x = new MutationObserver(function (mutations, observer) {{\n        var display = window.getComputedStyle(gd).display;\n        if (!display || display === 'none') {{\n            console.log([gd, 'removed!']);\n            Plotly.purge(gd);\n            observer.disconnect();\n        }}\n}});\n\n// Listen for the removal of the full notebook cells\nvar notebookContainer = gd.closest('#notebook-container');\nif (notebookContainer) {{\n    x.observe(notebookContainer, {childList: true});\n}}\n\n// Listen for the clearing of the current output cell\nvar outputEl = gd.closest('.output');\nif (outputEl) {{\n    x.observe(outputEl, {childList: true});\n}}\n\n                        })                };                });            </script>        </div>"
     },
     "metadata": {},
     "output_type": "display_data"
    }
   ],
   "source": [
    "import plotly.graph_objects as go\n",
    "fig = go.Figure()\n",
    "fig.add_trace(go.Scatter(x=df[\"data_przejazdu\"],\n",
    "                         y=df[\"ilosc_przejazdow\"],\n",
    "                         mode='markers',\n",
    "                         marker=dict(size=3, color=\"blue\")))\n",
    "fig.show()"
   ],
   "metadata": {
    "collapsed": false,
    "pycharm": {
     "name": "#%%\n"
    }
   }
  },
  {
   "cell_type": "code",
   "execution_count": 85,
   "outputs": [],
   "source": [
    "\n",
    "all_files = glob.glob(\"root_csv\"+\"/*.csv\")\n",
    "archieved = pd.concat(map(pd.read_csv, all_files), ignore_index=True)\n",
    "archieved = pd.DataFrame(archieved, columns=[\"UID wynajmu\",\"Data zwrotu\"])\n",
    "archieved[\"Data zwrotu\"] = pd.to_datetime(archieved[\"Data zwrotu\"]).dt.date\n",
    "archieved= archieved.groupby(archieved[\"Data zwrotu\"]).count()\n",
    "archieved = archieved.reset_index()"
   ],
   "metadata": {
    "collapsed": false,
    "pycharm": {
     "name": "#%%\n"
    }
   }
  },
  {
   "cell_type": "code",
   "execution_count": 86,
   "outputs": [
    {
     "data": {
      "text/plain": "    Data zwrotu  UID wynajmu  ilosc_przejazdow data_przejazdu\n0    2020-01-01          634               634     2020-01-01\n1    2020-01-02          971               971     2020-01-02\n2    2020-01-03         1017              1017     2020-01-03\n3    2020-01-04          492               492     2020-01-04\n4    2020-01-05          629               629     2020-01-05\n..          ...          ...               ...            ...\n665  2021-11-26         3663              3663     2021-11-26\n666  2021-11-27         3158              3158     2021-11-27\n667  2021-11-28         1191              1191     2021-11-28\n668  2021-11-29         2707              2707     2021-11-29\n669  2021-11-30         2722              2722     2021-11-30\n\n[670 rows x 4 columns]",
      "text/html": "<div>\n<style scoped>\n    .dataframe tbody tr th:only-of-type {\n        vertical-align: middle;\n    }\n\n    .dataframe tbody tr th {\n        vertical-align: top;\n    }\n\n    .dataframe thead th {\n        text-align: right;\n    }\n</style>\n<table border=\"1\" class=\"dataframe\">\n  <thead>\n    <tr style=\"text-align: right;\">\n      <th></th>\n      <th>Data zwrotu</th>\n      <th>UID wynajmu</th>\n      <th>ilosc_przejazdow</th>\n      <th>data_przejazdu</th>\n    </tr>\n  </thead>\n  <tbody>\n    <tr>\n      <th>0</th>\n      <td>2020-01-01</td>\n      <td>634</td>\n      <td>634</td>\n      <td>2020-01-01</td>\n    </tr>\n    <tr>\n      <th>1</th>\n      <td>2020-01-02</td>\n      <td>971</td>\n      <td>971</td>\n      <td>2020-01-02</td>\n    </tr>\n    <tr>\n      <th>2</th>\n      <td>2020-01-03</td>\n      <td>1017</td>\n      <td>1017</td>\n      <td>2020-01-03</td>\n    </tr>\n    <tr>\n      <th>3</th>\n      <td>2020-01-04</td>\n      <td>492</td>\n      <td>492</td>\n      <td>2020-01-04</td>\n    </tr>\n    <tr>\n      <th>4</th>\n      <td>2020-01-05</td>\n      <td>629</td>\n      <td>629</td>\n      <td>2020-01-05</td>\n    </tr>\n    <tr>\n      <th>...</th>\n      <td>...</td>\n      <td>...</td>\n      <td>...</td>\n      <td>...</td>\n    </tr>\n    <tr>\n      <th>665</th>\n      <td>2021-11-26</td>\n      <td>3663</td>\n      <td>3663</td>\n      <td>2021-11-26</td>\n    </tr>\n    <tr>\n      <th>666</th>\n      <td>2021-11-27</td>\n      <td>3158</td>\n      <td>3158</td>\n      <td>2021-11-27</td>\n    </tr>\n    <tr>\n      <th>667</th>\n      <td>2021-11-28</td>\n      <td>1191</td>\n      <td>1191</td>\n      <td>2021-11-28</td>\n    </tr>\n    <tr>\n      <th>668</th>\n      <td>2021-11-29</td>\n      <td>2707</td>\n      <td>2707</td>\n      <td>2021-11-29</td>\n    </tr>\n    <tr>\n      <th>669</th>\n      <td>2021-11-30</td>\n      <td>2722</td>\n      <td>2722</td>\n      <td>2021-11-30</td>\n    </tr>\n  </tbody>\n</table>\n<p>670 rows × 4 columns</p>\n</div>"
     },
     "execution_count": 86,
     "metadata": {},
     "output_type": "execute_result"
    }
   ],
   "source": [
    "archieved[\"ilosc_przejazdow\"] = archieved[\"UID wynajmu\"]\n",
    "archieved[\"data_przejazdu\"] = archieved[\"Data zwrotu\"]\n",
    "# archieved.rename(columns={'UID wynajmu': 'przejazdy'})\n",
    "archieved\n"
   ],
   "metadata": {
    "collapsed": false,
    "pycharm": {
     "name": "#%%\n"
    }
   }
  },
  {
   "cell_type": "code",
   "execution_count": 87,
   "outputs": [
    {
     "data": {
      "text/plain": "               ilosc_przejazdow\ndata_przejazdu                 \n2020-01-01                  634\n2020-01-02                  971\n2020-01-03                 1017\n2020-01-04                  492\n2020-01-05                  629\n...                         ...\n2022-06-03                11309\n2022-06-04                11299\n2022-06-05                11777\n2022-06-06                 8244\n2022-06-07                11713\n\n[831 rows x 1 columns]",
      "text/html": "<div>\n<style scoped>\n    .dataframe tbody tr th:only-of-type {\n        vertical-align: middle;\n    }\n\n    .dataframe tbody tr th {\n        vertical-align: top;\n    }\n\n    .dataframe thead th {\n        text-align: right;\n    }\n</style>\n<table border=\"1\" class=\"dataframe\">\n  <thead>\n    <tr style=\"text-align: right;\">\n      <th></th>\n      <th>ilosc_przejazdow</th>\n    </tr>\n    <tr>\n      <th>data_przejazdu</th>\n      <th></th>\n    </tr>\n  </thead>\n  <tbody>\n    <tr>\n      <th>2020-01-01</th>\n      <td>634</td>\n    </tr>\n    <tr>\n      <th>2020-01-02</th>\n      <td>971</td>\n    </tr>\n    <tr>\n      <th>2020-01-03</th>\n      <td>1017</td>\n    </tr>\n    <tr>\n      <th>2020-01-04</th>\n      <td>492</td>\n    </tr>\n    <tr>\n      <th>2020-01-05</th>\n      <td>629</td>\n    </tr>\n    <tr>\n      <th>...</th>\n      <td>...</td>\n    </tr>\n    <tr>\n      <th>2022-06-03</th>\n      <td>11309</td>\n    </tr>\n    <tr>\n      <th>2022-06-04</th>\n      <td>11299</td>\n    </tr>\n    <tr>\n      <th>2022-06-05</th>\n      <td>11777</td>\n    </tr>\n    <tr>\n      <th>2022-06-06</th>\n      <td>8244</td>\n    </tr>\n    <tr>\n      <th>2022-06-07</th>\n      <td>11713</td>\n    </tr>\n  </tbody>\n</table>\n<p>831 rows × 1 columns</p>\n</div>"
     },
     "execution_count": 87,
     "metadata": {},
     "output_type": "execute_result"
    }
   ],
   "source": [
    "all_time = pd.concat([archieved, df], ignore_index=True).drop([\"Data zwrotu\", \"UID wynajmu\"], axis=1)\n",
    "all_time[\"data_przejazdu\"] = pd.to_datetime(all_time[\"data_przejazdu\"], format='%Y-%m-%d').dt.date\n",
    "all_time.set_index(\"data_przejazdu\", inplace=True)\n",
    "all_time"
   ],
   "metadata": {
    "collapsed": false,
    "pycharm": {
     "name": "#%%\n"
    }
   }
  },
  {
   "cell_type": "code",
   "execution_count": 88,
   "outputs": [
    {
     "data": {
      "text/plain": "            tavg  prcp\ntime                  \n2020-01-01   1.3   0.0\n2020-01-02  -2.2   0.0\n2020-01-03   1.1   0.0\n2020-01-04   4.3   0.5\n2020-01-05   0.3   1.0\n...          ...   ...\n2022-06-01  16.5   0.0\n2022-06-02  15.2   0.3\n2022-06-03  17.3   0.0\n2022-06-04  19.7   3.5\n2022-06-05  19.1   0.0\n\n[887 rows x 2 columns]",
      "text/html": "<div>\n<style scoped>\n    .dataframe tbody tr th:only-of-type {\n        vertical-align: middle;\n    }\n\n    .dataframe tbody tr th {\n        vertical-align: top;\n    }\n\n    .dataframe thead th {\n        text-align: right;\n    }\n</style>\n<table border=\"1\" class=\"dataframe\">\n  <thead>\n    <tr style=\"text-align: right;\">\n      <th></th>\n      <th>tavg</th>\n      <th>prcp</th>\n    </tr>\n    <tr>\n      <th>time</th>\n      <th></th>\n      <th></th>\n    </tr>\n  </thead>\n  <tbody>\n    <tr>\n      <th>2020-01-01</th>\n      <td>1.3</td>\n      <td>0.0</td>\n    </tr>\n    <tr>\n      <th>2020-01-02</th>\n      <td>-2.2</td>\n      <td>0.0</td>\n    </tr>\n    <tr>\n      <th>2020-01-03</th>\n      <td>1.1</td>\n      <td>0.0</td>\n    </tr>\n    <tr>\n      <th>2020-01-04</th>\n      <td>4.3</td>\n      <td>0.5</td>\n    </tr>\n    <tr>\n      <th>2020-01-05</th>\n      <td>0.3</td>\n      <td>1.0</td>\n    </tr>\n    <tr>\n      <th>...</th>\n      <td>...</td>\n      <td>...</td>\n    </tr>\n    <tr>\n      <th>2022-06-01</th>\n      <td>16.5</td>\n      <td>0.0</td>\n    </tr>\n    <tr>\n      <th>2022-06-02</th>\n      <td>15.2</td>\n      <td>0.3</td>\n    </tr>\n    <tr>\n      <th>2022-06-03</th>\n      <td>17.3</td>\n      <td>0.0</td>\n    </tr>\n    <tr>\n      <th>2022-06-04</th>\n      <td>19.7</td>\n      <td>3.5</td>\n    </tr>\n    <tr>\n      <th>2022-06-05</th>\n      <td>19.1</td>\n      <td>0.0</td>\n    </tr>\n  </tbody>\n</table>\n<p>887 rows × 2 columns</p>\n</div>"
     },
     "execution_count": 88,
     "metadata": {},
     "output_type": "execute_result"
    }
   ],
   "source": [
    "import meteostat\n",
    "# from datetime import datetime, timedelta\n",
    "# Przygotowanie obiektów dat\n",
    "start = datetime.datetime(2020, 1, 1)\n",
    "end = datetime.datetime.now()\n",
    "\n",
    "# Pobieranie danych nt. stacji\n",
    "stations = meteostat.Stations()\n",
    "wroclaw_req = stations.nearby(51, 17)\n",
    "wroclaw = wroclaw_req.fetch(1)\n",
    "\n",
    "# Pobieranie danych ze stacji day by day\n",
    "weather_data_req = meteostat.Daily(wroclaw, start, end)\n",
    "weather_data = weather_data_req.fetch()\n",
    "weather_data = weather_data.reset_index()\n",
    "weather_data = weather_data[[\"time\", \"tavg\", \"prcp\"]]\n",
    "weather_data[\"time\"] = pd.to_datetime(weather_data[\"time\"]).dt.date\n",
    "weather_data.set_index(\"time\", inplace=True)\n",
    "weather_data\n"
   ],
   "metadata": {
    "collapsed": false,
    "pycharm": {
     "name": "#%%\n"
    }
   }
  },
  {
   "cell_type": "code",
   "execution_count": 122,
   "outputs": [
    {
     "data": {
      "text/plain": "            ilosc_przejazdow  tavg  prcp\n2020-01-01               634   1.3   0.0\n2020-01-02               971  -2.2   0.0\n2020-01-03              1017   1.1   0.0\n2020-01-04               492   4.3   0.5\n2020-01-05               629   0.3   1.0\n...                      ...   ...   ...\n2022-06-03             11309  17.3   0.0\n2022-06-04             11299  19.7   3.5\n2022-06-05             11777  19.1   0.0\n2022-06-06              8244   0.0   0.0\n2022-06-07             11713   0.0   0.0\n\n[831 rows x 3 columns]",
      "text/html": "<div>\n<style scoped>\n    .dataframe tbody tr th:only-of-type {\n        vertical-align: middle;\n    }\n\n    .dataframe tbody tr th {\n        vertical-align: top;\n    }\n\n    .dataframe thead th {\n        text-align: right;\n    }\n</style>\n<table border=\"1\" class=\"dataframe\">\n  <thead>\n    <tr style=\"text-align: right;\">\n      <th></th>\n      <th>ilosc_przejazdow</th>\n      <th>tavg</th>\n      <th>prcp</th>\n    </tr>\n  </thead>\n  <tbody>\n    <tr>\n      <th>2020-01-01</th>\n      <td>634</td>\n      <td>1.3</td>\n      <td>0.0</td>\n    </tr>\n    <tr>\n      <th>2020-01-02</th>\n      <td>971</td>\n      <td>-2.2</td>\n      <td>0.0</td>\n    </tr>\n    <tr>\n      <th>2020-01-03</th>\n      <td>1017</td>\n      <td>1.1</td>\n      <td>0.0</td>\n    </tr>\n    <tr>\n      <th>2020-01-04</th>\n      <td>492</td>\n      <td>4.3</td>\n      <td>0.5</td>\n    </tr>\n    <tr>\n      <th>2020-01-05</th>\n      <td>629</td>\n      <td>0.3</td>\n      <td>1.0</td>\n    </tr>\n    <tr>\n      <th>...</th>\n      <td>...</td>\n      <td>...</td>\n      <td>...</td>\n    </tr>\n    <tr>\n      <th>2022-06-03</th>\n      <td>11309</td>\n      <td>17.3</td>\n      <td>0.0</td>\n    </tr>\n    <tr>\n      <th>2022-06-04</th>\n      <td>11299</td>\n      <td>19.7</td>\n      <td>3.5</td>\n    </tr>\n    <tr>\n      <th>2022-06-05</th>\n      <td>11777</td>\n      <td>19.1</td>\n      <td>0.0</td>\n    </tr>\n    <tr>\n      <th>2022-06-06</th>\n      <td>8244</td>\n      <td>0.0</td>\n      <td>0.0</td>\n    </tr>\n    <tr>\n      <th>2022-06-07</th>\n      <td>11713</td>\n      <td>0.0</td>\n      <td>0.0</td>\n    </tr>\n  </tbody>\n</table>\n<p>831 rows × 3 columns</p>\n</div>"
     },
     "execution_count": 122,
     "metadata": {},
     "output_type": "execute_result"
    }
   ],
   "source": [
    "# merged = pd.concat([all_time, weather_data],  join=\"inner\", axis=1)\n",
    "merged = all_time.join(weather_data)\n",
    "merged = merged.fillna(0)\n",
    "merged\n"
   ],
   "metadata": {
    "collapsed": false,
    "pycharm": {
     "name": "#%%\n"
    }
   }
  },
  {
   "cell_type": "code",
   "source": [
    "merged[\"rolling_avg_7d\"] = merged[\"ilosc_przejazdow\"].rolling(7).mean()\n",
    "merged = merged.fillna(0)\n",
    "merged = merged.astype({'rolling_avg_7d':'int'})\n",
    "# merged = merged.reset_index()\n",
    "merged"
   ],
   "metadata": {
    "collapsed": false,
    "pycharm": {
     "name": "#%%\n"
    }
   },
   "execution_count": 123,
   "outputs": [
    {
     "data": {
      "text/plain": "            ilosc_przejazdow  tavg  prcp  rolling_avg_7d\n2020-01-01               634   1.3   0.0               0\n2020-01-02               971  -2.2   0.0               0\n2020-01-03              1017   1.1   0.0               0\n2020-01-04               492   4.3   0.5               0\n2020-01-05               629   0.3   1.0               0\n...                      ...   ...   ...             ...\n2022-06-03             11309  17.3   0.0            9026\n2022-06-04             11299  19.7   3.5            9109\n2022-06-05             11777  19.1   0.0            9838\n2022-06-06              8244   0.0   0.0           10130\n2022-06-07             11713   0.0   0.0           10671\n\n[831 rows x 4 columns]",
      "text/html": "<div>\n<style scoped>\n    .dataframe tbody tr th:only-of-type {\n        vertical-align: middle;\n    }\n\n    .dataframe tbody tr th {\n        vertical-align: top;\n    }\n\n    .dataframe thead th {\n        text-align: right;\n    }\n</style>\n<table border=\"1\" class=\"dataframe\">\n  <thead>\n    <tr style=\"text-align: right;\">\n      <th></th>\n      <th>ilosc_przejazdow</th>\n      <th>tavg</th>\n      <th>prcp</th>\n      <th>rolling_avg_7d</th>\n    </tr>\n  </thead>\n  <tbody>\n    <tr>\n      <th>2020-01-01</th>\n      <td>634</td>\n      <td>1.3</td>\n      <td>0.0</td>\n      <td>0</td>\n    </tr>\n    <tr>\n      <th>2020-01-02</th>\n      <td>971</td>\n      <td>-2.2</td>\n      <td>0.0</td>\n      <td>0</td>\n    </tr>\n    <tr>\n      <th>2020-01-03</th>\n      <td>1017</td>\n      <td>1.1</td>\n      <td>0.0</td>\n      <td>0</td>\n    </tr>\n    <tr>\n      <th>2020-01-04</th>\n      <td>492</td>\n      <td>4.3</td>\n      <td>0.5</td>\n      <td>0</td>\n    </tr>\n    <tr>\n      <th>2020-01-05</th>\n      <td>629</td>\n      <td>0.3</td>\n      <td>1.0</td>\n      <td>0</td>\n    </tr>\n    <tr>\n      <th>...</th>\n      <td>...</td>\n      <td>...</td>\n      <td>...</td>\n      <td>...</td>\n    </tr>\n    <tr>\n      <th>2022-06-03</th>\n      <td>11309</td>\n      <td>17.3</td>\n      <td>0.0</td>\n      <td>9026</td>\n    </tr>\n    <tr>\n      <th>2022-06-04</th>\n      <td>11299</td>\n      <td>19.7</td>\n      <td>3.5</td>\n      <td>9109</td>\n    </tr>\n    <tr>\n      <th>2022-06-05</th>\n      <td>11777</td>\n      <td>19.1</td>\n      <td>0.0</td>\n      <td>9838</td>\n    </tr>\n    <tr>\n      <th>2022-06-06</th>\n      <td>8244</td>\n      <td>0.0</td>\n      <td>0.0</td>\n      <td>10130</td>\n    </tr>\n    <tr>\n      <th>2022-06-07</th>\n      <td>11713</td>\n      <td>0.0</td>\n      <td>0.0</td>\n      <td>10671</td>\n    </tr>\n  </tbody>\n</table>\n<p>831 rows × 4 columns</p>\n</div>"
     },
     "execution_count": 123,
     "metadata": {},
     "output_type": "execute_result"
    }
   ]
  },
  {
   "cell_type": "code",
   "execution_count": 124,
   "outputs": [
    {
     "data": {
      "text/plain": "            ilosc_przejazdow  tavg  prcp  rolling_avg_7d  prev_value\n2020-01-01               634   1.3   0.0               0           0\n2020-01-02               971  -2.2   0.0               0         634\n2020-01-03              1017   1.1   0.0               0         971\n2020-01-04               492   4.3   0.5               0        1017\n2020-01-05               629   0.3   1.0               0         492\n...                      ...   ...   ...             ...         ...\n2022-06-03             11309  17.3   0.0            9026       11328\n2022-06-04             11299  19.7   3.5            9109       11309\n2022-06-05             11777  19.1   0.0            9838       11299\n2022-06-06              8244   0.0   0.0           10130       11777\n2022-06-07             11713   0.0   0.0           10671        8244\n\n[831 rows x 5 columns]",
      "text/html": "<div>\n<style scoped>\n    .dataframe tbody tr th:only-of-type {\n        vertical-align: middle;\n    }\n\n    .dataframe tbody tr th {\n        vertical-align: top;\n    }\n\n    .dataframe thead th {\n        text-align: right;\n    }\n</style>\n<table border=\"1\" class=\"dataframe\">\n  <thead>\n    <tr style=\"text-align: right;\">\n      <th></th>\n      <th>ilosc_przejazdow</th>\n      <th>tavg</th>\n      <th>prcp</th>\n      <th>rolling_avg_7d</th>\n      <th>prev_value</th>\n    </tr>\n  </thead>\n  <tbody>\n    <tr>\n      <th>2020-01-01</th>\n      <td>634</td>\n      <td>1.3</td>\n      <td>0.0</td>\n      <td>0</td>\n      <td>0</td>\n    </tr>\n    <tr>\n      <th>2020-01-02</th>\n      <td>971</td>\n      <td>-2.2</td>\n      <td>0.0</td>\n      <td>0</td>\n      <td>634</td>\n    </tr>\n    <tr>\n      <th>2020-01-03</th>\n      <td>1017</td>\n      <td>1.1</td>\n      <td>0.0</td>\n      <td>0</td>\n      <td>971</td>\n    </tr>\n    <tr>\n      <th>2020-01-04</th>\n      <td>492</td>\n      <td>4.3</td>\n      <td>0.5</td>\n      <td>0</td>\n      <td>1017</td>\n    </tr>\n    <tr>\n      <th>2020-01-05</th>\n      <td>629</td>\n      <td>0.3</td>\n      <td>1.0</td>\n      <td>0</td>\n      <td>492</td>\n    </tr>\n    <tr>\n      <th>...</th>\n      <td>...</td>\n      <td>...</td>\n      <td>...</td>\n      <td>...</td>\n      <td>...</td>\n    </tr>\n    <tr>\n      <th>2022-06-03</th>\n      <td>11309</td>\n      <td>17.3</td>\n      <td>0.0</td>\n      <td>9026</td>\n      <td>11328</td>\n    </tr>\n    <tr>\n      <th>2022-06-04</th>\n      <td>11299</td>\n      <td>19.7</td>\n      <td>3.5</td>\n      <td>9109</td>\n      <td>11309</td>\n    </tr>\n    <tr>\n      <th>2022-06-05</th>\n      <td>11777</td>\n      <td>19.1</td>\n      <td>0.0</td>\n      <td>9838</td>\n      <td>11299</td>\n    </tr>\n    <tr>\n      <th>2022-06-06</th>\n      <td>8244</td>\n      <td>0.0</td>\n      <td>0.0</td>\n      <td>10130</td>\n      <td>11777</td>\n    </tr>\n    <tr>\n      <th>2022-06-07</th>\n      <td>11713</td>\n      <td>0.0</td>\n      <td>0.0</td>\n      <td>10671</td>\n      <td>8244</td>\n    </tr>\n  </tbody>\n</table>\n<p>831 rows × 5 columns</p>\n</div>"
     },
     "execution_count": 124,
     "metadata": {},
     "output_type": "execute_result"
    }
   ],
   "source": [
    "merged['prev_value'] = merged[\"ilosc_przejazdow\"].shift(1)\n",
    "merged = merged.fillna(0)\n",
    "merged = merged.astype({'prev_value':'int'})\n",
    "merged"
   ],
   "metadata": {
    "collapsed": false,
    "pycharm": {
     "name": "#%%\n"
    }
   }
  },
  {
   "cell_type": "code",
   "execution_count": 127,
   "outputs": [
    {
     "data": {
      "text/plain": "    months_10  months_11  months_12  months_2  months_3  months_4  months_5  \\\n0           0          0          0         0         0         0         0   \n1           0          0          0         1         0         0         0   \n2           0          0          0         0         1         0         0   \n3           0          0          0         0         0         1         0   \n4           0          0          0         0         0         0         1   \n5           0          0          0         0         0         0         0   \n6           0          0          0         0         0         0         0   \n7           0          0          0         0         0         0         0   \n8           0          0          0         0         0         0         0   \n9           1          0          0         0         0         0         0   \n10          0          1          0         0         0         0         0   \n11          0          0          1         0         0         0         0   \n\n    months_6  months_7  months_8  months_9  \n0          0         0         0         0  \n1          0         0         0         0  \n2          0         0         0         0  \n3          0         0         0         0  \n4          0         0         0         0  \n5          1         0         0         0  \n6          0         1         0         0  \n7          0         0         1         0  \n8          0         0         0         1  \n9          0         0         0         0  \n10         0         0         0         0  \n11         0         0         0         0  ",
      "text/html": "<div>\n<style scoped>\n    .dataframe tbody tr th:only-of-type {\n        vertical-align: middle;\n    }\n\n    .dataframe tbody tr th {\n        vertical-align: top;\n    }\n\n    .dataframe thead th {\n        text-align: right;\n    }\n</style>\n<table border=\"1\" class=\"dataframe\">\n  <thead>\n    <tr style=\"text-align: right;\">\n      <th></th>\n      <th>months_10</th>\n      <th>months_11</th>\n      <th>months_12</th>\n      <th>months_2</th>\n      <th>months_3</th>\n      <th>months_4</th>\n      <th>months_5</th>\n      <th>months_6</th>\n      <th>months_7</th>\n      <th>months_8</th>\n      <th>months_9</th>\n    </tr>\n  </thead>\n  <tbody>\n    <tr>\n      <th>0</th>\n      <td>0</td>\n      <td>0</td>\n      <td>0</td>\n      <td>0</td>\n      <td>0</td>\n      <td>0</td>\n      <td>0</td>\n      <td>0</td>\n      <td>0</td>\n      <td>0</td>\n      <td>0</td>\n    </tr>\n    <tr>\n      <th>1</th>\n      <td>0</td>\n      <td>0</td>\n      <td>0</td>\n      <td>1</td>\n      <td>0</td>\n      <td>0</td>\n      <td>0</td>\n      <td>0</td>\n      <td>0</td>\n      <td>0</td>\n      <td>0</td>\n    </tr>\n    <tr>\n      <th>2</th>\n      <td>0</td>\n      <td>0</td>\n      <td>0</td>\n      <td>0</td>\n      <td>1</td>\n      <td>0</td>\n      <td>0</td>\n      <td>0</td>\n      <td>0</td>\n      <td>0</td>\n      <td>0</td>\n    </tr>\n    <tr>\n      <th>3</th>\n      <td>0</td>\n      <td>0</td>\n      <td>0</td>\n      <td>0</td>\n      <td>0</td>\n      <td>1</td>\n      <td>0</td>\n      <td>0</td>\n      <td>0</td>\n      <td>0</td>\n      <td>0</td>\n    </tr>\n    <tr>\n      <th>4</th>\n      <td>0</td>\n      <td>0</td>\n      <td>0</td>\n      <td>0</td>\n      <td>0</td>\n      <td>0</td>\n      <td>1</td>\n      <td>0</td>\n      <td>0</td>\n      <td>0</td>\n      <td>0</td>\n    </tr>\n    <tr>\n      <th>5</th>\n      <td>0</td>\n      <td>0</td>\n      <td>0</td>\n      <td>0</td>\n      <td>0</td>\n      <td>0</td>\n      <td>0</td>\n      <td>1</td>\n      <td>0</td>\n      <td>0</td>\n      <td>0</td>\n    </tr>\n    <tr>\n      <th>6</th>\n      <td>0</td>\n      <td>0</td>\n      <td>0</td>\n      <td>0</td>\n      <td>0</td>\n      <td>0</td>\n      <td>0</td>\n      <td>0</td>\n      <td>1</td>\n      <td>0</td>\n      <td>0</td>\n    </tr>\n    <tr>\n      <th>7</th>\n      <td>0</td>\n      <td>0</td>\n      <td>0</td>\n      <td>0</td>\n      <td>0</td>\n      <td>0</td>\n      <td>0</td>\n      <td>0</td>\n      <td>0</td>\n      <td>1</td>\n      <td>0</td>\n    </tr>\n    <tr>\n      <th>8</th>\n      <td>0</td>\n      <td>0</td>\n      <td>0</td>\n      <td>0</td>\n      <td>0</td>\n      <td>0</td>\n      <td>0</td>\n      <td>0</td>\n      <td>0</td>\n      <td>0</td>\n      <td>1</td>\n    </tr>\n    <tr>\n      <th>9</th>\n      <td>1</td>\n      <td>0</td>\n      <td>0</td>\n      <td>0</td>\n      <td>0</td>\n      <td>0</td>\n      <td>0</td>\n      <td>0</td>\n      <td>0</td>\n      <td>0</td>\n      <td>0</td>\n    </tr>\n    <tr>\n      <th>10</th>\n      <td>0</td>\n      <td>1</td>\n      <td>0</td>\n      <td>0</td>\n      <td>0</td>\n      <td>0</td>\n      <td>0</td>\n      <td>0</td>\n      <td>0</td>\n      <td>0</td>\n      <td>0</td>\n    </tr>\n    <tr>\n      <th>11</th>\n      <td>0</td>\n      <td>0</td>\n      <td>1</td>\n      <td>0</td>\n      <td>0</td>\n      <td>0</td>\n      <td>0</td>\n      <td>0</td>\n      <td>0</td>\n      <td>0</td>\n      <td>0</td>\n    </tr>\n  </tbody>\n</table>\n</div>"
     },
     "execution_count": 127,
     "metadata": {},
     "output_type": "execute_result"
    }
   ],
   "source": [
    "merged['months'] = pd.DatetimeIndex(merged.index).month\n",
    "df = pd.DataFrame({'months': ['1', '2', '3','4','5','6','7','8','9','10','11','12']})\n",
    "\n",
    "pd.get_dummies(df[\"months\"],prefix='months',drop_first=True)"
   ],
   "metadata": {
    "collapsed": false,
    "pycharm": {
     "name": "#%%\n"
    }
   }
  },
  {
   "cell_type": "code",
   "execution_count": 128,
   "outputs": [
    {
     "data": {
      "text/plain": "            ilosc_przejazdow  tavg  prcp  rolling_avg_7d  prev_value  months  \\\n2020-01-01               634   1.3   0.0               0           0       1   \n2020-01-02               971  -2.2   0.0               0         634       1   \n2020-01-03              1017   1.1   0.0               0         971       1   \n2020-01-04               492   4.3   0.5               0        1017       1   \n2020-01-05               629   0.3   1.0               0         492       1   \n...                      ...   ...   ...             ...         ...     ...   \n2022-06-03             11309  17.3   0.0            9026       11328       6   \n2022-06-04             11299  19.7   3.5            9109       11309       6   \n2022-06-05             11777  19.1   0.0            9838       11299       6   \n2022-06-06              8244   0.0   0.0           10130       11777       6   \n2022-06-07             11713   0.0   0.0           10671        8244       6   \n\n            months_1  months_2  months_3  months_4  months_5  months_6  \\\n2020-01-01         1         0         0         0         0         0   \n2020-01-02         1         0         0         0         0         0   \n2020-01-03         1         0         0         0         0         0   \n2020-01-04         1         0         0         0         0         0   \n2020-01-05         1         0         0         0         0         0   \n...              ...       ...       ...       ...       ...       ...   \n2022-06-03         0         0         0         0         0         1   \n2022-06-04         0         0         0         0         0         1   \n2022-06-05         0         0         0         0         0         1   \n2022-06-06         0         0         0         0         0         1   \n2022-06-07         0         0         0         0         0         1   \n\n            months_7  months_8  months_9  months_10  months_11  months_12  \n2020-01-01         0         0         0          0          0          0  \n2020-01-02         0         0         0          0          0          0  \n2020-01-03         0         0         0          0          0          0  \n2020-01-04         0         0         0          0          0          0  \n2020-01-05         0         0         0          0          0          0  \n...              ...       ...       ...        ...        ...        ...  \n2022-06-03         0         0         0          0          0          0  \n2022-06-04         0         0         0          0          0          0  \n2022-06-05         0         0         0          0          0          0  \n2022-06-06         0         0         0          0          0          0  \n2022-06-07         0         0         0          0          0          0  \n\n[831 rows x 18 columns]",
      "text/html": "<div>\n<style scoped>\n    .dataframe tbody tr th:only-of-type {\n        vertical-align: middle;\n    }\n\n    .dataframe tbody tr th {\n        vertical-align: top;\n    }\n\n    .dataframe thead th {\n        text-align: right;\n    }\n</style>\n<table border=\"1\" class=\"dataframe\">\n  <thead>\n    <tr style=\"text-align: right;\">\n      <th></th>\n      <th>ilosc_przejazdow</th>\n      <th>tavg</th>\n      <th>prcp</th>\n      <th>rolling_avg_7d</th>\n      <th>prev_value</th>\n      <th>months</th>\n      <th>months_1</th>\n      <th>months_2</th>\n      <th>months_3</th>\n      <th>months_4</th>\n      <th>months_5</th>\n      <th>months_6</th>\n      <th>months_7</th>\n      <th>months_8</th>\n      <th>months_9</th>\n      <th>months_10</th>\n      <th>months_11</th>\n      <th>months_12</th>\n    </tr>\n  </thead>\n  <tbody>\n    <tr>\n      <th>2020-01-01</th>\n      <td>634</td>\n      <td>1.3</td>\n      <td>0.0</td>\n      <td>0</td>\n      <td>0</td>\n      <td>1</td>\n      <td>1</td>\n      <td>0</td>\n      <td>0</td>\n      <td>0</td>\n      <td>0</td>\n      <td>0</td>\n      <td>0</td>\n      <td>0</td>\n      <td>0</td>\n      <td>0</td>\n      <td>0</td>\n      <td>0</td>\n    </tr>\n    <tr>\n      <th>2020-01-02</th>\n      <td>971</td>\n      <td>-2.2</td>\n      <td>0.0</td>\n      <td>0</td>\n      <td>634</td>\n      <td>1</td>\n      <td>1</td>\n      <td>0</td>\n      <td>0</td>\n      <td>0</td>\n      <td>0</td>\n      <td>0</td>\n      <td>0</td>\n      <td>0</td>\n      <td>0</td>\n      <td>0</td>\n      <td>0</td>\n      <td>0</td>\n    </tr>\n    <tr>\n      <th>2020-01-03</th>\n      <td>1017</td>\n      <td>1.1</td>\n      <td>0.0</td>\n      <td>0</td>\n      <td>971</td>\n      <td>1</td>\n      <td>1</td>\n      <td>0</td>\n      <td>0</td>\n      <td>0</td>\n      <td>0</td>\n      <td>0</td>\n      <td>0</td>\n      <td>0</td>\n      <td>0</td>\n      <td>0</td>\n      <td>0</td>\n      <td>0</td>\n    </tr>\n    <tr>\n      <th>2020-01-04</th>\n      <td>492</td>\n      <td>4.3</td>\n      <td>0.5</td>\n      <td>0</td>\n      <td>1017</td>\n      <td>1</td>\n      <td>1</td>\n      <td>0</td>\n      <td>0</td>\n      <td>0</td>\n      <td>0</td>\n      <td>0</td>\n      <td>0</td>\n      <td>0</td>\n      <td>0</td>\n      <td>0</td>\n      <td>0</td>\n      <td>0</td>\n    </tr>\n    <tr>\n      <th>2020-01-05</th>\n      <td>629</td>\n      <td>0.3</td>\n      <td>1.0</td>\n      <td>0</td>\n      <td>492</td>\n      <td>1</td>\n      <td>1</td>\n      <td>0</td>\n      <td>0</td>\n      <td>0</td>\n      <td>0</td>\n      <td>0</td>\n      <td>0</td>\n      <td>0</td>\n      <td>0</td>\n      <td>0</td>\n      <td>0</td>\n      <td>0</td>\n    </tr>\n    <tr>\n      <th>...</th>\n      <td>...</td>\n      <td>...</td>\n      <td>...</td>\n      <td>...</td>\n      <td>...</td>\n      <td>...</td>\n      <td>...</td>\n      <td>...</td>\n      <td>...</td>\n      <td>...</td>\n      <td>...</td>\n      <td>...</td>\n      <td>...</td>\n      <td>...</td>\n      <td>...</td>\n      <td>...</td>\n      <td>...</td>\n      <td>...</td>\n    </tr>\n    <tr>\n      <th>2022-06-03</th>\n      <td>11309</td>\n      <td>17.3</td>\n      <td>0.0</td>\n      <td>9026</td>\n      <td>11328</td>\n      <td>6</td>\n      <td>0</td>\n      <td>0</td>\n      <td>0</td>\n      <td>0</td>\n      <td>0</td>\n      <td>1</td>\n      <td>0</td>\n      <td>0</td>\n      <td>0</td>\n      <td>0</td>\n      <td>0</td>\n      <td>0</td>\n    </tr>\n    <tr>\n      <th>2022-06-04</th>\n      <td>11299</td>\n      <td>19.7</td>\n      <td>3.5</td>\n      <td>9109</td>\n      <td>11309</td>\n      <td>6</td>\n      <td>0</td>\n      <td>0</td>\n      <td>0</td>\n      <td>0</td>\n      <td>0</td>\n      <td>1</td>\n      <td>0</td>\n      <td>0</td>\n      <td>0</td>\n      <td>0</td>\n      <td>0</td>\n      <td>0</td>\n    </tr>\n    <tr>\n      <th>2022-06-05</th>\n      <td>11777</td>\n      <td>19.1</td>\n      <td>0.0</td>\n      <td>9838</td>\n      <td>11299</td>\n      <td>6</td>\n      <td>0</td>\n      <td>0</td>\n      <td>0</td>\n      <td>0</td>\n      <td>0</td>\n      <td>1</td>\n      <td>0</td>\n      <td>0</td>\n      <td>0</td>\n      <td>0</td>\n      <td>0</td>\n      <td>0</td>\n    </tr>\n    <tr>\n      <th>2022-06-06</th>\n      <td>8244</td>\n      <td>0.0</td>\n      <td>0.0</td>\n      <td>10130</td>\n      <td>11777</td>\n      <td>6</td>\n      <td>0</td>\n      <td>0</td>\n      <td>0</td>\n      <td>0</td>\n      <td>0</td>\n      <td>1</td>\n      <td>0</td>\n      <td>0</td>\n      <td>0</td>\n      <td>0</td>\n      <td>0</td>\n      <td>0</td>\n    </tr>\n    <tr>\n      <th>2022-06-07</th>\n      <td>11713</td>\n      <td>0.0</td>\n      <td>0.0</td>\n      <td>10671</td>\n      <td>8244</td>\n      <td>6</td>\n      <td>0</td>\n      <td>0</td>\n      <td>0</td>\n      <td>0</td>\n      <td>0</td>\n      <td>1</td>\n      <td>0</td>\n      <td>0</td>\n      <td>0</td>\n      <td>0</td>\n      <td>0</td>\n      <td>0</td>\n    </tr>\n  </tbody>\n</table>\n<p>831 rows × 18 columns</p>\n</div>"
     },
     "execution_count": 128,
     "metadata": {},
     "output_type": "execute_result"
    }
   ],
   "source": [
    "merged = pd.concat([merged,pd.get_dummies(merged['months'], prefix='months')],axis=1)\n",
    "merged"
   ],
   "metadata": {
    "collapsed": false,
    "pycharm": {
     "name": "#%%\n"
    }
   }
  },
  {
   "cell_type": "code",
   "execution_count": 131,
   "outputs": [],
   "source": [
    "X = merged.drop([\"ilosc_przejazdow\"], axis=1)\n",
    "Y = merged[\"ilosc_przejazdow\"]"
   ],
   "metadata": {
    "collapsed": false,
    "pycharm": {
     "name": "#%%\n"
    }
   }
  },
  {
   "cell_type": "code",
   "execution_count": 132,
   "outputs": [],
   "source": [
    "from sklearn.model_selection import train_test_split\n",
    "X_train, X_test, Y_train, Y_test = train_test_split(X, Y, test_size=0.2, random_state=42)"
   ],
   "metadata": {
    "collapsed": false,
    "pycharm": {
     "name": "#%%\n"
    }
   }
  },
  {
   "cell_type": "code",
   "execution_count": 136,
   "outputs": [
    {
     "data": {
      "text/plain": "            tavg  prcp  rolling_avg_7d  prev_value  months  months_1  \\\n2021-05-22  14.0   0.0            7875        7919       5         0   \n2021-01-11  -1.8   0.0             926         685       1         1   \n2021-05-07   7.6   0.0            4291        5326       5         0   \n2022-01-01  11.1   0.0            2787        2722       1         1   \n2020-11-28   2.6   0.8            2412        2170      11         0   \n...          ...   ...             ...         ...     ...       ...   \n2020-03-12  11.2   0.3            3251        3739       3         0   \n2020-05-16  10.7   0.0            2770        3227       5         0   \n2020-10-27   9.2   0.0            4763        5712      10         0   \n2021-04-10   8.1   0.0            2878        4190       4         0   \n2020-05-12   6.7  31.0            2223        1301       5         0   \n\n            months_2  months_3  months_4  months_5  months_6  months_7  \\\n2021-05-22         0         0         0         1         0         0   \n2021-01-11         0         0         0         0         0         0   \n2021-05-07         0         0         0         1         0         0   \n2022-01-01         0         0         0         0         0         0   \n2020-11-28         0         0         0         0         0         0   \n...              ...       ...       ...       ...       ...       ...   \n2020-03-12         0         1         0         0         0         0   \n2020-05-16         0         0         0         1         0         0   \n2020-10-27         0         0         0         0         0         0   \n2021-04-10         0         0         1         0         0         0   \n2020-05-12         0         0         0         1         0         0   \n\n            months_8  months_9  months_10  months_11  months_12  \n2021-05-22         0         0          0          0          0  \n2021-01-11         0         0          0          0          0  \n2021-05-07         0         0          0          0          0  \n2022-01-01         0         0          0          0          0  \n2020-11-28         0         0          0          1          0  \n...              ...       ...        ...        ...        ...  \n2020-03-12         0         0          0          0          0  \n2020-05-16         0         0          0          0          0  \n2020-10-27         0         0          1          0          0  \n2021-04-10         0         0          0          0          0  \n2020-05-12         0         0          0          0          0  \n\n[664 rows x 17 columns]",
      "text/html": "<div>\n<style scoped>\n    .dataframe tbody tr th:only-of-type {\n        vertical-align: middle;\n    }\n\n    .dataframe tbody tr th {\n        vertical-align: top;\n    }\n\n    .dataframe thead th {\n        text-align: right;\n    }\n</style>\n<table border=\"1\" class=\"dataframe\">\n  <thead>\n    <tr style=\"text-align: right;\">\n      <th></th>\n      <th>tavg</th>\n      <th>prcp</th>\n      <th>rolling_avg_7d</th>\n      <th>prev_value</th>\n      <th>months</th>\n      <th>months_1</th>\n      <th>months_2</th>\n      <th>months_3</th>\n      <th>months_4</th>\n      <th>months_5</th>\n      <th>months_6</th>\n      <th>months_7</th>\n      <th>months_8</th>\n      <th>months_9</th>\n      <th>months_10</th>\n      <th>months_11</th>\n      <th>months_12</th>\n    </tr>\n  </thead>\n  <tbody>\n    <tr>\n      <th>2021-05-22</th>\n      <td>14.0</td>\n      <td>0.0</td>\n      <td>7875</td>\n      <td>7919</td>\n      <td>5</td>\n      <td>0</td>\n      <td>0</td>\n      <td>0</td>\n      <td>0</td>\n      <td>1</td>\n      <td>0</td>\n      <td>0</td>\n      <td>0</td>\n      <td>0</td>\n      <td>0</td>\n      <td>0</td>\n      <td>0</td>\n    </tr>\n    <tr>\n      <th>2021-01-11</th>\n      <td>-1.8</td>\n      <td>0.0</td>\n      <td>926</td>\n      <td>685</td>\n      <td>1</td>\n      <td>1</td>\n      <td>0</td>\n      <td>0</td>\n      <td>0</td>\n      <td>0</td>\n      <td>0</td>\n      <td>0</td>\n      <td>0</td>\n      <td>0</td>\n      <td>0</td>\n      <td>0</td>\n      <td>0</td>\n    </tr>\n    <tr>\n      <th>2021-05-07</th>\n      <td>7.6</td>\n      <td>0.0</td>\n      <td>4291</td>\n      <td>5326</td>\n      <td>5</td>\n      <td>0</td>\n      <td>0</td>\n      <td>0</td>\n      <td>0</td>\n      <td>1</td>\n      <td>0</td>\n      <td>0</td>\n      <td>0</td>\n      <td>0</td>\n      <td>0</td>\n      <td>0</td>\n      <td>0</td>\n    </tr>\n    <tr>\n      <th>2022-01-01</th>\n      <td>11.1</td>\n      <td>0.0</td>\n      <td>2787</td>\n      <td>2722</td>\n      <td>1</td>\n      <td>1</td>\n      <td>0</td>\n      <td>0</td>\n      <td>0</td>\n      <td>0</td>\n      <td>0</td>\n      <td>0</td>\n      <td>0</td>\n      <td>0</td>\n      <td>0</td>\n      <td>0</td>\n      <td>0</td>\n    </tr>\n    <tr>\n      <th>2020-11-28</th>\n      <td>2.6</td>\n      <td>0.8</td>\n      <td>2412</td>\n      <td>2170</td>\n      <td>11</td>\n      <td>0</td>\n      <td>0</td>\n      <td>0</td>\n      <td>0</td>\n      <td>0</td>\n      <td>0</td>\n      <td>0</td>\n      <td>0</td>\n      <td>0</td>\n      <td>0</td>\n      <td>1</td>\n      <td>0</td>\n    </tr>\n    <tr>\n      <th>...</th>\n      <td>...</td>\n      <td>...</td>\n      <td>...</td>\n      <td>...</td>\n      <td>...</td>\n      <td>...</td>\n      <td>...</td>\n      <td>...</td>\n      <td>...</td>\n      <td>...</td>\n      <td>...</td>\n      <td>...</td>\n      <td>...</td>\n      <td>...</td>\n      <td>...</td>\n      <td>...</td>\n      <td>...</td>\n    </tr>\n    <tr>\n      <th>2020-03-12</th>\n      <td>11.2</td>\n      <td>0.3</td>\n      <td>3251</td>\n      <td>3739</td>\n      <td>3</td>\n      <td>0</td>\n      <td>0</td>\n      <td>1</td>\n      <td>0</td>\n      <td>0</td>\n      <td>0</td>\n      <td>0</td>\n      <td>0</td>\n      <td>0</td>\n      <td>0</td>\n      <td>0</td>\n      <td>0</td>\n    </tr>\n    <tr>\n      <th>2020-05-16</th>\n      <td>10.7</td>\n      <td>0.0</td>\n      <td>2770</td>\n      <td>3227</td>\n      <td>5</td>\n      <td>0</td>\n      <td>0</td>\n      <td>0</td>\n      <td>0</td>\n      <td>1</td>\n      <td>0</td>\n      <td>0</td>\n      <td>0</td>\n      <td>0</td>\n      <td>0</td>\n      <td>0</td>\n      <td>0</td>\n    </tr>\n    <tr>\n      <th>2020-10-27</th>\n      <td>9.2</td>\n      <td>0.0</td>\n      <td>4763</td>\n      <td>5712</td>\n      <td>10</td>\n      <td>0</td>\n      <td>0</td>\n      <td>0</td>\n      <td>0</td>\n      <td>0</td>\n      <td>0</td>\n      <td>0</td>\n      <td>0</td>\n      <td>0</td>\n      <td>1</td>\n      <td>0</td>\n      <td>0</td>\n    </tr>\n    <tr>\n      <th>2021-04-10</th>\n      <td>8.1</td>\n      <td>0.0</td>\n      <td>2878</td>\n      <td>4190</td>\n      <td>4</td>\n      <td>0</td>\n      <td>0</td>\n      <td>0</td>\n      <td>1</td>\n      <td>0</td>\n      <td>0</td>\n      <td>0</td>\n      <td>0</td>\n      <td>0</td>\n      <td>0</td>\n      <td>0</td>\n      <td>0</td>\n    </tr>\n    <tr>\n      <th>2020-05-12</th>\n      <td>6.7</td>\n      <td>31.0</td>\n      <td>2223</td>\n      <td>1301</td>\n      <td>5</td>\n      <td>0</td>\n      <td>0</td>\n      <td>0</td>\n      <td>0</td>\n      <td>1</td>\n      <td>0</td>\n      <td>0</td>\n      <td>0</td>\n      <td>0</td>\n      <td>0</td>\n      <td>0</td>\n      <td>0</td>\n    </tr>\n  </tbody>\n</table>\n<p>664 rows × 17 columns</p>\n</div>"
     },
     "execution_count": 136,
     "metadata": {},
     "output_type": "execute_result"
    }
   ],
   "source": [
    "# X_train = X_train.reshape(-1, 1)\n",
    "# X_test = X_test.reshape(-1, 1)\n",
    "# Y_train.ravel()\n",
    "X_train"
   ],
   "metadata": {
    "collapsed": false,
    "pycharm": {
     "name": "#%%\n"
    }
   }
  },
  {
   "cell_type": "code",
   "execution_count": 138,
   "outputs": [
    {
     "data": {
      "text/plain": "array([ 1.05281364e+02,  3.47778963e+05,  5.96020177e-01,  2.74701786e-01,\n        3.37118489e+05,  3.37050432e+05,  3.37235073e+05,  3.36851603e+05,\n        3.36780703e+05,  3.36461434e+05,  3.36168854e+05,  3.35957456e+05,\n        3.36575428e+05,  3.36637553e+05,  3.36854657e+05,  3.36972606e+05,\n       -6.84917365e+05])"
     },
     "execution_count": 138,
     "metadata": {},
     "output_type": "execute_result"
    }
   ],
   "source": [
    "from scipy.optimize import curve_fit\n",
    "\n",
    "def func(x, a, b, c, d, e, f, g, h, i, j, k, l, m, n, o, p, q):\n",
    "    return a*x[\"tavg\"] + b+x[\"prcp\"] + c*x[\"rolling_avg_7d\"] + d*x[\"prev_value\"] + e*x[\"months_1\"] + f*x[\"months_2\"] + g*x[\"months_3\"] + h*x[\"months_4\"] + i*x[\"months_5\"] + j*x[\"months_6\"] + k*x[\"months_7\"] + l*x[\"months_8\"]+ m*x[\"months_9\"] + n*x[\"months_10\"] + o*x[\"months_11\"] + p*x[\"months_12\"] + q\n",
    "\n",
    "params, _ = curve_fit(func, xdata=X_train, ydata=Y_train)\n",
    "params"
   ],
   "metadata": {
    "collapsed": false,
    "pycharm": {
     "name": "#%%\n"
    }
   }
  },
  {
   "cell_type": "code",
   "execution_count": 140,
   "outputs": [],
   "source": [
    "class CustomModelWrapper:\n",
    "    def __init__(self, pred_fun, params):\n",
    "        self.pred_fun = pred_fun\n",
    "        self.params = params\n",
    "\n",
    "    def predict(self, x):\n",
    "        return self.pred_fun(x.ravel(), *params)"
   ],
   "metadata": {
    "collapsed": false,
    "pycharm": {
     "name": "#%%\n"
    }
   }
  },
  {
   "cell_type": "code",
   "execution_count": 141,
   "outputs": [],
   "source": [
    "model_custom = CustomModelWrapper(func, params)"
   ],
   "metadata": {
    "collapsed": false,
    "pycharm": {
     "name": "#%%\n"
    }
   }
  },
  {
   "cell_type": "code",
   "execution_count": 146,
   "outputs": [
    {
     "ename": "TypeError",
     "evalue": "must be real number, not datetime.timedelta",
     "output_type": "error",
     "traceback": [
      "\u001B[1;31m---------------------------------------------------------------------------\u001B[0m",
      "\u001B[1;31mTypeError\u001B[0m                                 Traceback (most recent call last)",
      "Input \u001B[1;32mIn [146]\u001B[0m, in \u001B[0;36m<cell line: 1>\u001B[1;34m()\u001B[0m\n\u001B[1;32m----> 1\u001B[0m X_axis \u001B[38;5;241m=\u001B[39m np\u001B[38;5;241m.\u001B[39mlinspace(start\u001B[38;5;241m=\u001B[39mX\u001B[38;5;241m.\u001B[39mindex\u001B[38;5;241m.\u001B[39mmin(), stop\u001B[38;5;241m=\u001B[39mX\u001B[38;5;241m.\u001B[39mindex\u001B[38;5;241m.\u001B[39mmax(), num\u001B[38;5;241m=\u001B[39m\u001B[43mnp\u001B[49m\u001B[38;5;241;43m.\u001B[39;49m\u001B[43mfloor\u001B[49m\u001B[43m(\u001B[49m\u001B[43mX\u001B[49m\u001B[38;5;241;43m.\u001B[39;49m\u001B[43mindex\u001B[49m\u001B[38;5;241;43m.\u001B[39;49m\u001B[43mmax\u001B[49m\u001B[43m(\u001B[49m\u001B[43m)\u001B[49m\u001B[38;5;241;43m-\u001B[39;49m\u001B[43mX\u001B[49m\u001B[38;5;241;43m.\u001B[39;49m\u001B[43mindex\u001B[49m\u001B[38;5;241;43m.\u001B[39;49m\u001B[43mmin\u001B[49m\u001B[43m(\u001B[49m\u001B[43m)\u001B[49m\u001B[43m)\u001B[49m\u001B[38;5;241m.\u001B[39mastype(np\u001B[38;5;241m.\u001B[39mdatetime_data()))\n\u001B[0;32m      2\u001B[0m \u001B[38;5;66;03m# print(np.floor(X.max()-X.min()).astype(np.uint32))\u001B[39;00m\n\u001B[0;32m      3\u001B[0m X_axis\n",
      "\u001B[1;31mTypeError\u001B[0m: must be real number, not datetime.timedelta"
     ]
    }
   ],
   "source": [
    "X_axis = np.linspace(start=X.index.min(), stop=X.index.max(), num=np.floor(X.index.max()-X.index.min()).astype(np.datetime_data()))\n",
    "# print(np.floor(X.max()-X.min()).astype(np.uint32))\n",
    "X_axis"
   ],
   "metadata": {
    "collapsed": false,
    "pycharm": {
     "name": "#%%\n"
    }
   }
  },
  {
   "cell_type": "code",
   "execution_count": 144,
   "outputs": [
    {
     "data": {
      "text/plain": "<AxesSubplot:ylabel='ilosc_przejazdow'>"
     },
     "execution_count": 144,
     "metadata": {},
     "output_type": "execute_result"
    },
    {
     "data": {
      "text/plain": "<Figure size 864x576 with 1 Axes>",
      "image/png": "[encoded data removed]"
     },
     "metadata": {
      "needs_background": "light"
     },
     "output_type": "display_data"
    }
   ],
   "source": [
    "import seaborn as sns\n",
    "import matplotlib.pyplot as plt\n",
    "\n",
    "fig = plt.gcf()\n",
    "\n",
    "# Change seaborn plot size\n",
    "fig.set_size_inches(12, 8)\n",
    "sns.scatterplot(x=X_train.index, y=Y_train)\n",
    "# sns.lineplot(x=X_axis, y=model_custom.predict(X_axis_reshaped), color=\"orange\")"
   ],
   "metadata": {
    "collapsed": false,
    "pycharm": {
     "name": "#%%\n"
    }
   }
  },
  {
   "cell_type": "code",
   "execution_count": 118,
   "outputs": [
    {
     "data": {
      "application/vnd.plotly.v1+json": {
       "data": [
        {
         "marker": {
          "color": "blue",
          "size": 3
         },
         "mode": "markers",
         "x": [
          "2020-01-01",
          "2020-01-02",
          "2020-01-03",
          "2020-01-04",
          "2020-01-05",
          "2020-01-06",
          "2020-01-07",
          "2020-01-08",
          "2020-01-09",
          "2020-01-10",
          "2020-01-11",
          "2020-01-12",
          "2020-01-13",
          "2020-01-14",
          "2020-01-15",
          "2020-01-16",
          "2020-01-17",
          "2020-01-18",
          "2020-01-19",
          "2020-01-20",
          "2020-01-21",
          "2020-01-22",
          "2020-01-23",
          "2020-01-24",
          "2020-01-25",
          "2020-01-26",
          "2020-01-27",
          "2020-01-28",
          "2020-01-29",
          "2020-01-30",
          "2020-01-31",
          "2020-02-01",
          "2020-02-02",
          "2020-02-03",
          "2020-02-04",
          "2020-02-05",
          "2020-02-06",
          "2020-02-07",
          "2020-02-08",
          "2020-02-09",
          "2020-02-10",
          "2020-02-11",
          "2020-02-12",
          "2020-02-13",
          "2020-02-14",
          "2020-02-15",
          "2020-02-16",
          "2020-02-17",
          "2020-02-18",
          "2020-02-19",
          "2020-02-20",
          "2020-02-21",
          "2020-02-22",
          "2020-02-23",
          "2020-02-24",
          "2020-02-25",
          "2020-02-26",
          "2020-02-27",
          "2020-02-28",
          "2020-02-29",
          "2020-03-01",
          "2020-03-02",
          "2020-03-03",
          "2020-03-04",
          "2020-03-05",
          "2020-03-06",
          "2020-03-07",
          "2020-03-08",
          "2020-03-09",
          "2020-03-10",
          "2020-03-11",
          "2020-03-12",
          "2020-03-13",
          "2020-03-14",
          "2020-03-15",
          "2020-03-16",
          "2020-03-17",
          "2020-03-18",
          "2020-03-19",
          "2020-03-20",
          "2020-03-21",
          "2020-03-22",
          "2020-03-23",
          "2020-03-24",
          "2020-03-25",
          "2020-03-26",
          "2020-03-27",
          "2020-03-28",
          "2020-03-29",
          "2020-03-30",
          "2020-03-31",
          "2020-04-01",
          "2020-04-04",
          "2020-04-05",
          "2020-04-06",
          "2020-04-10",
          "2020-05-06",
          "2020-05-07",
          "2020-05-08",
          "2020-05-09",
          "2020-05-10",
          "2020-05-11",
          "2020-05-12",
          "2020-05-13",
          "2020-05-14",
          "2020-05-15",
          "2020-05-16",
          "2020-05-17",
          "2020-05-18",
          "2020-05-19",
          "2020-05-20",
          "2020-05-21",
          "2020-05-22",
          "2020-05-23",
          "2020-05-24",
          "2020-05-25",
          "2020-05-26",
          "2020-05-27",
          "2020-05-28",
          "2020-05-29",
          "2020-05-30",
          "2020-05-31",
          "2020-06-01",
          "2020-06-02",
          "2020-06-03",
          "2020-06-04",
          "2020-06-05",
          "2020-06-06",
          "2020-06-07",
          "2020-06-08",
          "2020-06-09",
          "2020-06-10",
          "2020-06-11",
          "2020-06-12",
          "2020-06-13",
          "2020-06-14",
          "2020-06-15",
          "2020-06-16",
          "2020-06-17",
          "2020-06-18",
          "2020-06-19",
          "2020-06-20",
          "2020-06-21",
          "2020-06-22",
          "2020-06-23",
          "2020-06-24",
          "2020-06-25",
          "2020-06-26",
          "2020-06-27",
          "2020-06-28",
          "2020-06-29",
          "2020-06-30",
          "2020-07-01",
          "2020-07-02",
          "2020-07-03",
          "2020-07-04",
          "2020-07-05",
          "2020-07-06",
          "2020-07-07",
          "2020-07-08",
          "2020-07-09",
          "2020-07-10",
          "2020-07-11",
          "2020-07-12",
          "2020-07-13",
          "2020-07-14",
          "2020-07-15",
          "2020-07-16",
          "2020-07-17",
          "2020-07-18",
          "2020-07-19",
          "2020-07-20",
          "2020-07-21",
          "2020-07-22",
          "2020-07-23",
          "2020-07-24",
          "2020-07-25",
          "2020-07-26",
          "2020-07-27",
          "2020-07-28",
          "2020-07-29",
          "2020-07-30",
          "2020-07-31",
          "2020-08-01",
          "2020-08-02",
          "2020-08-03",
          "2020-08-04",
          "2020-08-05",
          "2020-08-06",
          "2020-08-07",
          "2020-08-08",
          "2020-08-09",
          "2020-08-10",
          "2020-08-11",
          "2020-08-12",
          "2020-08-13",
          "2020-08-14",
          "2020-08-15",
          "2020-08-16",
          "2020-08-17",
          "2020-08-18",
          "2020-08-19",
          "2020-08-20",
          "2020-08-21",
          "2020-08-22",
          "2020-08-23",
          "2020-08-24",
          "2020-08-25",
          "2020-08-26",
          "2020-08-27",
          "2020-08-28",
          "2020-08-29",
          "2020-08-30",
          "2020-08-31",
          "2020-09-01",
          "2020-09-02",
          "2020-09-03",
          "2020-09-04",
          "2020-09-05",
          "2020-09-06",
          "2020-09-07",
          "2020-09-08",
          "2020-09-09",
          "2020-09-10",
          "2020-09-11",
          "2020-09-12",
          "2020-09-13",
          "2020-09-14",
          "2020-09-15",
          "2020-09-16",
          "2020-09-17",
          "2020-09-18",
          "2020-09-19",
          "2020-09-20",
          "2020-09-21",
          "2020-09-22",
          "2020-09-23",
          "2020-09-24",
          "2020-09-25",
          "2020-09-26",
          "2020-09-27",
          "2020-09-28",
          "2020-09-29",
          "2020-09-30",
          "2020-10-01",
          "2020-10-02",
          "2020-10-03",
          "2020-10-04",
          "2020-10-05",
          "2020-10-06",
          "2020-10-07",
          "2020-10-08",
          "2020-10-09",
          "2020-10-10",
          "2020-10-11",
          "2020-10-12",
          "2020-10-13",
          "2020-10-14",
          "2020-10-15",
          "2020-10-16",
          "2020-10-17",
          "2020-10-18",
          "2020-10-19",
          "2020-10-20",
          "2020-10-21",
          "2020-10-22",
          "2020-10-23",
          "2020-10-24",
          "2020-10-25",
          "2020-10-26",
          "2020-10-27",
          "2020-10-28",
          "2020-10-29",
          "2020-10-30",
          "2020-10-31",
          "2020-11-01",
          "2020-11-02",
          "2020-11-03",
          "2020-11-04",
          "2020-11-05",
          "2020-11-06",
          "2020-11-07",
          "2020-11-08",
          "2020-11-09",
          "2020-11-10",
          "2020-11-11",
          "2020-11-12",
          "2020-11-13",
          "2020-11-14",
          "2020-11-15",
          "2020-11-16",
          "2020-11-17",
          "2020-11-18",
          "2020-11-19",
          "2020-11-20",
          "2020-11-21",
          "2020-11-22",
          "2020-11-23",
          "2020-11-24",
          "2020-11-25",
          "2020-11-26",
          "2020-11-27",
          "2020-11-28",
          "2020-11-29",
          "2020-11-30",
          "2020-12-01",
          "2020-12-02",
          "2020-12-03",
          "2020-12-04",
          "2020-12-05",
          "2020-12-06",
          "2020-12-07",
          "2020-12-08",
          "2020-12-09",
          "2020-12-10",
          "2020-12-11",
          "2020-12-12",
          "2020-12-13",
          "2020-12-14",
          "2020-12-15",
          "2020-12-16",
          "2020-12-17",
          "2020-12-18",
          "2020-12-19",
          "2020-12-20",
          "2020-12-21",
          "2020-12-22",
          "2020-12-23",
          "2020-12-24",
          "2020-12-25",
          "2020-12-26",
          "2020-12-27",
          "2020-12-28",
          "2020-12-29",
          "2020-12-30",
          "2020-12-31",
          "2021-01-01",
          "2021-01-02",
          "2021-01-03",
          "2021-01-04",
          "2021-01-05",
          "2021-01-06",
          "2021-01-07",
          "2021-01-08",
          "2021-01-09",
          "2021-01-10",
          "2021-01-11",
          "2021-01-12",
          "2021-01-13",
          "2021-01-14",
          "2021-01-15",
          "2021-01-16",
          "2021-01-17",
          "2021-01-18",
          "2021-01-19",
          "2021-01-20",
          "2021-01-21",
          "2021-01-22",
          "2021-01-23",
          "2021-01-24",
          "2021-01-25",
          "2021-01-26",
          "2021-01-27",
          "2021-01-28",
          "2021-01-29",
          "2021-01-30",
          "2021-01-31",
          "2021-02-01",
          "2021-02-02",
          "2021-02-03",
          "2021-02-04",
          "2021-02-05",
          "2021-02-06",
          "2021-02-07",
          "2021-02-08",
          "2021-02-09",
          "2021-02-10",
          "2021-02-11",
          "2021-02-12",
          "2021-02-13",
          "2021-02-14",
          "2021-02-15",
          "2021-02-16",
          "2021-02-17",
          "2021-02-18",
          "2021-02-19",
          "2021-02-20",
          "2021-02-21",
          "2021-02-22",
          "2021-02-23",
          "2021-02-24",
          "2021-02-25",
          "2021-02-26",
          "2021-02-27",
          "2021-02-28",
          "2021-03-01",
          "2021-03-02",
          "2021-03-03",
          "2021-03-04",
          "2021-03-05",
          "2021-03-06",
          "2021-03-07",
          "2021-03-08",
          "2021-03-09",
          "2021-03-10",
          "2021-03-11",
          "2021-03-12",
          "2021-03-13",
          "2021-03-14",
          "2021-03-15",
          "2021-03-16",
          "2021-03-17",
          "2021-03-18",
          "2021-03-19",
          "2021-03-20",
          "2021-03-21",
          "2021-03-22",
          "2021-03-23",
          "2021-03-24",
          "2021-03-25",
          "2021-03-26",
          "2021-03-27",
          "2021-03-28",
          "2021-03-29",
          "2021-03-30",
          "2021-03-31",
          "2021-04-01",
          "2021-04-02",
          "2021-04-03",
          "2021-04-04",
          "2021-04-05",
          "2021-04-06",
          "2021-04-07",
          "2021-04-08",
          "2021-04-09",
          "2021-04-10",
          "2021-04-11",
          "2021-04-12",
          "2021-04-13",
          "2021-04-14",
          "2021-04-15",
          "2021-04-16",
          "2021-04-17",
          "2021-04-18",
          "2021-04-19",
          "2021-04-20",
          "2021-04-21",
          "2021-04-22",
          "2021-04-23",
          "2021-04-24",
          "2021-04-25",
          "2021-04-26",
          "2021-04-27",
          "2021-04-28",
          "2021-04-29",
          "2021-04-30",
          "2021-05-01",
          "2021-05-02",
          "2021-05-03",
          "2021-05-04",
          "2021-05-05",
          "2021-05-06",
          "2021-05-07",
          "2021-05-08",
          "2021-05-09",
          "2021-05-10",
          "2021-05-11",
          "2021-05-12",
          "2021-05-13",
          "2021-05-14",
          "2021-05-15",
          "2021-05-16",
          "2021-05-17",
          "2021-05-18",
          "2021-05-19",
          "2021-05-20",
          "2021-05-21",
          "2021-05-22",
          "2021-05-23",
          "2021-05-24",
          "2021-05-25",
          "2021-05-26",
          "2021-05-27",
          "2021-05-28",
          "2021-05-29",
          "2021-05-30",
          "2021-05-31",
          "2021-06-01",
          "2021-06-02",
          "2021-06-03",
          "2021-06-04",
          "2021-06-05",
          "2021-06-06",
          "2021-06-07",
          "2021-06-08",
          "2021-06-09",
          "2021-06-10",
          "2021-06-11",
          "2021-06-12",
          "2021-06-13",
          "2021-06-14",
          "2021-06-15",
          "2021-06-16",
          "2021-06-17",
          "2021-06-18",
          "2021-06-19",
          "2021-06-20",
          "2021-06-21",
          "2021-06-22",
          "2021-06-23",
          "2021-06-24",
          "2021-06-25",
          "2021-06-26",
          "2021-06-27",
          "2021-06-28",
          "2021-06-29",
          "2021-06-30",
          "2021-07-01",
          "2021-07-02",
          "2021-07-03",
          "2021-07-04",
          "2021-07-05",
          "2021-07-06",
          "2021-07-07",
          "2021-07-08",
          "2021-07-09",
          "2021-07-10",
          "2021-07-11",
          "2021-07-12",
          "2021-07-13",
          "2021-07-14",
          "2021-07-15",
          "2021-07-16",
          "2021-07-17",
          "2021-07-18",
          "2021-07-19",
          "2021-07-20",
          "2021-07-21",
          "2021-07-22",
          "2021-07-23",
          "2021-07-24",
          "2021-07-25",
          "2021-07-26",
          "2021-07-27",
          "2021-07-28",
          "2021-07-29",
          "2021-07-30",
          "2021-07-31",
          "2021-08-01",
          "2021-08-02",
          "2021-08-03",
          "2021-08-04",
          "2021-08-05",
          "2021-08-06",
          "2021-08-07",
          "2021-08-08",
          "2021-08-09",
          "2021-08-10",
          "2021-08-11",
          "2021-08-12",
          "2021-08-13",
          "2021-08-14",
          "2021-08-15",
          "2021-08-16",
          "2021-08-17",
          "2021-08-18",
          "2021-08-19",
          "2021-08-20",
          "2021-08-21",
          "2021-08-22",
          "2021-08-23",
          "2021-08-24",
          "2021-08-25",
          "2021-08-26",
          "2021-08-27",
          "2021-08-28",
          "2021-08-29",
          "2021-08-30",
          "2021-08-31",
          "2021-09-01",
          "2021-09-02",
          "2021-09-03",
          "2021-09-04",
          "2021-09-05",
          "2021-09-06",
          "2021-09-07",
          "2021-09-08",
          "2021-09-09",
          "2021-09-10",
          "2021-09-11",
          "2021-09-12",
          "2021-09-13",
          "2021-09-14",
          "2021-09-15",
          "2021-09-16",
          "2021-09-17",
          "2021-09-18",
          "2021-09-19",
          "2021-09-20",
          "2021-09-21",
          "2021-09-22",
          "2021-09-23",
          "2021-09-24",
          "2021-09-25",
          "2021-09-26",
          "2021-09-27",
          "2021-09-28",
          "2021-09-29",
          "2021-09-30",
          "2021-10-01",
          "2021-10-02",
          "2021-10-03",
          "2021-10-04",
          "2021-10-05",
          "2021-10-06",
          "2021-10-07",
          "2021-10-08",
          "2021-10-09",
          "2021-10-10",
          "2021-10-11",
          "2021-10-12",
          "2021-10-13",
          "2021-10-14",
          "2021-10-15",
          "2021-10-16",
          "2021-10-17",
          "2021-10-18",
          "2021-10-19",
          "2021-10-20",
          "2021-10-21",
          "2021-10-22",
          "2021-10-23",
          "2021-10-24",
          "2021-10-25",
          "2021-10-26",
          "2021-10-27",
          "2021-10-28",
          "2021-10-29",
          "2021-10-30",
          "2021-10-31",
          "2021-11-01",
          "2021-11-02",
          "2021-11-03",
          "2021-11-04",
          "2021-11-05",
          "2021-11-06",
          "2021-11-07",
          "2021-11-08",
          "2021-11-09",
          "2021-11-10",
          "2021-11-11",
          "2021-11-12",
          "2021-11-13",
          "2021-11-14",
          "2021-11-15",
          "2021-11-16",
          "2021-11-17",
          "2021-11-18",
          "2021-11-19",
          "2021-11-20",
          "2021-11-21",
          "2021-11-22",
          "2021-11-23",
          "2021-11-24",
          "2021-11-25",
          "2021-11-26",
          "2021-11-27",
          "2021-11-28",
          "2021-11-29",
          "2021-11-30",
          "2022-01-01",
          "2022-01-02",
          "2022-01-03",
          "2022-01-04",
          "2022-01-04",
          "2022-01-04",
          "2022-01-05",
          "2022-01-06",
          "2022-01-07",
          "2022-01-08",
          "2022-01-09",
          "2022-01-10",
          "2022-01-11",
          "2022-01-12",
          "2022-01-13",
          "2022-01-14",
          "2022-01-15",
          "2022-01-16",
          "2022-01-17",
          "2022-01-18",
          "2022-01-19",
          "2022-01-20",
          "2022-01-21",
          "2022-01-22",
          "2022-01-23",
          "2022-01-24",
          "2022-01-25",
          "2022-01-26",
          "2022-01-27",
          "2022-01-28",
          "2022-01-29",
          "2022-01-30",
          "2022-01-31",
          "2022-02-01",
          "2022-02-01",
          "2022-02-02",
          "2022-02-03",
          "2022-02-04",
          "2022-02-05",
          "2022-02-06",
          "2022-02-07",
          "2022-02-08",
          "2022-02-09",
          "2022-02-10",
          "2022-02-11",
          "2022-02-12",
          "2022-02-13",
          "2022-02-14",
          "2022-02-15",
          "2022-02-16",
          "2022-02-17",
          "2022-02-18",
          "2022-02-19",
          "2022-02-20",
          "2022-02-21",
          "2022-02-22",
          "2022-02-23",
          "2022-02-24",
          "2022-02-25",
          "2022-02-26",
          "2022-02-27",
          "2022-02-28",
          "2022-03-01",
          "2022-03-02",
          "2022-03-03",
          "2022-03-04",
          "2022-03-05",
          "2022-03-06",
          "2022-03-07",
          "2022-03-08",
          "2022-03-09",
          "2022-03-10",
          "2022-03-11",
          "2022-03-12",
          "2022-03-13",
          "2022-03-14",
          "2022-03-15",
          "2022-03-16",
          "2022-03-17",
          "2022-03-18",
          "2022-03-19",
          "2022-03-20",
          "2022-03-21",
          "2022-03-22",
          "2022-03-23",
          "2022-03-24",
          "2022-03-25",
          "2022-03-26",
          "2022-03-27",
          "2022-03-28",
          "2022-03-29",
          "2022-03-30",
          "2022-03-31",
          "2022-04-01",
          "2022-04-02",
          "2022-04-03",
          "2022-04-04",
          "2022-04-05",
          "2022-04-06",
          "2022-04-07",
          "2022-04-08",
          "2022-04-09",
          "2022-04-10",
          "2022-04-11",
          "2022-04-12",
          "2022-04-13",
          "2022-04-14",
          "2022-04-15",
          "2022-04-16",
          "2022-04-17",
          "2022-04-18",
          "2022-04-19",
          "2022-04-20",
          "2022-04-21",
          "2022-04-22",
          "2022-04-23",
          "2022-04-24",
          "2022-04-25",
          "2022-04-26",
          "2022-04-27",
          "2022-04-28",
          "2022-04-29",
          "2022-04-30",
          "2022-05-01",
          "2022-05-02",
          "2022-05-03",
          "2022-05-04",
          "2022-05-05",
          "2022-05-06",
          "2022-05-07",
          "2022-05-08",
          "2022-05-09",
          "2022-05-10",
          "2022-05-11",
          "2022-05-12",
          "2022-05-13",
          "2022-05-14",
          "2022-05-15",
          "2022-05-16",
          "2022-05-17",
          "2022-05-18",
          "2022-05-19",
          "2022-05-20",
          "2022-05-21",
          "2022-05-22",
          "2022-05-23",
          "2022-05-24",
          "2022-05-25",
          "2022-05-26",
          "2022-05-27",
          "2022-05-28",
          "2022-05-29",
          "2022-05-30",
          "2022-05-31",
          "2022-06-01",
          "2022-06-02",
          "2022-06-03",
          "2022-06-04",
          "2022-06-05",
          "2022-06-06"
         ],
         "y": [
          634,
          971,
          1017,
          492,
          629,
          570,
          1252,
          1312,
          1410,
          1788,
          998,
          1114,
          1659,
          1762,
          1793,
          1968,
          1556,
          961,
          1032,
          1755,
          1609,
          1305,
          1460,
          1410,
          891,
          803,
          1686,
          1459,
          1631,
          1168,
          1831,
          1477,
          952,
          1347,
          989,
          1433,
          1410,
          1321,
          1138,
          1254,
          985,
          1103,
          1172,
          1586,
          1308,
          1152,
          1124,
          1827,
          1786,
          1306,
          1771,
          1237,
          1396,
          366,
          1598,
          1579,
          1565,
          1707,
          1491,
          1230,
          2454,
          2973,
          2074,
          3585,
          3928,
          3295,
          1494,
          3147,
          3927,
          3988,
          3739,
          3170,
          2359,
          1830,
          1836,
          2426,
          3344,
          4123,
          3270,
          1859,
          1589,
          1067,
          1655,
          1704,
          1613,
          1717,
          2551,
          3657,
          740,
          1550,
          869,
          150,
          1,
          1,
          1,
          6,
          879,
          1229,
          2494,
          4312,
          3330,
          1301,
          2019,
          2398,
          2535,
          3227,
          4580,
          5534,
          4668,
          4209,
          5198,
          4958,
          5245,
          1093,
          2800,
          2297,
          3809,
          5422,
          2887,
          4625,
          5531,
          4405,
          6729,
          4073,
          6613,
          4909,
          2777,
          4676,
          2829,
          4136,
          6246,
          5893,
          7479,
          7114,
          7056,
          7715,
          7102,
          7932,
          8471,
          5664,
          2005,
          2128,
          3403,
          6989,
          6629,
          1560,
          7345,
          5408,
          8004,
          6090,
          4186,
          8250,
          9069,
          7349,
          8406,
          9419,
          9067,
          7949,
          8255,
          4758,
          7692,
          7725,
          6435,
          8065,
          7692,
          9359,
          8114,
          6056,
          6975,
          8522,
          9177,
          6104,
          9054,
          9352,
          8582,
          8013,
          9095,
          6772,
          8418,
          8291,
          9081,
          8932,
          9011,
          9001,
          8748,
          2000,
          2553,
          8670,
          8855,
          8954,
          8427,
          7788,
          8121,
          8828,
          9314,
          9010,
          8311,
          8161,
          8539,
          8834,
          8600,
          6800,
          9179,
          8925,
          6461,
          8382,
          8368,
          9102,
          7081,
          7009,
          8704,
          6718,
          3204,
          5947,
          1899,
          7521,
          7759,
          7504,
          5445,
          7098,
          7316,
          8142,
          9305,
          7859,
          8363,
          8537,
          8366,
          8403,
          8915,
          8956,
          7626,
          7539,
          7547,
          7458,
          7959,
          8615,
          8948,
          8827,
          3654,
          2749,
          4020,
          3235,
          4305,
          6191,
          4377,
          5959,
          8213,
          5130,
          4509,
          6484,
          6238,
          6442,
          5660,
          3370,
          4227,
          3648,
          2091,
          2385,
          4095,
          3230,
          1825,
          2396,
          3443,
          4011,
          4270,
          5083,
          4739,
          4734,
          4961,
          5712,
          3842,
          7086,
          3586,
          2040,
          2960,
          2307,
          3498,
          4026,
          3423,
          3763,
          3858,
          3077,
          3587,
          2384,
          2671,
          2450,
          2792,
          3388,
          3081,
          3632,
          2944,
          3461,
          3564,
          3087,
          3009,
          2456,
          1795,
          2551,
          3087,
          2457,
          2458,
          2170,
          2368,
          1084,
          2248,
          1750,
          1470,
          934,
          1756,
          1883,
          1767,
          1814,
          1600,
          1528,
          1305,
          1493,
          1294,
          1290,
          1390,
          1494,
          1489,
          1549,
          1693,
          1451,
          1128,
          1318,
          1096,
          1125,
          595,
          327,
          503,
          638,
          1086,
          1267,
          1264,
          947,
          622,
          803,
          547,
          1158,
          713,
          676,
          989,
          1157,
          1013,
          685,
          1251,
          1036,
          947,
          794,
          836,
          581,
          409,
          622,
          787,
          1115,
          1219,
          1747,
          1228,
          877,
          1197,
          1129,
          1339,
          1014,
          1329,
          498,
          516,
          737,
          894,
          1085,
          1033,
          1298,
          925,
          298,
          369,
          375,
          347,
          370,
          375,
          426,
          380,
          532,
          400,
          497,
          859,
          1182,
          1494,
          1951,
          1781,
          2153,
          2962,
          3035,
          1897,
          1940,
          3275,
          2500,
          3591,
          4169,
          3067,
          2423,
          2871,
          1491,
          2538,
          2722,
          3158,
          1891,
          2716,
          2741,
          1767,
          2557,
          1561,
          2525,
          2705,
          1687,
          1683,
          646,
          2641,
          2541,
          3028,
          4207,
          5195,
          2869,
          4167,
          3308,
          7704,
          8052,
          4580,
          3630,
          1565,
          2541,
          1420,
          2508,
          1828,
          2453,
          4190,
          5212,
          7942,
          2242,
          3403,
          3222,
          1300,
          1859,
          2580,
          3797,
          3732,
          4864,
          7428,
          4686,
          4082,
          6151,
          5044,
          4909,
          5987,
          7299,
          6166,
          6765,
          4985,
          1331,
          3765,
          5805,
          4945,
          5326,
          3883,
          6855,
          10605,
          9936,
          11279,
          8184,
          7126,
          6919,
          8608,
          9226,
          7113,
          7618,
          7901,
          7972,
          7919,
          7376,
          8093,
          8171,
          6882,
          7296,
          7558,
          6563,
          5662,
          6786,
          8783,
          9652,
          10412,
          11397,
          9305,
          11144,
          11180,
          10954,
          11584,
          11442,
          10028,
          11439,
          6880,
          6639,
          10754,
          10993,
          11352,
          11542,
          11133,
          10419,
          9829,
          8572,
          9476,
          10841,
          9791,
          7693,
          9599,
          10848,
          10966,
          11068,
          9967,
          8948,
          8437,
          10807,
          10564,
          10819,
          11514,
          11050,
          9151,
          6630,
          10313,
          8611,
          8692,
          11325,
          8226,
          11715,
          10763,
          10703,
          10262,
          10055,
          10114,
          10011,
          9883,
          10403,
          10178,
          8693,
          9797,
          10747,
          8348,
          10791,
          10476,
          10403,
          4638,
          8880,
          7667,
          8851,
          4309,
          8532,
          9877,
          9148,
          10364,
          9810,
          10666,
          10406,
          9834,
          9817,
          9183,
          8170,
          8056,
          8978,
          8986,
          7213,
          9597,
          7150,
          6373,
          6903,
          9302,
          5897,
          7361,
          7437,
          7197,
          6792,
          2660,
          8122,
          8980,
          9399,
          9068,
          8861,
          8692,
          8514,
          9644,
          10101,
          9605,
          8664,
          6883,
          8648,
          9345,
          9597,
          7720,
          6940,
          4250,
          4741,
          6445,
          4561,
          5259,
          7357,
          6822,
          7315,
          8324,
          8583,
          7803,
          7054,
          7878,
          7787,
          8889,
          8628,
          9765,
          10619,
          6492,
          8374,
          8393,
          6388,
          5646,
          6838,
          4981,
          6373,
          5996,
          6662,
          5460,
          4616,
          6691,
          8183,
          9271,
          8098,
          6565,
          4266,
          4308,
          6948,
          7216,
          7635,
          7381,
          7353,
          5903,
          4857,
          4864,
          4518,
          7044,
          5470,
          4964,
          5531,
          3785,
          5323,
          6079,
          6471,
          3981,
          3910,
          3928,
          3097,
          4757,
          5665,
          5595,
          5611,
          4554,
          4446,
          3399,
          4232,
          4392,
          5130,
          4811,
          3663,
          3158,
          1191,
          2707,
          2722,
          1259,
          1259,
          1172,
          2083,
          2083,
          2083,
          2083,
          1564,
          1807,
          1034,
          1328,
          1442,
          1255,
          1935,
          1799,
          1582,
          1945,
          1658,
          1636,
          1295,
          1417,
          1755,
          1929,
          1181,
          1208,
          975,
          855,
          1478,
          1531,
          1474,
          1226,
          1522,
          849,
          1546,
          1546,
          1546,
          1302,
          1164,
          1490,
          1613,
          1395,
          1113,
          1130,
          1385,
          1779,
          2140,
          1170,
          1600,
          1610,
          1985,
          1983,
          1968,
          1133,
          1670,
          1261,
          1067,
          1697,
          1821,
          1965,
          2167,
          2101,
          1552,
          1437,
          2553,
          2940,
          3033,
          3123,
          2241,
          2189,
          1850,
          2976,
          3558,
          4171,
          3782,
          3433,
          3353,
          3732,
          5171,
          5944,
          5944,
          5231,
          5547,
          4586,
          4969,
          6036,
          7528,
          7528,
          7969,
          7691,
          5950,
          6652,
          8637,
          6261,
          4625,
          3291,
          2445,
          3059,
          2287,
          4377,
          3351,
          5243,
          5937,
          4507,
          4233,
          3333,
          5575,
          7710,
          9098,
          8691,
          3805,
          2835,
          3451,
          4068,
          4413,
          4413,
          5968,
          6359,
          8654,
          2793,
          3209,
          6910,
          8615,
          9215,
          9116,
          7494,
          8929,
          9437,
          11156,
          10833,
          8836,
          10473,
          11665,
          11250,
          12327,
          13293,
          13910,
          13281,
          12126,
          12034,
          12466,
          12203,
          10286,
          10137,
          12348,
          11499,
          7692,
          8364,
          11569,
          9130,
          6572,
          10718,
          6672,
          6204,
          7926,
          9028,
          11328,
          11309,
          11299,
          11777,
          8244
         ],
         "type": "scatter"
        }
       ],
       "layout": {
        "template": {
         "data": {
          "histogram2dcontour": [
           {
            "type": "histogram2dcontour",
            "colorbar": {
             "outlinewidth": 0,
             "ticks": ""
            },
            "colorscale": [
             [
              0.0,
              "#0d0887"
             ],
             [
              0.1111111111111111,
              "#46039f"
             ],
             [
              0.2222222222222222,
              "#7201a8"
             ],
             [
              0.3333333333333333,
              "#9c179e"
             ],
             [
              0.4444444444444444,
              "#bd3786"
             ],
             [
              0.5555555555555556,
              "#d8576b"
             ],
             [
              0.6666666666666666,
              "#ed7953"
             ],
             [
              0.7777777777777778,
              "#fb9f3a"
             ],
             [
              0.8888888888888888,
              "#fdca26"
             ],
             [
              1.0,
              "#f0f921"
             ]
            ]
           }
          ],
          "choropleth": [
           {
            "type": "choropleth",
            "colorbar": {
             "outlinewidth": 0,
             "ticks": ""
            }
           }
          ],
          "histogram2d": [
           {
            "type": "histogram2d",
            "colorbar": {
             "outlinewidth": 0,
             "ticks": ""
            },
            "colorscale": [
             [
              0.0,
              "#0d0887"
             ],
             [
              0.1111111111111111,
              "#46039f"
             ],
             [
              0.2222222222222222,
              "#7201a8"
             ],
             [
              0.3333333333333333,
              "#9c179e"
             ],
             [
              0.4444444444444444,
              "#bd3786"
             ],
             [
              0.5555555555555556,
              "#d8576b"
             ],
             [
              0.6666666666666666,
              "#ed7953"
             ],
             [
              0.7777777777777778,
              "#fb9f3a"
             ],
             [
              0.8888888888888888,
              "#fdca26"
             ],
             [
              1.0,
              "#f0f921"
             ]
            ]
           }
          ],
          "heatmap": [
           {
            "type": "heatmap",
            "colorbar": {
             "outlinewidth": 0,
             "ticks": ""
            },
            "colorscale": [
             [
              0.0,
              "#0d0887"
             ],
             [
              0.1111111111111111,
              "#46039f"
             ],
             [
              0.2222222222222222,
              "#7201a8"
             ],
             [
              0.3333333333333333,
              "#9c179e"
             ],
             [
              0.4444444444444444,
              "#bd3786"
             ],
             [
              0.5555555555555556,
              "#d8576b"
             ],
             [
              0.6666666666666666,
              "#ed7953"
             ],
             [
              0.7777777777777778,
              "#fb9f3a"
             ],
             [
              0.8888888888888888,
              "#fdca26"
             ],
             [
              1.0,
              "#f0f921"
             ]
            ]
           }
          ],
          "heatmapgl": [
           {
            "type": "heatmapgl",
            "colorbar": {
             "outlinewidth": 0,
             "ticks": ""
            },
            "colorscale": [
             [
              0.0,
              "#0d0887"
             ],
             [
              0.1111111111111111,
              "#46039f"
             ],
             [
              0.2222222222222222,
              "#7201a8"
             ],
             [
              0.3333333333333333,
              "#9c179e"
             ],
             [
              0.4444444444444444,
              "#bd3786"
             ],
             [
              0.5555555555555556,
              "#d8576b"
             ],
             [
              0.6666666666666666,
              "#ed7953"
             ],
             [
              0.7777777777777778,
              "#fb9f3a"
             ],
             [
              0.8888888888888888,
              "#fdca26"
             ],
             [
              1.0,
              "#f0f921"
             ]
            ]
           }
          ],
          "contourcarpet": [
           {
            "type": "contourcarpet",
            "colorbar": {
             "outlinewidth": 0,
             "ticks": ""
            }
           }
          ],
          "contour": [
           {
            "type": "contour",
            "colorbar": {
             "outlinewidth": 0,
             "ticks": ""
            },
            "colorscale": [
             [
              0.0,
              "#0d0887"
             ],
             [
              0.1111111111111111,
              "#46039f"
             ],
             [
              0.2222222222222222,
              "#7201a8"
             ],
             [
              0.3333333333333333,
              "#9c179e"
             ],
             [
              0.4444444444444444,
              "#bd3786"
             ],
             [
              0.5555555555555556,
              "#d8576b"
             ],
             [
              0.6666666666666666,
              "#ed7953"
             ],
             [
              0.7777777777777778,
              "#fb9f3a"
             ],
             [
              0.8888888888888888,
              "#fdca26"
             ],
             [
              1.0,
              "#f0f921"
             ]
            ]
           }
          ],
          "surface": [
           {
            "type": "surface",
            "colorbar": {
             "outlinewidth": 0,
             "ticks": ""
            },
            "colorscale": [
             [
              0.0,
              "#0d0887"
             ],
             [
              0.1111111111111111,
              "#46039f"
             ],
             [
              0.2222222222222222,
              "#7201a8"
             ],
             [
              0.3333333333333333,
              "#9c179e"
             ],
             [
              0.4444444444444444,
              "#bd3786"
             ],
             [
              0.5555555555555556,
              "#d8576b"
             ],
             [
              0.6666666666666666,
              "#ed7953"
             ],
             [
              0.7777777777777778,
              "#fb9f3a"
             ],
             [
              0.8888888888888888,
              "#fdca26"
             ],
             [
              1.0,
              "#f0f921"
             ]
            ]
           }
          ],
          "mesh3d": [
           {
            "type": "mesh3d",
            "colorbar": {
             "outlinewidth": 0,
             "ticks": ""
            }
           }
          ],
          "scatter": [
           {
            "fillpattern": {
             "fillmode": "overlay",
             "size": 10,
             "solidity": 0.2
            },
            "type": "scatter"
           }
          ],
          "parcoords": [
           {
            "type": "parcoords",
            "line": {
             "colorbar": {
              "outlinewidth": 0,
              "ticks": ""
             }
            }
           }
          ],
          "scatterpolargl": [
           {
            "type": "scatterpolargl",
            "marker": {
             "colorbar": {
              "outlinewidth": 0,
              "ticks": ""
             }
            }
           }
          ],
          "bar": [
           {
            "error_x": {
             "color": "#2a3f5f"
            },
            "error_y": {
             "color": "#2a3f5f"
            },
            "marker": {
             "line": {
              "color": "#E5ECF6",
              "width": 0.5
             },
             "pattern": {
              "fillmode": "overlay",
              "size": 10,
              "solidity": 0.2
             }
            },
            "type": "bar"
           }
          ],
          "scattergeo": [
           {
            "type": "scattergeo",
            "marker": {
             "colorbar": {
              "outlinewidth": 0,
              "ticks": ""
             }
            }
           }
          ],
          "scatterpolar": [
           {
            "type": "scatterpolar",
            "marker": {
             "colorbar": {
              "outlinewidth": 0,
              "ticks": ""
             }
            }
           }
          ],
          "histogram": [
           {
            "marker": {
             "pattern": {
              "fillmode": "overlay",
              "size": 10,
              "solidity": 0.2
             }
            },
            "type": "histogram"
           }
          ],
          "scattergl": [
           {
            "type": "scattergl",
            "marker": {
             "colorbar": {
              "outlinewidth": 0,
              "ticks": ""
             }
            }
           }
          ],
          "scatter3d": [
           {
            "type": "scatter3d",
            "line": {
             "colorbar": {
              "outlinewidth": 0,
              "ticks": ""
             }
            },
            "marker": {
             "colorbar": {
              "outlinewidth": 0,
              "ticks": ""
             }
            }
           }
          ],
          "scattermapbox": [
           {
            "type": "scattermapbox",
            "marker": {
             "colorbar": {
              "outlinewidth": 0,
              "ticks": ""
             }
            }
           }
          ],
          "scatterternary": [
           {
            "type": "scatterternary",
            "marker": {
             "colorbar": {
              "outlinewidth": 0,
              "ticks": ""
             }
            }
           }
          ],
          "scattercarpet": [
           {
            "type": "scattercarpet",
            "marker": {
             "colorbar": {
              "outlinewidth": 0,
              "ticks": ""
             }
            }
           }
          ],
          "carpet": [
           {
            "aaxis": {
             "endlinecolor": "#2a3f5f",
             "gridcolor": "white",
             "linecolor": "white",
             "minorgridcolor": "white",
             "startlinecolor": "#2a3f5f"
            },
            "baxis": {
             "endlinecolor": "#2a3f5f",
             "gridcolor": "white",
             "linecolor": "white",
             "minorgridcolor": "white",
             "startlinecolor": "#2a3f5f"
            },
            "type": "carpet"
           }
          ],
          "table": [
           {
            "cells": {
             "fill": {
              "color": "#EBF0F8"
             },
             "line": {
              "color": "white"
             }
            },
            "header": {
             "fill": {
              "color": "#C8D4E3"
             },
             "line": {
              "color": "white"
             }
            },
            "type": "table"
           }
          ],
          "barpolar": [
           {
            "marker": {
             "line": {
              "color": "#E5ECF6",
              "width": 0.5
             },
             "pattern": {
              "fillmode": "overlay",
              "size": 10,
              "solidity": 0.2
             }
            },
            "type": "barpolar"
           }
          ],
          "pie": [
           {
            "automargin": true,
            "type": "pie"
           }
          ]
         },
         "layout": {
          "autotypenumbers": "strict",
          "colorway": [
           "#636efa",
           "#EF553B",
           "#00cc96",
           "#ab63fa",
           "#FFA15A",
           "#19d3f3",
           "#FF6692",
           "#B6E880",
           "#FF97FF",
           "#FECB52"
          ],
          "font": {
           "color": "#2a3f5f"
          },
          "hovermode": "closest",
          "hoverlabel": {
           "align": "left"
          },
          "paper_bgcolor": "white",
          "plot_bgcolor": "#E5ECF6",
          "polar": {
           "bgcolor": "#E5ECF6",
           "angularaxis": {
            "gridcolor": "white",
            "linecolor": "white",
            "ticks": ""
           },
           "radialaxis": {
            "gridcolor": "white",
            "linecolor": "white",
            "ticks": ""
           }
          },
          "ternary": {
           "bgcolor": "#E5ECF6",
           "aaxis": {
            "gridcolor": "white",
            "linecolor": "white",
            "ticks": ""
           },
           "baxis": {
            "gridcolor": "white",
            "linecolor": "white",
            "ticks": ""
           },
           "caxis": {
            "gridcolor": "white",
            "linecolor": "white",
            "ticks": ""
           }
          },
          "coloraxis": {
           "colorbar": {
            "outlinewidth": 0,
            "ticks": ""
           }
          },
          "colorscale": {
           "sequential": [
            [
             0.0,
             "#0d0887"
            ],
            [
             0.1111111111111111,
             "#46039f"
            ],
            [
             0.2222222222222222,
             "#7201a8"
            ],
            [
             0.3333333333333333,
             "#9c179e"
            ],
            [
             0.4444444444444444,
             "#bd3786"
            ],
            [
             0.5555555555555556,
             "#d8576b"
            ],
            [
             0.6666666666666666,
             "#ed7953"
            ],
            [
             0.7777777777777778,
             "#fb9f3a"
            ],
            [
             0.8888888888888888,
             "#fdca26"
            ],
            [
             1.0,
             "#f0f921"
            ]
           ],
           "sequentialminus": [
            [
             0.0,
             "#0d0887"
            ],
            [
             0.1111111111111111,
             "#46039f"
            ],
            [
             0.2222222222222222,
             "#7201a8"
            ],
            [
             0.3333333333333333,
             "#9c179e"
            ],
            [
             0.4444444444444444,
             "#bd3786"
            ],
            [
             0.5555555555555556,
             "#d8576b"
            ],
            [
             0.6666666666666666,
             "#ed7953"
            ],
            [
             0.7777777777777778,
             "#fb9f3a"
            ],
            [
             0.8888888888888888,
             "#fdca26"
            ],
            [
             1.0,
             "#f0f921"
            ]
           ],
           "diverging": [
            [
             0,
             "#8e0152"
            ],
            [
             0.1,
             "#c51b7d"
            ],
            [
             0.2,
             "#de77ae"
            ],
            [
             0.3,
             "#f1b6da"
            ],
            [
             0.4,
             "#fde0ef"
            ],
            [
             0.5,
             "#f7f7f7"
            ],
            [
             0.6,
             "#e6f5d0"
            ],
            [
             0.7,
             "#b8e186"
            ],
            [
             0.8,
             "#7fbc41"
            ],
            [
             0.9,
             "#4d9221"
            ],
            [
             1,
             "#276419"
            ]
           ]
          },
          "xaxis": {
           "gridcolor": "white",
           "linecolor": "white",
           "ticks": "",
           "title": {
            "standoff": 15
           },
           "zerolinecolor": "white",
           "automargin": true,
           "zerolinewidth": 2
          },
          "yaxis": {
           "gridcolor": "white",
           "linecolor": "white",
           "ticks": "",
           "title": {
            "standoff": 15
           },
           "zerolinecolor": "white",
           "automargin": true,
           "zerolinewidth": 2
          },
          "scene": {
           "xaxis": {
            "backgroundcolor": "#E5ECF6",
            "gridcolor": "white",
            "linecolor": "white",
            "showbackground": true,
            "ticks": "",
            "zerolinecolor": "white",
            "gridwidth": 2
           },
           "yaxis": {
            "backgroundcolor": "#E5ECF6",
            "gridcolor": "white",
            "linecolor": "white",
            "showbackground": true,
            "ticks": "",
            "zerolinecolor": "white",
            "gridwidth": 2
           },
           "zaxis": {
            "backgroundcolor": "#E5ECF6",
            "gridcolor": "white",
            "linecolor": "white",
            "showbackground": true,
            "ticks": "",
            "zerolinecolor": "white",
            "gridwidth": 2
           }
          },
          "shapedefaults": {
           "line": {
            "color": "#2a3f5f"
           }
          },
          "annotationdefaults": {
           "arrowcolor": "#2a3f5f",
           "arrowhead": 0,
           "arrowwidth": 1
          },
          "geo": {
           "bgcolor": "white",
           "landcolor": "#E5ECF6",
           "subunitcolor": "white",
           "showland": true,
           "showlakes": true,
           "lakecolor": "white"
          },
          "title": {
           "x": 0.05
          },
          "mapbox": {
           "style": "light"
          }
         }
        }
       },
       "config": {
        "plotlyServerURL": "https://plot.ly"
       }
      },
      "text/html": "<div>                            <div id=\"ba0d5f0d-c3fb-4e70-82a5-a330a9144138\" class=\"plotly-graph-div\" style=\"height:525px; width:100%;\"></div>            <script type=\"text/javascript\">                require([\"plotly\"], function(Plotly) {                    window.PLOTLYENV=window.PLOTLYENV || {};                                    if (document.getElementById(\"ba0d5f0d-c3fb-4e70-82a5-a330a9144138\")) {                    Plotly.newPlot(                        \"ba0d5f0d-c3fb-4e70-82a5-a330a9144138\",                        [{\"marker\":{\"color\":\"blue\",\"size\":3},\"mode\":\"markers\",\"x\":[\"2020-01-01\",\"2020-01-02\",\"2020-01-03\",\"2020-01-04\",\"2020-01-05\",\"2020-01-06\",\"2020-01-07\",\"2020-01-08\",\"2020-01-09\",\"2020-01-10\",\"2020-01-11\",\"2020-01-12\",\"2020-01-13\",\"2020-01-14\",\"2020-01-15\",\"2020-01-16\",\"2020-01-17\",\"2020-01-18\",\"2020-01-19\",\"2020-01-20\",\"2020-01-21\",\"2020-01-22\",\"2020-01-23\",\"2020-01-24\",\"2020-01-25\",\"2020-01-26\",\"2020-01-27\",\"2020-01-28\",\"2020-01-29\",\"2020-01-30\",\"2020-01-31\",\"2020-02-01\",\"2020-02-02\",\"2020-02-03\",\"2020-02-04\",\"2020-02-05\",\"2020-02-06\",\"2020-02-07\",\"2020-02-08\",\"2020-02-09\",\"2020-02-10\",\"2020-02-11\",\"2020-02-12\",\"2020-02-13\",\"2020-02-14\",\"2020-02-15\",\"2020-02-16\",\"2020-02-17\",\"2020-02-18\",\"2020-02-19\",\"2020-02-20\",\"2020-02-21\",\"2020-02-22\",\"2020-02-23\",\"2020-02-24\",\"2020-02-25\",\"2020-02-26\",\"2020-02-27\",\"2020-02-28\",\"2020-02-29\",\"2020-03-01\",\"2020-03-02\",\"2020-03-03\",\"2020-03-04\",\"2020-03-05\",\"2020-03-06\",\"2020-03-07\",\"2020-03-08\",\"2020-03-09\",\"2020-03-10\",\"2020-03-11\",\"2020-03-12\",\"2020-03-13\",\"2020-03-14\",\"2020-03-15\",\"2020-03-16\",\"2020-03-17\",\"2020-03-18\",\"2020-03-19\",\"2020-03-20\",\"2020-03-21\",\"2020-03-22\",\"2020-03-23\",\"2020-03-24\",\"2020-03-25\",\"2020-03-26\",\"2020-03-27\",\"2020-03-28\",\"2020-03-29\",\"2020-03-30\",\"2020-03-31\",\"2020-04-01\",\"2020-04-04\",\"2020-04-05\",\"2020-04-06\",\"2020-04-10\",\"2020-05-06\",\"2020-05-07\",\"2020-05-08\",\"2020-05-09\",\"2020-05-10\",\"2020-05-11\",\"2020-05-12\",\"2020-05-13\",\"2020-05-14\",\"2020-05-15\",\"2020-05-16\",\"2020-05-17\",\"2020-05-18\",\"2020-05-19\",\"2020-05-20\",\"2020-05-21\",\"2020-05-22\",\"2020-05-23\",\"2020-05-24\",\"2020-05-25\",\"2020-05-26\",\"2020-05-27\",\"2020-05-28\",\"2020-05-29\",\"2020-05-30\",\"2020-05-31\",\"2020-06-01\",\"2020-06-02\",\"2020-06-03\",\"2020-06-04\",\"2020-06-05\",\"2020-06-06\",\"2020-06-07\",\"2020-06-08\",\"2020-06-09\",\"2020-06-10\",\"2020-06-11\",\"2020-06-12\",\"2020-06-13\",\"2020-06-14\",\"2020-06-15\",\"2020-06-16\",\"2020-06-17\",\"2020-06-18\",\"2020-06-19\",\"2020-06-20\",\"2020-06-21\",\"2020-06-22\",\"2020-06-23\",\"2020-06-24\",\"2020-06-25\",\"2020-06-26\",\"2020-06-27\",\"2020-06-28\",\"2020-06-29\",\"2020-06-30\",\"2020-07-01\",\"2020-07-02\",\"2020-07-03\",\"2020-07-04\",\"2020-07-05\",\"2020-07-06\",\"2020-07-07\",\"2020-07-08\",\"2020-07-09\",\"2020-07-10\",\"2020-07-11\",\"2020-07-12\",\"2020-07-13\",\"2020-07-14\",\"2020-07-15\",\"2020-07-16\",\"2020-07-17\",\"2020-07-18\",\"2020-07-19\",\"2020-07-20\",\"2020-07-21\",\"2020-07-22\",\"2020-07-23\",\"2020-07-24\",\"2020-07-25\",\"2020-07-26\",\"2020-07-27\",\"2020-07-28\",\"2020-07-29\",\"2020-07-30\",\"2020-07-31\",\"2020-08-01\",\"2020-08-02\",\"2020-08-03\",\"2020-08-04\",\"2020-08-05\",\"2020-08-06\",\"2020-08-07\",\"2020-08-08\",\"2020-08-09\",\"2020-08-10\",\"2020-08-11\",\"2020-08-12\",\"2020-08-13\",\"2020-08-14\",\"2020-08-15\",\"2020-08-16\",\"2020-08-17\",\"2020-08-18\",\"2020-08-19\",\"2020-08-20\",\"2020-08-21\",\"2020-08-22\",\"2020-08-23\",\"2020-08-24\",\"2020-08-25\",\"2020-08-26\",\"2020-08-27\",\"2020-08-28\",\"2020-08-29\",\"2020-08-30\",\"2020-08-31\",\"2020-09-01\",\"2020-09-02\",\"2020-09-03\",\"2020-09-04\",\"2020-09-05\",\"2020-09-06\",\"2020-09-07\",\"2020-09-08\",\"2020-09-09\",\"2020-09-10\",\"2020-09-11\",\"2020-09-12\",\"2020-09-13\",\"2020-09-14\",\"2020-09-15\",\"2020-09-16\",\"2020-09-17\",\"2020-09-18\",\"2020-09-19\",\"2020-09-20\",\"2020-09-21\",\"2020-09-22\",\"2020-09-23\",\"2020-09-24\",\"2020-09-25\",\"2020-09-26\",\"2020-09-27\",\"2020-09-28\",\"2020-09-29\",\"2020-09-30\",\"2020-10-01\",\"2020-10-02\",\"2020-10-03\",\"2020-10-04\",\"2020-10-05\",\"2020-10-06\",\"2020-10-07\",\"2020-10-08\",\"2020-10-09\",\"2020-10-10\",\"2020-10-11\",\"2020-10-12\",\"2020-10-13\",\"2020-10-14\",\"2020-10-15\",\"2020-10-16\",\"2020-10-17\",\"2020-10-18\",\"2020-10-19\",\"2020-10-20\",\"2020-10-21\",\"2020-10-22\",\"2020-10-23\",\"2020-10-24\",\"2020-10-25\",\"2020-10-26\",\"2020-10-27\",\"2020-10-28\",\"2020-10-29\",\"2020-10-30\",\"2020-10-31\",\"2020-11-01\",\"2020-11-02\",\"2020-11-03\",\"2020-11-04\",\"2020-11-05\",\"2020-11-06\",\"2020-11-07\",\"2020-11-08\",\"2020-11-09\",\"2020-11-10\",\"2020-11-11\",\"2020-11-12\",\"2020-11-13\",\"2020-11-14\",\"2020-11-15\",\"2020-11-16\",\"2020-11-17\",\"2020-11-18\",\"2020-11-19\",\"2020-11-20\",\"2020-11-21\",\"2020-11-22\",\"2020-11-23\",\"2020-11-24\",\"2020-11-25\",\"2020-11-26\",\"2020-11-27\",\"2020-11-28\",\"2020-11-29\",\"2020-11-30\",\"2020-12-01\",\"2020-12-02\",\"2020-12-03\",\"2020-12-04\",\"2020-12-05\",\"2020-12-06\",\"2020-12-07\",\"2020-12-08\",\"2020-12-09\",\"2020-12-10\",\"2020-12-11\",\"2020-12-12\",\"2020-12-13\",\"2020-12-14\",\"2020-12-15\",\"2020-12-16\",\"2020-12-17\",\"2020-12-18\",\"2020-12-19\",\"2020-12-20\",\"2020-12-21\",\"2020-12-22\",\"2020-12-23\",\"2020-12-24\",\"2020-12-25\",\"2020-12-26\",\"2020-12-27\",\"2020-12-28\",\"2020-12-29\",\"2020-12-30\",\"2020-12-31\",\"2021-01-01\",\"2021-01-02\",\"2021-01-03\",\"2021-01-04\",\"2021-01-05\",\"2021-01-06\",\"2021-01-07\",\"2021-01-08\",\"2021-01-09\",\"2021-01-10\",\"2021-01-11\",\"2021-01-12\",\"2021-01-13\",\"2021-01-14\",\"2021-01-15\",\"2021-01-16\",\"2021-01-17\",\"2021-01-18\",\"2021-01-19\",\"2021-01-20\",\"2021-01-21\",\"2021-01-22\",\"2021-01-23\",\"2021-01-24\",\"2021-01-25\",\"2021-01-26\",\"2021-01-27\",\"2021-01-28\",\"2021-01-29\",\"2021-01-30\",\"2021-01-31\",\"2021-02-01\",\"2021-02-02\",\"2021-02-03\",\"2021-02-04\",\"2021-02-05\",\"2021-02-06\",\"2021-02-07\",\"2021-02-08\",\"2021-02-09\",\"2021-02-10\",\"2021-02-11\",\"2021-02-12\",\"2021-02-13\",\"2021-02-14\",\"2021-02-15\",\"2021-02-16\",\"2021-02-17\",\"2021-02-18\",\"2021-02-19\",\"2021-02-20\",\"2021-02-21\",\"2021-02-22\",\"2021-02-23\",\"2021-02-24\",\"2021-02-25\",\"2021-02-26\",\"2021-02-27\",\"2021-02-28\",\"2021-03-01\",\"2021-03-02\",\"2021-03-03\",\"2021-03-04\",\"2021-03-05\",\"2021-03-06\",\"2021-03-07\",\"2021-03-08\",\"2021-03-09\",\"2021-03-10\",\"2021-03-11\",\"2021-03-12\",\"2021-03-13\",\"2021-03-14\",\"2021-03-15\",\"2021-03-16\",\"2021-03-17\",\"2021-03-18\",\"2021-03-19\",\"2021-03-20\",\"2021-03-21\",\"2021-03-22\",\"2021-03-23\",\"2021-03-24\",\"2021-03-25\",\"2021-03-26\",\"2021-03-27\",\"2021-03-28\",\"2021-03-29\",\"2021-03-30\",\"2021-03-31\",\"2021-04-01\",\"2021-04-02\",\"2021-04-03\",\"2021-04-04\",\"2021-04-05\",\"2021-04-06\",\"2021-04-07\",\"2021-04-08\",\"2021-04-09\",\"2021-04-10\",\"2021-04-11\",\"2021-04-12\",\"2021-04-13\",\"2021-04-14\",\"2021-04-15\",\"2021-04-16\",\"2021-04-17\",\"2021-04-18\",\"2021-04-19\",\"2021-04-20\",\"2021-04-21\",\"2021-04-22\",\"2021-04-23\",\"2021-04-24\",\"2021-04-25\",\"2021-04-26\",\"2021-04-27\",\"2021-04-28\",\"2021-04-29\",\"2021-04-30\",\"2021-05-01\",\"2021-05-02\",\"2021-05-03\",\"2021-05-04\",\"2021-05-05\",\"2021-05-06\",\"2021-05-07\",\"2021-05-08\",\"2021-05-09\",\"2021-05-10\",\"2021-05-11\",\"2021-05-12\",\"2021-05-13\",\"2021-05-14\",\"2021-05-15\",\"2021-05-16\",\"2021-05-17\",\"2021-05-18\",\"2021-05-19\",\"2021-05-20\",\"2021-05-21\",\"2021-05-22\",\"2021-05-23\",\"2021-05-24\",\"2021-05-25\",\"2021-05-26\",\"2021-05-27\",\"2021-05-28\",\"2021-05-29\",\"2021-05-30\",\"2021-05-31\",\"2021-06-01\",\"2021-06-02\",\"2021-06-03\",\"2021-06-04\",\"2021-06-05\",\"2021-06-06\",\"2021-06-07\",\"2021-06-08\",\"2021-06-09\",\"2021-06-10\",\"2021-06-11\",\"2021-06-12\",\"2021-06-13\",\"2021-06-14\",\"2021-06-15\",\"2021-06-16\",\"2021-06-17\",\"2021-06-18\",\"2021-06-19\",\"2021-06-20\",\"2021-06-21\",\"2021-06-22\",\"2021-06-23\",\"2021-06-24\",\"2021-06-25\",\"2021-06-26\",\"2021-06-27\",\"2021-06-28\",\"2021-06-29\",\"2021-06-30\",\"2021-07-01\",\"2021-07-02\",\"2021-07-03\",\"2021-07-04\",\"2021-07-05\",\"2021-07-06\",\"2021-07-07\",\"2021-07-08\",\"2021-07-09\",\"2021-07-10\",\"2021-07-11\",\"2021-07-12\",\"2021-07-13\",\"2021-07-14\",\"2021-07-15\",\"2021-07-16\",\"2021-07-17\",\"2021-07-18\",\"2021-07-19\",\"2021-07-20\",\"2021-07-21\",\"2021-07-22\",\"2021-07-23\",\"2021-07-24\",\"2021-07-25\",\"2021-07-26\",\"2021-07-27\",\"2021-07-28\",\"2021-07-29\",\"2021-07-30\",\"2021-07-31\",\"2021-08-01\",\"2021-08-02\",\"2021-08-03\",\"2021-08-04\",\"2021-08-05\",\"2021-08-06\",\"2021-08-07\",\"2021-08-08\",\"2021-08-09\",\"2021-08-10\",\"2021-08-11\",\"2021-08-12\",\"2021-08-13\",\"2021-08-14\",\"2021-08-15\",\"2021-08-16\",\"2021-08-17\",\"2021-08-18\",\"2021-08-19\",\"2021-08-20\",\"2021-08-21\",\"2021-08-22\",\"2021-08-23\",\"2021-08-24\",\"2021-08-25\",\"2021-08-26\",\"2021-08-27\",\"2021-08-28\",\"2021-08-29\",\"2021-08-30\",\"2021-08-31\",\"2021-09-01\",\"2021-09-02\",\"2021-09-03\",\"2021-09-04\",\"2021-09-05\",\"2021-09-06\",\"2021-09-07\",\"2021-09-08\",\"2021-09-09\",\"2021-09-10\",\"2021-09-11\",\"2021-09-12\",\"2021-09-13\",\"2021-09-14\",\"2021-09-15\",\"2021-09-16\",\"2021-09-17\",\"2021-09-18\",\"2021-09-19\",\"2021-09-20\",\"2021-09-21\",\"2021-09-22\",\"2021-09-23\",\"2021-09-24\",\"2021-09-25\",\"2021-09-26\",\"2021-09-27\",\"2021-09-28\",\"2021-09-29\",\"2021-09-30\",\"2021-10-01\",\"2021-10-02\",\"2021-10-03\",\"2021-10-04\",\"2021-10-05\",\"2021-10-06\",\"2021-10-07\",\"2021-10-08\",\"2021-10-09\",\"2021-10-10\",\"2021-10-11\",\"2021-10-12\",\"2021-10-13\",\"2021-10-14\",\"2021-10-15\",\"2021-10-16\",\"2021-10-17\",\"2021-10-18\",\"2021-10-19\",\"2021-10-20\",\"2021-10-21\",\"2021-10-22\",\"2021-10-23\",\"2021-10-24\",\"2021-10-25\",\"2021-10-26\",\"2021-10-27\",\"2021-10-28\",\"2021-10-29\",\"2021-10-30\",\"2021-10-31\",\"2021-11-01\",\"2021-11-02\",\"2021-11-03\",\"2021-11-04\",\"2021-11-05\",\"2021-11-06\",\"2021-11-07\",\"2021-11-08\",\"2021-11-09\",\"2021-11-10\",\"2021-11-11\",\"2021-11-12\",\"2021-11-13\",\"2021-11-14\",\"2021-11-15\",\"2021-11-16\",\"2021-11-17\",\"2021-11-18\",\"2021-11-19\",\"2021-11-20\",\"2021-11-21\",\"2021-11-22\",\"2021-11-23\",\"2021-11-24\",\"2021-11-25\",\"2021-11-26\",\"2021-11-27\",\"2021-11-28\",\"2021-11-29\",\"2021-11-30\",\"2022-01-01\",\"2022-01-02\",\"2022-01-03\",\"2022-01-04\",\"2022-01-04\",\"2022-01-04\",\"2022-01-05\",\"2022-01-06\",\"2022-01-07\",\"2022-01-08\",\"2022-01-09\",\"2022-01-10\",\"2022-01-11\",\"2022-01-12\",\"2022-01-13\",\"2022-01-14\",\"2022-01-15\",\"2022-01-16\",\"2022-01-17\",\"2022-01-18\",\"2022-01-19\",\"2022-01-20\",\"2022-01-21\",\"2022-01-22\",\"2022-01-23\",\"2022-01-24\",\"2022-01-25\",\"2022-01-26\",\"2022-01-27\",\"2022-01-28\",\"2022-01-29\",\"2022-01-30\",\"2022-01-31\",\"2022-02-01\",\"2022-02-01\",\"2022-02-02\",\"2022-02-03\",\"2022-02-04\",\"2022-02-05\",\"2022-02-06\",\"2022-02-07\",\"2022-02-08\",\"2022-02-09\",\"2022-02-10\",\"2022-02-11\",\"2022-02-12\",\"2022-02-13\",\"2022-02-14\",\"2022-02-15\",\"2022-02-16\",\"2022-02-17\",\"2022-02-18\",\"2022-02-19\",\"2022-02-20\",\"2022-02-21\",\"2022-02-22\",\"2022-02-23\",\"2022-02-24\",\"2022-02-25\",\"2022-02-26\",\"2022-02-27\",\"2022-02-28\",\"2022-03-01\",\"2022-03-02\",\"2022-03-03\",\"2022-03-04\",\"2022-03-05\",\"2022-03-06\",\"2022-03-07\",\"2022-03-08\",\"2022-03-09\",\"2022-03-10\",\"2022-03-11\",\"2022-03-12\",\"2022-03-13\",\"2022-03-14\",\"2022-03-15\",\"2022-03-16\",\"2022-03-17\",\"2022-03-18\",\"2022-03-19\",\"2022-03-20\",\"2022-03-21\",\"2022-03-22\",\"2022-03-23\",\"2022-03-24\",\"2022-03-25\",\"2022-03-26\",\"2022-03-27\",\"2022-03-28\",\"2022-03-29\",\"2022-03-30\",\"2022-03-31\",\"2022-04-01\",\"2022-04-02\",\"2022-04-03\",\"2022-04-04\",\"2022-04-05\",\"2022-04-06\",\"2022-04-07\",\"2022-04-08\",\"2022-04-09\",\"2022-04-10\",\"2022-04-11\",\"2022-04-12\",\"2022-04-13\",\"2022-04-14\",\"2022-04-15\",\"2022-04-16\",\"2022-04-17\",\"2022-04-18\",\"2022-04-19\",\"2022-04-20\",\"2022-04-21\",\"2022-04-22\",\"2022-04-23\",\"2022-04-24\",\"2022-04-25\",\"2022-04-26\",\"2022-04-27\",\"2022-04-28\",\"2022-04-29\",\"2022-04-30\",\"2022-05-01\",\"2022-05-02\",\"2022-05-03\",\"2022-05-04\",\"2022-05-05\",\"2022-05-06\",\"2022-05-07\",\"2022-05-08\",\"2022-05-09\",\"2022-05-10\",\"2022-05-11\",\"2022-05-12\",\"2022-05-13\",\"2022-05-14\",\"2022-05-15\",\"2022-05-16\",\"2022-05-17\",\"2022-05-18\",\"2022-05-19\",\"2022-05-20\",\"2022-05-21\",\"2022-05-22\",\"2022-05-23\",\"2022-05-24\",\"2022-05-25\",\"2022-05-26\",\"2022-05-27\",\"2022-05-28\",\"2022-05-29\",\"2022-05-30\",\"2022-05-31\",\"2022-06-01\",\"2022-06-02\",\"2022-06-03\",\"2022-06-04\",\"2022-06-05\",\"2022-06-06\"],\"y\":[634,971,1017,492,629,570,1252,1312,1410,1788,998,1114,1659,1762,1793,1968,1556,961,1032,1755,1609,1305,1460,1410,891,803,1686,1459,1631,1168,1831,1477,952,1347,989,1433,1410,1321,1138,1254,985,1103,1172,1586,1308,1152,1124,1827,1786,1306,1771,1237,1396,366,1598,1579,1565,1707,1491,1230,2454,2973,2074,3585,3928,3295,1494,3147,3927,3988,3739,3170,2359,1830,1836,2426,3344,4123,3270,1859,1589,1067,1655,1704,1613,1717,2551,3657,740,1550,869,150,1,1,1,6,879,1229,2494,4312,3330,1301,2019,2398,2535,3227,4580,5534,4668,4209,5198,4958,5245,1093,2800,2297,3809,5422,2887,4625,5531,4405,6729,4073,6613,4909,2777,4676,2829,4136,6246,5893,7479,7114,7056,7715,7102,7932,8471,5664,2005,2128,3403,6989,6629,1560,7345,5408,8004,6090,4186,8250,9069,7349,8406,9419,9067,7949,8255,4758,7692,7725,6435,8065,7692,9359,8114,6056,6975,8522,9177,6104,9054,9352,8582,8013,9095,6772,8418,8291,9081,8932,9011,9001,8748,2000,2553,8670,8855,8954,8427,7788,8121,8828,9314,9010,8311,8161,8539,8834,8600,6800,9179,8925,6461,8382,8368,9102,7081,7009,8704,6718,3204,5947,1899,7521,7759,7504,5445,7098,7316,8142,9305,7859,8363,8537,8366,8403,8915,8956,7626,7539,7547,7458,7959,8615,8948,8827,3654,2749,4020,3235,4305,6191,4377,5959,8213,5130,4509,6484,6238,6442,5660,3370,4227,3648,2091,2385,4095,3230,1825,2396,3443,4011,4270,5083,4739,4734,4961,5712,3842,7086,3586,2040,2960,2307,3498,4026,3423,3763,3858,3077,3587,2384,2671,2450,2792,3388,3081,3632,2944,3461,3564,3087,3009,2456,1795,2551,3087,2457,2458,2170,2368,1084,2248,1750,1470,934,1756,1883,1767,1814,1600,1528,1305,1493,1294,1290,1390,1494,1489,1549,1693,1451,1128,1318,1096,1125,595,327,503,638,1086,1267,1264,947,622,803,547,1158,713,676,989,1157,1013,685,1251,1036,947,794,836,581,409,622,787,1115,1219,1747,1228,877,1197,1129,1339,1014,1329,498,516,737,894,1085,1033,1298,925,298,369,375,347,370,375,426,380,532,400,497,859,1182,1494,1951,1781,2153,2962,3035,1897,1940,3275,2500,3591,4169,3067,2423,2871,1491,2538,2722,3158,1891,2716,2741,1767,2557,1561,2525,2705,1687,1683,646,2641,2541,3028,4207,5195,2869,4167,3308,7704,8052,4580,3630,1565,2541,1420,2508,1828,2453,4190,5212,7942,2242,3403,3222,1300,1859,2580,3797,3732,4864,7428,4686,4082,6151,5044,4909,5987,7299,6166,6765,4985,1331,3765,5805,4945,5326,3883,6855,10605,9936,11279,8184,7126,6919,8608,9226,7113,7618,7901,7972,7919,7376,8093,8171,6882,7296,7558,6563,5662,6786,8783,9652,10412,11397,9305,11144,11180,10954,11584,11442,10028,11439,6880,6639,10754,10993,11352,11542,11133,10419,9829,8572,9476,10841,9791,7693,9599,10848,10966,11068,9967,8948,8437,10807,10564,10819,11514,11050,9151,6630,10313,8611,8692,11325,8226,11715,10763,10703,10262,10055,10114,10011,9883,10403,10178,8693,9797,10747,8348,10791,10476,10403,4638,8880,7667,8851,4309,8532,9877,9148,10364,9810,10666,10406,9834,9817,9183,8170,8056,8978,8986,7213,9597,7150,6373,6903,9302,5897,7361,7437,7197,6792,2660,8122,8980,9399,9068,8861,8692,8514,9644,10101,9605,8664,6883,8648,9345,9597,7720,6940,4250,4741,6445,4561,5259,7357,6822,7315,8324,8583,7803,7054,7878,7787,8889,8628,9765,10619,6492,8374,8393,6388,5646,6838,4981,6373,5996,6662,5460,4616,6691,8183,9271,8098,6565,4266,4308,6948,7216,7635,7381,7353,5903,4857,4864,4518,7044,5470,4964,5531,3785,5323,6079,6471,3981,3910,3928,3097,4757,5665,5595,5611,4554,4446,3399,4232,4392,5130,4811,3663,3158,1191,2707,2722,1259,1259,1172,2083,2083,2083,2083,1564,1807,1034,1328,1442,1255,1935,1799,1582,1945,1658,1636,1295,1417,1755,1929,1181,1208,975,855,1478,1531,1474,1226,1522,849,1546,1546,1546,1302,1164,1490,1613,1395,1113,1130,1385,1779,2140,1170,1600,1610,1985,1983,1968,1133,1670,1261,1067,1697,1821,1965,2167,2101,1552,1437,2553,2940,3033,3123,2241,2189,1850,2976,3558,4171,3782,3433,3353,3732,5171,5944,5944,5231,5547,4586,4969,6036,7528,7528,7969,7691,5950,6652,8637,6261,4625,3291,2445,3059,2287,4377,3351,5243,5937,4507,4233,3333,5575,7710,9098,8691,3805,2835,3451,4068,4413,4413,5968,6359,8654,2793,3209,6910,8615,9215,9116,7494,8929,9437,11156,10833,8836,10473,11665,11250,12327,13293,13910,13281,12126,12034,12466,12203,10286,10137,12348,11499,7692,8364,11569,9130,6572,10718,6672,6204,7926,9028,11328,11309,11299,11777,8244],\"type\":\"scatter\"}],                        {\"template\":{\"data\":{\"histogram2dcontour\":[{\"type\":\"histogram2dcontour\",\"colorbar\":{\"outlinewidth\":0,\"ticks\":\"\"},\"colorscale\":[[0.0,\"#0d0887\"],[0.1111111111111111,\"#46039f\"],[0.2222222222222222,\"#7201a8\"],[0.3333333333333333,\"#9c179e\"],[0.4444444444444444,\"#bd3786\"],[0.5555555555555556,\"#d8576b\"],[0.6666666666666666,\"#ed7953\"],[0.7777777777777778,\"#fb9f3a\"],[0.8888888888888888,\"#fdca26\"],[1.0,\"#f0f921\"]]}],\"choropleth\":[{\"type\":\"choropleth\",\"colorbar\":{\"outlinewidth\":0,\"ticks\":\"\"}}],\"histogram2d\":[{\"type\":\"histogram2d\",\"colorbar\":{\"outlinewidth\":0,\"ticks\":\"\"},\"colorscale\":[[0.0,\"#0d0887\"],[0.1111111111111111,\"#46039f\"],[0.2222222222222222,\"#7201a8\"],[0.3333333333333333,\"#9c179e\"],[0.4444444444444444,\"#bd3786\"],[0.5555555555555556,\"#d8576b\"],[0.6666666666666666,\"#ed7953\"],[0.7777777777777778,\"#fb9f3a\"],[0.8888888888888888,\"#fdca26\"],[1.0,\"#f0f921\"]]}],\"heatmap\":[{\"type\":\"heatmap\",\"colorbar\":{\"outlinewidth\":0,\"ticks\":\"\"},\"colorscale\":[[0.0,\"#0d0887\"],[0.1111111111111111,\"#46039f\"],[0.2222222222222222,\"#7201a8\"],[0.3333333333333333,\"#9c179e\"],[0.4444444444444444,\"#bd3786\"],[0.5555555555555556,\"#d8576b\"],[0.6666666666666666,\"#ed7953\"],[0.7777777777777778,\"#fb9f3a\"],[0.8888888888888888,\"#fdca26\"],[1.0,\"#f0f921\"]]}],\"heatmapgl\":[{\"type\":\"heatmapgl\",\"colorbar\":{\"outlinewidth\":0,\"ticks\":\"\"},\"colorscale\":[[0.0,\"#0d0887\"],[0.1111111111111111,\"#46039f\"],[0.2222222222222222,\"#7201a8\"],[0.3333333333333333,\"#9c179e\"],[0.4444444444444444,\"#bd3786\"],[0.5555555555555556,\"#d8576b\"],[0.6666666666666666,\"#ed7953\"],[0.7777777777777778,\"#fb9f3a\"],[0.8888888888888888,\"#fdca26\"],[1.0,\"#f0f921\"]]}],\"contourcarpet\":[{\"type\":\"contourcarpet\",\"colorbar\":{\"outlinewidth\":0,\"ticks\":\"\"}}],\"contour\":[{\"type\":\"contour\",\"colorbar\":{\"outlinewidth\":0,\"ticks\":\"\"},\"colorscale\":[[0.0,\"#0d0887\"],[0.1111111111111111,\"#46039f\"],[0.2222222222222222,\"#7201a8\"],[0.3333333333333333,\"#9c179e\"],[0.4444444444444444,\"#bd3786\"],[0.5555555555555556,\"#d8576b\"],[0.6666666666666666,\"#ed7953\"],[0.7777777777777778,\"#fb9f3a\"],[0.8888888888888888,\"#fdca26\"],[1.0,\"#f0f921\"]]}],\"surface\":[{\"type\":\"surface\",\"colorbar\":{\"outlinewidth\":0,\"ticks\":\"\"},\"colorscale\":[[0.0,\"#0d0887\"],[0.1111111111111111,\"#46039f\"],[0.2222222222222222,\"#7201a8\"],[0.3333333333333333,\"#9c179e\"],[0.4444444444444444,\"#bd3786\"],[0.5555555555555556,\"#d8576b\"],[0.6666666666666666,\"#ed7953\"],[0.7777777777777778,\"#fb9f3a\"],[0.8888888888888888,\"#fdca26\"],[1.0,\"#f0f921\"]]}],\"mesh3d\":[{\"type\":\"mesh3d\",\"colorbar\":{\"outlinewidth\":0,\"ticks\":\"\"}}],\"scatter\":[{\"fillpattern\":{\"fillmode\":\"overlay\",\"size\":10,\"solidity\":0.2},\"type\":\"scatter\"}],\"parcoords\":[{\"type\":\"parcoords\",\"line\":{\"colorbar\":{\"outlinewidth\":0,\"ticks\":\"\"}}}],\"scatterpolargl\":[{\"type\":\"scatterpolargl\",\"marker\":{\"colorbar\":{\"outlinewidth\":0,\"ticks\":\"\"}}}],\"bar\":[{\"error_x\":{\"color\":\"#2a3f5f\"},\"error_y\":{\"color\":\"#2a3f5f\"},\"marker\":{\"line\":{\"color\":\"#E5ECF6\",\"width\":0.5},\"pattern\":{\"fillmode\":\"overlay\",\"size\":10,\"solidity\":0.2}},\"type\":\"bar\"}],\"scattergeo\":[{\"type\":\"scattergeo\",\"marker\":{\"colorbar\":{\"outlinewidth\":0,\"ticks\":\"\"}}}],\"scatterpolar\":[{\"type\":\"scatterpolar\",\"marker\":{\"colorbar\":{\"outlinewidth\":0,\"ticks\":\"\"}}}],\"histogram\":[{\"marker\":{\"pattern\":{\"fillmode\":\"overlay\",\"size\":10,\"solidity\":0.2}},\"type\":\"histogram\"}],\"scattergl\":[{\"type\":\"scattergl\",\"marker\":{\"colorbar\":{\"outlinewidth\":0,\"ticks\":\"\"}}}],\"scatter3d\":[{\"type\":\"scatter3d\",\"line\":{\"colorbar\":{\"outlinewidth\":0,\"ticks\":\"\"}},\"marker\":{\"colorbar\":{\"outlinewidth\":0,\"ticks\":\"\"}}}],\"scattermapbox\":[{\"type\":\"scattermapbox\",\"marker\":{\"colorbar\":{\"outlinewidth\":0,\"ticks\":\"\"}}}],\"scatterternary\":[{\"type\":\"scatterternary\",\"marker\":{\"colorbar\":{\"outlinewidth\":0,\"ticks\":\"\"}}}],\"scattercarpet\":[{\"type\":\"scattercarpet\",\"marker\":{\"colorbar\":{\"outlinewidth\":0,\"ticks\":\"\"}}}],\"carpet\":[{\"aaxis\":{\"endlinecolor\":\"#2a3f5f\",\"gridcolor\":\"white\",\"linecolor\":\"white\",\"minorgridcolor\":\"white\",\"startlinecolor\":\"#2a3f5f\"},\"baxis\":{\"endlinecolor\":\"#2a3f5f\",\"gridcolor\":\"white\",\"linecolor\":\"white\",\"minorgridcolor\":\"white\",\"startlinecolor\":\"#2a3f5f\"},\"type\":\"carpet\"}],\"table\":[{\"cells\":{\"fill\":{\"color\":\"#EBF0F8\"},\"line\":{\"color\":\"white\"}},\"header\":{\"fill\":{\"color\":\"#C8D4E3\"},\"line\":{\"color\":\"white\"}},\"type\":\"table\"}],\"barpolar\":[{\"marker\":{\"line\":{\"color\":\"#E5ECF6\",\"width\":0.5},\"pattern\":{\"fillmode\":\"overlay\",\"size\":10,\"solidity\":0.2}},\"type\":\"barpolar\"}],\"pie\":[{\"automargin\":true,\"type\":\"pie\"}]},\"layout\":{\"autotypenumbers\":\"strict\",\"colorway\":[\"#636efa\",\"#EF553B\",\"#00cc96\",\"#ab63fa\",\"#FFA15A\",\"#19d3f3\",\"#FF6692\",\"#B6E880\",\"#FF97FF\",\"#FECB52\"],\"font\":{\"color\":\"#2a3f5f\"},\"hovermode\":\"closest\",\"hoverlabel\":{\"align\":\"left\"},\"paper_bgcolor\":\"white\",\"plot_bgcolor\":\"#E5ECF6\",\"polar\":{\"bgcolor\":\"#E5ECF6\",\"angularaxis\":{\"gridcolor\":\"white\",\"linecolor\":\"white\",\"ticks\":\"\"},\"radialaxis\":{\"gridcolor\":\"white\",\"linecolor\":\"white\",\"ticks\":\"\"}},\"ternary\":{\"bgcolor\":\"#E5ECF6\",\"aaxis\":{\"gridcolor\":\"white\",\"linecolor\":\"white\",\"ticks\":\"\"},\"baxis\":{\"gridcolor\":\"white\",\"linecolor\":\"white\",\"ticks\":\"\"},\"caxis\":{\"gridcolor\":\"white\",\"linecolor\":\"white\",\"ticks\":\"\"}},\"coloraxis\":{\"colorbar\":{\"outlinewidth\":0,\"ticks\":\"\"}},\"colorscale\":{\"sequential\":[[0.0,\"#0d0887\"],[0.1111111111111111,\"#46039f\"],[0.2222222222222222,\"#7201a8\"],[0.3333333333333333,\"#9c179e\"],[0.4444444444444444,\"#bd3786\"],[0.5555555555555556,\"#d8576b\"],[0.6666666666666666,\"#ed7953\"],[0.7777777777777778,\"#fb9f3a\"],[0.8888888888888888,\"#fdca26\"],[1.0,\"#f0f921\"]],\"sequentialminus\":[[0.0,\"#0d0887\"],[0.1111111111111111,\"#46039f\"],[0.2222222222222222,\"#7201a8\"],[0.3333333333333333,\"#9c179e\"],[0.4444444444444444,\"#bd3786\"],[0.5555555555555556,\"#d8576b\"],[0.6666666666666666,\"#ed7953\"],[0.7777777777777778,\"#fb9f3a\"],[0.8888888888888888,\"#fdca26\"],[1.0,\"#f0f921\"]],\"diverging\":[[0,\"#8e0152\"],[0.1,\"#c51b7d\"],[0.2,\"#de77ae\"],[0.3,\"#f1b6da\"],[0.4,\"#fde0ef\"],[0.5,\"#f7f7f7\"],[0.6,\"#e6f5d0\"],[0.7,\"#b8e186\"],[0.8,\"#7fbc41\"],[0.9,\"#4d9221\"],[1,\"#276419\"]]},\"xaxis\":{\"gridcolor\":\"white\",\"linecolor\":\"white\",\"ticks\":\"\",\"title\":{\"standoff\":15},\"zerolinecolor\":\"white\",\"automargin\":true,\"zerolinewidth\":2},\"yaxis\":{\"gridcolor\":\"white\",\"linecolor\":\"white\",\"ticks\":\"\",\"title\":{\"standoff\":15},\"zerolinecolor\":\"white\",\"automargin\":true,\"zerolinewidth\":2},\"scene\":{\"xaxis\":{\"backgroundcolor\":\"#E5ECF6\",\"gridcolor\":\"white\",\"linecolor\":\"white\",\"showbackground\":true,\"ticks\":\"\",\"zerolinecolor\":\"white\",\"gridwidth\":2},\"yaxis\":{\"backgroundcolor\":\"#E5ECF6\",\"gridcolor\":\"white\",\"linecolor\":\"white\",\"showbackground\":true,\"ticks\":\"\",\"zerolinecolor\":\"white\",\"gridwidth\":2},\"zaxis\":{\"backgroundcolor\":\"#E5ECF6\",\"gridcolor\":\"white\",\"linecolor\":\"white\",\"showbackground\":true,\"ticks\":\"\",\"zerolinecolor\":\"white\",\"gridwidth\":2}},\"shapedefaults\":{\"line\":{\"color\":\"#2a3f5f\"}},\"annotationdefaults\":{\"arrowcolor\":\"#2a3f5f\",\"arrowhead\":0,\"arrowwidth\":1},\"geo\":{\"bgcolor\":\"white\",\"landcolor\":\"#E5ECF6\",\"subunitcolor\":\"white\",\"showland\":true,\"showlakes\":true,\"lakecolor\":\"white\"},\"title\":{\"x\":0.05},\"mapbox\":{\"style\":\"light\"}}}},                        {\"responsive\": true}                    ).then(function(){\n                            \nvar gd = document.getElementById('ba0d5f0d-c3fb-4e70-82a5-a330a9144138');\nvar x = new MutationObserver(function (mutations, observer) {{\n        var display = window.getComputedStyle(gd).display;\n        if (!display || display === 'none') {{\n            console.log([gd, 'removed!']);\n            Plotly.purge(gd);\n            observer.disconnect();\n        }}\n}});\n\n// Listen for the removal of the full notebook cells\nvar notebookContainer = gd.closest('#notebook-container');\nif (notebookContainer) {{\n    x.observe(notebookContainer, {childList: true});\n}}\n\n// Listen for the clearing of the current output cell\nvar outputEl = gd.closest('.output');\nif (outputEl) {{\n    x.observe(outputEl, {childList: true});\n}}\n\n                        })                };                });            </script>        </div>"
     },
     "metadata": {},
     "output_type": "display_data"
    }
   ],
   "source": [
    "\n",
    "fig = go.Figure()\n",
    "fig.add_trace(go.Scatter(x=merged.index,\n",
    "                         y=merged[\"ilosc_przejazdow\"],\n",
    "                         mode='markers',\n",
    "                         marker=dict(size=3, color=\"blue\")\n",
    "                         ))\n",
    "fig.show()"
   ],
   "metadata": {
    "collapsed": false,
    "pycharm": {
     "name": "#%%\n"
    }
   }
  }
 ],
 "metadata": {
  "kernelspec": {
   "display_name": "Python 3",
   "language": "python",
   "name": "python3"
  },
  "language_info": {
   "codemirror_mode": {
    "name": "ipython",
    "version": 2
   },
   "file_extension": ".py",
   "mimetype": "text/x-python",
   "name": "python",
   "nbconvert_exporter": "python",
   "pygments_lexer": "ipython2",
   "version": "2.7.6"
  }
 },
 "nbformat": 4,
 "nbformat_minor": 0
}