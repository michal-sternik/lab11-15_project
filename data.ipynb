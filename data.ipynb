{
 "cells": [
  {
   "cell_type": "code",
   "execution_count": 63,
   "metadata": {
    "collapsed": true
   },
   "outputs": [],
   "source": [
    "import matplotlib.pyplot as plt\n",
    "import numpy as np\n",
    "from tabulate import tabulate\n",
    "from bs4 import BeautifulSoup\n",
    "import urllib.request\n",
    "import re\n",
    "import requests\n",
    "import pandas as pd\n",
    "import datetime\n",
    "import os\n",
    "import glob\n"
   ]
  },
  {
   "cell_type": "code",
   "execution_count": 71,
   "outputs": [
    {
     "data": {
      "text/plain": "[<a class=\"heading\" href=\"https://www.wroclaw.pl/open-data/dataset/9bf18a63-44a7-419a-966c-6ab253ef2b43/resource/45860c2f-60bb-410d-bf46-c3f3d62a3b3a/download_old_version/Historia_przejazdow_2021-6-1_23_31_43.csv\" title=\"Historia_przejazdow_2021-6-1_23_31_43.csv\">\n Historia_przejazdow_2021-6-1_23_31_43.csv\n </a>,\n <a class=\"heading\" href=\"https://www.wroclaw.pl/open-data/dataset/9bf18a63-44a7-419a-966c-6ab253ef2b43/resource/df547db9-94a6-413e-a451-651a186e73cc/download_old_version/Historia_przejazdow_2021-6-2_23_22_5.csv\" title=\"Historia_przejazdow_2021-6-2_23_22_5.csv\">\n Historia_przejazdow_2021-6-2_23_22_5.csv\n </a>,\n <a class=\"heading\" href=\"https://www.wroclaw.pl/open-data/dataset/9bf18a63-44a7-419a-966c-6ab253ef2b43/resource/1137f0f1-d4f5-4cdf-bd62-66098f224d42/download_old_version/Historia_przejazdow_2021-6-3_23_23_2.csv\" title=\"Historia_przejazdow_2021-6-3_23_23_2.csv\">\n Historia_przejazdow_2021-6-3_23_23_2.csv\n </a>,\n <a class=\"heading\" href=\"https://www.wroclaw.pl/open-data/dataset/9bf18a63-44a7-419a-966c-6ab253ef2b43/resource/4e6062b3-ccfe-4cee-9a30-5efdc0c97f0f/download_old_version/Historia_przejazdow_2021-6-4_23_32_17.csv\" title=\"Historia_przejazdow_2021-6-4_23_32_17.csv\">\n Historia_przejazdow_2021-6-4_23_32_17.csv\n </a>,\n <a class=\"heading\" href=\"https://www.wroclaw.pl/open-data/dataset/9bf18a63-44a7-419a-966c-6ab253ef2b43/resource/813042df-9c3c-4083-890f-d79f49e9096f/download_old_version/Historia_przejazdow_2021-6-5_23_24_40.csv\" title=\"Historia_przejazdow_2021-6-5_23_24_40.csv\">\n Historia_przejazdow_2021-6-5_23_24_40.csv\n </a>,\n <a class=\"heading\" href=\"https://www.wroclaw.pl/open-data/dataset/9bf18a63-44a7-419a-966c-6ab253ef2b43/resource/06f92d41-c0ab-459b-88c5-d7e089b77347/download_old_version/Historia_przejazdow_2021-6-6_23_25_0.csv\" title=\"Historia_przejazdow_2021-6-6_23_25_0.csv\">\n Historia_przejazdow_2021-6-6_23_25_0.csv\n </a>,\n <a class=\"heading\" href=\"https://www.wroclaw.pl/open-data/dataset/9bf18a63-44a7-419a-966c-6ab253ef2b43/resource/020817c9-7017-4c93-92ef-f0c92d15cebd/download_old_version/Historia_przejazdow_2021-6-7_23_37_14.csv\" title=\"Historia_przejazdow_2021-6-7_23_37_14.csv\">\n Historia_przejazdow_2021-6-7_23_37_14.csv\n </a>,\n <a class=\"heading\" href=\"https://www.wroclaw.pl/open-data/dataset/9bf18a63-44a7-419a-966c-6ab253ef2b43/resource/292ad6ca-23cc-4af2-8afb-f4e305e3ab3c/download_old_version/Historia_przejazdow_2021-6-8_23_36_49.csv\" title=\"Historia_przejazdow_2021-6-8_23_36_49.csv\">\n Historia_przejazdow_2021-6-8_23_36_49.csv\n </a>,\n <a class=\"heading\" href=\"https://www.wroclaw.pl/open-data/dataset/9bf18a63-44a7-419a-966c-6ab253ef2b43/resource/292b90cb-57ac-406f-afa1-9b1bea68fec3/download_old_version/Historia_przejazdow_2021-6-9_23_34_5.csv\" title=\"Historia_przejazdow_2021-6-9_23_34_5.csv\">\n Historia_przejazdow_2021-6-9_23_34_5.csv\n </a>,\n <a class=\"heading\" href=\"https://www.wroclaw.pl/open-data/dataset/9bf18a63-44a7-419a-966c-6ab253ef2b43/resource/523353f3-9591-4119-b925-b733e003095c/download_old_version/Historia_przejazdow_2021-6-10_23_33_16.csv\" title=\"Historia_przejazdow_2021-6-10_23_33_16.csv\">\n Historia_przejazdow_2021-6-10_23_33_16.csv\n </a>,\n <a class=\"heading\" href=\"https://www.wroclaw.pl/open-data/dataset/9bf18a63-44a7-419a-966c-6ab253ef2b43/resource/460f3492-a586-43e0-8dfe-1cd3bfc84964/download_old_version/Historia_przejazdow_2021-6-11_23_30_1.csv\" title=\"Historia_przejazdow_2021-6-11_23_30_1.csv\">\n Historia_przejazdow_2021-6-11_23_30_1.csv\n </a>,\n <a class=\"heading\" href=\"https://www.wroclaw.pl/open-data/dataset/9bf18a63-44a7-419a-966c-6ab253ef2b43/resource/5ef65fbc-9e9d-41ca-bcbd-c430a41b06ef/download_old_version/Historia_przejazdow_2021-6-12_23_42_33.csv\" title=\"Historia_przejazdow_2021-6-12_23_42_33.csv\">\n Historia_przejazdow_2021-6-12_23_42_33.csv\n </a>,\n <a class=\"heading\" href=\"https://www.wroclaw.pl/open-data/dataset/9bf18a63-44a7-419a-966c-6ab253ef2b43/resource/3a5738cf-1a11-416f-bc69-52948cc15fea/download_old_version/Historia_przejazdow_2021-6-13_23_33_39.csv\" title=\"Historia_przejazdow_2021-6-13_23_33_39.csv\">\n Historia_przejazdow_2021-6-13_23_33_39.csv\n </a>,\n <a class=\"heading\" href=\"https://www.wroclaw.pl/open-data/dataset/9bf18a63-44a7-419a-966c-6ab253ef2b43/resource/786a48d4-0880-47de-bde6-39d720df3d02/download_old_version/Historia_przejazdow_2021-6-14_23_32_58.csv\" title=\"Historia_przejazdow_2021-6-14_23_32_58.csv\">\n Historia_przejazdow_2021-6-14_23_32_58.csv\n </a>,\n <a class=\"heading\" href=\"https://www.wroclaw.pl/open-data/dataset/9bf18a63-44a7-419a-966c-6ab253ef2b43/resource/a4cbe5ec-dda2-48e3-ad0d-cd5b4e91a6a2/download_old_version/Historia_przejazdow_2021-6-15_23_34_0.csv\" title=\"Historia_przejazdow_2021-6-15_23_34_0.csv\">\n Historia_przejazdow_2021-6-15_23_34_0.csv\n </a>,\n <a class=\"heading\" href=\"https://www.wroclaw.pl/open-data/dataset/9bf18a63-44a7-419a-966c-6ab253ef2b43/resource/4ef92411-0a0f-4730-88c7-37ac984c03bb/download_old_version/Historia_przejazdow_2021-6-16_23_42_6.csv\" title=\"Historia_przejazdow_2021-6-16_23_42_6.csv\">\n Historia_przejazdow_2021-6-16_23_42_6.csv\n </a>,\n <a class=\"heading\" href=\"https://www.wroclaw.pl/open-data/dataset/9bf18a63-44a7-419a-966c-6ab253ef2b43/resource/b7bf2bed-1f48-4a61-b517-6cb17537eda9/download_old_version/Historia_przejazdow_2021-6-17_23_35_59.csv\" title=\"Historia_przejazdow_2021-6-17_23_35_59.csv\">\n Historia_przejazdow_2021-6-17_23_35_59.csv\n </a>,\n <a class=\"heading\" href=\"https://www.wroclaw.pl/open-data/dataset/9bf18a63-44a7-419a-966c-6ab253ef2b43/resource/6760fe5f-e770-4e43-a173-f89561f0c539/download_old_version/Historia_przejazdow_2021-6-18_23_49_52.csv\" title=\"Historia_przejazdow_2021-6-18_23_49_52.csv\">\n Historia_przejazdow_2021-6-18_23_49_52.csv\n </a>,\n <a class=\"heading\" href=\"https://www.wroclaw.pl/open-data/dataset/9bf18a63-44a7-419a-966c-6ab253ef2b43/resource/5c114466-859d-41f6-a544-e63f360f6930/download_old_version/Historia_przejazdow_2021-6-19_23_46_20.csv\" title=\"Historia_przejazdow_2021-6-19_23_46_20.csv\">\n Historia_przejazdow_2021-6-19_23_46_20.csv\n </a>,\n <a class=\"heading\" href=\"https://www.wroclaw.pl/open-data/dataset/9bf18a63-44a7-419a-966c-6ab253ef2b43/resource/d6103548-f832-4c89-94d6-69ed96d83f08/download_old_version/Historia_przejazdow_2021-6-20_23_46_8.csv\" title=\"Historia_przejazdow_2021-6-20_23_46_8.csv\">\n Historia_przejazdow_2021-6-20_23_46_8.csv\n </a>,\n <a class=\"heading\" href=\"https://www.wroclaw.pl/open-data/dataset/9bf18a63-44a7-419a-966c-6ab253ef2b43/resource/0e8d7313-f10d-46b8-9372-417522fb9e70/download_old_version/Historia_przejazdow_2021-6-21_23_39_4.csv\" title=\"Historia_przejazdow_2021-6-21_23_39_4.csv\">\n Historia_przejazdow_2021-6-21_23_39_4.csv\n </a>,\n <a class=\"heading\" href=\"https://www.wroclaw.pl/open-data/dataset/9bf18a63-44a7-419a-966c-6ab253ef2b43/resource/67819cdb-1005-41a3-8515-e85f131c51c5/download_old_version/Historia_przejazdow_2021-6-22_23_39_59.csv\" title=\"Historia_przejazdow_2021-6-22_23_39_59.csv\">\n Historia_przejazdow_2021-6-22_23_39_59.csv\n </a>,\n <a class=\"heading\" href=\"https://www.wroclaw.pl/open-data/dataset/9bf18a63-44a7-419a-966c-6ab253ef2b43/resource/966c47bf-3f8a-4d97-8af9-c9bd7d1a3ed3/download_old_version/Historia_przejazdow_2021-6-23_23_49_36.csv\" title=\"Historia_przejazdow_2021-6-23_23_49_36.csv\">\n Historia_przejazdow_2021-6-23_23_49_36.csv\n </a>,\n <a class=\"heading\" href=\"https://www.wroclaw.pl/open-data/dataset/9bf18a63-44a7-419a-966c-6ab253ef2b43/resource/64f087ed-ca67-45db-9ca3-ffb101402de2/download_old_version/Historia_przejazdow_2021-6-24_23_54_47.csv\" title=\"Historia_przejazdow_2021-6-24_23_54_47.csv\">\n Historia_przejazdow_2021-6-24_23_54_47.csv\n </a>,\n <a class=\"heading\" href=\"https://www.wroclaw.pl/open-data/dataset/9bf18a63-44a7-419a-966c-6ab253ef2b43/resource/0074e525-f011-46c4-a4c6-eccf9ca81de5/download_old_version/Historia_przejazdow_2021-6-25_23_50_36.csv\" title=\"Historia_przejazdow_2021-6-25_23_50_36.csv\">\n Historia_przejazdow_2021-6-25_23_50_36.csv\n </a>,\n <a class=\"heading\" href=\"https://www.wroclaw.pl/open-data/dataset/9bf18a63-44a7-419a-966c-6ab253ef2b43/resource/db2fb035-bd80-4813-87a0-6b5311168098/download_old_version/Historia_przejazdow_2021-6-26_23_53_40.csv\" title=\"Historia_przejazdow_2021-6-26_23_53_40.csv\">\n Historia_przejazdow_2021-6-26_23_53_40.csv\n </a>,\n <a class=\"heading\" href=\"https://www.wroclaw.pl/open-data/dataset/9bf18a63-44a7-419a-966c-6ab253ef2b43/resource/9b5e42b5-ba3e-4ce1-9110-4606e747c0f5/download_old_version/Historia_przejazdow_2021-6-27_23_53_2.csv\" title=\"Historia_przejazdow_2021-6-27_23_53_2.csv\">\n Historia_przejazdow_2021-6-27_23_53_2.csv\n </a>,\n <a class=\"heading\" href=\"https://www.wroclaw.pl/open-data/dataset/9bf18a63-44a7-419a-966c-6ab253ef2b43/resource/8d5667dc-f950-405f-bbf9-128c264433f7/download_old_version/Historia_przejazdow_2021-6-28_23_54_48.csv\" title=\"Historia_przejazdow_2021-6-28_23_54_48.csv\">\n Historia_przejazdow_2021-6-28_23_54_48.csv\n </a>,\n <a class=\"heading\" href=\"https://www.wroclaw.pl/open-data/dataset/9bf18a63-44a7-419a-966c-6ab253ef2b43/resource/56d06952-c356-4747-bac8-e938deac6213/download_old_version/Historia_przejazdow_2021-6-29_23_57_54.csv\" title=\"Historia_przejazdow_2021-6-29_23_57_54.csv\">\n Historia_przejazdow_2021-6-29_23_57_54.csv\n </a>,\n <a class=\"heading\" href=\"https://www.wroclaw.pl/open-data/dataset/9bf18a63-44a7-419a-966c-6ab253ef2b43/resource/c7fb7625-c7c7-4ac5-b230-04cfad0c5808/download_old_version/Historia_przejazdow_2021-6-30_23_53_38.csv\" title=\"Historia_przejazdow_2021-6-30_23_53_38.csv\">\n Historia_przejazdow_2021-6-30_23_53_38.csv\n </a>,\n <a class=\"heading\" href=\"https://www.wroclaw.pl/open-data/dataset/9bf18a63-44a7-419a-966c-6ab253ef2b43/resource/7ced1d71-dac8-4fa9-a991-c1a6c1769101/download_old_version/Historia_przejazdow_2021-7-1_23_59_44.csv\" title=\"Historia_przejazdow_2021-7-1_23_59_44.csv\">\n Historia_przejazdow_2021-7-1_23_59_44.csv\n </a>,\n <a class=\"heading\" href=\"https://www.wroclaw.pl/open-data/dataset/9bf18a63-44a7-419a-966c-6ab253ef2b43/resource/a79a256b-990c-439c-b9a6-b98eff6e5839/download_old_version/Historia_przejazdow_2021-7-2_23_49_59.csv\" title=\"Historia_przejazdow_2021-7-2_23_49_59.csv\">\n Historia_przejazdow_2021-7-2_23_49_59.csv\n </a>,\n <a class=\"heading\" href=\"https://www.wroclaw.pl/open-data/dataset/9bf18a63-44a7-419a-966c-6ab253ef2b43/resource/2bdec276-3cba-4713-af53-c4c067b88aa9/download_old_version/Historia_przejazdow_2021-7-3_23_54_53.csv\" title=\"Historia_przejazdow_2021-7-3_23_54_53.csv\">\n Historia_przejazdow_2021-7-3_23_54_53.csv\n </a>,\n <a class=\"heading\" href=\"https://www.wroclaw.pl/open-data/dataset/9bf18a63-44a7-419a-966c-6ab253ef2b43/resource/5411323e-e948-46fb-aea1-e8cc63a5ff53/download_old_version/Historia_przejazdow_2021-7-4_23_53_25.csv\" title=\"Historia_przejazdow_2021-7-4_23_53_25.csv\">\n Historia_przejazdow_2021-7-4_23_53_25.csv\n </a>,\n <a class=\"heading\" href=\"https://www.wroclaw.pl/open-data/dataset/9bf18a63-44a7-419a-966c-6ab253ef2b43/resource/74ffe8e7-a7e2-478f-b8e0-891119d2ee51/download_old_version/Historia_przejazdow_2021-7-5_23_58_51.csv\" title=\"Historia_przejazdow_2021-7-5_23_58_51.csv\">\n Historia_przejazdow_2021-7-5_23_58_51.csv\n </a>,\n <a class=\"heading\" href=\"https://www.wroclaw.pl/open-data/dataset/9bf18a63-44a7-419a-966c-6ab253ef2b43/resource/dcbbeafb-20d9-46a9-9f34-b650ad4a0a0a/download_old_version/Historia_przejazdow_2021-7-7_0_3_48.csv\" title=\"Historia_przejazdow_2021-7-7_0_3_48.csv\">\n Historia_przejazdow_2021-7-7_0_3_48.csv\n </a>,\n <a class=\"heading\" href=\"https://www.wroclaw.pl/open-data/dataset/9bf18a63-44a7-419a-966c-6ab253ef2b43/resource/bc93c557-d968-41ed-b408-88c34934d429/download_old_version/Historia_przejazdow_2021-7-8_0_6_28.csv\" title=\"Historia_przejazdow_2021-7-8_0_6_28.csv\">\n Historia_przejazdow_2021-7-8_0_6_28.csv\n </a>,\n <a class=\"heading\" href=\"https://www.wroclaw.pl/open-data/dataset/9bf18a63-44a7-419a-966c-6ab253ef2b43/resource/90597a8f-8f01-462c-81ad-38e6dc5d24fd/download_old_version/Historia_przejazdow_2021-7-9_0_3_26.csv\" title=\"Historia_przejazdow_2021-7-9_0_3_26.csv\">\n Historia_przejazdow_2021-7-9_0_3_26.csv\n </a>,\n <a class=\"heading\" href=\"https://www.wroclaw.pl/open-data/dataset/9bf18a63-44a7-419a-966c-6ab253ef2b43/resource/e9e1f8cf-38c8-4950-8aaf-2d8624558fe8/download_old_version/Historia_przejazdow_2021-7-10_0_10_12.csv\" title=\"Historia_przejazdow_2021-7-10_0_10_12.csv\">\n Historia_przejazdow_2021-7-10_0_10_12.csv\n </a>,\n <a class=\"heading\" href=\"https://www.wroclaw.pl/open-data/dataset/9bf18a63-44a7-419a-966c-6ab253ef2b43/resource/1c1e7a22-7f11-4196-9969-1dd146860c42/download_old_version/Historia_przejazdow_2021-7-11_0_6_20.csv\" title=\"Historia_przejazdow_2021-7-11_0_6_20.csv\">\n Historia_przejazdow_2021-7-11_0_6_20.csv\n </a>,\n <a class=\"heading\" href=\"https://www.wroclaw.pl/open-data/dataset/9bf18a63-44a7-419a-966c-6ab253ef2b43/resource/174d47ec-a4c6-48d9-bfd4-0fb8ddd073cf/download_old_version/Historia_przejazdow_2021-7-12_0_1_44.csv\" title=\"Historia_przejazdow_2021-7-12_0_1_44.csv\">\n Historia_przejazdow_2021-7-12_0_1_44.csv\n </a>,\n <a class=\"heading\" href=\"https://www.wroclaw.pl/open-data/dataset/9bf18a63-44a7-419a-966c-6ab253ef2b43/resource/60286cf9-9954-4f6b-9a4c-cb3dc6f9fbe2/download_old_version/Historia_przejazdow_2021-7-12_23_58_9.csv\" title=\"Historia_przejazdow_2021-7-12_23_58_9.csv\">\n Historia_przejazdow_2021-7-12_23_58_9.csv\n </a>,\n <a class=\"heading\" href=\"https://www.wroclaw.pl/open-data/dataset/9bf18a63-44a7-419a-966c-6ab253ef2b43/resource/107d93d6-ab99-477d-9132-dbc331ca492b/download_old_version/Historia_przejazdow_2021-7-14_0_12_56.csv\" title=\"Historia_przejazdow_2021-7-14_0_12_56.csv\">\n Historia_przejazdow_2021-7-14_0_12_56.csv\n </a>,\n <a class=\"heading\" href=\"https://www.wroclaw.pl/open-data/dataset/9bf18a63-44a7-419a-966c-6ab253ef2b43/resource/c14923e1-6755-4a05-a453-654121e723a1/download_old_version/Historia_przejazdow_2021-7-15_0_8_10.csv\" title=\"Historia_przejazdow_2021-7-15_0_8_10.csv\">\n Historia_przejazdow_2021-7-15_0_8_10.csv\n </a>,\n <a class=\"heading\" href=\"https://www.wroclaw.pl/open-data/dataset/9bf18a63-44a7-419a-966c-6ab253ef2b43/resource/14ba3770-4c4a-4b94-a2af-781bc5040139/download_old_version/Historia_przejazdow_2021-7-16_0_12_38.csv\" title=\"Historia_przejazdow_2021-7-16_0_12_38.csv\">\n Historia_przejazdow_2021-7-16_0_12_38.csv\n </a>,\n <a class=\"heading\" href=\"https://www.wroclaw.pl/open-data/dataset/9bf18a63-44a7-419a-966c-6ab253ef2b43/resource/cacd580a-4710-45a6-8efe-b135670ee664/download_old_version/Historia_przejazdow_2021-7-17_0_2_0.csv\" title=\"Historia_przejazdow_2021-7-17_0_2_0.csv\">\n Historia_przejazdow_2021-7-17_0_2_0.csv\n </a>,\n <a class=\"heading\" href=\"https://www.wroclaw.pl/open-data/dataset/9bf18a63-44a7-419a-966c-6ab253ef2b43/resource/89a91746-2667-435d-9795-663724c1888c/download_old_version/Historia_przejazdow_2021-7-18_0_9_21.csv\" title=\"Historia_przejazdow_2021-7-18_0_9_21.csv\">\n Historia_przejazdow_2021-7-18_0_9_21.csv\n </a>,\n <a class=\"heading\" href=\"https://www.wroclaw.pl/open-data/dataset/9bf18a63-44a7-419a-966c-6ab253ef2b43/resource/f87de604-f9ca-4ce5-a1d9-32baab078421/download_old_version/Historia_przejazdow_2021-7-19_0_18_51.csv\" title=\"Historia_przejazdow_2021-7-19_0_18_51.csv\">\n Historia_przejazdow_2021-7-19_0_18_51.csv\n </a>,\n <a class=\"heading\" href=\"https://www.wroclaw.pl/open-data/dataset/9bf18a63-44a7-419a-966c-6ab253ef2b43/resource/017fad25-2aa6-40f6-be85-4b434bb4ffa6/download_old_version/Historia_przejazdow_2021-7-20_0_4_59.csv\" title=\"Historia_przejazdow_2021-7-20_0_4_59.csv\">\n Historia_przejazdow_2021-7-20_0_4_59.csv\n </a>,\n <a class=\"heading\" href=\"https://www.wroclaw.pl/open-data/dataset/9bf18a63-44a7-419a-966c-6ab253ef2b43/resource/633ffa23-34b3-4485-a07d-ad1dee7272e7/download_old_version/Historia_przejazdow_2021-7-21_0_6_0.csv\" title=\"Historia_przejazdow_2021-7-21_0_6_0.csv\">\n Historia_przejazdow_2021-7-21_0_6_0.csv\n </a>,\n <a class=\"heading\" href=\"https://www.wroclaw.pl/open-data/dataset/9bf18a63-44a7-419a-966c-6ab253ef2b43/resource/1974832f-213a-4b6e-854a-71e342d5f47e/download_old_version/Historia_przejazdow_2021-7-22_0_20_55.csv\" title=\"Historia_przejazdow_2021-7-22_0_20_55.csv\">\n Historia_przejazdow_2021-7-22_0_20_55.csv\n </a>,\n <a class=\"heading\" href=\"https://www.wroclaw.pl/open-data/dataset/9bf18a63-44a7-419a-966c-6ab253ef2b43/resource/28920af9-e78b-4775-bc61-bcdc9e00ed4f/download_old_version/Historia_przejazdow_2021-7-23_0_16_54.csv\" title=\"Historia_przejazdow_2021-7-23_0_16_54.csv\">\n Historia_przejazdow_2021-7-23_0_16_54.csv\n </a>,\n <a class=\"heading\" href=\"https://www.wroclaw.pl/open-data/dataset/9bf18a63-44a7-419a-966c-6ab253ef2b43/resource/583e3252-af27-4d71-98b6-78b609dd5ead/download_old_version/Historia_przejazdow_2021-7-24_0_15_57.csv\" title=\"Historia_przejazdow_2021-7-24_0_15_57.csv\">\n Historia_przejazdow_2021-7-24_0_15_57.csv\n </a>,\n <a class=\"heading\" href=\"https://www.wroclaw.pl/open-data/dataset/9bf18a63-44a7-419a-966c-6ab253ef2b43/resource/add74a70-0d25-451d-bd27-a782894643d8/download_old_version/Historia_przejazdow_2021-7-25_0_10_36.csv\" title=\"Historia_przejazdow_2021-7-25_0_10_36.csv\">\n Historia_przejazdow_2021-7-25_0_10_36.csv\n </a>,\n <a class=\"heading\" href=\"https://www.wroclaw.pl/open-data/dataset/9bf18a63-44a7-419a-966c-6ab253ef2b43/resource/5cf20526-7745-42d7-90e4-ba42843adc48/download_old_version/Historia_przejazdow_2021-7-26_0_26_22.csv\" title=\"Historia_przejazdow_2021-7-26_0_26_22.csv\">\n Historia_przejazdow_2021-7-26_0_26_22.csv\n </a>,\n <a class=\"heading\" href=\"https://www.wroclaw.pl/open-data/dataset/9bf18a63-44a7-419a-966c-6ab253ef2b43/resource/d6634f4e-c890-45b2-90fa-94272fb3c477/download_old_version/Historia_przejazdow_2021-7-27_0_24_57.csv\" title=\"Historia_przejazdow_2021-7-27_0_24_57.csv\">\n Historia_przejazdow_2021-7-27_0_24_57.csv\n </a>,\n <a class=\"heading\" href=\"https://www.wroclaw.pl/open-data/dataset/9bf18a63-44a7-419a-966c-6ab253ef2b43/resource/adecec2d-10f8-4ba8-ba36-364f02d16e60/download_old_version/Historia_przejazdow_2021-7-28_0_12_9.csv\" title=\"Historia_przejazdow_2021-7-28_0_12_9.csv\">\n Historia_przejazdow_2021-7-28_0_12_9.csv\n </a>,\n <a class=\"heading\" href=\"https://www.wroclaw.pl/open-data/dataset/9bf18a63-44a7-419a-966c-6ab253ef2b43/resource/f2b251a8-04d8-46fe-9374-29f7ca59ee4f/download_old_version/Historia_przejazdow_2021-7-29_0_12_57.csv\" title=\"Historia_przejazdow_2021-7-29_0_12_57.csv\">\n Historia_przejazdow_2021-7-29_0_12_57.csv\n </a>,\n <a class=\"heading\" href=\"https://www.wroclaw.pl/open-data/dataset/9bf18a63-44a7-419a-966c-6ab253ef2b43/resource/2484b75c-22b1-4bc4-8258-bff50c087ccc/download_old_version/Historia_przejazdow_2021-7-30_0_14_49.csv\" title=\"Historia_przejazdow_2021-7-30_0_14_49.csv\">\n Historia_przejazdow_2021-7-30_0_14_49.csv\n </a>,\n <a class=\"heading\" href=\"https://www.wroclaw.pl/open-data/dataset/9bf18a63-44a7-419a-966c-6ab253ef2b43/resource/78c8eb66-9f24-4d34-8043-dca4dcb7808b/download_old_version/Historia_przejazdow_2021-7-31_0_14_43.csv\" title=\"Historia_przejazdow_2021-7-31_0_14_43.csv\">\n Historia_przejazdow_2021-7-31_0_14_43.csv\n </a>,\n <a class=\"heading\" href=\"https://www.wroclaw.pl/open-data/dataset/9bf18a63-44a7-419a-966c-6ab253ef2b43/resource/4e148f2e-5fcb-46b5-a216-80e3d4211319/download_old_version/Historia_przejazdow_2021-8-1_0_18_31.csv\" title=\"Historia_przejazdow_2021-8-1_0_18_31.csv\">\n Historia_przejazdow_2021-8-1_0_18_31.csv\n </a>,\n <a class=\"heading\" href=\"https://www.wroclaw.pl/open-data/dataset/9bf18a63-44a7-419a-966c-6ab253ef2b43/resource/0a7288a2-cc71-4b39-bdf5-c5fdedd76a59/download_old_version/Historia_przejazdow_2021-8-2_0_18_18.csv\" title=\"Historia_przejazdow_2021-8-2_0_18_18.csv\">\n Historia_przejazdow_2021-8-2_0_18_18.csv\n </a>,\n <a class=\"heading\" href=\"https://www.wroclaw.pl/open-data/dataset/9bf18a63-44a7-419a-966c-6ab253ef2b43/resource/fd992bae-da41-43e9-89e0-c77704d4d9f1/download_old_version/Historia_przejazdow_2021-8-3_0_17_47.csv\" title=\"Historia_przejazdow_2021-8-3_0_17_47.csv\">\n Historia_przejazdow_2021-8-3_0_17_47.csv\n </a>,\n <a class=\"heading\" href=\"https://www.wroclaw.pl/open-data/dataset/9bf18a63-44a7-419a-966c-6ab253ef2b43/resource/27d124c8-d4ac-4efd-aa7b-4e6bd306f375/download_old_version/Historia_przejazdow_2021-8-4_0_34_46.csv\" title=\"Historia_przejazdow_2021-8-4_0_34_46.csv\">\n Historia_przejazdow_2021-8-4_0_34_46.csv\n </a>,\n <a class=\"heading\" href=\"https://www.wroclaw.pl/open-data/dataset/9bf18a63-44a7-419a-966c-6ab253ef2b43/resource/09a37c34-05b6-48cd-9a70-cdffc7046d8e/download_old_version/Historia_przejazdow_2021-8-5_0_29_23.csv\" title=\"Historia_przejazdow_2021-8-5_0_29_23.csv\">\n Historia_przejazdow_2021-8-5_0_29_23.csv\n </a>,\n <a class=\"heading\" href=\"https://www.wroclaw.pl/open-data/dataset/9bf18a63-44a7-419a-966c-6ab253ef2b43/resource/7c7273cb-ea74-4cc4-965a-7eb3f042ecef/download_old_version/Historia_przejazdow_2021-8-6_0_34_13.csv\" title=\"Historia_przejazdow_2021-8-6_0_34_13.csv\">\n Historia_przejazdow_2021-8-6_0_34_13.csv\n </a>,\n <a class=\"heading\" href=\"https://www.wroclaw.pl/open-data/dataset/9bf18a63-44a7-419a-966c-6ab253ef2b43/resource/f53246c8-dd89-4c0e-aff5-e31c43a1a62f/download_old_version/Historia_przejazdow_2021-8-7_0_38_5.csv\" title=\"Historia_przejazdow_2021-8-7_0_38_5.csv\">\n Historia_przejazdow_2021-8-7_0_38_5.csv\n </a>,\n <a class=\"heading\" href=\"https://www.wroclaw.pl/open-data/dataset/9bf18a63-44a7-419a-966c-6ab253ef2b43/resource/19f0fa00-e4aa-4af3-9aab-0e394afe6e41/download_old_version/Historia_przejazdow_2021-8-8_0_22_42.csv\" title=\"Historia_przejazdow_2021-8-8_0_22_42.csv\">\n Historia_przejazdow_2021-8-8_0_22_42.csv\n </a>,\n <a class=\"heading\" href=\"https://www.wroclaw.pl/open-data/dataset/9bf18a63-44a7-419a-966c-6ab253ef2b43/resource/ef680b9d-1280-4774-8ef7-341624dd7856/download_old_version/Historia_przejazdow_2021-8-9_0_39_36.csv\" title=\"Historia_przejazdow_2021-8-9_0_39_36.csv\">\n Historia_przejazdow_2021-8-9_0_39_36.csv\n </a>,\n <a class=\"heading\" href=\"https://www.wroclaw.pl/open-data/dataset/9bf18a63-44a7-419a-966c-6ab253ef2b43/resource/88b9b8e2-d837-4f72-a6e2-8e4ff5149f04/download_old_version/Historia_przejazdow_2021-8-10_0_33_53.csv\" title=\"Historia_przejazdow_2021-8-10_0_33_53.csv\">\n Historia_przejazdow_2021-8-10_0_33_53.csv\n </a>,\n <a class=\"heading\" href=\"https://www.wroclaw.pl/open-data/dataset/9bf18a63-44a7-419a-966c-6ab253ef2b43/resource/27e8a7a3-259d-4732-8a77-81ead09bf5ce/download_old_version/Historia_przejazdow_2021-8-11_0_30_9.csv\" title=\"Historia_przejazdow_2021-8-11_0_30_9.csv\">\n Historia_przejazdow_2021-8-11_0_30_9.csv\n </a>,\n <a class=\"heading\" href=\"https://www.wroclaw.pl/open-data/dataset/9bf18a63-44a7-419a-966c-6ab253ef2b43/resource/073c830a-3fa5-414c-8908-562887a713a8/download_old_version/Historia_przejazdow_2021-8-12_0_32_17.csv\" title=\"Historia_przejazdow_2021-8-12_0_32_17.csv\">\n Historia_przejazdow_2021-8-12_0_32_17.csv\n </a>,\n <a class=\"heading\" href=\"https://www.wroclaw.pl/open-data/dataset/9bf18a63-44a7-419a-966c-6ab253ef2b43/resource/e9fce9dc-cf97-459b-b07c-fca0208efbef/download_old_version/Historia_przejazdow_2021-8-13_0_31_39.csv\" title=\"Historia_przejazdow_2021-8-13_0_31_39.csv\">\n Historia_przejazdow_2021-8-13_0_31_39.csv\n </a>,\n <a class=\"heading\" href=\"https://www.wroclaw.pl/open-data/dataset/9bf18a63-44a7-419a-966c-6ab253ef2b43/resource/a0c69aee-8d23-44a6-9375-3eaa7071805a/download_old_version/Historia_przejazdow_2021-8-14_0_31_24.csv\" title=\"Historia_przejazdow_2021-8-14_0_31_24.csv\">\n Historia_przejazdow_2021-8-14_0_31_24.csv\n </a>,\n <a class=\"heading\" href=\"https://www.wroclaw.pl/open-data/dataset/9bf18a63-44a7-419a-966c-6ab253ef2b43/resource/5b6df029-fdf8-40a8-95b9-d8c4107d0d33/download_old_version/Historia_przejazdow_2021-8-15_0_28_51.csv\" title=\"Historia_przejazdow_2021-8-15_0_28_51.csv\">\n Historia_przejazdow_2021-8-15_0_28_51.csv\n </a>,\n <a class=\"heading\" href=\"https://www.wroclaw.pl/open-data/dataset/9bf18a63-44a7-419a-966c-6ab253ef2b43/resource/61188204-0a00-4689-8d64-f8e086f82719/download_old_version/Historia_przejazdow_2021-8-16_0_29_42.csv\" title=\"Historia_przejazdow_2021-8-16_0_29_42.csv\">\n Historia_przejazdow_2021-8-16_0_29_42.csv\n </a>,\n <a class=\"heading\" href=\"https://www.wroclaw.pl/open-data/dataset/9bf18a63-44a7-419a-966c-6ab253ef2b43/resource/6d30a278-84d8-47ae-b06d-77a9f586e964/download_old_version/Historia_przejazdow_2021-8-17_0_36_25.csv\" title=\"Historia_przejazdow_2021-8-17_0_36_25.csv\">\n Historia_przejazdow_2021-8-17_0_36_25.csv\n </a>,\n <a class=\"heading\" href=\"https://www.wroclaw.pl/open-data/dataset/9bf18a63-44a7-419a-966c-6ab253ef2b43/resource/c9d84809-f4ee-41e6-86e8-de1de1cb06bb/download_old_version/Historia_przejazdow_2021-8-18_0_36_45.csv\" title=\"Historia_przejazdow_2021-8-18_0_36_45.csv\">\n Historia_przejazdow_2021-8-18_0_36_45.csv\n </a>,\n <a class=\"heading\" href=\"https://www.wroclaw.pl/open-data/dataset/9bf18a63-44a7-419a-966c-6ab253ef2b43/resource/5933a1dc-5d96-4a96-be71-836138b36bd9/download_old_version/Historia_przejazdow_2021-8-19_0_43_29.csv\" title=\"Historia_przejazdow_2021-8-19_0_43_29.csv\">\n Historia_przejazdow_2021-8-19_0_43_29.csv\n </a>,\n <a class=\"heading\" href=\"https://www.wroclaw.pl/open-data/dataset/9bf18a63-44a7-419a-966c-6ab253ef2b43/resource/ce567392-4b0d-416a-9e3a-07b2b300f279/download_old_version/Historia_przejazdow_2021-8-20_0_45_38.csv\" title=\"Historia_przejazdow_2021-8-20_0_45_38.csv\">\n Historia_przejazdow_2021-8-20_0_45_38.csv\n </a>,\n <a class=\"heading\" href=\"https://www.wroclaw.pl/open-data/dataset/9bf18a63-44a7-419a-966c-6ab253ef2b43/resource/d7c4a09b-1d86-45ed-b858-049a4f54cf6b/download_old_version/Historia_przejazdow_2021-8-21_0_51_18.csv\" title=\"Historia_przejazdow_2021-8-21_0_51_18.csv\">\n Historia_przejazdow_2021-8-21_0_51_18.csv\n </a>,\n <a class=\"heading\" href=\"https://www.wroclaw.pl/open-data/dataset/9bf18a63-44a7-419a-966c-6ab253ef2b43/resource/76b99eb0-f900-48ad-92f1-8e3e5f41802e/download_old_version/Historia_przejazdow_2021-8-22_0_45_45.csv\" title=\"Historia_przejazdow_2021-8-22_0_45_45.csv\">\n Historia_przejazdow_2021-8-22_0_45_45.csv\n </a>,\n <a class=\"heading\" href=\"https://www.wroclaw.pl/open-data/dataset/9bf18a63-44a7-419a-966c-6ab253ef2b43/resource/f7bc904f-0c44-4b34-8c8f-93f258c278aa/download_old_version/Historia_przejazdow_2021-8-23_0_54_1.csv\" title=\"Historia_przejazdow_2021-8-23_0_54_1.csv\">\n Historia_przejazdow_2021-8-23_0_54_1.csv\n </a>,\n <a class=\"heading\" href=\"https://www.wroclaw.pl/open-data/dataset/9bf18a63-44a7-419a-966c-6ab253ef2b43/resource/6857588c-6c5e-47fd-b919-4b239cb3c3ff/download_old_version/Historia_przejazdow_2021-8-24_0_46_23.csv\" title=\"Historia_przejazdow_2021-8-24_0_46_23.csv\">\n Historia_przejazdow_2021-8-24_0_46_23.csv\n </a>,\n <a class=\"heading\" href=\"https://www.wroclaw.pl/open-data/dataset/9bf18a63-44a7-419a-966c-6ab253ef2b43/resource/a733af61-efe4-4945-ac6e-62ac6f90f6d3/download_old_version/Historia_przejazdow_2021-8-25_0_38_26.csv\" title=\"Historia_przejazdow_2021-8-25_0_38_26.csv\">\n Historia_przejazdow_2021-8-25_0_38_26.csv\n </a>,\n <a class=\"heading\" href=\"https://www.wroclaw.pl/open-data/dataset/9bf18a63-44a7-419a-966c-6ab253ef2b43/resource/953485ee-1af5-4adb-9fc5-9014ec13180b/download_old_version/Historia_przejazdow_2021-8-26_0_39_3.csv\" title=\"Historia_przejazdow_2021-8-26_0_39_3.csv\">\n Historia_przejazdow_2021-8-26_0_39_3.csv\n </a>,\n <a class=\"heading\" href=\"https://www.wroclaw.pl/open-data/dataset/9bf18a63-44a7-419a-966c-6ab253ef2b43/resource/5dbfe645-828d-4826-9705-37cff817f039/download_old_version/Historia_przejazdow_2021-8-27_0_46_55.csv\" title=\"Historia_przejazdow_2021-8-27_0_46_55.csv\">\n Historia_przejazdow_2021-8-27_0_46_55.csv\n </a>,\n <a class=\"heading\" href=\"https://www.wroclaw.pl/open-data/dataset/9bf18a63-44a7-419a-966c-6ab253ef2b43/resource/58ab74f1-6f31-41b1-9eb2-78584ec4ef47/download_old_version/Historia_przejazdow_2021-8-28_0_49_0.csv\" title=\"Historia_przejazdow_2021-8-28_0_49_0.csv\">\n Historia_przejazdow_2021-8-28_0_49_0.csv\n </a>,\n <a class=\"heading\" href=\"https://www.wroclaw.pl/open-data/dataset/9bf18a63-44a7-419a-966c-6ab253ef2b43/resource/c80c20ab-55e6-4286-96e7-be95c1c59e1c/download_old_version/Historia_przejazdow_2021-8-29_0_52_45.csv\" title=\"Historia_przejazdow_2021-8-29_0_52_45.csv\">\n  Historia_przejazdow_2021-8-29_0_52_45.csv\n </a>,\n <a class=\"heading\" href=\"https://www.wroclaw.pl/open-data/dataset/9bf18a63-44a7-419a-966c-6ab253ef2b43/resource/39f851f1-e719-474f-a387-d29418ee76b5/download_old_version/Historia_przejazdow_2021-8-30_0_50_31.csv\" title=\"Historia_przejazdow_2021-8-30_0_50_31.csv\">\n Historia_przejazdow_2021-8-30_0_50_31.csv\n </a>,\n <a class=\"heading\" href=\"https://www.wroclaw.pl/open-data/dataset/9bf18a63-44a7-419a-966c-6ab253ef2b43/resource/bc2a927b-437b-4622-ab48-2098b6f87c85/download_old_version/Historia_przejazdow_2021-8-31_1_1_27.csv\" title=\"Historia_przejazdow_2021-8-31_1_1_27.csv\">\n Historia_przejazdow_2021-8-31_1_1_27.csv\n </a>,\n <a class=\"heading\" href=\"https://www.wroclaw.pl/open-data/dataset/9bf18a63-44a7-419a-966c-6ab253ef2b43/resource/38591dcd-fbe3-4499-814d-e333a5835391/download_old_version/Historia_przejazdow_2021-9-1_1_3_41.csv\" title=\"Historia_przejazdow_2021-9-1_1_3_41.csv\">\n Historia_przejazdow_2021-9-1_1_3_41.csv\n </a>,\n <a class=\"heading\" href=\"https://www.wroclaw.pl/open-data/dataset/9bf18a63-44a7-419a-966c-6ab253ef2b43/resource/8bb9d4ac-d7fd-4b39-9e3f-9d6ed820b3ca/download_old_version/Historia_przejazdow_2021-9-2_1_1_38.csv\" title=\"Historia_przejazdow_2021-9-2_1_1_38.csv\">\n Historia_przejazdow_2021-9-2_1_1_38.csv\n </a>,\n <a class=\"heading\" href=\"https://www.wroclaw.pl/open-data/dataset/9bf18a63-44a7-419a-966c-6ab253ef2b43/resource/d1e871a4-ff49-44d5-9c87-a3a2c566e629/download_old_version/Historia_przejazdow_2021-9-3_0_56_37.csv\" title=\"Historia_przejazdow_2021-9-3_0_56_37.csv\">\n Historia_przejazdow_2021-9-3_0_56_37.csv\n </a>,\n <a class=\"heading\" href=\"https://www.wroclaw.pl/open-data/dataset/9bf18a63-44a7-419a-966c-6ab253ef2b43/resource/24c7e4ad-25c3-43b0-9995-ee925c90a9f8/download_old_version/Historia_przejazdow_2021-9-4_0_57_21.csv\" title=\"Historia_przejazdow_2021-9-4_0_57_21.csv\">\n Historia_przejazdow_2021-9-4_0_57_21.csv\n </a>,\n <a class=\"heading\" href=\"https://www.wroclaw.pl/open-data/dataset/9bf18a63-44a7-419a-966c-6ab253ef2b43/resource/a85c58ba-50c0-40ca-b270-417411f6d647/download_old_version/Historia_przejazdow_2021-9-5_0_56_32.csv\" title=\"Historia_przejazdow_2021-9-5_0_56_32.csv\">\n Historia_przejazdow_2021-9-5_0_56_32.csv\n </a>,\n <a class=\"heading\" href=\"https://www.wroclaw.pl/open-data/dataset/9bf18a63-44a7-419a-966c-6ab253ef2b43/resource/4d82ab58-a7b1-43db-845b-de613172bd79/download_old_version/Historia_przejazdow_2021-9-6_1_0_27.csv\" title=\"Historia_przejazdow_2021-9-6_1_0_27.csv\">\n Historia_przejazdow_2021-9-6_1_0_27.csv\n </a>,\n <a class=\"heading\" href=\"https://www.wroclaw.pl/open-data/dataset/9bf18a63-44a7-419a-966c-6ab253ef2b43/resource/e26e96e4-3a42-4671-97f8-a978f8f61eed/download_old_version/Historia_przejazdow_2021-9-7_1_0_24.csv\" title=\"Historia_przejazdow_2021-9-7_1_0_24.csv\">\n Historia_przejazdow_2021-9-7_1_0_24.csv\n </a>,\n <a class=\"heading\" href=\"https://www.wroclaw.pl/open-data/dataset/9bf18a63-44a7-419a-966c-6ab253ef2b43/resource/052ab174-df6c-446c-b749-e362a07394ad/download_old_version/Historia_przejazdow_2021-9-8_0_51_1.csv\" title=\"Historia_przejazdow_2021-9-8_0_51_1.csv\">\n Historia_przejazdow_2021-9-8_0_51_1.csv\n </a>,\n <a class=\"heading\" href=\"https://www.wroclaw.pl/open-data/dataset/9bf18a63-44a7-419a-966c-6ab253ef2b43/resource/4adaf6ff-cf5e-403b-b66f-4927a2a69867/download_old_version/Historia_przejazdow_2021-9-9_0_58_0.csv\" title=\"Historia_przejazdow_2021-9-9_0_58_0.csv\">\n Historia_przejazdow_2021-9-9_0_58_0.csv\n </a>,\n <a class=\"heading\" href=\"https://www.wroclaw.pl/open-data/dataset/9bf18a63-44a7-419a-966c-6ab253ef2b43/resource/93c7d38f-67bc-4e9d-a8b2-24bc71af379c/download_old_version/Historia_przejazdow_2021-9-10_1_10_11.csv\" title=\"Historia_przejazdow_2021-9-10_1_10_11.csv\">\n Historia_przejazdow_2021-9-10_1_10_11.csv\n </a>,\n <a class=\"heading\" href=\"https://www.wroclaw.pl/open-data/dataset/9bf18a63-44a7-419a-966c-6ab253ef2b43/resource/51078387-bdd8-4263-92e7-82ac395dc8d3/download_old_version/Historia_przejazdow_2021-9-11_0_53_42.csv\" title=\"Historia_przejazdow_2021-9-11_0_53_42.csv\">\n Historia_przejazdow_2021-9-11_0_53_42.csv\n </a>,\n <a class=\"heading\" href=\"https://www.wroclaw.pl/open-data/dataset/9bf18a63-44a7-419a-966c-6ab253ef2b43/resource/40856182-1c30-460e-abab-c9cad68cb2fe/download_old_version/Historia_przejazdow_2021-9-12_0_53_43.csv\" title=\"Historia_przejazdow_2021-9-12_0_53_43.csv\">\n Historia_przejazdow_2021-9-12_0_53_43.csv\n </a>,\n <a class=\"heading\" href=\"https://www.wroclaw.pl/open-data/dataset/9bf18a63-44a7-419a-966c-6ab253ef2b43/resource/24392574-0a4d-4d39-b65f-22f361fd38c9/download_old_version/Historia_przejazdow_2021-9-13_1_13_47.csv\" title=\"Historia_przejazdow_2021-9-13_1_13_47.csv\">\n Historia_przejazdow_2021-9-13_1_13_47.csv\n </a>,\n <a class=\"heading\" href=\"https://www.wroclaw.pl/open-data/dataset/9bf18a63-44a7-419a-966c-6ab253ef2b43/resource/dbccb462-bd0d-4abd-9bb2-1dfbab580b00/download_old_version/Historia_przejazdow_2021-9-14_0_56_49.csv\" title=\"Historia_przejazdow_2021-9-14_0_56_49.csv\">\n Historia_przejazdow_2021-9-14_0_56_49.csv\n </a>,\n <a class=\"heading\" href=\"https://www.wroclaw.pl/open-data/dataset/9bf18a63-44a7-419a-966c-6ab253ef2b43/resource/d73ffc35-11c9-44a7-8a13-eb19637742f4/download_old_version/Historia_przejazdow_2021-9-15_1_0_14.csv\" title=\"Historia_przejazdow_2021-9-15_1_0_14.csv\">\n Historia_przejazdow_2021-9-15_1_0_14.csv\n </a>,\n <a class=\"heading\" href=\"https://www.wroclaw.pl/open-data/dataset/9bf18a63-44a7-419a-966c-6ab253ef2b43/resource/e7fb4a8b-772c-43b9-b91a-bba1d9a0445a/download_old_version/Historia_przejazdow_2021-9-16_1_9_37.csv\" title=\"Historia_przejazdow_2021-9-16_1_9_37.csv\">\n Historia_przejazdow_2021-9-16_1_9_37.csv\n </a>,\n <a class=\"heading\" href=\"https://www.wroclaw.pl/open-data/dataset/9bf18a63-44a7-419a-966c-6ab253ef2b43/resource/f1a6f53f-56df-4047-9341-6c60cd28a638/download_old_version/Historia_przejazdow_2021-9-17_1_11_42.csv\" title=\"Historia_przejazdow_2021-9-17_1_11_42.csv\">\n Historia_przejazdow_2021-9-17_1_11_42.csv\n </a>,\n <a class=\"heading\" href=\"https://www.wroclaw.pl/open-data/dataset/9bf18a63-44a7-419a-966c-6ab253ef2b43/resource/451e9b1e-9954-40cc-8a8e-3a9e2152035f/download_old_version/Historia_przejazdow_2021-9-18_1_12_58.csv\" title=\"Historia_przejazdow_2021-9-18_1_12_58.csv\">\n Historia_przejazdow_2021-9-18_1_12_58.csv\n </a>,\n <a class=\"heading\" href=\"https://www.wroclaw.pl/open-data/dataset/9bf18a63-44a7-419a-966c-6ab253ef2b43/resource/f5383b70-5e19-4bc5-b075-741463fa79d3/download_old_version/Historia_przejazdow_2021-9-19_1_7_44.csv\" title=\"Historia_przejazdow_2021-9-19_1_7_44.csv\">\n Historia_przejazdow_2021-9-19_1_7_44.csv\n </a>,\n <a class=\"heading\" href=\"https://www.wroclaw.pl/open-data/dataset/9bf18a63-44a7-419a-966c-6ab253ef2b43/resource/34786edb-d6ea-42bc-94b9-b92d7f26e79f/download_old_version/Historia_przejazdow_2021-9-20_1_13_44.csv\" title=\"Historia_przejazdow_2021-9-20_1_13_44.csv\">\n Historia_przejazdow_2021-9-20_1_13_44.csv\n </a>,\n <a class=\"heading\" href=\"https://www.wroclaw.pl/open-data/dataset/9bf18a63-44a7-419a-966c-6ab253ef2b43/resource/d4fbb6af-f02e-4b4a-880c-4d1ba42a194f/download_old_version/Historia_przejazdow_2021-9-21_1_17_0.csv\" title=\"Historia_przejazdow_2021-9-21_1_17_0.csv\">\n Historia_przejazdow_2021-9-21_1_17_0.csv\n </a>,\n <a class=\"heading\" href=\"https://www.wroclaw.pl/open-data/dataset/9bf18a63-44a7-419a-966c-6ab253ef2b43/resource/a0983bba-79dc-474d-817b-ce6cf2453dbc/download_old_version/Historia_przejazdow_2021-9-22_1_25_10.csv\" title=\"Historia_przejazdow_2021-9-22_1_25_10.csv\">\n Historia_przejazdow_2021-9-22_1_25_10.csv\n </a>,\n <a class=\"heading\" href=\"https://www.wroclaw.pl/open-data/dataset/9bf18a63-44a7-419a-966c-6ab253ef2b43/resource/0d01fa91-2407-4405-814a-a86f1d3fc105/download_old_version/Historia_przejazdow_2021-9-27_1_12_51.csv\" title=\"Historia_przejazdow_2021-9-27_1_12_51.csv\">\n Historia_przejazdow_2021-9-27_1_12_51.csv\n </a>,\n <a class=\"heading\" href=\"https://www.wroclaw.pl/open-data/dataset/9bf18a63-44a7-419a-966c-6ab253ef2b43/resource/e2d9bd80-b653-4d94-a758-c8f9da5ce7a4/download_old_version/Historia_przejazdow_2021-9-28_1_9_2.csv\" title=\"Historia_przejazdow_2021-9-28_1_9_2.csv\">\n Historia_przejazdow_2021-9-28_1_9_2.csv\n </a>,\n <a class=\"heading\" href=\"https://www.wroclaw.pl/open-data/dataset/9bf18a63-44a7-419a-966c-6ab253ef2b43/resource/5b47e512-5487-45bc-be13-2ddbafdcdb93/download_old_version/Historia_przejazdow_2021-9-29_1_20_45.csv\" title=\"Historia_przejazdow_2021-9-29_1_20_45.csv\">\n Historia_przejazdow_2021-9-29_1_20_45.csv\n </a>,\n <a class=\"heading\" href=\"https://www.wroclaw.pl/open-data/dataset/9bf18a63-44a7-419a-966c-6ab253ef2b43/resource/3a593236-d02e-45f3-be9a-b14039f5e3ac/download_old_version/Historia_przejazdow_2021-9-30_1_18_1.csv\" title=\"Historia_przejazdow_2021-9-30_1_18_1.csv\">\n Historia_przejazdow_2021-9-30_1_18_1.csv\n </a>,\n <a class=\"heading\" href=\"https://www.wroclaw.pl/open-data/dataset/9bf18a63-44a7-419a-966c-6ab253ef2b43/resource/707084b7-5cca-403a-87ec-7dce82fd1569/download_old_version/Historia_przejazdow_2021-10-1_1_12_2.csv\" title=\"Historia_przejazdow_2021-10-1_1_12_2.csv\">\n Historia_przejazdow_2021-10-1_1_12_2.csv\n </a>,\n <a class=\"heading\" href=\"https://www.wroclaw.pl/open-data/dataset/9bf18a63-44a7-419a-966c-6ab253ef2b43/resource/4a7b5fd2-44de-4ee8-a9d2-04e488114941/download_old_version/Historia_przejazdow_2021-10-2_1_31_38.csv\" title=\"Historia_przejazdow_2021-10-2_1_31_38.csv\">\n Historia_przejazdow_2021-10-2_1_31_38.csv\n </a>,\n <a class=\"heading\" href=\"https://www.wroclaw.pl/open-data/dataset/9bf18a63-44a7-419a-966c-6ab253ef2b43/resource/be79cc47-c90d-47a3-947e-d114daa13e59/download_old_version/Historia_przejazdow_2021-10-3_1_25_47.csv\" title=\"Historia_przejazdow_2021-10-3_1_25_47.csv\">\n Historia_przejazdow_2021-10-3_1_25_47.csv\n </a>,\n <a class=\"heading\" href=\"https://www.wroclaw.pl/open-data/dataset/9bf18a63-44a7-419a-966c-6ab253ef2b43/resource/d66fb01e-8ace-4887-acec-b20334fbb9e6/download_old_version/Historia_przejazdow_2021-10-4_1_36_15.csv\" title=\"Historia_przejazdow_2021-10-4_1_36_15.csv\">\n Historia_przejazdow_2021-10-4_1_36_15.csv\n </a>,\n <a class=\"heading\" href=\"https://www.wroclaw.pl/open-data/dataset/9bf18a63-44a7-419a-966c-6ab253ef2b43/resource/5bda8efd-f9b5-48e7-b6f4-05b93ae287fc/download_old_version/Historia_przejazdow_2021-10-5_1_16_55.csv\" title=\"Historia_przejazdow_2021-10-5_1_16_55.csv\">\n Historia_przejazdow_2021-10-5_1_16_55.csv\n </a>,\n <a class=\"heading\" href=\"https://www.wroclaw.pl/open-data/dataset/9bf18a63-44a7-419a-966c-6ab253ef2b43/resource/8a87199d-dc43-4079-9c6e-bb472e998207/download_old_version/Historia_przejazdow_2021-10-6_1_18_28.csv\" title=\"Historia_przejazdow_2021-10-6_1_18_28.csv\">\n Historia_przejazdow_2021-10-6_1_18_28.csv\n </a>,\n <a class=\"heading\" href=\"https://www.wroclaw.pl/open-data/dataset/9bf18a63-44a7-419a-966c-6ab253ef2b43/resource/01ce68a5-2967-4fe2-87e6-563b05374076/download_old_version/Historia_przejazdow_2021-10-7_1_25_38.csv\" title=\"Historia_przejazdow_2021-10-7_1_25_38.csv\">\n Historia_przejazdow_2021-10-7_1_25_38.csv\n </a>,\n <a class=\"heading\" href=\"https://www.wroclaw.pl/open-data/dataset/9bf18a63-44a7-419a-966c-6ab253ef2b43/resource/389ed9dc-9a46-48f1-a3fc-c7a26b8efa30/download_old_version/Historia_przejazdow_2021-10-8_1_38_45.csv\" title=\"Historia_przejazdow_2021-10-8_1_38_45.csv\">\n Historia_przejazdow_2021-10-8_1_38_45.csv\n </a>,\n <a class=\"heading\" href=\"https://www.wroclaw.pl/open-data/dataset/9bf18a63-44a7-419a-966c-6ab253ef2b43/resource/1d09c496-f0aa-4a7d-9fdd-fe2c44b8de67/download_old_version/Historia_przejazdow_2021-10-9_1_21_24.csv\" title=\"Historia_przejazdow_2021-10-9_1_21_24.csv\">\n Historia_przejazdow_2021-10-9_1_21_24.csv\n </a>,\n <a class=\"heading\" href=\"https://www.wroclaw.pl/open-data/dataset/9bf18a63-44a7-419a-966c-6ab253ef2b43/resource/9823343d-3438-4312-b2e7-a4c9b2d35ca4/download_old_version/Historia_przejazdow_2021-10-10_1_38_49.csv\" title=\"Historia_przejazdow_2021-10-10_1_38_49.csv\">\n Historia_przejazdow_2021-10-10_1_38_49.csv\n </a>,\n <a class=\"heading\" href=\"https://www.wroclaw.pl/open-data/dataset/9bf18a63-44a7-419a-966c-6ab253ef2b43/resource/a8c0c27e-368f-491c-90ed-192ae4986a50/download_old_version/Historia_przejazdow_2021-10-11_1_21_0.csv\" title=\"Historia_przejazdow_2021-10-11_1_21_0.csv\">\n Historia_przejazdow_2021-10-11_1_21_0.csv\n </a>,\n <a class=\"heading\" href=\"https://www.wroclaw.pl/open-data/dataset/9bf18a63-44a7-419a-966c-6ab253ef2b43/resource/2e145892-ecc0-4686-ad2d-fceeb1b1f9b4/download_old_version/Historia_przejazdow_2021-10-12_1_40_2.csv\" title=\"Historia_przejazdow_2021-10-12_1_40_2.csv\">\n Historia_przejazdow_2021-10-12_1_40_2.csv\n </a>,\n <a class=\"heading\" href=\"https://www.wroclaw.pl/open-data/dataset/9bf18a63-44a7-419a-966c-6ab253ef2b43/resource/d1b66175-d78d-4be7-b6fd-6bb161375c00/download_old_version/Historia_przejazdow_2021-10-13_1_36_40.csv\" title=\"Historia_przejazdow_2021-10-13_1_36_40.csv\">\n Historia_przejazdow_2021-10-13_1_36_40.csv\n </a>,\n <a class=\"heading\" href=\"https://www.wroclaw.pl/open-data/dataset/9bf18a63-44a7-419a-966c-6ab253ef2b43/resource/c4d88fdd-f3e2-410b-830b-256d0b3309fe/download_old_version/Historia_przejazdow_2021-10-14_1_34_49.csv\" title=\"Historia_przejazdow_2021-10-14_1_34_49.csv\">\n Historia_przejazdow_2021-10-14_1_34_49.csv\n </a>,\n <a class=\"heading\" href=\"https://www.wroclaw.pl/open-data/dataset/9bf18a63-44a7-419a-966c-6ab253ef2b43/resource/82d2815d-7960-447a-8b57-26ae0c0a861a/download_old_version/Historia_przejazdow_2021-10-15_1_24_58.csv\" title=\"Historia_przejazdow_2021-10-15_1_24_58.csv\">\n Historia_przejazdow_2021-10-15_1_24_58.csv\n </a>,\n <a class=\"heading\" href=\"https://www.wroclaw.pl/open-data/dataset/9bf18a63-44a7-419a-966c-6ab253ef2b43/resource/c716a1fd-458c-4de8-a89c-1dad9fcb1568/download_old_version/Historia_przejazdow_2021-10-16_1_25_58.csv\" title=\"Historia_przejazdow_2021-10-16_1_25_58.csv\">\n Historia_przejazdow_2021-10-16_1_25_58.csv\n </a>,\n <a class=\"heading\" href=\"https://www.wroclaw.pl/open-data/dataset/9bf18a63-44a7-419a-966c-6ab253ef2b43/resource/8e054ab0-f9e7-4215-a608-28f82676515d/download_old_version/Historia_przejazdow_2021-10-17_1_33_49.csv\" title=\"Historia_przejazdow_2021-10-17_1_33_49.csv\">\n Historia_przejazdow_2021-10-17_1_33_49.csv\n </a>,\n <a class=\"heading\" href=\"https://www.wroclaw.pl/open-data/dataset/9bf18a63-44a7-419a-966c-6ab253ef2b43/resource/a2d2d05f-b7ea-4803-8811-be2d076024f0/download_old_version/Historia_przejazdow_2021-10-18_1_43_23.csv\" title=\"Historia_przejazdow_2021-10-18_1_43_23.csv\">\n Historia_przejazdow_2021-10-18_1_43_23.csv\n </a>,\n <a class=\"heading\" href=\"https://www.wroclaw.pl/open-data/dataset/9bf18a63-44a7-419a-966c-6ab253ef2b43/resource/da91c252-238b-4def-acba-f94d18cbf080/download_old_version/Historia_przejazdow_2021-10-19_1_37_31.csv\" title=\"Historia_przejazdow_2021-10-19_1_37_31.csv\">\n Historia_przejazdow_2021-10-19_1_37_31.csv\n </a>,\n <a class=\"heading\" href=\"https://www.wroclaw.pl/open-data/dataset/9bf18a63-44a7-419a-966c-6ab253ef2b43/resource/b40d78b7-ee1e-4521-aab6-c94890848830/download_old_version/Historia_przejazdow_2021-10-20_1_29_59.csv\" title=\"Historia_przejazdow_2021-10-20_1_29_59.csv\">\n Historia_przejazdow_2021-10-20_1_29_59.csv\n </a>,\n <a class=\"heading\" href=\"https://www.wroclaw.pl/open-data/dataset/9bf18a63-44a7-419a-966c-6ab253ef2b43/resource/7fc2c311-fd11-468f-9648-d237b66846a7/download_old_version/Historia_przejazdow_2021-10-21_1_38_31.csv\" title=\"Historia_przejazdow_2021-10-21_1_38_31.csv\">\n Historia_przejazdow_2021-10-21_1_38_31.csv\n </a>,\n <a class=\"heading\" href=\"https://www.wroclaw.pl/open-data/dataset/9bf18a63-44a7-419a-966c-6ab253ef2b43/resource/aec7d442-826f-4650-a246-9be1148d63da/download_old_version/Historia_przejazdow_2021-10-22_1_52_9.csv\" title=\"Historia_przejazdow_2021-10-22_1_52_9.csv\">\n Historia_przejazdow_2021-10-22_1_52_9.csv\n </a>,\n <a class=\"heading\" href=\"https://www.wroclaw.pl/open-data/dataset/9bf18a63-44a7-419a-966c-6ab253ef2b43/resource/0068a45f-1345-4452-b610-94b11b2b8964/download_old_version/Historia_przejazdow_2021-10-23_1_33_17.csv\" title=\"Historia_przejazdow_2021-10-23_1_33_17.csv\">\n Historia_przejazdow_2021-10-23_1_33_17.csv\n </a>,\n <a class=\"heading\" href=\"https://www.wroclaw.pl/open-data/dataset/9bf18a63-44a7-419a-966c-6ab253ef2b43/resource/e3210674-4b67-4dd6-8e7e-b8c5f23025ac/download_old_version/Historia_przejazdow_2021-10-24_1_34_11.csv\" title=\"Historia_przejazdow_2021-10-24_1_34_11.csv\">\n Historia_przejazdow_2021-10-24_1_34_11.csv\n </a>,\n <a class=\"heading\" href=\"https://www.wroclaw.pl/open-data/dataset/9bf18a63-44a7-419a-966c-6ab253ef2b43/resource/961d2f5a-dc73-452b-b9fb-2be34f554112/download_old_version/Historia_przejazdow_2021-10-25_1_40_29.csv\" title=\"Historia_przejazdow_2021-10-25_1_40_29.csv\">\n Historia_przejazdow_2021-10-25_1_40_29.csv\n </a>,\n <a class=\"heading\" href=\"https://www.wroclaw.pl/open-data/dataset/9bf18a63-44a7-419a-966c-6ab253ef2b43/resource/e7a247e6-de57-47c2-a586-5b105a536d6e/download_old_version/Historia_przejazdow_2021-10-26_1_42_2.csv\" title=\"Historia_przejazdow_2021-10-26_1_42_2.csv\">\n Historia_przejazdow_2021-10-26_1_42_2.csv\n </a>,\n <a class=\"heading\" href=\"https://www.wroclaw.pl/open-data/dataset/9bf18a63-44a7-419a-966c-6ab253ef2b43/resource/abd30593-a8df-49b1-acfb-8db3990477fa/download_old_version/Historia_przejazdow_2021-10-27_1_48_31.csv\" title=\"Historia_przejazdow_2021-10-27_1_48_31.csv\">\n Historia_przejazdow_2021-10-27_1_48_31.csv\n </a>,\n <a class=\"heading\" href=\"https://www.wroclaw.pl/open-data/dataset/9bf18a63-44a7-419a-966c-6ab253ef2b43/resource/03d7db44-2cf1-4dc7-a919-f1a62868c94f/download_old_version/Historia_przejazdow_2021-10-28_1_54_32.csv\" title=\"Historia_przejazdow_2021-10-28_1_54_32.csv\">\n Historia_przejazdow_2021-10-28_1_54_32.csv\n </a>,\n <a class=\"heading\" href=\"https://www.wroclaw.pl/open-data/dataset/9bf18a63-44a7-419a-966c-6ab253ef2b43/resource/6212b3ce-be5a-413d-853c-f16244fe34ff/download_old_version/Historia_przejazdow_2021-10-29_1_41_8.csv\" title=\"Historia_przejazdow_2021-10-29_1_41_8.csv\">\n Historia_przejazdow_2021-10-29_1_41_8.csv\n </a>,\n <a class=\"heading\" href=\"https://www.wroclaw.pl/open-data/dataset/9bf18a63-44a7-419a-966c-6ab253ef2b43/resource/35b162f5-2b75-4f4f-b95c-c58d55a296fe/download_old_version/Historia_przejazdow_2021-10-30_1_54_43.csv\" title=\"Historia_przejazdow_2021-10-30_1_54_43.csv\">\n Historia_przejazdow_2021-10-30_1_54_43.csv\n </a>,\n <a class=\"heading\" href=\"https://www.wroclaw.pl/open-data/dataset/9bf18a63-44a7-419a-966c-6ab253ef2b43/resource/06cbd0c4-11d0-4da6-ae95-2f343df612ba/download_old_version/Historia_przejazdow_2021-10-31_2_1_5.csv\" title=\"Historia_przejazdow_2021-10-31_2_1_5.csv\">\n Historia_przejazdow_2021-10-31_2_1_5.csv\n </a>,\n <a class=\"heading\" href=\"https://www.wroclaw.pl/open-data/dataset/9bf18a63-44a7-419a-966c-6ab253ef2b43/resource/08e0c87c-2732-49df-bfa6-40d7db702ef5/download_old_version/Historia_przejazdow_2021-11-1_0_47_14.csv\" title=\"Historia_przejazdow_2021-11-1_0_47_14.csv\">\n Historia_przejazdow_2021-11-1_0_47_14.csv\n </a>,\n <a class=\"heading\" href=\"https://www.wroclaw.pl/open-data/dataset/9bf18a63-44a7-419a-966c-6ab253ef2b43/resource/0dc985ab-fb81-4976-9088-d4cdd10ffe97/download_old_version/Historia_przejazdow_2021-11-2_0_47_4.csv\" title=\"Historia_przejazdow_2021-11-2_0_47_4.csv\">\n Historia_przejazdow_2021-11-2_0_47_4.csv\n </a>,\n <a class=\"heading\" href=\"https://www.wroclaw.pl/open-data/dataset/9bf18a63-44a7-419a-966c-6ab253ef2b43/resource/bf985a59-4e2a-4bf6-8944-8348bc15038b/download_old_version/Historia_przejazdow_2021-11-3_0_55_44.csv\" title=\"Historia_przejazdow_2021-11-3_0_55_44.csv\">\n Historia_przejazdow_2021-11-3_0_55_44.csv\n </a>,\n <a class=\"heading\" href=\"https://www.wroclaw.pl/open-data/dataset/9bf18a63-44a7-419a-966c-6ab253ef2b43/resource/2564fc92-f660-42cd-a088-0e4421cdf338/download_old_version/Historia_przejazdow_2021-11-4_1_4_35.csv\" title=\"Historia_przejazdow_2021-11-4_1_4_35.csv\">\n Historia_przejazdow_2021-11-4_1_4_35.csv\n </a>,\n <a class=\"heading\" href=\"https://www.wroclaw.pl/open-data/dataset/9bf18a63-44a7-419a-966c-6ab253ef2b43/resource/803cbfc3-32a6-44ba-8a82-7c4f4366eacb/download_old_version/Historia_przejazdow_2021-11-5_1_6_14.csv\" title=\"Historia_przejazdow_2021-11-5_1_6_14.csv\">\n Historia_przejazdow_2021-11-5_1_6_14.csv\n </a>,\n <a class=\"heading\" href=\"https://www.wroclaw.pl/open-data/dataset/9bf18a63-44a7-419a-966c-6ab253ef2b43/resource/bf1c1952-fe5d-40a0-b9c6-9ea7ca7b4828/download_old_version/Historia_przejazdow_2021-11-6_0_46_42.csv\" title=\"Historia_przejazdow_2021-11-6_0_46_42.csv\">\n Historia_przejazdow_2021-11-6_0_46_42.csv\n </a>,\n <a class=\"heading\" href=\"https://www.wroclaw.pl/open-data/dataset/9bf18a63-44a7-419a-966c-6ab253ef2b43/resource/403e18f9-6056-42e3-a281-5ed2eb67298b/download_old_version/Historia_przejazdow_2021-11-7_0_47_48.csv\" title=\"Historia_przejazdow_2021-11-7_0_47_48.csv\">\n Historia_przejazdow_2021-11-7_0_47_48.csv\n </a>,\n <a class=\"heading\" href=\"https://www.wroclaw.pl/open-data/dataset/9bf18a63-44a7-419a-966c-6ab253ef2b43/resource/5d72f77c-2128-465e-b2a7-e37b4a823f1b/download_old_version/Historia_przejazdow_2021-11-8_0_57_8.csv\" title=\"Historia_przejazdow_2021-11-8_0_57_8.csv\">\n Historia_przejazdow_2021-11-8_0_57_8.csv\n </a>,\n <a class=\"heading\" href=\"https://www.wroclaw.pl/open-data/dataset/9bf18a63-44a7-419a-966c-6ab253ef2b43/resource/bc0e1af5-dbd4-4aeb-8eaa-270dc414dd01/download_old_version/Historia_przejazdow_2021-11-9_1_6_2.csv\" title=\"Historia_przejazdow_2021-11-9_1_6_2.csv\">\n Historia_przejazdow_2021-11-9_1_6_2.csv\n </a>,\n <a class=\"heading\" href=\"https://www.wroclaw.pl/open-data/dataset/9bf18a63-44a7-419a-966c-6ab253ef2b43/resource/5b2ab406-2cb7-47f7-a68a-3829606a2d81/download_old_version/Historia_przejazdow_2021-11-10_1_9_59.csv\" title=\"Historia_przejazdow_2021-11-10_1_9_59.csv\">\n Historia_przejazdow_2021-11-10_1_9_59.csv\n </a>,\n <a class=\"heading\" href=\"https://www.wroclaw.pl/open-data/dataset/9bf18a63-44a7-419a-966c-6ab253ef2b43/resource/948413a1-2e4b-48ea-8601-88a04a41be6c/download_old_version/Historia_przejazdow_2021-11-11_1_5_54.csv\" title=\"Historia_przejazdow_2021-11-11_1_5_54.csv\">\n Historia_przejazdow_2021-11-11_1_5_54.csv\n </a>,\n <a class=\"heading\" href=\"https://www.wroclaw.pl/open-data/dataset/9bf18a63-44a7-419a-966c-6ab253ef2b43/resource/f871b3ec-a21e-4843-85a0-186d5371a361/download_old_version/Historia_przejazdow_2021-11-15_7_46_48.csv\" title=\"Historia_przejazdow_2021-11-15_7_46_48.csv\">\n Historia_przejazdow_2021-11-15_7_46_48.csv\n </a>,\n <a class=\"heading\" href=\"https://www.wroclaw.pl/open-data/dataset/9bf18a63-44a7-419a-966c-6ab253ef2b43/resource/086a6120-8b94-440c-8b6e-edd6983416f4/download_old_version/Historia_przejazdow_2021-11-15_7_47_4.csv\" title=\"Historia_przejazdow_2021-11-15_7_47_4.csv\">\n Historia_przejazdow_2021-11-15_7_47_4.csv\n </a>,\n <a class=\"heading\" href=\"https://www.wroclaw.pl/open-data/dataset/9bf18a63-44a7-419a-966c-6ab253ef2b43/resource/e7168690-62db-492e-8bf6-6075dd9bd89b/download_old_version/Historia_przejazdow_2021-11-16_7_46_59.csv\" title=\"Historia_przejazdow_2021-11-16_7_46_59.csv\">\n Historia_przejazdow_2021-11-16_7_46_59.csv\n </a>,\n <a class=\"heading\" href=\"https://www.wroclaw.pl/open-data/dataset/9bf18a63-44a7-419a-966c-6ab253ef2b43/resource/e488280a-dc6d-45e3-8f4f-ace05a1ab7e6/download_old_version/Historia_przejazdow_2021-11-17_7_48_3.csv\" title=\"Historia_przejazdow_2021-11-17_7_48_3.csv\">\n Historia_przejazdow_2021-11-17_7_48_3.csv\n </a>,\n <a class=\"heading\" href=\"https://www.wroclaw.pl/open-data/dataset/9bf18a63-44a7-419a-966c-6ab253ef2b43/resource/0eac3783-4574-4a0c-8245-6a69222c1694/download_old_version/Historia_przejazdow_2021-11-18_7_49_0.csv\" title=\"Historia_przejazdow_2021-11-18_7_49_0.csv\">\n Historia_przejazdow_2021-11-18_7_49_0.csv\n </a>,\n <a class=\"heading\" href=\"https://www.wroclaw.pl/open-data/dataset/9bf18a63-44a7-419a-966c-6ab253ef2b43/resource/afacd752-734a-45e6-97ad-496b5d7ca250/download_old_version/Historia_przejazdow_2021-11-19_7_49_59.csv\" title=\"Historia_przejazdow_2021-11-19_7_49_59.csv\">\n Historia_przejazdow_2021-11-19_7_49_59.csv\n </a>,\n <a class=\"heading\" href=\"https://www.wroclaw.pl/open-data/dataset/9bf18a63-44a7-419a-966c-6ab253ef2b43/resource/d8469cd0-2e37-4831-ae53-4c8b2a3ac755/download_old_version/Historia_przejazdow_2021-11-20_7_50_42.csv\" title=\"Historia_przejazdow_2021-11-20_7_50_42.csv\">\n Historia_przejazdow_2021-11-20_7_50_42.csv\n </a>,\n <a class=\"heading\" href=\"https://www.wroclaw.pl/open-data/dataset/9bf18a63-44a7-419a-966c-6ab253ef2b43/resource/fd0a22b6-0510-4c2a-b3b8-2342c9df66b8/download_old_version/Historia_przejazdow_2021-11-21_8_5_42.csv\" title=\"Historia_przejazdow_2021-11-21_8_5_42.csv\">\n Historia_przejazdow_2021-11-21_8_5_42.csv\n </a>,\n <a class=\"heading\" href=\"https://www.wroclaw.pl/open-data/dataset/9bf18a63-44a7-419a-966c-6ab253ef2b43/resource/1c682fa6-9c86-4a1b-ae9b-ecca677c5fdb/download_old_version/Historia_przejazdow_2021-11-22_7_52_3.csv\" title=\"Historia_przejazdow_2021-11-22_7_52_3.csv\">\n Historia_przejazdow_2021-11-22_7_52_3.csv\n </a>,\n <a class=\"heading\" href=\"https://www.wroclaw.pl/open-data/dataset/9bf18a63-44a7-419a-966c-6ab253ef2b43/resource/9921a787-901e-423a-9bbb-85127b64c14f/download_old_version/Historia_przejazdow_2021-11-23_7_56_30.csv\" title=\"Historia_przejazdow_2021-11-23_7_56_30.csv\">\n Historia_przejazdow_2021-11-23_7_56_30.csv\n </a>,\n <a class=\"heading\" href=\"https://www.wroclaw.pl/open-data/dataset/9bf18a63-44a7-419a-966c-6ab253ef2b43/resource/54a84475-9699-4617-916c-caf09d448ccc/download_old_version/Historia_przejazdow_2021-11-24_8_4_56.csv\" title=\"Historia_przejazdow_2021-11-24_8_4_56.csv\">\n Historia_przejazdow_2021-11-24_8_4_56.csv\n </a>,\n <a class=\"heading\" href=\"https://www.wroclaw.pl/open-data/dataset/9bf18a63-44a7-419a-966c-6ab253ef2b43/resource/a4bbf9a5-9d80-435f-9c92-6b6e8198145f/download_old_version/Historia_przejazdow_2021-11-25_8_12_22.csv\" title=\"Historia_przejazdow_2021-11-25_8_12_22.csv\">\n Historia_przejazdow_2021-11-25_8_12_22.csv\n </a>,\n <a class=\"heading\" href=\"https://www.wroclaw.pl/open-data/dataset/9bf18a63-44a7-419a-966c-6ab253ef2b43/resource/72960b89-05b4-4c2a-86e1-ef09bf1e6d58/download_old_version/Historia_przejazdow_2021-11-26_7_56_4.csv\" title=\"Historia_przejazdow_2021-11-26_7_56_4.csv\">\n Historia_przejazdow_2021-11-26_7_56_4.csv\n </a>,\n <a class=\"heading\" href=\"https://www.wroclaw.pl/open-data/dataset/9bf18a63-44a7-419a-966c-6ab253ef2b43/resource/9e344cb6-cc48-4dc9-b8ba-10a3b134c782/download_old_version/Historia_przejazdow_2021-11-27_8_13_36.csv\" title=\"Historia_przejazdow_2021-11-27_8_13_36.csv\">\n Historia_przejazdow_2021-11-27_8_13_36.csv\n </a>,\n <a class=\"heading\" href=\"https://www.wroclaw.pl/open-data/dataset/9bf18a63-44a7-419a-966c-6ab253ef2b43/resource/65cf6bdf-a262-48fb-b1f8-1fefeaf7d47e/download_old_version/Historia_przejazdow_2021-11-28_7_59_9.csv\" title=\"Historia_przejazdow_2021-11-28_7_59_9.csv\">\n Historia_przejazdow_2021-11-28_7_59_9.csv\n </a>,\n <a class=\"heading\" href=\"https://www.wroclaw.pl/open-data/dataset/9bf18a63-44a7-419a-966c-6ab253ef2b43/resource/35a4e71a-f313-46a5-8296-dbb1d80f823d/download_old_version/Historia_przejazdow_2021-11-29_7_59_5.csv\" title=\"Historia_przejazdow_2021-11-29_7_59_5.csv\">\n Historia_przejazdow_2021-11-29_7_59_5.csv\n </a>,\n <a class=\"heading\" href=\"https://www.wroclaw.pl/open-data/dataset/9bf18a63-44a7-419a-966c-6ab253ef2b43/resource/567d07df-b0ec-4b90-be2f-e40293fa245e/download_old_version/Historia_przejazdow_2021-11-30_8_15_37.csv\" title=\"Historia_przejazdow_2021-11-30_8_15_37.csv\">\n Historia_przejazdow_2021-11-30_8_15_37.csv\n </a>,\n <a class=\"heading\" href=\"https://www.wroclaw.pl/open-data/dataset/9bf18a63-44a7-419a-966c-6ab253ef2b43/resource/d6c12420-415b-467e-a51f-114c11a1df88/download_old_version/Historia_przejazdow_2021-12-1_8_15_24.csv\" title=\"Historia_przejazdow_2021-12-1_8_15_24.csv\">\n Historia_przejazdow_2021-12-1_8_15_24.csv\n </a>,\n <a class=\"heading\" href=\"https://www.wroclaw.pl/open-data/dataset/9bf18a63-44a7-419a-966c-6ab253ef2b43/resource/c4e8b6c6-e357-46bc-9bfe-1d50a1ae98d0/download_old_version/Historia_przejazdow_2021-12-2_8_15_30.csv\" title=\"Historia_przejazdow_2021-12-2_8_15_30.csv\">\n Historia_przejazdow_2021-12-2_8_15_30.csv\n </a>,\n <a class=\"heading\" href=\"https://www.wroclaw.pl/open-data/dataset/9bf18a63-44a7-419a-966c-6ab253ef2b43/resource/1a6b121d-2038-41e9-93da-52d04179e9bf/download_old_version/Historia_przejazdow_2021-12-3_8_18_38.csv\" title=\"Historia_przejazdow_2021-12-3_8_18_38.csv\">\n Historia_przejazdow_2021-12-3_8_18_38.csv\n </a>,\n <a class=\"heading\" href=\"https://www.wroclaw.pl/open-data/dataset/9bf18a63-44a7-419a-966c-6ab253ef2b43/resource/256916e8-c038-49e1-a17b-3bf73168b73d/download_old_version/Historia_przejazdow_2021-12-4_8_18_38.csv\" title=\"Historia_przejazdow_2021-12-4_8_18_38.csv\">\n Historia_przejazdow_2021-12-4_8_18_38.csv\n </a>,\n <a class=\"heading\" href=\"https://www.wroclaw.pl/open-data/dataset/9bf18a63-44a7-419a-966c-6ab253ef2b43/resource/ec81ba43-0c7e-4adc-af62-5e2bb2848f65/download_old_version/Historia_przejazdow_2021-12-5_8_15_32.csv\" title=\"Historia_przejazdow_2021-12-5_8_15_32.csv\">\n Historia_przejazdow_2021-12-5_8_15_32.csv\n </a>,\n <a class=\"heading\" href=\"https://www.wroclaw.pl/open-data/dataset/9bf18a63-44a7-419a-966c-6ab253ef2b43/resource/2932c878-dbb5-42f4-bd13-8758cbd46856/download_old_version/Historia_przejazdow_2021-12-6_8_6_5.csv\" title=\"Historia_przejazdow_2021-12-6_8_6_5.csv\">\n Historia_przejazdow_2021-12-6_8_6_5.csv\n </a>,\n <a class=\"heading\" href=\"https://www.wroclaw.pl/open-data/dataset/9bf18a63-44a7-419a-966c-6ab253ef2b43/resource/ffc1172c-5755-4c4c-b154-93d2601fbc80/download_old_version/Historia_przejazdow_2021-12-7_8_22_13.csv\" title=\"Historia_przejazdow_2021-12-7_8_22_13.csv\">\n Historia_przejazdow_2021-12-7_8_22_13.csv\n </a>,\n <a class=\"heading\" href=\"https://www.wroclaw.pl/open-data/dataset/9bf18a63-44a7-419a-966c-6ab253ef2b43/resource/69a8e7d4-4179-4917-b44b-ca4cf538b4c5/download_old_version/Historia_przejazdow_2021-12-8_8_9_34.csv\" title=\"Historia_przejazdow_2021-12-8_8_9_34.csv\">\n Historia_przejazdow_2021-12-8_8_9_34.csv\n </a>,\n <a class=\"heading\" href=\"https://www.wroclaw.pl/open-data/dataset/9bf18a63-44a7-419a-966c-6ab253ef2b43/resource/2421d587-cb4c-4be0-b5ab-4205e2dfc89d/download_old_version/Historia_przejazdow_2021-12-13_8_19_25.csv\" title=\"Historia_przejazdow_2021-12-13_8_19_25.csv\">\n Historia_przejazdow_2021-12-13_8_19_25.csv\n </a>,\n <a class=\"heading\" href=\"https://www.wroclaw.pl/open-data/dataset/9bf18a63-44a7-419a-966c-6ab253ef2b43/resource/bb6d15d7-cbbf-41f1-ae9f-8fdd0e212446/download_old_version/Historia_przejazdow_2021-12-14_8_23_36.csv\" title=\"Historia_przejazdow_2021-12-14_8_23_36.csv\">\n Historia_przejazdow_2021-12-14_8_23_36.csv\n </a>,\n <a class=\"heading\" href=\"https://www.wroclaw.pl/open-data/dataset/9bf18a63-44a7-419a-966c-6ab253ef2b43/resource/6f420b16-58f1-4aa7-8449-745b07c8e2b1/download_old_version/Historia_przejazdow_2021-12-15_8_19_34.csv\" title=\"Historia_przejazdow_2021-12-15_8_19_34.csv\">\n Historia_przejazdow_2021-12-15_8_19_34.csv\n </a>,\n <a class=\"heading\" href=\"https://www.wroclaw.pl/open-data/dataset/9bf18a63-44a7-419a-966c-6ab253ef2b43/resource/03c190cf-3e63-41d0-b4d9-e37463a8b2cd/download_old_version/Historia_przejazdow_2021-12-16_8_20_37.csv\" title=\"Historia_przejazdow_2021-12-16_8_20_37.csv\">\n Historia_przejazdow_2021-12-16_8_20_37.csv\n </a>,\n <a class=\"heading\" href=\"https://www.wroclaw.pl/open-data/dataset/9bf18a63-44a7-419a-966c-6ab253ef2b43/resource/c7a85285-0da0-4404-beb6-833176e78fff/download_old_version/Historia_przejazdow_2021-12-17_8_24_34.csv\" title=\"Historia_przejazdow_2021-12-17_8_24_34.csv\">\n Historia_przejazdow_2021-12-17_8_24_34.csv\n </a>,\n <a class=\"heading\" href=\"https://www.wroclaw.pl/open-data/dataset/9bf18a63-44a7-419a-966c-6ab253ef2b43/resource/16d5f895-c972-4a2c-8aea-403fbe2074c0/download_old_version/Historia_przejazdow_2021-12-18_8_22_34.csv\" title=\"Historia_przejazdow_2021-12-18_8_22_34.csv\">\n Historia_przejazdow_2021-12-18_8_22_34.csv\n </a>,\n <a class=\"heading\" href=\"https://www.wroclaw.pl/open-data/dataset/9bf18a63-44a7-419a-966c-6ab253ef2b43/resource/ed5bcf5c-7f1a-4eff-b578-543c3a0ffadb/download_old_version/Historia_przejazdow_2021-12-19_8_23_35.csv\" title=\"Historia_przejazdow_2021-12-19_8_23_35.csv\">\n Historia_przejazdow_2021-12-19_8_23_35.csv\n </a>,\n <a class=\"heading\" href=\"https://www.wroclaw.pl/open-data/dataset/9bf18a63-44a7-419a-966c-6ab253ef2b43/resource/b07729ba-dca3-4aba-a307-a956572084d7/download_old_version/Historia_przejazdow_2021-12-20_8_23_37.csv\" title=\"Historia_przejazdow_2021-12-20_8_23_37.csv\">\n Historia_przejazdow_2021-12-20_8_23_37.csv\n </a>,\n <a class=\"heading\" href=\"https://www.wroclaw.pl/open-data/dataset/9bf18a63-44a7-419a-966c-6ab253ef2b43/resource/66e31fb4-4403-4282-8b29-1d1a4a71c3d1/download_old_version/Historia_przejazdow_2021-12-21_8_24_34.csv\" title=\"Historia_przejazdow_2021-12-21_8_24_34.csv\">\n Historia_przejazdow_2021-12-21_8_24_34.csv\n </a>,\n <a class=\"heading\" href=\"https://www.wroclaw.pl/open-data/dataset/9bf18a63-44a7-419a-966c-6ab253ef2b43/resource/68a1b74e-083d-4d53-8a5d-d259a8164c54/download_old_version/Historia_przejazdow_2021-12-22_8_25_36.csv\" title=\"Historia_przejazdow_2021-12-22_8_25_36.csv\">\n Historia_przejazdow_2021-12-22_8_25_36.csv\n </a>,\n <a class=\"heading\" href=\"https://www.wroclaw.pl/open-data/dataset/9bf18a63-44a7-419a-966c-6ab253ef2b43/resource/0672f8d6-417e-4d76-84d1-3d1a8e79b67d/download_old_version/Historia_przejazdow_2021-12-23_8_26_33.csv\" title=\"Historia_przejazdow_2021-12-23_8_26_33.csv\">\n Historia_przejazdow_2021-12-23_8_26_33.csv\n </a>,\n <a class=\"heading\" href=\"https://www.wroclaw.pl/open-data/dataset/9bf18a63-44a7-419a-966c-6ab253ef2b43/resource/15b45388-2632-4d27-a96b-a4eb46dcea1b/download_old_version/Historia_przejazdow_2021-12-24_8_26_36.csv\" title=\"Historia_przejazdow_2021-12-24_8_26_36.csv\">\n Historia_przejazdow_2021-12-24_8_26_36.csv\n </a>,\n <a class=\"heading\" href=\"https://www.wroclaw.pl/open-data/dataset/9bf18a63-44a7-419a-966c-6ab253ef2b43/resource/06247af9-ceb1-4d04-b9db-17887e78cb43/download_old_version/Historia_przejazdow_2021-12-25_8_27_38.csv\" title=\"Historia_przejazdow_2021-12-25_8_27_38.csv\">\n Historia_przejazdow_2021-12-25_8_27_38.csv\n </a>,\n <a class=\"heading\" href=\"https://www.wroclaw.pl/open-data/dataset/9bf18a63-44a7-419a-966c-6ab253ef2b43/resource/58244d0f-1a6e-44d3-bf5b-f9a8fa94f533/download_old_version/Historia_przejazdow_2021-12-26_8_28_34.csv\" title=\"Historia_przejazdow_2021-12-26_8_28_34.csv\">\n Historia_przejazdow_2021-12-26_8_28_34.csv\n </a>,\n <a class=\"heading\" href=\"https://www.wroclaw.pl/open-data/dataset/9bf18a63-44a7-419a-966c-6ab253ef2b43/resource/f14a12cf-5b54-422d-a607-3b6d1a576429/download_old_version/Historia_przejazdow_2021-12-27_8_28_53.csv\" title=\"Historia_przejazdow_2021-12-27_8_28_53.csv\">\n Historia_przejazdow_2021-12-27_8_28_53.csv\n </a>,\n <a class=\"heading\" href=\"https://www.wroclaw.pl/open-data/dataset/9bf18a63-44a7-419a-966c-6ab253ef2b43/resource/ce55219f-5819-4b79-b6dd-955d468e9418/download_old_version/Historia_przejazdow_2021-12-28_8_29_52.csv\" title=\"Historia_przejazdow_2021-12-28_8_29_52.csv\">\n Historia_przejazdow_2021-12-28_8_29_52.csv\n </a>,\n <a class=\"heading\" href=\"https://www.wroclaw.pl/open-data/dataset/9bf18a63-44a7-419a-966c-6ab253ef2b43/resource/d6824f67-08dd-4d70-9e53-0f8b142f9d65/download_old_version/Historia_przejazdow_2021-12-29_8_30_52.csv\" title=\"Historia_przejazdow_2021-12-29_8_30_52.csv\">\n Historia_przejazdow_2021-12-29_8_30_52.csv\n </a>,\n <a class=\"heading\" href=\"https://www.wroclaw.pl/open-data/dataset/9bf18a63-44a7-419a-966c-6ab253ef2b43/resource/51872393-605d-483b-881a-6fd04bb53e89/download_old_version/Historia_przejazdow_2021-12-30_8_31_48.csv\" title=\"Historia_przejazdow_2021-12-30_8_31_48.csv\">\n Historia_przejazdow_2021-12-30_8_31_48.csv\n </a>,\n <a class=\"heading\" href=\"https://www.wroclaw.pl/open-data/dataset/9bf18a63-44a7-419a-966c-6ab253ef2b43/resource/71186464-ad89-4776-bca8-b7cc9e8b7965/download_old_version/Historia_przejazdow_2021-12-31_8_32_48.csv\" title=\"Historia_przejazdow_2021-12-31_8_32_48.csv\">\n Historia_przejazdow_2021-12-31_8_32_48.csv\n </a>,\n <a class=\"heading\" href=\"https://www.wroclaw.pl/open-data/dataset/9bf18a63-44a7-419a-966c-6ab253ef2b43/resource/9a52aec3-67df-4f62-9142-4d9a3b233b18/download_old_version/Historia_przejazdow_2022-1-1_8_33_51.csv\" title=\"Historia_przejazdow_2022-1-1_8_33_51.csv\">\n Historia_przejazdow_2022-1-1_8_33_51.csv\n </a>,\n <a class=\"heading\" href=\"https://www.wroclaw.pl/open-data/dataset/9bf18a63-44a7-419a-966c-6ab253ef2b43/resource/bee10c93-6c70-4a3d-aee2-ca644b10d196/download_old_version/Historia_przejazdow_2022-1-2_8_40_16.csv\" title=\"Historia_przejazdow_2022-1-2_8_40_16.csv\">\n Historia_przejazdow_2022-1-2_8_40_16.csv\n </a>,\n <a class=\"heading\" href=\"https://www.wroclaw.pl/open-data/dataset/9bf18a63-44a7-419a-966c-6ab253ef2b43/resource/9a44ab61-8070-4ff7-96f2-4aa00e824219/download_old_version/Historia_przejazdow_2022-1-3_8_35_47.csv\" title=\"Historia_przejazdow_2022-1-3_8_35_47.csv\">\n Historia_przejazdow_2022-1-3_8_35_47.csv\n </a>,\n <a class=\"heading\" href=\"https://www.wroclaw.pl/open-data/dataset/9bf18a63-44a7-419a-966c-6ab253ef2b43/resource/7a3d18f3-885a-4c96-82fd-66093e8e4270/download_old_version/Historia_przejazdow_2022-1-4_8_36_46.csv\" title=\"Historia_przejazdow_2022-1-4_8_36_46.csv\">\n Historia_przejazdow_2022-1-4_8_36_46.csv\n </a>,\n <a class=\"heading\" href=\"https://www.wroclaw.pl/open-data/dataset/9bf18a63-44a7-419a-966c-6ab253ef2b43/resource/23b1ef29-500f-4770-99a2-f83e2272ee1d/download_old_version/Historia_przejazdow_2022-1-4_13_29_13.csv\" title=\"Historia_przejazdow_2022-1-4_13_29_13.csv\">\n Historia_przejazdow_2022-1-4_13_29_13.csv\n </a>,\n <a class=\"heading\" href=\"https://www.wroclaw.pl/open-data/dataset/9bf18a63-44a7-419a-966c-6ab253ef2b43/resource/ab4e3f99-4e58-476c-9528-9d0566322124/download_old_version/Historia_przejazdow_2022-1-4_13_40_2.csv\" title=\"Historia_przejazdow_2022-1-4_13_40_2.csv\">\n  Historia_przejazdow_2022-1-4_13_40_2.csv\n </a>,\n <a class=\"heading\" href=\"https://www.wroclaw.pl/open-data/dataset/9bf18a63-44a7-419a-966c-6ab253ef2b43/resource/17156730-1983-47ff-a165-6b174d74b2a2/download_old_version/Historia_przejazdow_2022-1-5_8_39_1.csv\" title=\"Historia_przejazdow_2022-1-5_8_39_1.csv\">\n Historia_przejazdow_2022-1-5_8_39_1.csv\n </a>,\n <a class=\"heading\" href=\"https://www.wroclaw.pl/open-data/dataset/9bf18a63-44a7-419a-966c-6ab253ef2b43/resource/549493bb-3316-4316-8be1-fdbce01db818/download_old_version/Historia_przejazdow_2022-1-6_8_38_32.csv\" title=\"Historia_przejazdow_2022-1-6_8_38_32.csv\">\n Historia_przejazdow_2022-1-6_8_38_32.csv\n </a>,\n <a class=\"heading\" href=\"https://www.wroclaw.pl/open-data/dataset/9bf18a63-44a7-419a-966c-6ab253ef2b43/resource/f958801e-285a-4dca-abfe-760a888be722/download_old_version/Historia_przejazdow_2022-1-7_8_39_33.csv\" title=\"Historia_przejazdow_2022-1-7_8_39_33.csv\">\n Historia_przejazdow_2022-1-7_8_39_33.csv\n </a>,\n <a class=\"heading\" href=\"https://www.wroclaw.pl/open-data/dataset/9bf18a63-44a7-419a-966c-6ab253ef2b43/resource/c13763ff-d36f-4ace-94d5-4e53ed1df6f1/download_old_version/Historia_przejazdow_2022-1-8_8_40_31.csv\" title=\"Historia_przejazdow_2022-1-8_8_40_31.csv\">\n Historia_przejazdow_2022-1-8_8_40_31.csv\n </a>,\n <a class=\"heading\" href=\"https://www.wroclaw.pl/open-data/dataset/9bf18a63-44a7-419a-966c-6ab253ef2b43/resource/d270bbab-510a-4570-a35a-9c8ca9ddd57c/download_old_version/Historia_przejazdow_2022-1-9_8_41_29.csv\" title=\"Historia_przejazdow_2022-1-9_8_41_29.csv\">\n Historia_przejazdow_2022-1-9_8_41_29.csv\n </a>,\n <a class=\"heading\" href=\"https://www.wroclaw.pl/open-data/dataset/9bf18a63-44a7-419a-966c-6ab253ef2b43/resource/c8500de8-656c-4cd5-a552-1cfe928763dc/download_old_version/Historia_przejazdow_2022-1-10_8_41_49.csv\" title=\"Historia_przejazdow_2022-1-10_8_41_49.csv\">\n Historia_przejazdow_2022-1-10_8_41_49.csv\n </a>,\n <a class=\"heading\" href=\"https://www.wroclaw.pl/open-data/dataset/9bf18a63-44a7-419a-966c-6ab253ef2b43/resource/52341ea3-0386-48ae-90c0-50e19636a97d/download_old_version/Historia_przejazdow_2022-1-11_8_42_49.csv\" title=\"Historia_przejazdow_2022-1-11_8_42_49.csv\">\n Historia_przejazdow_2022-1-11_8_42_49.csv\n </a>,\n <a class=\"heading\" href=\"https://www.wroclaw.pl/open-data/dataset/9bf18a63-44a7-419a-966c-6ab253ef2b43/resource/cff9ff01-aad7-4842-87ef-b13add3e352c/download_old_version/Historia_przejazdow_2022-1-12_8_43_50.csv\" title=\"Historia_przejazdow_2022-1-12_8_43_50.csv\">\n Historia_przejazdow_2022-1-12_8_43_50.csv\n </a>,\n <a class=\"heading\" href=\"https://www.wroclaw.pl/open-data/dataset/9bf18a63-44a7-419a-966c-6ab253ef2b43/resource/817f37c4-4602-4b54-be52-d9000e0c323c/download_old_version/Historia_przejazdow_2022-1-13_8_44_53.csv\" title=\"Historia_przejazdow_2022-1-13_8_44_53.csv\">\n Historia_przejazdow_2022-1-13_8_44_53.csv\n </a>,\n <a class=\"heading\" href=\"https://www.wroclaw.pl/open-data/dataset/9bf18a63-44a7-419a-966c-6ab253ef2b43/resource/e1f8fabb-b21a-4941-b0fe-031f2a94c86f/download_old_version/Historia_przejazdow_2022-1-14_8_45_51.csv\" title=\"Historia_przejazdow_2022-1-14_8_45_51.csv\">\n Historia_przejazdow_2022-1-14_8_45_51.csv\n </a>,\n <a class=\"heading\" href=\"https://www.wroclaw.pl/open-data/dataset/9bf18a63-44a7-419a-966c-6ab253ef2b43/resource/05ebe197-ff47-412f-af5c-cb88f855ed93/download_old_version/Historia_przejazdow_2022-1-15_8_46_48.csv\" title=\"Historia_przejazdow_2022-1-15_8_46_48.csv\">\n Historia_przejazdow_2022-1-15_8_46_48.csv\n </a>,\n <a class=\"heading\" href=\"https://www.wroclaw.pl/open-data/dataset/9bf18a63-44a7-419a-966c-6ab253ef2b43/resource/8c0f6177-a56a-4deb-8df4-8b5550dd55ae/download_old_version/Historia_przejazdow_2022-1-16_8_47_45.csv\" title=\"Historia_przejazdow_2022-1-16_8_47_45.csv\">\n Historia_przejazdow_2022-1-16_8_47_45.csv\n </a>,\n <a class=\"heading\" href=\"https://www.wroclaw.pl/open-data/dataset/9bf18a63-44a7-419a-966c-6ab253ef2b43/resource/4f75e9e7-f059-4c87-bae0-1f8321eff097/download_old_version/Historia_przejazdow_2022-1-17_8_48_47.csv\" title=\"Historia_przejazdow_2022-1-17_8_48_47.csv\">\n Historia_przejazdow_2022-1-17_8_48_47.csv\n </a>,\n <a class=\"heading\" href=\"https://www.wroclaw.pl/open-data/dataset/9bf18a63-44a7-419a-966c-6ab253ef2b43/resource/6f23fdb4-0bf1-42bb-9c93-615e2dac123d/download_old_version/Historia_przejazdow_2022-1-18_8_49_46.csv\" title=\"Historia_przejazdow_2022-1-18_8_49_46.csv\">\n Historia_przejazdow_2022-1-18_8_49_46.csv\n </a>,\n <a class=\"heading\" href=\"https://www.wroclaw.pl/open-data/dataset/9bf18a63-44a7-419a-966c-6ab253ef2b43/resource/3a622929-102d-48d9-ac3c-1dc62ab9f135/download_old_version/Historia_przejazdow_2022-1-19_8_50_48.csv\" title=\"Historia_przejazdow_2022-1-19_8_50_48.csv\">\n Historia_przejazdow_2022-1-19_8_50_48.csv\n </a>,\n <a class=\"heading\" href=\"https://www.wroclaw.pl/open-data/dataset/9bf18a63-44a7-419a-966c-6ab253ef2b43/resource/bbfdab2b-813c-4695-8cf0-3fb3edbfeb61/download_old_version/Historia_przejazdow_2022-1-20_8_51_44.csv\" title=\"Historia_przejazdow_2022-1-20_8_51_44.csv\">\n Historia_przejazdow_2022-1-20_8_51_44.csv\n </a>,\n <a class=\"heading\" href=\"https://www.wroclaw.pl/open-data/dataset/9bf18a63-44a7-419a-966c-6ab253ef2b43/resource/52d68d15-945d-4c16-b5e9-4da32098e141/download_old_version/Historia_przejazdow_2022-1-21_8_52_29.csv\" title=\"Historia_przejazdow_2022-1-21_8_52_29.csv\">\n Historia_przejazdow_2022-1-21_8_52_29.csv\n </a>,\n <a class=\"heading\" href=\"https://www.wroclaw.pl/open-data/dataset/9bf18a63-44a7-419a-966c-6ab253ef2b43/resource/6e94a3e4-5be2-4dbb-870e-c87153b2f207/download_old_version/Historia_przejazdow_2022-1-22_8_53_29.csv\" title=\"Historia_przejazdow_2022-1-22_8_53_29.csv\">\n Historia_przejazdow_2022-1-22_8_53_29.csv\n </a>,\n <a class=\"heading\" href=\"https://www.wroclaw.pl/open-data/dataset/9bf18a63-44a7-419a-966c-6ab253ef2b43/resource/78409eee-5e00-471a-9595-ca67724368e1/download_old_version/Historia_przejazdow_2022-1-23_8_54_28.csv\" title=\"Historia_przejazdow_2022-1-23_8_54_28.csv\">\n Historia_przejazdow_2022-1-23_8_54_28.csv\n </a>,\n <a class=\"heading\" href=\"https://www.wroclaw.pl/open-data/dataset/9bf18a63-44a7-419a-966c-6ab253ef2b43/resource/74ce61f1-1873-4ab6-b946-02577db94896/download_old_version/Historia_przejazdow_2022-1-24_8_55_29.csv\" title=\"Historia_przejazdow_2022-1-24_8_55_29.csv\">\n Historia_przejazdow_2022-1-24_8_55_29.csv\n </a>,\n <a class=\"heading\" href=\"https://www.wroclaw.pl/open-data/dataset/9bf18a63-44a7-419a-966c-6ab253ef2b43/resource/e0ede2d9-a20c-4bbb-aad3-44bfdac015eb/download_old_version/Historia_przejazdow_2022-1-25_8_56_27.csv\" title=\"Historia_przejazdow_2022-1-25_8_56_27.csv\">\n Historia_przejazdow_2022-1-25_8_56_27.csv\n </a>,\n <a class=\"heading\" href=\"https://www.wroclaw.pl/open-data/dataset/9bf18a63-44a7-419a-966c-6ab253ef2b43/resource/527620f9-61ed-4679-a8d8-a533263630a0/download_old_version/Historia_przejazdow_2022-1-26_8_57_27.csv\" title=\"Historia_przejazdow_2022-1-26_8_57_27.csv\">\n Historia_przejazdow_2022-1-26_8_57_27.csv\n </a>,\n <a class=\"heading\" href=\"https://www.wroclaw.pl/open-data/dataset/9bf18a63-44a7-419a-966c-6ab253ef2b43/resource/21a84404-74a3-4055-8f78-6e622291b589/download_old_version/Historia_przejazdow_2022-1-27_8_57_29.csv\" title=\"Historia_przejazdow_2022-1-27_8_57_29.csv\">\n Historia_przejazdow_2022-1-27_8_57_29.csv\n </a>,\n <a class=\"heading\" href=\"https://www.wroclaw.pl/open-data/dataset/9bf18a63-44a7-419a-966c-6ab253ef2b43/resource/ed18e3c7-41bf-4d40-a002-0bb3bb4f1024/download_old_version/Historia_przejazdow_2022-1-28_8_57_31.csv\" title=\"Historia_przejazdow_2022-1-28_8_57_31.csv\">\n Historia_przejazdow_2022-1-28_8_57_31.csv\n </a>,\n <a class=\"heading\" href=\"https://www.wroclaw.pl/open-data/dataset/9bf18a63-44a7-419a-966c-6ab253ef2b43/resource/d7228b61-bd2b-41ff-9561-d612b974810e/download_old_version/Historia_przejazdow_2022-1-29_8_58_26.csv\" title=\"Historia_przejazdow_2022-1-29_8_58_26.csv\">\n Historia_przejazdow_2022-1-29_8_58_26.csv\n </a>,\n <a class=\"heading\" href=\"https://www.wroclaw.pl/open-data/dataset/9bf18a63-44a7-419a-966c-6ab253ef2b43/resource/afc54247-42d1-483d-aaf6-86d0ed867a3b/download_old_version/Historia_przejazdow_2022-1-30_8_58_47.csv\" title=\"Historia_przejazdow_2022-1-30_8_58_47.csv\">\n Historia_przejazdow_2022-1-30_8_58_47.csv\n </a>,\n <a class=\"heading\" href=\"https://www.wroclaw.pl/open-data/dataset/9bf18a63-44a7-419a-966c-6ab253ef2b43/resource/b36b4896-ea4b-4de8-b6ed-5d5c8b71d377/download_old_version/Historia_przejazdow_2022-1-31_8_59_44.csv\" title=\"Historia_przejazdow_2022-1-31_8_59_44.csv\">\n Historia_przejazdow_2022-1-31_8_59_44.csv\n </a>,\n <a class=\"heading\" href=\"https://www.wroclaw.pl/open-data/dataset/9bf18a63-44a7-419a-966c-6ab253ef2b43/resource/792b5b72-89af-4a47-8edd-4b26efa024b4/download_old_version/Historia_przejazdow_2022-2-1_8_59_53.csv\" title=\"Historia_przejazdow_2022-2-1_8_59_53.csv\">\n Historia_przejazdow_2022-2-1_8_59_53.csv\n </a>,\n <a class=\"heading\" href=\"https://www.wroclaw.pl/open-data/dataset/9bf18a63-44a7-419a-966c-6ab253ef2b43/resource/e7536f89-4960-4fa5-80e6-56d5605c7f35/download_old_version/Historia_przejazdow_2022-2-1_13_58_42.csv\" title=\"Historia_przejazdow_2022-2-1_13_58_42.csv\">\n Historia_przejazdow_2022-2-1_13_58_42.csv\n </a>,\n <a class=\"heading\" href=\"https://www.wroclaw.pl/open-data/dataset/9bf18a63-44a7-419a-966c-6ab253ef2b43/resource/72d302ff-45ee-481d-9dd6-0608bdd2e118/download_old_version/Historia_przejazdow_2022-2-2_9_0_52.csv\" title=\"Historia_przejazdow_2022-2-2_9_0_52.csv\">\n Historia_przejazdow_2022-2-2_9_0_52.csv\n </a>,\n <a class=\"heading\" href=\"https://www.wroclaw.pl/open-data/dataset/9bf18a63-44a7-419a-966c-6ab253ef2b43/resource/39c7859a-5a44-4056-8d77-ad1c28599278/download_old_version/Historia_przejazdow_2022-2-3_9_1_34.csv\" title=\"Historia_przejazdow_2022-2-3_9_1_34.csv\">\n Historia_przejazdow_2022-2-3_9_1_34.csv\n </a>,\n <a class=\"heading\" href=\"https://www.wroclaw.pl/open-data/dataset/9bf18a63-44a7-419a-966c-6ab253ef2b43/resource/b7eec57d-4669-4149-96c6-ec5d8ae508b3/download_old_version/Historia_przejazdow_2022-2-4_9_2_33.csv\" title=\"Historia_przejazdow_2022-2-4_9_2_33.csv\">\n Historia_przejazdow_2022-2-4_9_2_33.csv\n </a>,\n <a class=\"heading\" href=\"https://www.wroclaw.pl/open-data/dataset/9bf18a63-44a7-419a-966c-6ab253ef2b43/resource/8d8ad7aa-a8ea-45fa-bdf7-baad44770150/download_old_version/Historia_przejazdow_2022-2-5_9_8_32.csv\" title=\"Historia_przejazdow_2022-2-5_9_8_32.csv\">\n Historia_przejazdow_2022-2-5_9_8_32.csv\n </a>,\n <a class=\"heading\" href=\"https://www.wroclaw.pl/open-data/dataset/9bf18a63-44a7-419a-966c-6ab253ef2b43/resource/cccd8b12-9d2c-46c9-bd95-4ee9f01765ad/download_old_version/Historia_przejazdow_2022-2-6_9_3_52.csv\" title=\"Historia_przejazdow_2022-2-6_9_3_52.csv\">\n Historia_przejazdow_2022-2-6_9_3_52.csv\n </a>,\n <a class=\"heading\" href=\"https://www.wroclaw.pl/open-data/dataset/9bf18a63-44a7-419a-966c-6ab253ef2b43/resource/46d9b208-716e-4c7d-87c8-4a0043d04cdd/download_old_version/Historia_przejazdow_2022-2-7_9_4_53.csv\" title=\"Historia_przejazdow_2022-2-7_9_4_53.csv\">\n Historia_przejazdow_2022-2-7_9_4_53.csv\n </a>,\n <a class=\"heading\" href=\"https://www.wroclaw.pl/open-data/dataset/9bf18a63-44a7-419a-966c-6ab253ef2b43/resource/9ce859aa-d079-4e6a-a519-5a62a3fb9263/download_old_version/Historia_przejazdow_2022-2-8_9_11_34.csv\" title=\"Historia_przejazdow_2022-2-8_9_11_34.csv\">\n Historia_przejazdow_2022-2-8_9_11_34.csv\n </a>,\n <a class=\"heading\" href=\"https://www.wroclaw.pl/open-data/dataset/9bf18a63-44a7-419a-966c-6ab253ef2b43/resource/46a3a381-20ce-4a4d-a6f0-5ec2f298ef46/download_old_version/Historia_przejazdow_2022-2-9_9_6_52.csv\" title=\"Historia_przejazdow_2022-2-9_9_6_52.csv\">\n Historia_przejazdow_2022-2-9_9_6_52.csv\n </a>,\n <a class=\"heading\" href=\"https://www.wroclaw.pl/open-data/dataset/9bf18a63-44a7-419a-966c-6ab253ef2b43/resource/214b8c7a-24a8-4651-9933-c57898f3aa69/download_old_version/Historia_przejazdow_2022-2-10_9_7_54.csv\" title=\"Historia_przejazdow_2022-2-10_9_7_54.csv\">\n Historia_przejazdow_2022-2-10_9_7_54.csv\n </a>,\n <a class=\"heading\" href=\"https://www.wroclaw.pl/open-data/dataset/9bf18a63-44a7-419a-966c-6ab253ef2b43/resource/4598a232-db3a-4775-9b8a-0e80330baf10/download_old_version/Historia_przejazdow_2022-2-11_9_8_21.csv\" title=\"Historia_przejazdow_2022-2-11_9_8_21.csv\">\n Historia_przejazdow_2022-2-11_9_8_21.csv\n </a>,\n <a class=\"heading\" href=\"https://www.wroclaw.pl/open-data/dataset/9bf18a63-44a7-419a-966c-6ab253ef2b43/resource/4413386b-af04-4218-b722-752ba65c7df2/download_old_version/Historia_przejazdow_2022-2-12_9_9_20.csv\" title=\"Historia_przejazdow_2022-2-12_9_9_20.csv\">\n Historia_przejazdow_2022-2-12_9_9_20.csv\n </a>,\n <a class=\"heading\" href=\"https://www.wroclaw.pl/open-data/dataset/9bf18a63-44a7-419a-966c-6ab253ef2b43/resource/43ffbe40-b25d-4c36-a36c-54b732a3227e/download_old_version/Historia_przejazdow_2022-2-13_9_10_19.csv\" title=\"Historia_przejazdow_2022-2-13_9_10_19.csv\">\n Historia_przejazdow_2022-2-13_9_10_19.csv\n </a>,\n <a class=\"heading\" href=\"https://www.wroclaw.pl/open-data/dataset/9bf18a63-44a7-419a-966c-6ab253ef2b43/resource/dbd120fe-5d06-4aca-bee3-0397ed92057e/download_old_version/Historia_przejazdow_2022-2-14_9_16_46.csv\" title=\"Historia_przejazdow_2022-2-14_9_16_46.csv\">\n Historia_przejazdow_2022-2-14_9_16_46.csv\n </a>,\n <a class=\"heading\" href=\"https://www.wroclaw.pl/open-data/dataset/9bf18a63-44a7-419a-966c-6ab253ef2b43/resource/1c5b97d8-3b9d-4ab7-956b-6a0564761e66/download_old_version/Historia_przejazdow_2022-2-15_9_12_6.csv\" title=\"Historia_przejazdow_2022-2-15_9_12_6.csv\">\n Historia_przejazdow_2022-2-15_9_12_6.csv\n </a>,\n <a class=\"heading\" href=\"https://www.wroclaw.pl/open-data/dataset/9bf18a63-44a7-419a-966c-6ab253ef2b43/resource/f5cb17cc-2410-4949-b1da-2613f454a954/download_old_version/Historia_przejazdow_2022-2-16_9_12_8.csv\" title=\"Historia_przejazdow_2022-2-16_9_12_8.csv\">\n Historia_przejazdow_2022-2-16_9_12_8.csv\n </a>,\n <a class=\"heading\" href=\"https://www.wroclaw.pl/open-data/dataset/9bf18a63-44a7-419a-966c-6ab253ef2b43/resource/0b1a7b30-b391-4a10-b944-a654a4bf4778/download_old_version/Historia_przejazdow_2022-2-17_9_17_16.csv\" title=\"Historia_przejazdow_2022-2-17_9_17_16.csv\">\n Historia_przejazdow_2022-2-17_9_17_16.csv\n </a>,\n <a class=\"heading\" href=\"https://www.wroclaw.pl/open-data/dataset/9bf18a63-44a7-419a-966c-6ab253ef2b43/resource/d653edc0-7690-4b1a-8872-7bef50189060/download_old_version/Historia_przejazdow_2022-2-18_9_13_8.csv\" title=\"Historia_przejazdow_2022-2-18_9_13_8.csv\">\n Historia_przejazdow_2022-2-18_9_13_8.csv\n  </a>,\n <a class=\"heading\" href=\"https://www.wroclaw.pl/open-data/dataset/9bf18a63-44a7-419a-966c-6ab253ef2b43/resource/f7cbf5f8-1c71-4c47-b508-ae73ef05f2fb/download_old_version/Historia_przejazdow_2022-2-19_9_14_6.csv\" title=\"Historia_przejazdow_2022-2-19_9_14_6.csv\">\n Historia_przejazdow_2022-2-19_9_14_6.csv\n </a>,\n <a class=\"heading\" href=\"https://www.wroclaw.pl/open-data/dataset/9bf18a63-44a7-419a-966c-6ab253ef2b43/resource/42eab14c-7ccf-4e69-90a8-2f8b81433c06/download_old_version/Historia_przejazdow_2022-2-20_9_14_6.csv\" title=\"Historia_przejazdow_2022-2-20_9_14_6.csv\">\n Historia_przejazdow_2022-2-20_9_14_6.csv\n </a>,\n <a class=\"heading\" href=\"https://www.wroclaw.pl/open-data/dataset/9bf18a63-44a7-419a-966c-6ab253ef2b43/resource/e5a5a9d1-9369-4b61-ba8a-d638e5a3d481/download_old_version/Historia_przejazdow_2022-2-21_9_14_7.csv\" title=\"Historia_przejazdow_2022-2-21_9_14_7.csv\">\n Historia_przejazdow_2022-2-21_9_14_7.csv\n </a>,\n <a class=\"heading\" href=\"https://www.wroclaw.pl/open-data/dataset/9bf18a63-44a7-419a-966c-6ab253ef2b43/resource/01296d4d-7e3a-45ca-9962-6eac546297f7/download_old_version/Historia_przejazdow_2022-2-22_9_15_6.csv\" title=\"Historia_przejazdow_2022-2-22_9_15_6.csv\">\n Historia_przejazdow_2022-2-22_9_15_6.csv\n </a>,\n <a class=\"heading\" href=\"https://www.wroclaw.pl/open-data/dataset/9bf18a63-44a7-419a-966c-6ab253ef2b43/resource/6f243214-09a5-4596-bbf4-631c071f6250/download_old_version/Historia_przejazdow_2022-2-23_9_16_6.csv\" title=\"Historia_przejazdow_2022-2-23_9_16_6.csv\">\n Historia_przejazdow_2022-2-23_9_16_6.csv\n </a>,\n <a class=\"heading\" href=\"https://www.wroclaw.pl/open-data/dataset/9bf18a63-44a7-419a-966c-6ab253ef2b43/resource/a71dca5a-0f4c-48c5-a736-657e3fc1207f/download_old_version/Historia_przejazdow_2022-2-24_9_16_6.csv\" title=\"Historia_przejazdow_2022-2-24_9_16_6.csv\">\n Historia_przejazdow_2022-2-24_9_16_6.csv\n </a>,\n <a class=\"heading\" href=\"https://www.wroclaw.pl/open-data/dataset/9bf18a63-44a7-419a-966c-6ab253ef2b43/resource/d74e6107-7527-4e8b-a37d-9dbd2ee5df9d/download_old_version/Historia_przejazdow_2022-2-25_9_17_5.csv\" title=\"Historia_przejazdow_2022-2-25_9_17_5.csv\">\n Historia_przejazdow_2022-2-25_9_17_5.csv\n </a>,\n <a class=\"heading\" href=\"https://www.wroclaw.pl/open-data/dataset/9bf18a63-44a7-419a-966c-6ab253ef2b43/resource/ca93f853-1d0c-4e7f-a878-46ce463cf18d/download_old_version/Historia_przejazdow_2022-2-26_9_17_8.csv\" title=\"Historia_przejazdow_2022-2-26_9_17_8.csv\">\n Historia_przejazdow_2022-2-26_9_17_8.csv\n </a>,\n <a class=\"heading\" href=\"https://www.wroclaw.pl/open-data/dataset/9bf18a63-44a7-419a-966c-6ab253ef2b43/resource/005d3099-1c34-4bf5-b8c2-01b26a83e725/download_old_version/Historia_przejazdow_2022-2-27_9_18_6.csv\" title=\"Historia_przejazdow_2022-2-27_9_18_6.csv\">\n Historia_przejazdow_2022-2-27_9_18_6.csv\n </a>,\n <a class=\"heading\" href=\"https://www.wroclaw.pl/open-data/dataset/9bf18a63-44a7-419a-966c-6ab253ef2b43/resource/f2bcb792-83d5-4fa3-b292-975cd9d4f0e4/download_old_version/Historia_przejazdow_2022-2-28_9_18_6.csv\" title=\"Historia_przejazdow_2022-2-28_9_18_6.csv\">\n Historia_przejazdow_2022-2-28_9_18_6.csv\n </a>,\n <a class=\"heading\" href=\"https://www.wroclaw.pl/open-data/dataset/9bf18a63-44a7-419a-966c-6ab253ef2b43/resource/6e2fe190-7f1a-4007-9ac5-2cad4eeb346d/download_old_version/Historia_przejazdow_2022-3-1_9_19_6.csv\" title=\"Historia_przejazdow_2022-3-1_9_19_6.csv\">\n Historia_przejazdow_2022-3-1_9_19_6.csv\n </a>,\n <a class=\"heading\" href=\"https://www.wroclaw.pl/open-data/dataset/9bf18a63-44a7-419a-966c-6ab253ef2b43/resource/995dcebb-0312-47a8-9fae-ab8a87687cbe/download_old_version/Historia_przejazdow_2022-3-2_9_19_19.csv\" title=\"Historia_przejazdow_2022-3-2_9_19_19.csv\">\n Historia_przejazdow_2022-3-2_9_19_19.csv\n </a>,\n <a class=\"heading\" href=\"https://www.wroclaw.pl/open-data/dataset/9bf18a63-44a7-419a-966c-6ab253ef2b43/resource/99a9682a-02c4-4df1-b519-5e6fcc8f9cab/download_old_version/Historia_przejazdow_2022-3-3_9_20_20.csv\" title=\"Historia_przejazdow_2022-3-3_9_20_20.csv\">\n Historia_przejazdow_2022-3-3_9_20_20.csv\n </a>,\n <a class=\"heading\" href=\"https://www.wroclaw.pl/open-data/dataset/9bf18a63-44a7-419a-966c-6ab253ef2b43/resource/8d813189-a983-4ed0-9fff-3528c9563706/download_old_version/Historia_przejazdow_2022-3-4_9_21_19.csv\" title=\"Historia_przejazdow_2022-3-4_9_21_19.csv\">\n Historia_przejazdow_2022-3-4_9_21_19.csv\n </a>,\n <a class=\"heading\" href=\"https://www.wroclaw.pl/open-data/dataset/9bf18a63-44a7-419a-966c-6ab253ef2b43/resource/a0d798b9-716a-49d1-a686-be11bb60d9ed/download_old_version/Historia_przejazdow_2022-3-5_9_22_20.csv\" title=\"Historia_przejazdow_2022-3-5_9_22_20.csv\">\n Historia_przejazdow_2022-3-5_9_22_20.csv\n </a>,\n <a class=\"heading\" href=\"https://www.wroclaw.pl/open-data/dataset/9bf18a63-44a7-419a-966c-6ab253ef2b43/resource/93392d0d-a886-4240-a9cc-10e6e5af21bd/download_old_version/Historia_przejazdow_2022-3-6_9_23_19.csv\" title=\"Historia_przejazdow_2022-3-6_9_23_19.csv\">\n Historia_przejazdow_2022-3-6_9_23_19.csv\n </a>,\n <a class=\"heading\" href=\"https://www.wroclaw.pl/open-data/dataset/9bf18a63-44a7-419a-966c-6ab253ef2b43/resource/465ac0d9-d49d-4279-925d-110b9f8868b9/download_old_version/Historia_przejazdow_2022-3-7_9_24_19.csv\" title=\"Historia_przejazdow_2022-3-7_9_24_19.csv\">\n Historia_przejazdow_2022-3-7_9_24_19.csv\n </a>,\n <a class=\"heading\" href=\"https://www.wroclaw.pl/open-data/dataset/9bf18a63-44a7-419a-966c-6ab253ef2b43/resource/f9e0655e-f96a-4b2f-9556-2b57a3eb0131/download_old_version/Historia_przejazdow_2022-3-8_9_25_19.csv\" title=\"Historia_przejazdow_2022-3-8_9_25_19.csv\">\n Historia_przejazdow_2022-3-8_9_25_19.csv\n </a>,\n <a class=\"heading\" href=\"https://www.wroclaw.pl/open-data/dataset/9bf18a63-44a7-419a-966c-6ab253ef2b43/resource/e8f89184-5eee-42cf-9ac6-5f7d7ab2be2d/download_old_version/Historia_przejazdow_2022-3-9_9_26_18.csv\" title=\"Historia_przejazdow_2022-3-9_9_26_18.csv\">\n Historia_przejazdow_2022-3-9_9_26_18.csv\n </a>,\n <a class=\"heading\" href=\"https://www.wroclaw.pl/open-data/dataset/9bf18a63-44a7-419a-966c-6ab253ef2b43/resource/bbac2a3f-8d53-4955-86ae-4d98e3182907/download_old_version/Historia_przejazdow_2022-3-10_9_26_19.csv\" title=\"Historia_przejazdow_2022-3-10_9_26_19.csv\">\n Historia_przejazdow_2022-3-10_9_26_19.csv\n  </a>,\n <a class=\"heading\" href=\"https://www.wroclaw.pl/open-data/dataset/9bf18a63-44a7-419a-966c-6ab253ef2b43/resource/ab64a66b-850e-459b-a93b-68ed70a6af08/download_old_version/Historia_przejazdow_2022-3-11_9_27_6.csv\" title=\"Historia_przejazdow_2022-3-11_9_27_6.csv\">\n Historia_przejazdow_2022-3-11_9_27_6.csv\n </a>,\n <a class=\"heading\" href=\"https://www.wroclaw.pl/open-data/dataset/9bf18a63-44a7-419a-966c-6ab253ef2b43/resource/0577776e-b000-4ed0-9c1d-898e5d1e7f3c/download_old_version/Historia_przejazdow_2022-3-12_9_28_6.csv\" title=\"Historia_przejazdow_2022-3-12_9_28_6.csv\">\n Historia_przejazdow_2022-3-12_9_28_6.csv\n </a>,\n <a class=\"heading\" href=\"https://www.wroclaw.pl/open-data/dataset/9bf18a63-44a7-419a-966c-6ab253ef2b43/resource/d109dc9c-b04d-4511-a2db-721282b7bdbe/download_old_version/Historia_przejazdow_2022-3-13_9_28_8.csv\" title=\"Historia_przejazdow_2022-3-13_9_28_8.csv\">\n Historia_przejazdow_2022-3-13_9_28_8.csv\n </a>,\n <a class=\"heading\" href=\"https://www.wroclaw.pl/open-data/dataset/9bf18a63-44a7-419a-966c-6ab253ef2b43/resource/3c426749-cd2d-4180-9da2-158348b057bb/download_old_version/Historia_przejazdow_2022-3-14_9_29_6.csv\" title=\"Historia_przejazdow_2022-3-14_9_29_6.csv\">\n Historia_przejazdow_2022-3-14_9_29_6.csv\n </a>,\n <a class=\"heading\" href=\"https://www.wroclaw.pl/open-data/dataset/9bf18a63-44a7-419a-966c-6ab253ef2b43/resource/b6e18b41-d22f-4430-bd1b-76437c5f5c4c/download_old_version/Historia_przejazdow_2022-3-15_9_30_6.csv\" title=\"Historia_przejazdow_2022-3-15_9_30_6.csv\">\n Historia_przejazdow_2022-3-15_9_30_6.csv\n </a>,\n <a class=\"heading\" href=\"https://www.wroclaw.pl/open-data/dataset/9bf18a63-44a7-419a-966c-6ab253ef2b43/resource/042a83e1-f53e-48af-b779-e80c30679aaa/download_old_version/Historia_przejazdow_2022-3-16_9_38_16.csv\" title=\"Historia_przejazdow_2022-3-16_9_38_16.csv\">\n Historia_przejazdow_2022-3-16_9_38_16.csv\n </a>,\n <a class=\"heading\" href=\"https://www.wroclaw.pl/open-data/dataset/9bf18a63-44a7-419a-966c-6ab253ef2b43/resource/80a64841-5200-481b-8827-a37940a38aa2/download_old_version/Historia_przejazdow_2022-3-17_9_31_6.csv\" title=\"Historia_przejazdow_2022-3-17_9_31_6.csv\">\n Historia_przejazdow_2022-3-17_9_31_6.csv\n </a>,\n <a class=\"heading\" href=\"https://www.wroclaw.pl/open-data/dataset/9bf18a63-44a7-419a-966c-6ab253ef2b43/resource/e341b82b-5754-41f1-b927-5bf5c399da71/download_old_version/Historia_przejazdow_2022-3-18_9_32_6.csv\" title=\"Historia_przejazdow_2022-3-18_9_32_6.csv\">\n Historia_przejazdow_2022-3-18_9_32_6.csv\n </a>,\n <a class=\"heading\" href=\"https://www.wroclaw.pl/open-data/dataset/9bf18a63-44a7-419a-966c-6ab253ef2b43/resource/776b5e9b-e9da-4bb9-80cb-0c31da1b3486/download_old_version/Historia_przejazdow_2022-3-19_9_40_9.csv\" title=\"Historia_przejazdow_2022-3-19_9_40_9.csv\">\n Historia_przejazdow_2022-3-19_9_40_9.csv\n </a>,\n <a class=\"heading\" href=\"https://www.wroclaw.pl/open-data/dataset/9bf18a63-44a7-419a-966c-6ab253ef2b43/resource/c8a9af95-02eb-45a9-bdb6-2ba9ed8f06e7/download_old_version/Historia_przejazdow_2022-3-20_9_34_5.csv\" title=\"Historia_przejazdow_2022-3-20_9_34_5.csv\">\n Historia_przejazdow_2022-3-20_9_34_5.csv\n </a>,\n <a class=\"heading\" href=\"https://www.wroclaw.pl/open-data/dataset/9bf18a63-44a7-419a-966c-6ab253ef2b43/resource/ae53ebdc-1dc6-4fe6-b74d-fd49ed7ba954/download_old_version/Historia_przejazdow_2022-3-21_9_34_6.csv\" title=\"Historia_przejazdow_2022-3-21_9_34_6.csv\">\n Historia_przejazdow_2022-3-21_9_34_6.csv\n </a>,\n <a class=\"heading\" href=\"https://www.wroclaw.pl/open-data/dataset/9bf18a63-44a7-419a-966c-6ab253ef2b43/resource/e89b61dd-6fab-4344-88bc-8cd3be4a2b30/download_old_version/Historia_przejazdow_2022-3-22_9_40_22.csv\" title=\"Historia_przejazdow_2022-3-22_9_40_22.csv\">\n Historia_przejazdow_2022-3-22_9_40_22.csv\n </a>,\n <a class=\"heading\" href=\"https://www.wroclaw.pl/open-data/dataset/9bf18a63-44a7-419a-966c-6ab253ef2b43/resource/ba610223-19e2-4344-b4dc-01745fd35ea6/download_old_version/Historia_przejazdow_2022-3-23_9_35_6.csv\" title=\"Historia_przejazdow_2022-3-23_9_35_6.csv\">\n Historia_przejazdow_2022-3-23_9_35_6.csv\n </a>,\n <a class=\"heading\" href=\"https://www.wroclaw.pl/open-data/dataset/9bf18a63-44a7-419a-966c-6ab253ef2b43/resource/cb55c676-874d-4730-9edb-2441849ea35b/download_old_version/Historia_przejazdow_2022-3-24_9_36_6.csv\" title=\"Historia_przejazdow_2022-3-24_9_36_6.csv\">\n Historia_przejazdow_2022-3-24_9_36_6.csv\n </a>,\n <a class=\"heading\" href=\"https://www.wroclaw.pl/open-data/dataset/9bf18a63-44a7-419a-966c-6ab253ef2b43/resource/85bd2ef2-a058-47e8-a095-e88d73131719/download_old_version/Historia_przejazdow_2022-3-25_9_40_22.csv\" title=\"Historia_przejazdow_2022-3-25_9_40_22.csv\">\n Historia_przejazdow_2022-3-25_9_40_22.csv\n </a>,\n <a class=\"heading\" href=\"https://www.wroclaw.pl/open-data/dataset/9bf18a63-44a7-419a-966c-6ab253ef2b43/resource/b3e6f4a8-c987-4361-a67c-b2856b4f4f93/download_old_version/Historia_przejazdow_2022-3-26_9_36_6.csv\" title=\"Historia_przejazdow_2022-3-26_9_36_6.csv\">\n Historia_przejazdow_2022-3-26_9_36_6.csv\n </a>,\n <a class=\"heading\" href=\"https://www.wroclaw.pl/open-data/dataset/9bf18a63-44a7-419a-966c-6ab253ef2b43/resource/3d14ca74-7f4d-4ddd-8b4a-23de28b6d1ae/download_old_version/Historia_przejazdow_2022-3-27_10_37_6.csv\" title=\"Historia_przejazdow_2022-3-27_10_37_6.csv\">\n Historia_przejazdow_2022-3-27_10_37_6.csv\n </a>,\n <a class=\"heading\" href=\"https://www.wroclaw.pl/open-data/dataset/9bf18a63-44a7-419a-966c-6ab253ef2b43/resource/a6a50050-1ef5-41ba-a488-f1a8ac3e7c09/download_old_version/Historia_przejazdow_2022-3-28_10_37_8.csv\" title=\"Historia_przejazdow_2022-3-28_10_37_8.csv\">\n Historia_przejazdow_2022-3-28_10_37_8.csv\n </a>,\n <a class=\"heading\" href=\"https://www.wroclaw.pl/open-data/dataset/9bf18a63-44a7-419a-966c-6ab253ef2b43/resource/be807cd7-c6a4-45f9-9c5b-4c6d9ced4d5f/download_old_version/Historia_przejazdow_2022-3-29_10_38_6.csv\" title=\"Historia_przejazdow_2022-3-29_10_38_6.csv\">\n Historia_przejazdow_2022-3-29_10_38_6.csv\n </a>,\n <a class=\"heading\" href=\"https://www.wroclaw.pl/open-data/dataset/9bf18a63-44a7-419a-966c-6ab253ef2b43/resource/8a892e83-e906-4bd2-b410-4c8bb599697e/download_old_version/Historia_przejazdow_2022-3-30_10_38_8.csv\" title=\"Historia_przejazdow_2022-3-30_10_38_8.csv\">\n Historia_przejazdow_2022-3-30_10_38_8.csv\n </a>,\n <a class=\"heading\" href=\"https://www.wroclaw.pl/open-data/dataset/9bf18a63-44a7-419a-966c-6ab253ef2b43/resource/f992483f-f7dd-4296-a9f1-3f5a4fab0dda/download_old_version/Historia_przejazdow_2022-3-31_10_39_6.csv\" title=\"Historia_przejazdow_2022-3-31_10_39_6.csv\">\n Historia_przejazdow_2022-3-31_10_39_6.csv\n </a>,\n <a class=\"heading\" href=\"https://www.wroclaw.pl/open-data/dataset/9bf18a63-44a7-419a-966c-6ab253ef2b43/resource/5ece690d-04de-4f78-999b-1e452cf72f33/download_old_version/Historia_przejazdow_2022-4-1_10_40_6.csv\" title=\"Historia_przejazdow_2022-4-1_10_40_6.csv\">\n Historia_przejazdow_2022-4-1_10_40_6.csv\n </a>,\n <a class=\"heading\" href=\"https://www.wroclaw.pl/open-data/dataset/9bf18a63-44a7-419a-966c-6ab253ef2b43/resource/9257178c-0cd1-4a5b-9e15-44384808c494/download_old_version/Historia_przejazdow_2022-4-2_10_41_6.csv\" title=\"Historia_przejazdow_2022-4-2_10_41_6.csv\">\n Historia_przejazdow_2022-4-2_10_41_6.csv\n </a>,\n <a class=\"heading\" href=\"https://www.wroclaw.pl/open-data/dataset/9bf18a63-44a7-419a-966c-6ab253ef2b43/resource/80ed6373-694d-43fd-95a0-d2fd6dc6097c/download_old_version/Historia_przejazdow_2022-4-3_10_41_9.csv\" title=\"Historia_przejazdow_2022-4-3_10_41_9.csv\">\n Historia_przejazdow_2022-4-3_10_41_9.csv\n </a>,\n <a class=\"heading\" href=\"https://www.wroclaw.pl/open-data/dataset/9bf18a63-44a7-419a-966c-6ab253ef2b43/resource/4e9f7f08-ca13-4922-b7a9-abb641ef871f/download_old_version/Historia_przejazdow_2022-4-4_10_42_8.csv\" title=\"Historia_przejazdow_2022-4-4_10_42_8.csv\">\n Historia_przejazdow_2022-4-4_10_42_8.csv\n </a>,\n <a class=\"heading\" href=\"https://www.wroclaw.pl/open-data/dataset/9bf18a63-44a7-419a-966c-6ab253ef2b43/resource/98e37418-f378-4764-b913-ca72b0495058/download_old_version/Historia_przejazdow_2022-4-5_10_43_5.csv\" title=\"Historia_przejazdow_2022-4-5_10_43_5.csv\">\n Historia_przejazdow_2022-4-5_10_43_5.csv\n </a>,\n <a class=\"heading\" href=\"https://www.wroclaw.pl/open-data/dataset/9bf18a63-44a7-419a-966c-6ab253ef2b43/resource/2b190c49-f212-4ec8-bc63-c8c325fa08e7/download_old_version/Historia_przejazdow_2022-4-6_10_43_5.csv\" title=\"Historia_przejazdow_2022-4-6_10_43_5.csv\">\n Historia_przejazdow_2022-4-6_10_43_5.csv\n </a>,\n <a class=\"heading\" href=\"https://www.wroclaw.pl/open-data/dataset/9bf18a63-44a7-419a-966c-6ab253ef2b43/resource/bb7bdb9f-3ef8-4879-886a-9c82a9b5af2e/download_old_version/Historia_przejazdow_2022-4-7_10_44_6.csv\" title=\"Historia_przejazdow_2022-4-7_10_44_6.csv\">\n Historia_przejazdow_2022-4-7_10_44_6.csv\n </a>,\n <a class=\"heading\" href=\"https://www.wroclaw.pl/open-data/dataset/9bf18a63-44a7-419a-966c-6ab253ef2b43/resource/aa96cacb-b667-469b-82bc-297fe715bc42/download_old_version/Historia_przejazdow_2022-4-8_10_44_6.csv\" title=\"Historia_przejazdow_2022-4-8_10_44_6.csv\">\n Historia_przejazdow_2022-4-8_10_44_6.csv\n </a>,\n <a class=\"heading\" href=\"https://www.wroclaw.pl/open-data/dataset/9bf18a63-44a7-419a-966c-6ab253ef2b43/resource/5c02458e-212d-4786-8c7c-195bdd007363/download_old_version/Historia_przejazdow_2022-4-9_10_44_20.csv\" title=\"Historia_przejazdow_2022-4-9_10_44_20.csv\">\n Historia_przejazdow_2022-4-9_10_44_20.csv\n </a>,\n <a class=\"heading\" href=\"https://www.wroclaw.pl/open-data/dataset/9bf18a63-44a7-419a-966c-6ab253ef2b43/resource/b42dd3d4-1bf8-4a70-bd8b-7574f5523b29/download_old_version/Historia_przejazdow_2022-4-10_10_45_21.csv\" title=\"Historia_przejazdow_2022-4-10_10_45_21.csv\">\n Historia_przejazdow_2022-4-10_10_45_21.csv\n </a>,\n <a class=\"heading\" href=\"https://www.wroclaw.pl/open-data/dataset/9bf18a63-44a7-419a-966c-6ab253ef2b43/resource/cb03a4e4-5f3e-4981-9dc2-b76242fb688f/download_old_version/Historia_przejazdow_2022-4-11_10_46_19.csv\" title=\"Historia_przejazdow_2022-4-11_10_46_19.csv\">\n Historia_przejazdow_2022-4-11_10_46_19.csv\n </a>,\n <a class=\"heading\" href=\"https://www.wroclaw.pl/open-data/dataset/9bf18a63-44a7-419a-966c-6ab253ef2b43/resource/a8df4c2e-a614-45e2-9947-1b1f6d2fab7e/download_old_version/Historia_przejazdow_2022-4-12_10_47_20.csv\" title=\"Historia_przejazdow_2022-4-12_10_47_20.csv\">\n Historia_przejazdow_2022-4-12_10_47_20.csv\n </a>,\n <a class=\"heading\" href=\"https://www.wroclaw.pl/open-data/dataset/9bf18a63-44a7-419a-966c-6ab253ef2b43/resource/68d08bc8-bd58-48e5-85af-b61a11df0a5b/download_old_version/Historia_przejazdow_2022-4-13_10_57_21.csv\" title=\"Historia_przejazdow_2022-4-13_10_57_21.csv\">\n Historia_przejazdow_2022-4-13_10_57_21.csv\n </a>,\n <a class=\"heading\" href=\"https://www.wroclaw.pl/open-data/dataset/9bf18a63-44a7-419a-966c-6ab253ef2b43/resource/d7ce738d-ee62-479e-91b9-8634b670118b/download_old_version/Historia_przejazdow_2022-4-14_10_48_22.csv\" title=\"Historia_przejazdow_2022-4-14_10_48_22.csv\">\n Historia_przejazdow_2022-4-14_10_48_22.csv\n </a>,\n <a class=\"heading\" href=\"https://www.wroclaw.pl/open-data/dataset/9bf18a63-44a7-419a-966c-6ab253ef2b43/resource/9c0c2edb-597b-4576-bef9-4c23c7f81689/download_old_version/Historia_przejazdow_2022-4-15_10_49_20.csv\" title=\"Historia_przejazdow_2022-4-15_10_49_20.csv\">\n Historia_przejazdow_2022-4-15_10_49_20.csv\n </a>,\n <a class=\"heading\" href=\"https://www.wroclaw.pl/open-data/dataset/9bf18a63-44a7-419a-966c-6ab253ef2b43/resource/2fe5d6cb-142f-42dd-86f7-7349744aedff/download_old_version/Historia_przejazdow_2022-4-16_10_57_29.csv\" title=\"Historia_przejazdow_2022-4-16_10_57_29.csv\">\n Historia_przejazdow_2022-4-16_10_57_29.csv\n </a>,\n <a class=\"heading\" href=\"https://www.wroclaw.pl/open-data/dataset/9bf18a63-44a7-419a-966c-6ab253ef2b43/resource/06274f16-43b7-4d25-be3b-6333a2d02c65/download_old_version/Historia_przejazdow_2022-4-17_10_51_19.csv\" title=\"Historia_przejazdow_2022-4-17_10_51_19.csv\">\n Historia_przejazdow_2022-4-17_10_51_19.csv\n </a>,\n <a class=\"heading\" href=\"https://www.wroclaw.pl/open-data/dataset/9bf18a63-44a7-419a-966c-6ab253ef2b43/resource/f1b3de0c-0017-4721-82f6-7e20df72b16e/download_old_version/Historia_przejazdow_2022-4-18_10_51_20.csv\" title=\"Historia_przejazdow_2022-4-18_10_51_20.csv\">\n Historia_przejazdow_2022-4-18_10_51_20.csv\n </a>,\n <a class=\"heading\" href=\"https://www.wroclaw.pl/open-data/dataset/9bf18a63-44a7-419a-966c-6ab253ef2b43/resource/9ab8b14c-5621-4b43-9c5d-632f7833ee92/download_old_version/Historia_przejazdow_2022-4-19_10_55_18.csv\" title=\"Historia_przejazdow_2022-4-19_10_55_18.csv\">\n Historia_przejazdow_2022-4-19_10_55_18.csv\n </a>,\n <a class=\"heading\" href=\"https://www.wroclaw.pl/open-data/dataset/9bf18a63-44a7-419a-966c-6ab253ef2b43/resource/861ecbe0-c16a-4dbc-a49e-43607699da1f/download_old_version/Historia_przejazdow_2022-4-20_10_53_20.csv\" title=\"Historia_przejazdow_2022-4-20_10_53_20.csv\">\n Historia_przejazdow_2022-4-20_10_53_20.csv\n </a>,\n <a class=\"heading\" href=\"https://www.wroclaw.pl/open-data/dataset/9bf18a63-44a7-419a-966c-6ab253ef2b43/resource/f6744427-4831-46a7-8a73-284d21469385/download_old_version/Historia_przejazdow_2022-4-21_10_54_20.csv\" title=\"Historia_przejazdow_2022-4-21_10_54_20.csv\">\n Historia_przejazdow_2022-4-21_10_54_20.csv\n </a>,\n <a class=\"heading\" href=\"https://www.wroclaw.pl/open-data/dataset/9bf18a63-44a7-419a-966c-6ab253ef2b43/resource/d14e788f-4b8d-4ae8-b32f-c70c226d100a/download_old_version/Historia_przejazdow_2022-4-22_10_54_38.csv\" title=\"Historia_przejazdow_2022-4-22_10_54_38.csv\">\n Historia_przejazdow_2022-4-22_10_54_38.csv\n </a>,\n <a class=\"heading\" href=\"https://www.wroclaw.pl/open-data/dataset/9bf18a63-44a7-419a-966c-6ab253ef2b43/resource/2a84d96e-308b-4619-9821-60df88444aed/download_old_version/Historia_przejazdow_2022-4-23_10_55_21.csv\" title=\"Historia_przejazdow_2022-4-23_10_55_21.csv\">\n Historia_przejazdow_2022-4-23_10_55_21.csv\n </a>,\n <a class=\"heading\" href=\"https://www.wroclaw.pl/open-data/dataset/9bf18a63-44a7-419a-966c-6ab253ef2b43/resource/30f63ec5-2014-42a9-806d-c86a39562bf1/download_old_version/Historia_przejazdow_2022-4-24_10_56_20.csv\" title=\"Historia_przejazdow_2022-4-24_10_56_20.csv\">\n Historia_przejazdow_2022-4-24_10_56_20.csv\n </a>,\n <a class=\"heading\" href=\"https://www.wroclaw.pl/open-data/dataset/9bf18a63-44a7-419a-966c-6ab253ef2b43/resource/b45c1356-28a5-4151-aa5f-227f9d783b64/download_old_version/Historia_przejazdow_2022-4-25_10_56_24.csv\" title=\"Historia_przejazdow_2022-4-25_10_56_24.csv\">\n Historia_przejazdow_2022-4-25_10_56_24.csv\n </a>,\n <a class=\"heading\" href=\"https://www.wroclaw.pl/open-data/dataset/9bf18a63-44a7-419a-966c-6ab253ef2b43/resource/d819964f-0d3e-4f30-86b0-c2543c3095bc/download_old_version/Historia_przejazdow_2022-4-26_10_57_58.csv\" title=\"Historia_przejazdow_2022-4-26_10_57_58.csv\">\n Historia_przejazdow_2022-4-26_10_57_58.csv\n </a>,\n <a class=\"heading\" href=\"https://www.wroclaw.pl/open-data/dataset/9bf18a63-44a7-419a-966c-6ab253ef2b43/resource/1d9f8c33-8a77-499b-8439-d9f25ad1cd15/download_old_version/Historia_przejazdow_2022-4-27_10_58_20.csv\" title=\"Historia_przejazdow_2022-4-27_10_58_20.csv\">\n Historia_przejazdow_2022-4-27_10_58_20.csv\n </a>,\n <a class=\"heading\" href=\"https://www.wroclaw.pl/open-data/dataset/9bf18a63-44a7-419a-966c-6ab253ef2b43/resource/041d79b8-9004-400c-90fc-18a5880c2f4e/download_old_version/Historia_przejazdow_2022-4-28_10_59_20.csv\" title=\"Historia_przejazdow_2022-4-28_10_59_20.csv\">\n Historia_przejazdow_2022-4-28_10_59_20.csv\n </a>,\n <a class=\"heading\" href=\"https://www.wroclaw.pl/open-data/dataset/9bf18a63-44a7-419a-966c-6ab253ef2b43/resource/6fe399d4-277f-4520-9d4d-883ccf6084ff/download_old_version/Historia_przejazdow_2022-4-29_10_59_22.csv\" title=\"Historia_przejazdow_2022-4-29_10_59_22.csv\">\n Historia_przejazdow_2022-4-29_10_59_22.csv\n </a>,\n <a class=\"heading\" href=\"https://www.wroclaw.pl/open-data/dataset/9bf18a63-44a7-419a-966c-6ab253ef2b43/resource/19b6cd88-7d02-4d06-b844-24469d3ff5fa/download_old_version/Historia_przejazdow_2022-4-30_11_0_21.csv\" title=\"Historia_przejazdow_2022-4-30_11_0_21.csv\">\n Historia_przejazdow_2022-4-30_11_0_21.csv\n </a>,\n <a class=\"heading\" href=\"https://www.wroclaw.pl/open-data/dataset/9bf18a63-44a7-419a-966c-6ab253ef2b43/resource/bdd2f277-1e9a-4d9c-a72e-f563f06407df/download_old_version/Historia_przejazdow_2022-5-1_11_3_15.csv\" title=\"Historia_przejazdow_2022-5-1_11_3_15.csv\">\n Historia_przejazdow_2022-5-1_11_3_15.csv\n </a>,\n <a class=\"heading\" href=\"https://www.wroclaw.pl/open-data/dataset/9bf18a63-44a7-419a-966c-6ab253ef2b43/resource/5905407b-e066-49ac-92f8-30b48335308f/download_old_version/Historia_przejazdow_2022-5-2_11_1_20.csv\" title=\"Historia_przejazdow_2022-5-2_11_1_20.csv\">\n Historia_przejazdow_2022-5-2_11_1_20.csv\n </a>,\n <a class=\"heading\" href=\"https://www.wroclaw.pl/open-data/dataset/9bf18a63-44a7-419a-966c-6ab253ef2b43/resource/8e8d7670-4b52-497b-aacb-e70fe0fbe904/download_old_version/Historia_przejazdow_2022-5-3_11_2_6.csv\" title=\"Historia_przejazdow_2022-5-3_11_2_6.csv\">\n Historia_przejazdow_2022-5-3_11_2_6.csv\n </a>,\n <a class=\"heading\" href=\"https://www.wroclaw.pl/open-data/dataset/9bf18a63-44a7-419a-966c-6ab253ef2b43/resource/f6eb99be-4bb6-4991-843d-d14af11eed07/download_old_version/Historia_przejazdow_2022-5-4_11_6_56.csv\" title=\"Historia_przejazdow_2022-5-4_11_6_56.csv\">\n Historia_przejazdow_2022-5-4_11_6_56.csv\n </a>,\n <a class=\"heading\" href=\"https://www.wroclaw.pl/open-data/dataset/9bf18a63-44a7-419a-966c-6ab253ef2b43/resource/643db8fc-9c56-4f4e-8881-03ffc445ccb2/download_old_version/Historia_przejazdow_2022-5-5_11_4_5.csv\" title=\"Historia_przejazdow_2022-5-5_11_4_5.csv\">\n Historia_przejazdow_2022-5-5_11_4_5.csv\n </a>,\n <a class=\"heading\" href=\"https://www.wroclaw.pl/open-data/dataset/9bf18a63-44a7-419a-966c-6ab253ef2b43/resource/b6ece24e-5266-408e-8056-1c3033be5069/download_old_version/Historia_przejazdow_2022-5-6_11_4_7.csv\" title=\"Historia_przejazdow_2022-5-6_11_4_7.csv\">\n Historia_przejazdow_2022-5-6_11_4_7.csv\n </a>,\n <a class=\"heading\" href=\"https://www.wroclaw.pl/open-data/dataset/9bf18a63-44a7-419a-966c-6ab253ef2b43/resource/1d60a464-6823-4863-b90c-b9e0dbaee5af/download_old_version/Historia_przejazdow_2022-5-7_11_9_44.csv\" title=\"Historia_przejazdow_2022-5-7_11_9_44.csv\">\n Historia_przejazdow_2022-5-7_11_9_44.csv\n </a>,\n <a class=\"heading\" href=\"https://www.wroclaw.pl/open-data/dataset/9bf18a63-44a7-419a-966c-6ab253ef2b43/resource/c5c029d9-7f3e-4e7e-8730-e001bb686d8d/download_old_version/Historia_przejazdow_2022-5-8_11_5_6.csv\" title=\"Historia_przejazdow_2022-5-8_11_5_6.csv\">\n Historia_przejazdow_2022-5-8_11_5_6.csv\n </a>,\n <a class=\"heading\" href=\"https://www.wroclaw.pl/open-data/dataset/9bf18a63-44a7-419a-966c-6ab253ef2b43/resource/1233c7be-7e60-43a3-8c4a-3d75948979bd/download_old_version/Historia_przejazdow_2022-5-9_11_6_6.csv\" title=\"Historia_przejazdow_2022-5-9_11_6_6.csv\">\n Historia_przejazdow_2022-5-9_11_6_6.csv\n </a>,\n <a class=\"heading\" href=\"https://www.wroclaw.pl/open-data/dataset/9bf18a63-44a7-419a-966c-6ab253ef2b43/resource/24a431a8-b007-4feb-b8dd-a245312558f1/download_old_version/Historia_przejazdow_2022-5-10_11_9_42.csv\" title=\"Historia_przejazdow_2022-5-10_11_9_42.csv\">\n Historia_przejazdow_2022-5-10_11_9_42.csv\n </a>,\n <a class=\"heading\" href=\"https://www.wroclaw.pl/open-data/dataset/9bf18a63-44a7-419a-966c-6ab253ef2b43/resource/38d9f9e4-3a9e-4f77-90d0-0527dc291a86/download_old_version/Historia_przejazdow_2022-5-11_11_8_7.csv\" title=\"Historia_przejazdow_2022-5-11_11_8_7.csv\">\n Historia_przejazdow_2022-5-11_11_8_7.csv\n </a>,\n <a class=\"heading\" href=\"https://www.wroclaw.pl/open-data/dataset/9bf18a63-44a7-419a-966c-6ab253ef2b43/resource/b8e2d087-d7c9-49bd-be98-71f7beb46ec9/download_old_version/Historia_przejazdow_2022-5-12_11_9_6.csv\" title=\"Historia_przejazdow_2022-5-12_11_9_6.csv\">\n Historia_przejazdow_2022-5-12_11_9_6.csv\n </a>,\n <a class=\"heading\" href=\"https://www.wroclaw.pl/open-data/dataset/9bf18a63-44a7-419a-966c-6ab253ef2b43/resource/64bcf41d-83c5-4455-8cde-34eb1ee4199e/download_old_version/Historia_przejazdow_2022-5-13_11_10_57.csv\" title=\"Historia_przejazdow_2022-5-13_11_10_57.csv\">\n Historia_przejazdow_2022-5-13_11_10_57.csv\n </a>,\n <a class=\"heading\" href=\"https://www.wroclaw.pl/open-data/dataset/9bf18a63-44a7-419a-966c-6ab253ef2b43/resource/8fa2a46d-6e48-4c4f-90eb-03df03f53042/download_old_version/Historia_przejazdow_2022-5-14_11_11_6.csv\" title=\"Historia_przejazdow_2022-5-14_11_11_6.csv\">\n Historia_przejazdow_2022-5-14_11_11_6.csv\n </a>,\n <a class=\"heading\" href=\"https://www.wroclaw.pl/open-data/dataset/9bf18a63-44a7-419a-966c-6ab253ef2b43/resource/edb0f53a-3d83-4b6b-90ca-95f473f4a1e2/download_old_version/Historia_przejazdow_2022-5-15_11_11_9.csv\" title=\"Historia_przejazdow_2022-5-15_11_11_9.csv\">\n Historia_przejazdow_2022-5-15_11_11_9.csv\n </a>,\n <a class=\"heading\" href=\"https://www.wroclaw.pl/open-data/dataset/9bf18a63-44a7-419a-966c-6ab253ef2b43/resource/b26d2c7f-5da2-44da-9451-4fa1f54bc58d/download_old_version/Historia_przejazdow_2022-5-16_11_15_55.csv\" title=\"Historia_przejazdow_2022-5-16_11_15_55.csv\">\n Historia_przejazdow_2022-5-16_11_15_55.csv\n </a>,\n <a class=\"heading\" href=\"https://www.wroclaw.pl/open-data/dataset/9bf18a63-44a7-419a-966c-6ab253ef2b43/resource/f332daa5-ab8f-4a53-8faf-e4315b11ad3d/download_old_version/Historia_przejazdow_2022-5-17_11_12_6.csv\" title=\"Historia_przejazdow_2022-5-17_11_12_6.csv\">\n Historia_przejazdow_2022-5-17_11_12_6.csv\n </a>,\n <a class=\"heading\" href=\"https://www.wroclaw.pl/open-data/dataset/9bf18a63-44a7-419a-966c-6ab253ef2b43/resource/4bfa4306-35f4-4e63-a4b3-c29ea41044d7/download_old_version/Historia_przejazdow_2022-5-18_11_13_6.csv\" title=\"Historia_przejazdow_2022-5-18_11_13_6.csv\">\n Historia_przejazdow_2022-5-18_11_13_6.csv\n </a>,\n <a class=\"heading\" href=\"https://www.wroclaw.pl/open-data/dataset/9bf18a63-44a7-419a-966c-6ab253ef2b43/resource/19bbd618-b186-412c-9cbe-44db8f8b192e/download_old_version/Historia_przejazdow_2022-5-19_11_13_7.csv\" title=\"Historia_przejazdow_2022-5-19_11_13_7.csv\">\n Historia_przejazdow_2022-5-19_11_13_7.csv\n </a>,\n <a class=\"heading\" href=\"https://www.wroclaw.pl/open-data/dataset/9bf18a63-44a7-419a-966c-6ab253ef2b43/resource/cf3fad85-6c22-41c0-a87e-7d3da8b509f5/download_old_version/Historia_przejazdow_2022-5-20_11_14_6.csv\" title=\"Historia_przejazdow_2022-5-20_11_14_6.csv\">\n Historia_przejazdow_2022-5-20_11_14_6.csv\n </a>,\n <a class=\"heading\" href=\"https://www.wroclaw.pl/open-data/dataset/9bf18a63-44a7-419a-966c-6ab253ef2b43/resource/744d506f-1c67-48e2-a532-e5ee474d627b/download_old_version/Historia_przejazdow_2022-5-21_11_15_6.csv\" title=\"Historia_przejazdow_2022-5-21_11_15_6.csv\">\n Historia_przejazdow_2022-5-21_11_15_6.csv\n </a>,\n <a class=\"heading\" href=\"https://www.wroclaw.pl/open-data/dataset/9bf18a63-44a7-419a-966c-6ab253ef2b43/resource/ccb94c0e-6aec-42eb-acd9-8a21e17ae891/download_old_version/Historia_przejazdow_2022-5-22_11_17_18.csv\" title=\"Historia_przejazdow_2022-5-22_11_17_18.csv\">\n Historia_przejazdow_2022-5-22_11_17_18.csv\n </a>,\n <a class=\"heading\" href=\"https://www.wroclaw.pl/open-data/dataset/9bf18a63-44a7-419a-966c-6ab253ef2b43/resource/0fe200bb-a72d-4705-8cc9-1ae99b5a416b/download_old_version/Historia_przejazdow_2022-5-23_11_16_6.csv\" title=\"Historia_przejazdow_2022-5-23_11_16_6.csv\">\n Historia_przejazdow_2022-5-23_11_16_6.csv\n </a>,\n <a class=\"heading\" href=\"https://www.wroclaw.pl/open-data/dataset/9bf18a63-44a7-419a-966c-6ab253ef2b43/resource/38d69852-1a23-4aa6-80b9-18ad6d8674ac/download_old_version/Historia_przejazdow_2022-5-24_11_17_5.csv\" title=\"Historia_przejazdow_2022-5-24_11_17_5.csv\">\n Historia_przejazdow_2022-5-24_11_17_5.csv\n </a>,\n <a class=\"heading\" href=\"https://www.wroclaw.pl/open-data/dataset/9bf18a63-44a7-419a-966c-6ab253ef2b43/resource/e2e8363a-9563-4b6d-8800-e1a960fb42d9/download_old_version/Historia_przejazdow_2022-5-25_11_20_51.csv\" title=\"Historia_przejazdow_2022-5-25_11_20_51.csv\">\n Historia_przejazdow_2022-5-25_11_20_51.csv\n </a>,\n <a class=\"heading\" href=\"https://www.wroclaw.pl/open-data/dataset/9bf18a63-44a7-419a-966c-6ab253ef2b43/resource/6cba93ae-b942-4749-801d-1048e5b21ad4/download_old_version/Historia_przejazdow_2022-5-26_11_18_5.csv\" title=\"Historia_przejazdow_2022-5-26_11_18_5.csv\">\n Historia_przejazdow_2022-5-26_11_18_5.csv\n </a>,\n <a class=\"heading\" href=\"https://www.wroclaw.pl/open-data/dataset/9bf18a63-44a7-419a-966c-6ab253ef2b43/resource/b8e83829-505c-4b92-a73d-0517e7e6425d/download_old_version/Historia_przejazdow_2022-5-27_11_18_6.csv\" title=\"Historia_przejazdow_2022-5-27_11_18_6.csv\">\n Historia_przejazdow_2022-5-27_11_18_6.csv\n  </a>,\n <a class=\"heading\" href=\"https://www.wroclaw.pl/open-data/dataset/9bf18a63-44a7-419a-966c-6ab253ef2b43/resource/daa59221-0cd2-4b41-b4b0-95a080b6a8c6/download_old_version/Historia_przejazdow_2022-5-28_11_21_18.csv\" title=\"Historia_przejazdow_2022-5-28_11_21_18.csv\">\n Historia_przejazdow_2022-5-28_11_21_18.csv\n </a>,\n <a class=\"heading\" href=\"https://www.wroclaw.pl/open-data/dataset/9bf18a63-44a7-419a-966c-6ab253ef2b43/resource/6e34b653-93a4-4e75-882e-f77cf2515775/download_old_version/Historia_przejazdow_2022-5-29_11_20_6.csv\" title=\"Historia_przejazdow_2022-5-29_11_20_6.csv\">\n Historia_przejazdow_2022-5-29_11_20_6.csv\n </a>,\n <a class=\"heading\" href=\"https://www.wroclaw.pl/open-data/dataset/9bf18a63-44a7-419a-966c-6ab253ef2b43/resource/3c826811-a753-4bdd-8a86-c521969ed76e/download_old_version/Historia_przejazdow_2022-5-30_11_20_8.csv\" title=\"Historia_przejazdow_2022-5-30_11_20_8.csv\">\n Historia_przejazdow_2022-5-30_11_20_8.csv\n </a>,\n <a class=\"heading\" href=\"https://www.wroclaw.pl/open-data/dataset/9bf18a63-44a7-419a-966c-6ab253ef2b43/resource/67f514e3-d0e6-4bf5-91ec-94aaf7cff46a/download_old_version/Historia_przejazdow_2022-5-31_11_27_56.csv\" title=\"Historia_przejazdow_2022-5-31_11_27_56.csv\">\n Historia_przejazdow_2022-5-31_11_27_56.csv\n </a>,\n <a class=\"heading\" href=\"https://www.wroclaw.pl/open-data/dataset/9bf18a63-44a7-419a-966c-6ab253ef2b43/resource/c0c8976a-d5da-4773-8df1-5281ab36a841/download_old_version/Historia_przejazdow_2022-6-1_11_21_8.csv\" title=\"Historia_przejazdow_2022-6-1_11_21_8.csv\">\n Historia_przejazdow_2022-6-1_11_21_8.csv\n </a>,\n <a class=\"heading\" href=\"https://www.wroclaw.pl/open-data/dataset/9bf18a63-44a7-419a-966c-6ab253ef2b43/resource/1c951b3c-1661-4cce-94e5-fbd56ae311e1/download_old_version/Historia_przejazdow_2022-6-2_11_22_6.csv\" title=\"Historia_przejazdow_2022-6-2_11_22_6.csv\">\n Historia_przejazdow_2022-6-2_11_22_6.csv\n </a>,\n <a class=\"heading\" href=\"https://www.wroclaw.pl/open-data/dataset/9bf18a63-44a7-419a-966c-6ab253ef2b43/resource/e75a7053-0282-4033-a6c1-87301533b188/download_old_version/Historia_przejazdow_2022-6-3_11_23_10.csv\" title=\"Historia_przejazdow_2022-6-3_11_23_10.csv\">\n Historia_przejazdow_2022-6-3_11_23_10.csv\n </a>,\n <a class=\"heading\" href=\"https://www.wroclaw.pl/open-data/dataset/9bf18a63-44a7-419a-966c-6ab253ef2b43/resource/83abf670-3554-4c9f-9434-95d6075d6b7e/download_old_version/Historia_przejazdow_2022-6-4_11_22_8.csv\" title=\"Historia_przejazdow_2022-6-4_11_22_8.csv\">\n Historia_przejazdow_2022-6-4_11_22_8.csv\n </a>,\n <a class=\"heading\" href=\"https://www.wroclaw.pl/open-data/dataset/9bf18a63-44a7-419a-966c-6ab253ef2b43/resource/40a43135-1188-40d2-867c-4419796b9492/download_old_version/Historia_przejazdow_2022-6-5_11_23_6.csv\" title=\"Historia_przejazdow_2022-6-5_11_23_6.csv\">\n Historia_przejazdow_2022-6-5_11_23_6.csv\n </a>,\n <a class=\"heading\" href=\"https://www.wroclaw.pl/open-data/dataset/9bf18a63-44a7-419a-966c-6ab253ef2b43/resource/073f3c99-29b6-43d3-9e7d-8c4efb0f119a/download_old_version/Historia_przejazdow_2022-6-6_11_25_17.csv\" title=\"Historia_przejazdow_2022-6-6_11_25_17.csv\">\n Historia_przejazdow_2022-6-6_11_25_17.csv\n </a>]"
     },
     "execution_count": 71,
     "metadata": {},
     "output_type": "execute_result"
    }
   ],
   "source": [
    "\n",
    "df = pd.DataFrame(columns=['ilosc_przejazdow', 'data_przejazdu'])\n",
    "\n",
    "html_page = requests.get(\"https://www.wroclaw.pl/open-data/dataset/wrmprzejazdy_data/resource_history/c737af89-bcf7-4f7d-8bbc-4a0946d7006e\").text\n",
    "soup = BeautifulSoup(html_page, 'html.parser')\n",
    "list = soup.find_all(class_='heading')\n",
    "list = list[1:]\n",
    "list.reverse()"
   ],
   "metadata": {
    "collapsed": false,
    "pycharm": {
     "name": "#%%\n"
    }
   }
  },
  {
   "cell_type": "code",
   "execution_count": 65,
   "outputs": [],
   "source": [
    "date2022 = datetime.datetime(2022, 1, 1)"
   ],
   "metadata": {
    "collapsed": false,
    "pycharm": {
     "name": "#%%\n"
    }
   }
  },
  {
   "cell_type": "code",
   "execution_count": 73,
   "outputs": [
    {
     "name": "stderr",
     "output_type": "stream",
     "text": [
      "C:\\Users\\march\\AppData\\Local\\Temp\\ipykernel_10208\\2380825751.py:23: FutureWarning:\n",
      "\n",
      "The frame.append method is deprecated and will be removed from pandas in a future version. Use pandas.concat instead.\n",
      "\n",
      "C:\\Users\\march\\AppData\\Local\\Temp\\ipykernel_10208\\2380825751.py:23: FutureWarning:\n",
      "\n",
      "The frame.append method is deprecated and will be removed from pandas in a future version. Use pandas.concat instead.\n",
      "\n",
      "C:\\Users\\march\\AppData\\Local\\Temp\\ipykernel_10208\\2380825751.py:23: FutureWarning:\n",
      "\n",
      "The frame.append method is deprecated and will be removed from pandas in a future version. Use pandas.concat instead.\n",
      "\n",
      "C:\\Users\\march\\AppData\\Local\\Temp\\ipykernel_10208\\2380825751.py:23: FutureWarning:\n",
      "\n",
      "The frame.append method is deprecated and will be removed from pandas in a future version. Use pandas.concat instead.\n",
      "\n",
      "C:\\Users\\march\\AppData\\Local\\Temp\\ipykernel_10208\\2380825751.py:23: FutureWarning:\n",
      "\n",
      "The frame.append method is deprecated and will be removed from pandas in a future version. Use pandas.concat instead.\n",
      "\n",
      "C:\\Users\\march\\AppData\\Local\\Temp\\ipykernel_10208\\2380825751.py:23: FutureWarning:\n",
      "\n",
      "The frame.append method is deprecated and will be removed from pandas in a future version. Use pandas.concat instead.\n",
      "\n",
      "C:\\Users\\march\\AppData\\Local\\Temp\\ipykernel_10208\\2380825751.py:23: FutureWarning:\n",
      "\n",
      "The frame.append method is deprecated and will be removed from pandas in a future version. Use pandas.concat instead.\n",
      "\n",
      "C:\\Users\\march\\AppData\\Local\\Temp\\ipykernel_10208\\2380825751.py:23: FutureWarning:\n",
      "\n",
      "The frame.append method is deprecated and will be removed from pandas in a future version. Use pandas.concat instead.\n",
      "\n",
      "C:\\Users\\march\\AppData\\Local\\Temp\\ipykernel_10208\\2380825751.py:23: FutureWarning:\n",
      "\n",
      "The frame.append method is deprecated and will be removed from pandas in a future version. Use pandas.concat instead.\n",
      "\n",
      "C:\\Users\\march\\AppData\\Local\\Temp\\ipykernel_10208\\2380825751.py:23: FutureWarning:\n",
      "\n",
      "The frame.append method is deprecated and will be removed from pandas in a future version. Use pandas.concat instead.\n",
      "\n",
      "C:\\Users\\march\\AppData\\Local\\Temp\\ipykernel_10208\\2380825751.py:23: FutureWarning:\n",
      "\n",
      "The frame.append method is deprecated and will be removed from pandas in a future version. Use pandas.concat instead.\n",
      "\n",
      "C:\\Users\\march\\AppData\\Local\\Temp\\ipykernel_10208\\2380825751.py:23: FutureWarning:\n",
      "\n",
      "The frame.append method is deprecated and will be removed from pandas in a future version. Use pandas.concat instead.\n",
      "\n",
      "C:\\Users\\march\\AppData\\Local\\Temp\\ipykernel_10208\\2380825751.py:23: FutureWarning:\n",
      "\n",
      "The frame.append method is deprecated and will be removed from pandas in a future version. Use pandas.concat instead.\n",
      "\n",
      "C:\\Users\\march\\AppData\\Local\\Temp\\ipykernel_10208\\2380825751.py:23: FutureWarning:\n",
      "\n",
      "The frame.append method is deprecated and will be removed from pandas in a future version. Use pandas.concat instead.\n",
      "\n",
      "C:\\Users\\march\\AppData\\Local\\Temp\\ipykernel_10208\\2380825751.py:23: FutureWarning:\n",
      "\n",
      "The frame.append method is deprecated and will be removed from pandas in a future version. Use pandas.concat instead.\n",
      "\n",
      "C:\\Users\\march\\AppData\\Local\\Temp\\ipykernel_10208\\2380825751.py:23: FutureWarning:\n",
      "\n",
      "The frame.append method is deprecated and will be removed from pandas in a future version. Use pandas.concat instead.\n",
      "\n",
      "C:\\Users\\march\\AppData\\Local\\Temp\\ipykernel_10208\\2380825751.py:23: FutureWarning:\n",
      "\n",
      "The frame.append method is deprecated and will be removed from pandas in a future version. Use pandas.concat instead.\n",
      "\n",
      "C:\\Users\\march\\AppData\\Local\\Temp\\ipykernel_10208\\2380825751.py:23: FutureWarning:\n",
      "\n",
      "The frame.append method is deprecated and will be removed from pandas in a future version. Use pandas.concat instead.\n",
      "\n",
      "C:\\Users\\march\\AppData\\Local\\Temp\\ipykernel_10208\\2380825751.py:23: FutureWarning:\n",
      "\n",
      "The frame.append method is deprecated and will be removed from pandas in a future version. Use pandas.concat instead.\n",
      "\n",
      "C:\\Users\\march\\AppData\\Local\\Temp\\ipykernel_10208\\2380825751.py:23: FutureWarning:\n",
      "\n",
      "The frame.append method is deprecated and will be removed from pandas in a future version. Use pandas.concat instead.\n",
      "\n",
      "C:\\Users\\march\\AppData\\Local\\Temp\\ipykernel_10208\\2380825751.py:23: FutureWarning:\n",
      "\n",
      "The frame.append method is deprecated and will be removed from pandas in a future version. Use pandas.concat instead.\n",
      "\n",
      "C:\\Users\\march\\AppData\\Local\\Temp\\ipykernel_10208\\2380825751.py:23: FutureWarning:\n",
      "\n",
      "The frame.append method is deprecated and will be removed from pandas in a future version. Use pandas.concat instead.\n",
      "\n",
      "C:\\Users\\march\\AppData\\Local\\Temp\\ipykernel_10208\\2380825751.py:23: FutureWarning:\n",
      "\n",
      "The frame.append method is deprecated and will be removed from pandas in a future version. Use pandas.concat instead.\n",
      "\n",
      "C:\\Users\\march\\AppData\\Local\\Temp\\ipykernel_10208\\2380825751.py:23: FutureWarning:\n",
      "\n",
      "The frame.append method is deprecated and will be removed from pandas in a future version. Use pandas.concat instead.\n",
      "\n",
      "C:\\Users\\march\\AppData\\Local\\Temp\\ipykernel_10208\\2380825751.py:23: FutureWarning:\n",
      "\n",
      "The frame.append method is deprecated and will be removed from pandas in a future version. Use pandas.concat instead.\n",
      "\n",
      "C:\\Users\\march\\AppData\\Local\\Temp\\ipykernel_10208\\2380825751.py:23: FutureWarning:\n",
      "\n",
      "The frame.append method is deprecated and will be removed from pandas in a future version. Use pandas.concat instead.\n",
      "\n",
      "C:\\Users\\march\\AppData\\Local\\Temp\\ipykernel_10208\\2380825751.py:23: FutureWarning:\n",
      "\n",
      "The frame.append method is deprecated and will be removed from pandas in a future version. Use pandas.concat instead.\n",
      "\n",
      "C:\\Users\\march\\AppData\\Local\\Temp\\ipykernel_10208\\2380825751.py:23: FutureWarning:\n",
      "\n",
      "The frame.append method is deprecated and will be removed from pandas in a future version. Use pandas.concat instead.\n",
      "\n",
      "C:\\Users\\march\\AppData\\Local\\Temp\\ipykernel_10208\\2380825751.py:23: FutureWarning:\n",
      "\n",
      "The frame.append method is deprecated and will be removed from pandas in a future version. Use pandas.concat instead.\n",
      "\n",
      "C:\\Users\\march\\AppData\\Local\\Temp\\ipykernel_10208\\2380825751.py:23: FutureWarning:\n",
      "\n",
      "The frame.append method is deprecated and will be removed from pandas in a future version. Use pandas.concat instead.\n",
      "\n",
      "C:\\Users\\march\\AppData\\Local\\Temp\\ipykernel_10208\\2380825751.py:23: FutureWarning:\n",
      "\n",
      "The frame.append method is deprecated and will be removed from pandas in a future version. Use pandas.concat instead.\n",
      "\n",
      "C:\\Users\\march\\AppData\\Local\\Temp\\ipykernel_10208\\2380825751.py:23: FutureWarning:\n",
      "\n",
      "The frame.append method is deprecated and will be removed from pandas in a future version. Use pandas.concat instead.\n",
      "\n",
      "C:\\Users\\march\\AppData\\Local\\Temp\\ipykernel_10208\\2380825751.py:23: FutureWarning:\n",
      "\n",
      "The frame.append method is deprecated and will be removed from pandas in a future version. Use pandas.concat instead.\n",
      "\n",
      "C:\\Users\\march\\AppData\\Local\\Temp\\ipykernel_10208\\2380825751.py:23: FutureWarning:\n",
      "\n",
      "The frame.append method is deprecated and will be removed from pandas in a future version. Use pandas.concat instead.\n",
      "\n",
      "C:\\Users\\march\\AppData\\Local\\Temp\\ipykernel_10208\\2380825751.py:23: FutureWarning:\n",
      "\n",
      "The frame.append method is deprecated and will be removed from pandas in a future version. Use pandas.concat instead.\n",
      "\n",
      "C:\\Users\\march\\AppData\\Local\\Temp\\ipykernel_10208\\2380825751.py:23: FutureWarning:\n",
      "\n",
      "The frame.append method is deprecated and will be removed from pandas in a future version. Use pandas.concat instead.\n",
      "\n",
      "C:\\Users\\march\\AppData\\Local\\Temp\\ipykernel_10208\\2380825751.py:23: FutureWarning:\n",
      "\n",
      "The frame.append method is deprecated and will be removed from pandas in a future version. Use pandas.concat instead.\n",
      "\n",
      "C:\\Users\\march\\AppData\\Local\\Temp\\ipykernel_10208\\2380825751.py:23: FutureWarning:\n",
      "\n",
      "The frame.append method is deprecated and will be removed from pandas in a future version. Use pandas.concat instead.\n",
      "\n",
      "C:\\Users\\march\\AppData\\Local\\Temp\\ipykernel_10208\\2380825751.py:23: FutureWarning:\n",
      "\n",
      "The frame.append method is deprecated and will be removed from pandas in a future version. Use pandas.concat instead.\n",
      "\n",
      "C:\\Users\\march\\AppData\\Local\\Temp\\ipykernel_10208\\2380825751.py:23: FutureWarning:\n",
      "\n",
      "The frame.append method is deprecated and will be removed from pandas in a future version. Use pandas.concat instead.\n",
      "\n",
      "C:\\Users\\march\\AppData\\Local\\Temp\\ipykernel_10208\\2380825751.py:23: FutureWarning:\n",
      "\n",
      "The frame.append method is deprecated and will be removed from pandas in a future version. Use pandas.concat instead.\n",
      "\n",
      "C:\\Users\\march\\AppData\\Local\\Temp\\ipykernel_10208\\2380825751.py:23: FutureWarning:\n",
      "\n",
      "The frame.append method is deprecated and will be removed from pandas in a future version. Use pandas.concat instead.\n",
      "\n",
      "C:\\Users\\march\\AppData\\Local\\Temp\\ipykernel_10208\\2380825751.py:23: FutureWarning:\n",
      "\n",
      "The frame.append method is deprecated and will be removed from pandas in a future version. Use pandas.concat instead.\n",
      "\n",
      "C:\\Users\\march\\AppData\\Local\\Temp\\ipykernel_10208\\2380825751.py:23: FutureWarning:\n",
      "\n",
      "The frame.append method is deprecated and will be removed from pandas in a future version. Use pandas.concat instead.\n",
      "\n",
      "C:\\Users\\march\\AppData\\Local\\Temp\\ipykernel_10208\\2380825751.py:23: FutureWarning:\n",
      "\n",
      "The frame.append method is deprecated and will be removed from pandas in a future version. Use pandas.concat instead.\n",
      "\n",
      "C:\\Users\\march\\AppData\\Local\\Temp\\ipykernel_10208\\2380825751.py:23: FutureWarning:\n",
      "\n",
      "The frame.append method is deprecated and will be removed from pandas in a future version. Use pandas.concat instead.\n",
      "\n",
      "C:\\Users\\march\\AppData\\Local\\Temp\\ipykernel_10208\\2380825751.py:23: FutureWarning:\n",
      "\n",
      "The frame.append method is deprecated and will be removed from pandas in a future version. Use pandas.concat instead.\n",
      "\n",
      "C:\\Users\\march\\AppData\\Local\\Temp\\ipykernel_10208\\2380825751.py:23: FutureWarning:\n",
      "\n",
      "The frame.append method is deprecated and will be removed from pandas in a future version. Use pandas.concat instead.\n",
      "\n",
      "C:\\Users\\march\\AppData\\Local\\Temp\\ipykernel_10208\\2380825751.py:23: FutureWarning:\n",
      "\n",
      "The frame.append method is deprecated and will be removed from pandas in a future version. Use pandas.concat instead.\n",
      "\n",
      "C:\\Users\\march\\AppData\\Local\\Temp\\ipykernel_10208\\2380825751.py:23: FutureWarning:\n",
      "\n",
      "The frame.append method is deprecated and will be removed from pandas in a future version. Use pandas.concat instead.\n",
      "\n",
      "C:\\Users\\march\\AppData\\Local\\Temp\\ipykernel_10208\\2380825751.py:23: FutureWarning:\n",
      "\n",
      "The frame.append method is deprecated and will be removed from pandas in a future version. Use pandas.concat instead.\n",
      "\n",
      "C:\\Users\\march\\AppData\\Local\\Temp\\ipykernel_10208\\2380825751.py:23: FutureWarning:\n",
      "\n",
      "The frame.append method is deprecated and will be removed from pandas in a future version. Use pandas.concat instead.\n",
      "\n",
      "C:\\Users\\march\\AppData\\Local\\Temp\\ipykernel_10208\\2380825751.py:23: FutureWarning:\n",
      "\n",
      "The frame.append method is deprecated and will be removed from pandas in a future version. Use pandas.concat instead.\n",
      "\n",
      "C:\\Users\\march\\AppData\\Local\\Temp\\ipykernel_10208\\2380825751.py:23: FutureWarning:\n",
      "\n",
      "The frame.append method is deprecated and will be removed from pandas in a future version. Use pandas.concat instead.\n",
      "\n",
      "C:\\Users\\march\\AppData\\Local\\Temp\\ipykernel_10208\\2380825751.py:23: FutureWarning:\n",
      "\n",
      "The frame.append method is deprecated and will be removed from pandas in a future version. Use pandas.concat instead.\n",
      "\n",
      "C:\\Users\\march\\AppData\\Local\\Temp\\ipykernel_10208\\2380825751.py:23: FutureWarning:\n",
      "\n",
      "The frame.append method is deprecated and will be removed from pandas in a future version. Use pandas.concat instead.\n",
      "\n",
      "C:\\Users\\march\\AppData\\Local\\Temp\\ipykernel_10208\\2380825751.py:23: FutureWarning:\n",
      "\n",
      "The frame.append method is deprecated and will be removed from pandas in a future version. Use pandas.concat instead.\n",
      "\n",
      "C:\\Users\\march\\AppData\\Local\\Temp\\ipykernel_10208\\2380825751.py:23: FutureWarning:\n",
      "\n",
      "The frame.append method is deprecated and will be removed from pandas in a future version. Use pandas.concat instead.\n",
      "\n",
      "C:\\Users\\march\\AppData\\Local\\Temp\\ipykernel_10208\\2380825751.py:23: FutureWarning:\n",
      "\n",
      "The frame.append method is deprecated and will be removed from pandas in a future version. Use pandas.concat instead.\n",
      "\n",
      "C:\\Users\\march\\AppData\\Local\\Temp\\ipykernel_10208\\2380825751.py:23: FutureWarning:\n",
      "\n",
      "The frame.append method is deprecated and will be removed from pandas in a future version. Use pandas.concat instead.\n",
      "\n",
      "C:\\Users\\march\\AppData\\Local\\Temp\\ipykernel_10208\\2380825751.py:23: FutureWarning:\n",
      "\n",
      "The frame.append method is deprecated and will be removed from pandas in a future version. Use pandas.concat instead.\n",
      "\n",
      "C:\\Users\\march\\AppData\\Local\\Temp\\ipykernel_10208\\2380825751.py:23: FutureWarning:\n",
      "\n",
      "The frame.append method is deprecated and will be removed from pandas in a future version. Use pandas.concat instead.\n",
      "\n",
      "C:\\Users\\march\\AppData\\Local\\Temp\\ipykernel_10208\\2380825751.py:23: FutureWarning:\n",
      "\n",
      "The frame.append method is deprecated and will be removed from pandas in a future version. Use pandas.concat instead.\n",
      "\n",
      "C:\\Users\\march\\AppData\\Local\\Temp\\ipykernel_10208\\2380825751.py:23: FutureWarning:\n",
      "\n",
      "The frame.append method is deprecated and will be removed from pandas in a future version. Use pandas.concat instead.\n",
      "\n",
      "C:\\Users\\march\\AppData\\Local\\Temp\\ipykernel_10208\\2380825751.py:23: FutureWarning:\n",
      "\n",
      "The frame.append method is deprecated and will be removed from pandas in a future version. Use pandas.concat instead.\n",
      "\n",
      "C:\\Users\\march\\AppData\\Local\\Temp\\ipykernel_10208\\2380825751.py:23: FutureWarning:\n",
      "\n",
      "The frame.append method is deprecated and will be removed from pandas in a future version. Use pandas.concat instead.\n",
      "\n",
      "C:\\Users\\march\\AppData\\Local\\Temp\\ipykernel_10208\\2380825751.py:23: FutureWarning:\n",
      "\n",
      "The frame.append method is deprecated and will be removed from pandas in a future version. Use pandas.concat instead.\n",
      "\n",
      "C:\\Users\\march\\AppData\\Local\\Temp\\ipykernel_10208\\2380825751.py:23: FutureWarning:\n",
      "\n",
      "The frame.append method is deprecated and will be removed from pandas in a future version. Use pandas.concat instead.\n",
      "\n",
      "C:\\Users\\march\\AppData\\Local\\Temp\\ipykernel_10208\\2380825751.py:23: FutureWarning:\n",
      "\n",
      "The frame.append method is deprecated and will be removed from pandas in a future version. Use pandas.concat instead.\n",
      "\n",
      "C:\\Users\\march\\AppData\\Local\\Temp\\ipykernel_10208\\2380825751.py:23: FutureWarning:\n",
      "\n",
      "The frame.append method is deprecated and will be removed from pandas in a future version. Use pandas.concat instead.\n",
      "\n",
      "C:\\Users\\march\\AppData\\Local\\Temp\\ipykernel_10208\\2380825751.py:23: FutureWarning:\n",
      "\n",
      "The frame.append method is deprecated and will be removed from pandas in a future version. Use pandas.concat instead.\n",
      "\n",
      "C:\\Users\\march\\AppData\\Local\\Temp\\ipykernel_10208\\2380825751.py:23: FutureWarning:\n",
      "\n",
      "The frame.append method is deprecated and will be removed from pandas in a future version. Use pandas.concat instead.\n",
      "\n",
      "C:\\Users\\march\\AppData\\Local\\Temp\\ipykernel_10208\\2380825751.py:23: FutureWarning:\n",
      "\n",
      "The frame.append method is deprecated and will be removed from pandas in a future version. Use pandas.concat instead.\n",
      "\n",
      "C:\\Users\\march\\AppData\\Local\\Temp\\ipykernel_10208\\2380825751.py:23: FutureWarning:\n",
      "\n",
      "The frame.append method is deprecated and will be removed from pandas in a future version. Use pandas.concat instead.\n",
      "\n",
      "C:\\Users\\march\\AppData\\Local\\Temp\\ipykernel_10208\\2380825751.py:23: FutureWarning:\n",
      "\n",
      "The frame.append method is deprecated and will be removed from pandas in a future version. Use pandas.concat instead.\n",
      "\n",
      "C:\\Users\\march\\AppData\\Local\\Temp\\ipykernel_10208\\2380825751.py:23: FutureWarning:\n",
      "\n",
      "The frame.append method is deprecated and will be removed from pandas in a future version. Use pandas.concat instead.\n",
      "\n",
      "C:\\Users\\march\\AppData\\Local\\Temp\\ipykernel_10208\\2380825751.py:23: FutureWarning:\n",
      "\n",
      "The frame.append method is deprecated and will be removed from pandas in a future version. Use pandas.concat instead.\n",
      "\n",
      "C:\\Users\\march\\AppData\\Local\\Temp\\ipykernel_10208\\2380825751.py:23: FutureWarning:\n",
      "\n",
      "The frame.append method is deprecated and will be removed from pandas in a future version. Use pandas.concat instead.\n",
      "\n",
      "C:\\Users\\march\\AppData\\Local\\Temp\\ipykernel_10208\\2380825751.py:23: FutureWarning:\n",
      "\n",
      "The frame.append method is deprecated and will be removed from pandas in a future version. Use pandas.concat instead.\n",
      "\n",
      "C:\\Users\\march\\AppData\\Local\\Temp\\ipykernel_10208\\2380825751.py:23: FutureWarning:\n",
      "\n",
      "The frame.append method is deprecated and will be removed from pandas in a future version. Use pandas.concat instead.\n",
      "\n",
      "C:\\Users\\march\\AppData\\Local\\Temp\\ipykernel_10208\\2380825751.py:23: FutureWarning:\n",
      "\n",
      "The frame.append method is deprecated and will be removed from pandas in a future version. Use pandas.concat instead.\n",
      "\n",
      "C:\\Users\\march\\AppData\\Local\\Temp\\ipykernel_10208\\2380825751.py:23: FutureWarning:\n",
      "\n",
      "The frame.append method is deprecated and will be removed from pandas in a future version. Use pandas.concat instead.\n",
      "\n",
      "C:\\Users\\march\\AppData\\Local\\Temp\\ipykernel_10208\\2380825751.py:23: FutureWarning:\n",
      "\n",
      "The frame.append method is deprecated and will be removed from pandas in a future version. Use pandas.concat instead.\n",
      "\n",
      "C:\\Users\\march\\AppData\\Local\\Temp\\ipykernel_10208\\2380825751.py:23: FutureWarning:\n",
      "\n",
      "The frame.append method is deprecated and will be removed from pandas in a future version. Use pandas.concat instead.\n",
      "\n",
      "C:\\Users\\march\\AppData\\Local\\Temp\\ipykernel_10208\\2380825751.py:23: FutureWarning:\n",
      "\n",
      "The frame.append method is deprecated and will be removed from pandas in a future version. Use pandas.concat instead.\n",
      "\n",
      "C:\\Users\\march\\AppData\\Local\\Temp\\ipykernel_10208\\2380825751.py:23: FutureWarning:\n",
      "\n",
      "The frame.append method is deprecated and will be removed from pandas in a future version. Use pandas.concat instead.\n",
      "\n",
      "C:\\Users\\march\\AppData\\Local\\Temp\\ipykernel_10208\\2380825751.py:23: FutureWarning:\n",
      "\n",
      "The frame.append method is deprecated and will be removed from pandas in a future version. Use pandas.concat instead.\n",
      "\n",
      "C:\\Users\\march\\AppData\\Local\\Temp\\ipykernel_10208\\2380825751.py:23: FutureWarning:\n",
      "\n",
      "The frame.append method is deprecated and will be removed from pandas in a future version. Use pandas.concat instead.\n",
      "\n",
      "C:\\Users\\march\\AppData\\Local\\Temp\\ipykernel_10208\\2380825751.py:23: FutureWarning:\n",
      "\n",
      "The frame.append method is deprecated and will be removed from pandas in a future version. Use pandas.concat instead.\n",
      "\n",
      "C:\\Users\\march\\AppData\\Local\\Temp\\ipykernel_10208\\2380825751.py:23: FutureWarning:\n",
      "\n",
      "The frame.append method is deprecated and will be removed from pandas in a future version. Use pandas.concat instead.\n",
      "\n",
      "C:\\Users\\march\\AppData\\Local\\Temp\\ipykernel_10208\\2380825751.py:23: FutureWarning:\n",
      "\n",
      "The frame.append method is deprecated and will be removed from pandas in a future version. Use pandas.concat instead.\n",
      "\n",
      "C:\\Users\\march\\AppData\\Local\\Temp\\ipykernel_10208\\2380825751.py:23: FutureWarning:\n",
      "\n",
      "The frame.append method is deprecated and will be removed from pandas in a future version. Use pandas.concat instead.\n",
      "\n",
      "C:\\Users\\march\\AppData\\Local\\Temp\\ipykernel_10208\\2380825751.py:23: FutureWarning:\n",
      "\n",
      "The frame.append method is deprecated and will be removed from pandas in a future version. Use pandas.concat instead.\n",
      "\n",
      "C:\\Users\\march\\AppData\\Local\\Temp\\ipykernel_10208\\2380825751.py:23: FutureWarning:\n",
      "\n",
      "The frame.append method is deprecated and will be removed from pandas in a future version. Use pandas.concat instead.\n",
      "\n",
      "C:\\Users\\march\\AppData\\Local\\Temp\\ipykernel_10208\\2380825751.py:23: FutureWarning:\n",
      "\n",
      "The frame.append method is deprecated and will be removed from pandas in a future version. Use pandas.concat instead.\n",
      "\n",
      "C:\\Users\\march\\AppData\\Local\\Temp\\ipykernel_10208\\2380825751.py:23: FutureWarning:\n",
      "\n",
      "The frame.append method is deprecated and will be removed from pandas in a future version. Use pandas.concat instead.\n",
      "\n",
      "C:\\Users\\march\\AppData\\Local\\Temp\\ipykernel_10208\\2380825751.py:23: FutureWarning:\n",
      "\n",
      "The frame.append method is deprecated and will be removed from pandas in a future version. Use pandas.concat instead.\n",
      "\n",
      "C:\\Users\\march\\AppData\\Local\\Temp\\ipykernel_10208\\2380825751.py:23: FutureWarning:\n",
      "\n",
      "The frame.append method is deprecated and will be removed from pandas in a future version. Use pandas.concat instead.\n",
      "\n",
      "C:\\Users\\march\\AppData\\Local\\Temp\\ipykernel_10208\\2380825751.py:23: FutureWarning:\n",
      "\n",
      "The frame.append method is deprecated and will be removed from pandas in a future version. Use pandas.concat instead.\n",
      "\n",
      "C:\\Users\\march\\AppData\\Local\\Temp\\ipykernel_10208\\2380825751.py:23: FutureWarning:\n",
      "\n",
      "The frame.append method is deprecated and will be removed from pandas in a future version. Use pandas.concat instead.\n",
      "\n",
      "C:\\Users\\march\\AppData\\Local\\Temp\\ipykernel_10208\\2380825751.py:23: FutureWarning:\n",
      "\n",
      "The frame.append method is deprecated and will be removed from pandas in a future version. Use pandas.concat instead.\n",
      "\n",
      "C:\\Users\\march\\AppData\\Local\\Temp\\ipykernel_10208\\2380825751.py:23: FutureWarning:\n",
      "\n",
      "The frame.append method is deprecated and will be removed from pandas in a future version. Use pandas.concat instead.\n",
      "\n",
      "C:\\Users\\march\\AppData\\Local\\Temp\\ipykernel_10208\\2380825751.py:23: FutureWarning:\n",
      "\n",
      "The frame.append method is deprecated and will be removed from pandas in a future version. Use pandas.concat instead.\n",
      "\n",
      "C:\\Users\\march\\AppData\\Local\\Temp\\ipykernel_10208\\2380825751.py:23: FutureWarning:\n",
      "\n",
      "The frame.append method is deprecated and will be removed from pandas in a future version. Use pandas.concat instead.\n",
      "\n",
      "C:\\Users\\march\\AppData\\Local\\Temp\\ipykernel_10208\\2380825751.py:23: FutureWarning:\n",
      "\n",
      "The frame.append method is deprecated and will be removed from pandas in a future version. Use pandas.concat instead.\n",
      "\n",
      "C:\\Users\\march\\AppData\\Local\\Temp\\ipykernel_10208\\2380825751.py:23: FutureWarning:\n",
      "\n",
      "The frame.append method is deprecated and will be removed from pandas in a future version. Use pandas.concat instead.\n",
      "\n",
      "C:\\Users\\march\\AppData\\Local\\Temp\\ipykernel_10208\\2380825751.py:23: FutureWarning:\n",
      "\n",
      "The frame.append method is deprecated and will be removed from pandas in a future version. Use pandas.concat instead.\n",
      "\n",
      "C:\\Users\\march\\AppData\\Local\\Temp\\ipykernel_10208\\2380825751.py:23: FutureWarning:\n",
      "\n",
      "The frame.append method is deprecated and will be removed from pandas in a future version. Use pandas.concat instead.\n",
      "\n",
      "C:\\Users\\march\\AppData\\Local\\Temp\\ipykernel_10208\\2380825751.py:23: FutureWarning:\n",
      "\n",
      "The frame.append method is deprecated and will be removed from pandas in a future version. Use pandas.concat instead.\n",
      "\n",
      "C:\\Users\\march\\AppData\\Local\\Temp\\ipykernel_10208\\2380825751.py:23: FutureWarning:\n",
      "\n",
      "The frame.append method is deprecated and will be removed from pandas in a future version. Use pandas.concat instead.\n",
      "\n",
      "C:\\Users\\march\\AppData\\Local\\Temp\\ipykernel_10208\\2380825751.py:23: FutureWarning:\n",
      "\n",
      "The frame.append method is deprecated and will be removed from pandas in a future version. Use pandas.concat instead.\n",
      "\n",
      "C:\\Users\\march\\AppData\\Local\\Temp\\ipykernel_10208\\2380825751.py:23: FutureWarning:\n",
      "\n",
      "The frame.append method is deprecated and will be removed from pandas in a future version. Use pandas.concat instead.\n",
      "\n",
      "C:\\Users\\march\\AppData\\Local\\Temp\\ipykernel_10208\\2380825751.py:23: FutureWarning:\n",
      "\n",
      "The frame.append method is deprecated and will be removed from pandas in a future version. Use pandas.concat instead.\n",
      "\n",
      "C:\\Users\\march\\AppData\\Local\\Temp\\ipykernel_10208\\2380825751.py:23: FutureWarning:\n",
      "\n",
      "The frame.append method is deprecated and will be removed from pandas in a future version. Use pandas.concat instead.\n",
      "\n",
      "C:\\Users\\march\\AppData\\Local\\Temp\\ipykernel_10208\\2380825751.py:23: FutureWarning:\n",
      "\n",
      "The frame.append method is deprecated and will be removed from pandas in a future version. Use pandas.concat instead.\n",
      "\n",
      "C:\\Users\\march\\AppData\\Local\\Temp\\ipykernel_10208\\2380825751.py:23: FutureWarning:\n",
      "\n",
      "The frame.append method is deprecated and will be removed from pandas in a future version. Use pandas.concat instead.\n",
      "\n",
      "C:\\Users\\march\\AppData\\Local\\Temp\\ipykernel_10208\\2380825751.py:23: FutureWarning:\n",
      "\n",
      "The frame.append method is deprecated and will be removed from pandas in a future version. Use pandas.concat instead.\n",
      "\n",
      "C:\\Users\\march\\AppData\\Local\\Temp\\ipykernel_10208\\2380825751.py:23: FutureWarning:\n",
      "\n",
      "The frame.append method is deprecated and will be removed from pandas in a future version. Use pandas.concat instead.\n",
      "\n",
      "C:\\Users\\march\\AppData\\Local\\Temp\\ipykernel_10208\\2380825751.py:23: FutureWarning:\n",
      "\n",
      "The frame.append method is deprecated and will be removed from pandas in a future version. Use pandas.concat instead.\n",
      "\n",
      "C:\\Users\\march\\AppData\\Local\\Temp\\ipykernel_10208\\2380825751.py:23: FutureWarning:\n",
      "\n",
      "The frame.append method is deprecated and will be removed from pandas in a future version. Use pandas.concat instead.\n",
      "\n",
      "C:\\Users\\march\\AppData\\Local\\Temp\\ipykernel_10208\\2380825751.py:23: FutureWarning:\n",
      "\n",
      "The frame.append method is deprecated and will be removed from pandas in a future version. Use pandas.concat instead.\n",
      "\n",
      "C:\\Users\\march\\AppData\\Local\\Temp\\ipykernel_10208\\2380825751.py:23: FutureWarning:\n",
      "\n",
      "The frame.append method is deprecated and will be removed from pandas in a future version. Use pandas.concat instead.\n",
      "\n",
      "C:\\Users\\march\\AppData\\Local\\Temp\\ipykernel_10208\\2380825751.py:23: FutureWarning:\n",
      "\n",
      "The frame.append method is deprecated and will be removed from pandas in a future version. Use pandas.concat instead.\n",
      "\n",
      "C:\\Users\\march\\AppData\\Local\\Temp\\ipykernel_10208\\2380825751.py:23: FutureWarning:\n",
      "\n",
      "The frame.append method is deprecated and will be removed from pandas in a future version. Use pandas.concat instead.\n",
      "\n",
      "C:\\Users\\march\\AppData\\Local\\Temp\\ipykernel_10208\\2380825751.py:23: FutureWarning:\n",
      "\n",
      "The frame.append method is deprecated and will be removed from pandas in a future version. Use pandas.concat instead.\n",
      "\n",
      "C:\\Users\\march\\AppData\\Local\\Temp\\ipykernel_10208\\2380825751.py:23: FutureWarning:\n",
      "\n",
      "The frame.append method is deprecated and will be removed from pandas in a future version. Use pandas.concat instead.\n",
      "\n",
      "C:\\Users\\march\\AppData\\Local\\Temp\\ipykernel_10208\\2380825751.py:23: FutureWarning:\n",
      "\n",
      "The frame.append method is deprecated and will be removed from pandas in a future version. Use pandas.concat instead.\n",
      "\n",
      "C:\\Users\\march\\AppData\\Local\\Temp\\ipykernel_10208\\2380825751.py:23: FutureWarning:\n",
      "\n",
      "The frame.append method is deprecated and will be removed from pandas in a future version. Use pandas.concat instead.\n",
      "\n",
      "C:\\Users\\march\\AppData\\Local\\Temp\\ipykernel_10208\\2380825751.py:23: FutureWarning:\n",
      "\n",
      "The frame.append method is deprecated and will be removed from pandas in a future version. Use pandas.concat instead.\n",
      "\n",
      "C:\\Users\\march\\AppData\\Local\\Temp\\ipykernel_10208\\2380825751.py:23: FutureWarning:\n",
      "\n",
      "The frame.append method is deprecated and will be removed from pandas in a future version. Use pandas.concat instead.\n",
      "\n",
      "C:\\Users\\march\\AppData\\Local\\Temp\\ipykernel_10208\\2380825751.py:23: FutureWarning:\n",
      "\n",
      "The frame.append method is deprecated and will be removed from pandas in a future version. Use pandas.concat instead.\n",
      "\n",
      "C:\\Users\\march\\AppData\\Local\\Temp\\ipykernel_10208\\2380825751.py:23: FutureWarning:\n",
      "\n",
      "The frame.append method is deprecated and will be removed from pandas in a future version. Use pandas.concat instead.\n",
      "\n",
      "C:\\Users\\march\\AppData\\Local\\Temp\\ipykernel_10208\\2380825751.py:23: FutureWarning:\n",
      "\n",
      "The frame.append method is deprecated and will be removed from pandas in a future version. Use pandas.concat instead.\n",
      "\n",
      "C:\\Users\\march\\AppData\\Local\\Temp\\ipykernel_10208\\2380825751.py:23: FutureWarning:\n",
      "\n",
      "The frame.append method is deprecated and will be removed from pandas in a future version. Use pandas.concat instead.\n",
      "\n",
      "C:\\Users\\march\\AppData\\Local\\Temp\\ipykernel_10208\\2380825751.py:23: FutureWarning:\n",
      "\n",
      "The frame.append method is deprecated and will be removed from pandas in a future version. Use pandas.concat instead.\n",
      "\n",
      "C:\\Users\\march\\AppData\\Local\\Temp\\ipykernel_10208\\2380825751.py:23: FutureWarning:\n",
      "\n",
      "The frame.append method is deprecated and will be removed from pandas in a future version. Use pandas.concat instead.\n",
      "\n",
      "C:\\Users\\march\\AppData\\Local\\Temp\\ipykernel_10208\\2380825751.py:23: FutureWarning:\n",
      "\n",
      "The frame.append method is deprecated and will be removed from pandas in a future version. Use pandas.concat instead.\n",
      "\n",
      "C:\\Users\\march\\AppData\\Local\\Temp\\ipykernel_10208\\2380825751.py:23: FutureWarning:\n",
      "\n",
      "The frame.append method is deprecated and will be removed from pandas in a future version. Use pandas.concat instead.\n",
      "\n",
      "C:\\Users\\march\\AppData\\Local\\Temp\\ipykernel_10208\\2380825751.py:23: FutureWarning:\n",
      "\n",
      "The frame.append method is deprecated and will be removed from pandas in a future version. Use pandas.concat instead.\n",
      "\n",
      "C:\\Users\\march\\AppData\\Local\\Temp\\ipykernel_10208\\2380825751.py:23: FutureWarning:\n",
      "\n",
      "The frame.append method is deprecated and will be removed from pandas in a future version. Use pandas.concat instead.\n",
      "\n",
      "C:\\Users\\march\\AppData\\Local\\Temp\\ipykernel_10208\\2380825751.py:23: FutureWarning:\n",
      "\n",
      "The frame.append method is deprecated and will be removed from pandas in a future version. Use pandas.concat instead.\n",
      "\n",
      "C:\\Users\\march\\AppData\\Local\\Temp\\ipykernel_10208\\2380825751.py:23: FutureWarning:\n",
      "\n",
      "The frame.append method is deprecated and will be removed from pandas in a future version. Use pandas.concat instead.\n",
      "\n",
      "C:\\Users\\march\\AppData\\Local\\Temp\\ipykernel_10208\\2380825751.py:23: FutureWarning:\n",
      "\n",
      "The frame.append method is deprecated and will be removed from pandas in a future version. Use pandas.concat instead.\n",
      "\n",
      "C:\\Users\\march\\AppData\\Local\\Temp\\ipykernel_10208\\2380825751.py:23: FutureWarning:\n",
      "\n",
      "The frame.append method is deprecated and will be removed from pandas in a future version. Use pandas.concat instead.\n",
      "\n",
      "C:\\Users\\march\\AppData\\Local\\Temp\\ipykernel_10208\\2380825751.py:23: FutureWarning:\n",
      "\n",
      "The frame.append method is deprecated and will be removed from pandas in a future version. Use pandas.concat instead.\n",
      "\n",
      "C:\\Users\\march\\AppData\\Local\\Temp\\ipykernel_10208\\2380825751.py:23: FutureWarning:\n",
      "\n",
      "The frame.append method is deprecated and will be removed from pandas in a future version. Use pandas.concat instead.\n",
      "\n",
      "C:\\Users\\march\\AppData\\Local\\Temp\\ipykernel_10208\\2380825751.py:23: FutureWarning:\n",
      "\n",
      "The frame.append method is deprecated and will be removed from pandas in a future version. Use pandas.concat instead.\n",
      "\n",
      "C:\\Users\\march\\AppData\\Local\\Temp\\ipykernel_10208\\2380825751.py:23: FutureWarning:\n",
      "\n",
      "The frame.append method is deprecated and will be removed from pandas in a future version. Use pandas.concat instead.\n",
      "\n",
      "C:\\Users\\march\\AppData\\Local\\Temp\\ipykernel_10208\\2380825751.py:23: FutureWarning:\n",
      "\n",
      "The frame.append method is deprecated and will be removed from pandas in a future version. Use pandas.concat instead.\n",
      "\n",
      "C:\\Users\\march\\AppData\\Local\\Temp\\ipykernel_10208\\2380825751.py:23: FutureWarning:\n",
      "\n",
      "The frame.append method is deprecated and will be removed from pandas in a future version. Use pandas.concat instead.\n",
      "\n",
      "C:\\Users\\march\\AppData\\Local\\Temp\\ipykernel_10208\\2380825751.py:23: FutureWarning:\n",
      "\n",
      "The frame.append method is deprecated and will be removed from pandas in a future version. Use pandas.concat instead.\n",
      "\n",
      "C:\\Users\\march\\AppData\\Local\\Temp\\ipykernel_10208\\2380825751.py:23: FutureWarning:\n",
      "\n",
      "The frame.append method is deprecated and will be removed from pandas in a future version. Use pandas.concat instead.\n",
      "\n",
      "C:\\Users\\march\\AppData\\Local\\Temp\\ipykernel_10208\\2380825751.py:23: FutureWarning:\n",
      "\n",
      "The frame.append method is deprecated and will be removed from pandas in a future version. Use pandas.concat instead.\n",
      "\n",
      "C:\\Users\\march\\AppData\\Local\\Temp\\ipykernel_10208\\2380825751.py:23: FutureWarning:\n",
      "\n",
      "The frame.append method is deprecated and will be removed from pandas in a future version. Use pandas.concat instead.\n",
      "\n",
      "C:\\Users\\march\\AppData\\Local\\Temp\\ipykernel_10208\\2380825751.py:23: FutureWarning:\n",
      "\n",
      "The frame.append method is deprecated and will be removed from pandas in a future version. Use pandas.concat instead.\n",
      "\n",
      "C:\\Users\\march\\AppData\\Local\\Temp\\ipykernel_10208\\2380825751.py:23: FutureWarning:\n",
      "\n",
      "The frame.append method is deprecated and will be removed from pandas in a future version. Use pandas.concat instead.\n",
      "\n",
      "C:\\Users\\march\\AppData\\Local\\Temp\\ipykernel_10208\\2380825751.py:23: FutureWarning:\n",
      "\n",
      "The frame.append method is deprecated and will be removed from pandas in a future version. Use pandas.concat instead.\n",
      "\n",
      "C:\\Users\\march\\AppData\\Local\\Temp\\ipykernel_10208\\2380825751.py:23: FutureWarning:\n",
      "\n",
      "The frame.append method is deprecated and will be removed from pandas in a future version. Use pandas.concat instead.\n",
      "\n",
      "C:\\Users\\march\\AppData\\Local\\Temp\\ipykernel_10208\\2380825751.py:23: FutureWarning:\n",
      "\n",
      "The frame.append method is deprecated and will be removed from pandas in a future version. Use pandas.concat instead.\n",
      "\n",
      "C:\\Users\\march\\AppData\\Local\\Temp\\ipykernel_10208\\2380825751.py:23: FutureWarning:\n",
      "\n",
      "The frame.append method is deprecated and will be removed from pandas in a future version. Use pandas.concat instead.\n",
      "\n"
     ]
    },
    {
     "data": {
      "text/plain": "    ilosc_przejazdow data_przejazdu\n0               1259       2022-1-1\n1               1259       2022-1-2\n2               1172       2022-1-3\n3               2083       2022-1-4\n4               2083       2022-1-4\n..               ...            ...\n315            11328       2022-6-2\n316            11309       2022-6-3\n317            11299       2022-6-4\n318            11777       2022-6-5\n319             8244       2022-6-6\n\n[320 rows x 2 columns]",
      "text/html": "<div>\n<style scoped>\n    .dataframe tbody tr th:only-of-type {\n        vertical-align: middle;\n    }\n\n    .dataframe tbody tr th {\n        vertical-align: top;\n    }\n\n    .dataframe thead th {\n        text-align: right;\n    }\n</style>\n<table border=\"1\" class=\"dataframe\">\n  <thead>\n    <tr style=\"text-align: right;\">\n      <th></th>\n      <th>ilosc_przejazdow</th>\n      <th>data_przejazdu</th>\n    </tr>\n  </thead>\n  <tbody>\n    <tr>\n      <th>0</th>\n      <td>1259</td>\n      <td>2022-1-1</td>\n    </tr>\n    <tr>\n      <th>1</th>\n      <td>1259</td>\n      <td>2022-1-2</td>\n    </tr>\n    <tr>\n      <th>2</th>\n      <td>1172</td>\n      <td>2022-1-3</td>\n    </tr>\n    <tr>\n      <th>3</th>\n      <td>2083</td>\n      <td>2022-1-4</td>\n    </tr>\n    <tr>\n      <th>4</th>\n      <td>2083</td>\n      <td>2022-1-4</td>\n    </tr>\n    <tr>\n      <th>...</th>\n      <td>...</td>\n      <td>...</td>\n    </tr>\n    <tr>\n      <th>315</th>\n      <td>11328</td>\n      <td>2022-6-2</td>\n    </tr>\n    <tr>\n      <th>316</th>\n      <td>11309</td>\n      <td>2022-6-3</td>\n    </tr>\n    <tr>\n      <th>317</th>\n      <td>11299</td>\n      <td>2022-6-4</td>\n    </tr>\n    <tr>\n      <th>318</th>\n      <td>11777</td>\n      <td>2022-6-5</td>\n    </tr>\n    <tr>\n      <th>319</th>\n      <td>8244</td>\n      <td>2022-6-6</td>\n    </tr>\n  </tbody>\n</table>\n<p>320 rows × 2 columns</p>\n</div>"
     },
     "execution_count": 73,
     "metadata": {},
     "output_type": "execute_result"
    }
   ],
   "source": [
    "\n",
    "# list = list[:5] #test na malej ilosc elem\n",
    "# quantity = []\n",
    "for elem in list:\n",
    "\n",
    "    name = elem.contents\n",
    "    elem = str(elem)\n",
    "\n",
    "    name = str(name)\n",
    "    name = name.split(\"_\")[2]\n",
    "\n",
    "    date = datetime.datetime(int(name.split(\"-\")[0]), int(name.split(\"-\")[1]), int(name.split(\"-\")[2]))\n",
    "    if date>=date2022:\n",
    "        link = elem.split(\" \")\n",
    "        link = link[2]\n",
    "        link = link[5:]\n",
    "        link = link[1:]\n",
    "        link = link[:-1]\n",
    "        # link = link.replace(\"\\\"\",\" \")\n",
    "\n",
    "        if os.path.exists(os.path.join(\"daily_csv\", f\"{name}.csv\")):\n",
    "            dailyDate = pd.read_csv(os.path.join(\"daily_csv\", f\"{name}.csv\"))\n",
    "            quantity = len(dailyDate)\n",
    "            df = df.append({'ilosc_przejazdow':quantity,'data_przejazdu':name},ignore_index=True)\n",
    "            continue\n",
    "\n",
    "        dailyDate = pd.read_csv(link)\n",
    "        dailyDate.to_csv(os.path.join(\"daily_csv\", f\"{name}.csv\"))\n",
    "        quantity = len(dailyDate)\n",
    "        df = df.append({'ilosc_przejazdow':quantity,'data_przejazdu':name},ignore_index=True)\n",
    "\n",
    "\n",
    "\n",
    "        # df[\"ilosc_przejazdow\"]=c.__len__()\n",
    "        # print(str(date) + \" greater than \"+ str(date2022))\n",
    "    # else : print(str(date) + \" less than \"+ str(date2022))\n",
    "\n",
    "\n",
    "# df[\"ilosc_przejazdow\"]=quantity\n",
    "df\n",
    "# items = list.find_all('a')\n",
    "# print(soup.prettify())\n",
    "# for link in soup.findAll('a', attrs={'href': re.compile(\"^http://\")}):\n",
    "#     print(link.get('href'))"
   ],
   "metadata": {
    "collapsed": false,
    "pycharm": {
     "name": "#%%\n"
    }
   }
  },
  {
   "cell_type": "code",
   "execution_count": 74,
   "outputs": [
    {
     "data": {
      "application/vnd.plotly.v1+json": {
       "data": [
        {
         "marker": {
          "color": "blue",
          "size": 3
         },
         "mode": "markers",
         "x": [
          "2022-1-1",
          "2022-1-2",
          "2022-1-3",
          "2022-1-4",
          "2022-1-4",
          "2022-1-4",
          "2022-1-5",
          "2022-1-6",
          "2022-1-7",
          "2022-1-8",
          "2022-1-9",
          "2022-1-10",
          "2022-1-11",
          "2022-1-12",
          "2022-1-13",
          "2022-1-14",
          "2022-1-15",
          "2022-1-16",
          "2022-1-17",
          "2022-1-18",
          "2022-1-19",
          "2022-1-20",
          "2022-1-21",
          "2022-1-22",
          "2022-1-23",
          "2022-1-24",
          "2022-1-25",
          "2022-1-26",
          "2022-1-27",
          "2022-1-28",
          "2022-1-29",
          "2022-1-30",
          "2022-1-31",
          "2022-2-1",
          "2022-2-1",
          "2022-2-2",
          "2022-2-3",
          "2022-2-4",
          "2022-2-5",
          "2022-2-6",
          "2022-2-7",
          "2022-2-8",
          "2022-2-9",
          "2022-2-10",
          "2022-2-11",
          "2022-2-12",
          "2022-2-13",
          "2022-2-14",
          "2022-2-15",
          "2022-2-16",
          "2022-2-17",
          "2022-2-18",
          "2022-2-19",
          "2022-2-20",
          "2022-2-21",
          "2022-2-22",
          "2022-2-23",
          "2022-2-24",
          "2022-2-25",
          "2022-2-26",
          "2022-2-27",
          "2022-2-28",
          "2022-3-1",
          "2022-3-2",
          "2022-3-3",
          "2022-3-4",
          "2022-3-5",
          "2022-3-6",
          "2022-3-7",
          "2022-3-8",
          "2022-3-9",
          "2022-3-10",
          "2022-3-11",
          "2022-3-12",
          "2022-3-13",
          "2022-3-14",
          "2022-3-15",
          "2022-3-16",
          "2022-3-17",
          "2022-3-18",
          "2022-3-19",
          "2022-3-20",
          "2022-3-21",
          "2022-3-22",
          "2022-3-23",
          "2022-3-24",
          "2022-3-25",
          "2022-3-26",
          "2022-3-27",
          "2022-3-28",
          "2022-3-29",
          "2022-3-30",
          "2022-3-31",
          "2022-4-1",
          "2022-4-2",
          "2022-4-3",
          "2022-4-4",
          "2022-4-5",
          "2022-4-6",
          "2022-4-7",
          "2022-4-8",
          "2022-4-9",
          "2022-4-10",
          "2022-4-11",
          "2022-4-12",
          "2022-4-13",
          "2022-4-14",
          "2022-4-15",
          "2022-4-16",
          "2022-4-17",
          "2022-4-18",
          "2022-4-19",
          "2022-4-20",
          "2022-4-21",
          "2022-4-22",
          "2022-4-23",
          "2022-4-24",
          "2022-4-25",
          "2022-4-26",
          "2022-4-27",
          "2022-4-28",
          "2022-4-29",
          "2022-4-30",
          "2022-5-1",
          "2022-5-2",
          "2022-5-3",
          "2022-5-4",
          "2022-5-5",
          "2022-5-6",
          "2022-5-7",
          "2022-5-8",
          "2022-5-9",
          "2022-5-10",
          "2022-5-11",
          "2022-5-12",
          "2022-5-13",
          "2022-5-14",
          "2022-5-15",
          "2022-5-16",
          "2022-5-17",
          "2022-5-18",
          "2022-5-19",
          "2022-5-20",
          "2022-5-21",
          "2022-5-22",
          "2022-5-23",
          "2022-5-24",
          "2022-5-25",
          "2022-5-26",
          "2022-5-27",
          "2022-5-28",
          "2022-5-29",
          "2022-5-30",
          "2022-5-31",
          "2022-6-1",
          "2022-6-2",
          "2022-6-3",
          "2022-6-4",
          "2022-6-5",
          "2022-6-6",
          "2022-1-1",
          "2022-1-2",
          "2022-1-3",
          "2022-1-4",
          "2022-1-4",
          "2022-1-4",
          "2022-1-5",
          "2022-1-6",
          "2022-1-7",
          "2022-1-8",
          "2022-1-9",
          "2022-1-10",
          "2022-1-11",
          "2022-1-12",
          "2022-1-13",
          "2022-1-14",
          "2022-1-15",
          "2022-1-16",
          "2022-1-17",
          "2022-1-18",
          "2022-1-19",
          "2022-1-20",
          "2022-1-21",
          "2022-1-22",
          "2022-1-23",
          "2022-1-24",
          "2022-1-25",
          "2022-1-26",
          "2022-1-27",
          "2022-1-28",
          "2022-1-29",
          "2022-1-30",
          "2022-1-31",
          "2022-2-1",
          "2022-2-1",
          "2022-2-2",
          "2022-2-3",
          "2022-2-4",
          "2022-2-5",
          "2022-2-6",
          "2022-2-7",
          "2022-2-8",
          "2022-2-9",
          "2022-2-10",
          "2022-2-11",
          "2022-2-12",
          "2022-2-13",
          "2022-2-14",
          "2022-2-15",
          "2022-2-16",
          "2022-2-17",
          "2022-2-18",
          "2022-2-19",
          "2022-2-20",
          "2022-2-21",
          "2022-2-22",
          "2022-2-23",
          "2022-2-24",
          "2022-2-25",
          "2022-2-26",
          "2022-2-27",
          "2022-2-28",
          "2022-3-1",
          "2022-3-2",
          "2022-3-3",
          "2022-3-4",
          "2022-3-5",
          "2022-3-6",
          "2022-3-7",
          "2022-3-8",
          "2022-3-9",
          "2022-3-10",
          "2022-3-11",
          "2022-3-12",
          "2022-3-13",
          "2022-3-14",
          "2022-3-15",
          "2022-3-16",
          "2022-3-17",
          "2022-3-18",
          "2022-3-19",
          "2022-3-20",
          "2022-3-21",
          "2022-3-22",
          "2022-3-23",
          "2022-3-24",
          "2022-3-25",
          "2022-3-26",
          "2022-3-27",
          "2022-3-28",
          "2022-3-29",
          "2022-3-30",
          "2022-3-31",
          "2022-4-1",
          "2022-4-2",
          "2022-4-3",
          "2022-4-4",
          "2022-4-5",
          "2022-4-6",
          "2022-4-7",
          "2022-4-8",
          "2022-4-9",
          "2022-4-10",
          "2022-4-11",
          "2022-4-12",
          "2022-4-13",
          "2022-4-14",
          "2022-4-15",
          "2022-4-16",
          "2022-4-17",
          "2022-4-18",
          "2022-4-19",
          "2022-4-20",
          "2022-4-21",
          "2022-4-22",
          "2022-4-23",
          "2022-4-24",
          "2022-4-25",
          "2022-4-26",
          "2022-4-27",
          "2022-4-28",
          "2022-4-29",
          "2022-4-30",
          "2022-5-1",
          "2022-5-2",
          "2022-5-3",
          "2022-5-4",
          "2022-5-5",
          "2022-5-6",
          "2022-5-7",
          "2022-5-8",
          "2022-5-9",
          "2022-5-10",
          "2022-5-11",
          "2022-5-12",
          "2022-5-13",
          "2022-5-14",
          "2022-5-15",
          "2022-5-16",
          "2022-5-17",
          "2022-5-18",
          "2022-5-19",
          "2022-5-20",
          "2022-5-21",
          "2022-5-22",
          "2022-5-23",
          "2022-5-24",
          "2022-5-25",
          "2022-5-26",
          "2022-5-27",
          "2022-5-28",
          "2022-5-29",
          "2022-5-30",
          "2022-5-31",
          "2022-6-1",
          "2022-6-2",
          "2022-6-3",
          "2022-6-4",
          "2022-6-5",
          "2022-6-6"
         ],
         "y": [
          1259,
          1259,
          1172,
          2083,
          2083,
          2083,
          2083,
          1564,
          1807,
          1034,
          1328,
          1442,
          1255,
          1935,
          1799,
          1582,
          1945,
          1658,
          1636,
          1295,
          1417,
          1755,
          1929,
          1181,
          1208,
          975,
          855,
          1478,
          1531,
          1474,
          1226,
          1522,
          849,
          1546,
          1546,
          1546,
          1302,
          1164,
          1490,
          1613,
          1395,
          1113,
          1130,
          1385,
          1779,
          2140,
          1170,
          1600,
          1610,
          1985,
          1983,
          1968,
          1133,
          1670,
          1261,
          1067,
          1697,
          1821,
          1965,
          2167,
          2101,
          1552,
          1437,
          2553,
          2940,
          3033,
          3123,
          2241,
          2189,
          1850,
          2976,
          3558,
          4171,
          3782,
          3433,
          3353,
          3732,
          5171,
          5944,
          5944,
          5231,
          5547,
          4586,
          4969,
          6036,
          7528,
          7528,
          7969,
          7691,
          5950,
          6652,
          8637,
          6261,
          4625,
          3291,
          2445,
          3059,
          2287,
          4377,
          3351,
          5243,
          5937,
          4507,
          4233,
          3333,
          5575,
          7710,
          9098,
          8691,
          3805,
          2835,
          3451,
          4068,
          4413,
          4413,
          5968,
          6359,
          8654,
          2793,
          3209,
          6910,
          8615,
          9215,
          9116,
          7494,
          8929,
          9437,
          11156,
          10833,
          8836,
          10473,
          11665,
          11250,
          12327,
          13293,
          13910,
          13281,
          12126,
          12034,
          12466,
          12203,
          10286,
          10137,
          12348,
          11499,
          7692,
          8364,
          11569,
          9130,
          6572,
          10718,
          6672,
          6204,
          7926,
          9028,
          11328,
          11309,
          11299,
          11777,
          8244,
          1259,
          1259,
          1172,
          2083,
          2083,
          2083,
          2083,
          1564,
          1807,
          1034,
          1328,
          1442,
          1255,
          1935,
          1799,
          1582,
          1945,
          1658,
          1636,
          1295,
          1417,
          1755,
          1929,
          1181,
          1208,
          975,
          855,
          1478,
          1531,
          1474,
          1226,
          1522,
          849,
          1546,
          1546,
          1546,
          1302,
          1164,
          1490,
          1613,
          1395,
          1113,
          1130,
          1385,
          1779,
          2140,
          1170,
          1600,
          1610,
          1985,
          1983,
          1968,
          1133,
          1670,
          1261,
          1067,
          1697,
          1821,
          1965,
          2167,
          2101,
          1552,
          1437,
          2553,
          2940,
          3033,
          3123,
          2241,
          2189,
          1850,
          2976,
          3558,
          4171,
          3782,
          3433,
          3353,
          3732,
          5171,
          5944,
          5944,
          5231,
          5547,
          4586,
          4969,
          6036,
          7528,
          7528,
          7969,
          7691,
          5950,
          6652,
          8637,
          6261,
          4625,
          3291,
          2445,
          3059,
          2287,
          4377,
          3351,
          5243,
          5937,
          4507,
          4233,
          3333,
          5575,
          7710,
          9098,
          8691,
          3805,
          2835,
          3451,
          4068,
          4413,
          4413,
          5968,
          6359,
          8654,
          2793,
          3209,
          6910,
          8615,
          9215,
          9116,
          7494,
          8929,
          9437,
          11156,
          10833,
          8836,
          10473,
          11665,
          11250,
          12327,
          13293,
          13910,
          13281,
          12126,
          12034,
          12466,
          12203,
          10286,
          10137,
          12348,
          11499,
          7692,
          8364,
          11569,
          9130,
          6572,
          10718,
          6672,
          6204,
          7926,
          9028,
          11328,
          11309,
          11299,
          11777,
          8244
         ],
         "type": "scatter"
        }
       ],
       "layout": {
        "template": {
         "data": {
          "histogram2dcontour": [
           {
            "type": "histogram2dcontour",
            "colorbar": {
             "outlinewidth": 0,
             "ticks": ""
            },
            "colorscale": [
             [
              0.0,
              "#0d0887"
             ],
             [
              0.1111111111111111,
              "#46039f"
             ],
             [
              0.2222222222222222,
              "#7201a8"
             ],
             [
              0.3333333333333333,
              "#9c179e"
             ],
             [
              0.4444444444444444,
              "#bd3786"
             ],
             [
              0.5555555555555556,
              "#d8576b"
             ],
             [
              0.6666666666666666,
              "#ed7953"
             ],
             [
              0.7777777777777778,
              "#fb9f3a"
             ],
             [
              0.8888888888888888,
              "#fdca26"
             ],
             [
              1.0,
              "#f0f921"
             ]
            ]
           }
          ],
          "choropleth": [
           {
            "type": "choropleth",
            "colorbar": {
             "outlinewidth": 0,
             "ticks": ""
            }
           }
          ],
          "histogram2d": [
           {
            "type": "histogram2d",
            "colorbar": {
             "outlinewidth": 0,
             "ticks": ""
            },
            "colorscale": [
             [
              0.0,
              "#0d0887"
             ],
             [
              0.1111111111111111,
              "#46039f"
             ],
             [
              0.2222222222222222,
              "#7201a8"
             ],
             [
              0.3333333333333333,
              "#9c179e"
             ],
             [
              0.4444444444444444,
              "#bd3786"
             ],
             [
              0.5555555555555556,
              "#d8576b"
             ],
             [
              0.6666666666666666,
              "#ed7953"
             ],
             [
              0.7777777777777778,
              "#fb9f3a"
             ],
             [
              0.8888888888888888,
              "#fdca26"
             ],
             [
              1.0,
              "#f0f921"
             ]
            ]
           }
          ],
          "heatmap": [
           {
            "type": "heatmap",
            "colorbar": {
             "outlinewidth": 0,
             "ticks": ""
            },
            "colorscale": [
             [
              0.0,
              "#0d0887"
             ],
             [
              0.1111111111111111,
              "#46039f"
             ],
             [
              0.2222222222222222,
              "#7201a8"
             ],
             [
              0.3333333333333333,
              "#9c179e"
             ],
             [
              0.4444444444444444,
              "#bd3786"
             ],
             [
              0.5555555555555556,
              "#d8576b"
             ],
             [
              0.6666666666666666,
              "#ed7953"
             ],
             [
              0.7777777777777778,
              "#fb9f3a"
             ],
             [
              0.8888888888888888,
              "#fdca26"
             ],
             [
              1.0,
              "#f0f921"
             ]
            ]
           }
          ],
          "heatmapgl": [
           {
            "type": "heatmapgl",
            "colorbar": {
             "outlinewidth": 0,
             "ticks": ""
            },
            "colorscale": [
             [
              0.0,
              "#0d0887"
             ],
             [
              0.1111111111111111,
              "#46039f"
             ],
             [
              0.2222222222222222,
              "#7201a8"
             ],
             [
              0.3333333333333333,
              "#9c179e"
             ],
             [
              0.4444444444444444,
              "#bd3786"
             ],
             [
              0.5555555555555556,
              "#d8576b"
             ],
             [
              0.6666666666666666,
              "#ed7953"
             ],
             [
              0.7777777777777778,
              "#fb9f3a"
             ],
             [
              0.8888888888888888,
              "#fdca26"
             ],
             [
              1.0,
              "#f0f921"
             ]
            ]
           }
          ],
          "contourcarpet": [
           {
            "type": "contourcarpet",
            "colorbar": {
             "outlinewidth": 0,
             "ticks": ""
            }
           }
          ],
          "contour": [
           {
            "type": "contour",
            "colorbar": {
             "outlinewidth": 0,
             "ticks": ""
            },
            "colorscale": [
             [
              0.0,
              "#0d0887"
             ],
             [
              0.1111111111111111,
              "#46039f"
             ],
             [
              0.2222222222222222,
              "#7201a8"
             ],
             [
              0.3333333333333333,
              "#9c179e"
             ],
             [
              0.4444444444444444,
              "#bd3786"
             ],
             [
              0.5555555555555556,
              "#d8576b"
             ],
             [
              0.6666666666666666,
              "#ed7953"
             ],
             [
              0.7777777777777778,
              "#fb9f3a"
             ],
             [
              0.8888888888888888,
              "#fdca26"
             ],
             [
              1.0,
              "#f0f921"
             ]
            ]
           }
          ],
          "surface": [
           {
            "type": "surface",
            "colorbar": {
             "outlinewidth": 0,
             "ticks": ""
            },
            "colorscale": [
             [
              0.0,
              "#0d0887"
             ],
             [
              0.1111111111111111,
              "#46039f"
             ],
             [
              0.2222222222222222,
              "#7201a8"
             ],
             [
              0.3333333333333333,
              "#9c179e"
             ],
             [
              0.4444444444444444,
              "#bd3786"
             ],
             [
              0.5555555555555556,
              "#d8576b"
             ],
             [
              0.6666666666666666,
              "#ed7953"
             ],
             [
              0.7777777777777778,
              "#fb9f3a"
             ],
             [
              0.8888888888888888,
              "#fdca26"
             ],
             [
              1.0,
              "#f0f921"
             ]
            ]
           }
          ],
          "mesh3d": [
           {
            "type": "mesh3d",
            "colorbar": {
             "outlinewidth": 0,
             "ticks": ""
            }
           }
          ],
          "scatter": [
           {
            "fillpattern": {
             "fillmode": "overlay",
             "size": 10,
             "solidity": 0.2
            },
            "type": "scatter"
           }
          ],
          "parcoords": [
           {
            "type": "parcoords",
            "line": {
             "colorbar": {
              "outlinewidth": 0,
              "ticks": ""
             }
            }
           }
          ],
          "scatterpolargl": [
           {
            "type": "scatterpolargl",
            "marker": {
             "colorbar": {
              "outlinewidth": 0,
              "ticks": ""
             }
            }
           }
          ],
          "bar": [
           {
            "error_x": {
             "color": "#2a3f5f"
            },
            "error_y": {
             "color": "#2a3f5f"
            },
            "marker": {
             "line": {
              "color": "#E5ECF6",
              "width": 0.5
             },
             "pattern": {
              "fillmode": "overlay",
              "size": 10,
              "solidity": 0.2
             }
            },
            "type": "bar"
           }
          ],
          "scattergeo": [
           {
            "type": "scattergeo",
            "marker": {
             "colorbar": {
              "outlinewidth": 0,
              "ticks": ""
             }
            }
           }
          ],
          "scatterpolar": [
           {
            "type": "scatterpolar",
            "marker": {
             "colorbar": {
              "outlinewidth": 0,
              "ticks": ""
             }
            }
           }
          ],
          "histogram": [
           {
            "marker": {
             "pattern": {
              "fillmode": "overlay",
              "size": 10,
              "solidity": 0.2
             }
            },
            "type": "histogram"
           }
          ],
          "scattergl": [
           {
            "type": "scattergl",
            "marker": {
             "colorbar": {
              "outlinewidth": 0,
              "ticks": ""
             }
            }
           }
          ],
          "scatter3d": [
           {
            "type": "scatter3d",
            "line": {
             "colorbar": {
              "outlinewidth": 0,
              "ticks": ""
             }
            },
            "marker": {
             "colorbar": {
              "outlinewidth": 0,
              "ticks": ""
             }
            }
           }
          ],
          "scattermapbox": [
           {
            "type": "scattermapbox",
            "marker": {
             "colorbar": {
              "outlinewidth": 0,
              "ticks": ""
             }
            }
           }
          ],
          "scatterternary": [
           {
            "type": "scatterternary",
            "marker": {
             "colorbar": {
              "outlinewidth": 0,
              "ticks": ""
             }
            }
           }
          ],
          "scattercarpet": [
           {
            "type": "scattercarpet",
            "marker": {
             "colorbar": {
              "outlinewidth": 0,
              "ticks": ""
             }
            }
           }
          ],
          "carpet": [
           {
            "aaxis": {
             "endlinecolor": "#2a3f5f",
             "gridcolor": "white",
             "linecolor": "white",
             "minorgridcolor": "white",
             "startlinecolor": "#2a3f5f"
            },
            "baxis": {
             "endlinecolor": "#2a3f5f",
             "gridcolor": "white",
             "linecolor": "white",
             "minorgridcolor": "white",
             "startlinecolor": "#2a3f5f"
            },
            "type": "carpet"
           }
          ],
          "table": [
           {
            "cells": {
             "fill": {
              "color": "#EBF0F8"
             },
             "line": {
              "color": "white"
             }
            },
            "header": {
             "fill": {
              "color": "#C8D4E3"
             },
             "line": {
              "color": "white"
             }
            },
            "type": "table"
           }
          ],
          "barpolar": [
           {
            "marker": {
             "line": {
              "color": "#E5ECF6",
              "width": 0.5
             },
             "pattern": {
              "fillmode": "overlay",
              "size": 10,
              "solidity": 0.2
             }
            },
            "type": "barpolar"
           }
          ],
          "pie": [
           {
            "automargin": true,
            "type": "pie"
           }
          ]
         },
         "layout": {
          "autotypenumbers": "strict",
          "colorway": [
           "#636efa",
           "#EF553B",
           "#00cc96",
           "#ab63fa",
           "#FFA15A",
           "#19d3f3",
           "#FF6692",
           "#B6E880",
           "#FF97FF",
           "#FECB52"
          ],
          "font": {
           "color": "#2a3f5f"
          },
          "hovermode": "closest",
          "hoverlabel": {
           "align": "left"
          },
          "paper_bgcolor": "white",
          "plot_bgcolor": "#E5ECF6",
          "polar": {
           "bgcolor": "#E5ECF6",
           "angularaxis": {
            "gridcolor": "white",
            "linecolor": "white",
            "ticks": ""
           },
           "radialaxis": {
            "gridcolor": "white",
            "linecolor": "white",
            "ticks": ""
           }
          },
          "ternary": {
           "bgcolor": "#E5ECF6",
           "aaxis": {
            "gridcolor": "white",
            "linecolor": "white",
            "ticks": ""
           },
           "baxis": {
            "gridcolor": "white",
            "linecolor": "white",
            "ticks": ""
           },
           "caxis": {
            "gridcolor": "white",
            "linecolor": "white",
            "ticks": ""
           }
          },
          "coloraxis": {
           "colorbar": {
            "outlinewidth": 0,
            "ticks": ""
           }
          },
          "colorscale": {
           "sequential": [
            [
             0.0,
             "#0d0887"
            ],
            [
             0.1111111111111111,
             "#46039f"
            ],
            [
             0.2222222222222222,
             "#7201a8"
            ],
            [
             0.3333333333333333,
             "#9c179e"
            ],
            [
             0.4444444444444444,
             "#bd3786"
            ],
            [
             0.5555555555555556,
             "#d8576b"
            ],
            [
             0.6666666666666666,
             "#ed7953"
            ],
            [
             0.7777777777777778,
             "#fb9f3a"
            ],
            [
             0.8888888888888888,
             "#fdca26"
            ],
            [
             1.0,
             "#f0f921"
            ]
           ],
           "sequentialminus": [
            [
             0.0,
             "#0d0887"
            ],
            [
             0.1111111111111111,
             "#46039f"
            ],
            [
             0.2222222222222222,
             "#7201a8"
            ],
            [
             0.3333333333333333,
             "#9c179e"
            ],
            [
             0.4444444444444444,
             "#bd3786"
            ],
            [
             0.5555555555555556,
             "#d8576b"
            ],
            [
             0.6666666666666666,
             "#ed7953"
            ],
            [
             0.7777777777777778,
             "#fb9f3a"
            ],
            [
             0.8888888888888888,
             "#fdca26"
            ],
            [
             1.0,
             "#f0f921"
            ]
           ],
           "diverging": [
            [
             0,
             "#8e0152"
            ],
            [
             0.1,
             "#c51b7d"
            ],
            [
             0.2,
             "#de77ae"
            ],
            [
             0.3,
             "#f1b6da"
            ],
            [
             0.4,
             "#fde0ef"
            ],
            [
             0.5,
             "#f7f7f7"
            ],
            [
             0.6,
             "#e6f5d0"
            ],
            [
             0.7,
             "#b8e186"
            ],
            [
             0.8,
             "#7fbc41"
            ],
            [
             0.9,
             "#4d9221"
            ],
            [
             1,
             "#276419"
            ]
           ]
          },
          "xaxis": {
           "gridcolor": "white",
           "linecolor": "white",
           "ticks": "",
           "title": {
            "standoff": 15
           },
           "zerolinecolor": "white",
           "automargin": true,
           "zerolinewidth": 2
          },
          "yaxis": {
           "gridcolor": "white",
           "linecolor": "white",
           "ticks": "",
           "title": {
            "standoff": 15
           },
           "zerolinecolor": "white",
           "automargin": true,
           "zerolinewidth": 2
          },
          "scene": {
           "xaxis": {
            "backgroundcolor": "#E5ECF6",
            "gridcolor": "white",
            "linecolor": "white",
            "showbackground": true,
            "ticks": "",
            "zerolinecolor": "white",
            "gridwidth": 2
           },
           "yaxis": {
            "backgroundcolor": "#E5ECF6",
            "gridcolor": "white",
            "linecolor": "white",
            "showbackground": true,
            "ticks": "",
            "zerolinecolor": "white",
            "gridwidth": 2
           },
           "zaxis": {
            "backgroundcolor": "#E5ECF6",
            "gridcolor": "white",
            "linecolor": "white",
            "showbackground": true,
            "ticks": "",
            "zerolinecolor": "white",
            "gridwidth": 2
           }
          },
          "shapedefaults": {
           "line": {
            "color": "#2a3f5f"
           }
          },
          "annotationdefaults": {
           "arrowcolor": "#2a3f5f",
           "arrowhead": 0,
           "arrowwidth": 1
          },
          "geo": {
           "bgcolor": "white",
           "landcolor": "#E5ECF6",
           "subunitcolor": "white",
           "showland": true,
           "showlakes": true,
           "lakecolor": "white"
          },
          "title": {
           "x": 0.05
          },
          "mapbox": {
           "style": "light"
          }
         }
        }
       },
       "config": {
        "plotlyServerURL": "https://plot.ly"
       }
      },
      "text/html": "<div>                            <div id=\"fc7160b3-51da-4824-ae73-ef3b8ec8815b\" class=\"plotly-graph-div\" style=\"height:525px; width:100%;\"></div>            <script type=\"text/javascript\">                require([\"plotly\"], function(Plotly) {                    window.PLOTLYENV=window.PLOTLYENV || {};                                    if (document.getElementById(\"fc7160b3-51da-4824-ae73-ef3b8ec8815b\")) {                    Plotly.newPlot(                        \"fc7160b3-51da-4824-ae73-ef3b8ec8815b\",                        [{\"marker\":{\"color\":\"blue\",\"size\":3},\"mode\":\"markers\",\"x\":[\"2022-1-1\",\"2022-1-2\",\"2022-1-3\",\"2022-1-4\",\"2022-1-4\",\"2022-1-4\",\"2022-1-5\",\"2022-1-6\",\"2022-1-7\",\"2022-1-8\",\"2022-1-9\",\"2022-1-10\",\"2022-1-11\",\"2022-1-12\",\"2022-1-13\",\"2022-1-14\",\"2022-1-15\",\"2022-1-16\",\"2022-1-17\",\"2022-1-18\",\"2022-1-19\",\"2022-1-20\",\"2022-1-21\",\"2022-1-22\",\"2022-1-23\",\"2022-1-24\",\"2022-1-25\",\"2022-1-26\",\"2022-1-27\",\"2022-1-28\",\"2022-1-29\",\"2022-1-30\",\"2022-1-31\",\"2022-2-1\",\"2022-2-1\",\"2022-2-2\",\"2022-2-3\",\"2022-2-4\",\"2022-2-5\",\"2022-2-6\",\"2022-2-7\",\"2022-2-8\",\"2022-2-9\",\"2022-2-10\",\"2022-2-11\",\"2022-2-12\",\"2022-2-13\",\"2022-2-14\",\"2022-2-15\",\"2022-2-16\",\"2022-2-17\",\"2022-2-18\",\"2022-2-19\",\"2022-2-20\",\"2022-2-21\",\"2022-2-22\",\"2022-2-23\",\"2022-2-24\",\"2022-2-25\",\"2022-2-26\",\"2022-2-27\",\"2022-2-28\",\"2022-3-1\",\"2022-3-2\",\"2022-3-3\",\"2022-3-4\",\"2022-3-5\",\"2022-3-6\",\"2022-3-7\",\"2022-3-8\",\"2022-3-9\",\"2022-3-10\",\"2022-3-11\",\"2022-3-12\",\"2022-3-13\",\"2022-3-14\",\"2022-3-15\",\"2022-3-16\",\"2022-3-17\",\"2022-3-18\",\"2022-3-19\",\"2022-3-20\",\"2022-3-21\",\"2022-3-22\",\"2022-3-23\",\"2022-3-24\",\"2022-3-25\",\"2022-3-26\",\"2022-3-27\",\"2022-3-28\",\"2022-3-29\",\"2022-3-30\",\"2022-3-31\",\"2022-4-1\",\"2022-4-2\",\"2022-4-3\",\"2022-4-4\",\"2022-4-5\",\"2022-4-6\",\"2022-4-7\",\"2022-4-8\",\"2022-4-9\",\"2022-4-10\",\"2022-4-11\",\"2022-4-12\",\"2022-4-13\",\"2022-4-14\",\"2022-4-15\",\"2022-4-16\",\"2022-4-17\",\"2022-4-18\",\"2022-4-19\",\"2022-4-20\",\"2022-4-21\",\"2022-4-22\",\"2022-4-23\",\"2022-4-24\",\"2022-4-25\",\"2022-4-26\",\"2022-4-27\",\"2022-4-28\",\"2022-4-29\",\"2022-4-30\",\"2022-5-1\",\"2022-5-2\",\"2022-5-3\",\"2022-5-4\",\"2022-5-5\",\"2022-5-6\",\"2022-5-7\",\"2022-5-8\",\"2022-5-9\",\"2022-5-10\",\"2022-5-11\",\"2022-5-12\",\"2022-5-13\",\"2022-5-14\",\"2022-5-15\",\"2022-5-16\",\"2022-5-17\",\"2022-5-18\",\"2022-5-19\",\"2022-5-20\",\"2022-5-21\",\"2022-5-22\",\"2022-5-23\",\"2022-5-24\",\"2022-5-25\",\"2022-5-26\",\"2022-5-27\",\"2022-5-28\",\"2022-5-29\",\"2022-5-30\",\"2022-5-31\",\"2022-6-1\",\"2022-6-2\",\"2022-6-3\",\"2022-6-4\",\"2022-6-5\",\"2022-6-6\",\"2022-1-1\",\"2022-1-2\",\"2022-1-3\",\"2022-1-4\",\"2022-1-4\",\"2022-1-4\",\"2022-1-5\",\"2022-1-6\",\"2022-1-7\",\"2022-1-8\",\"2022-1-9\",\"2022-1-10\",\"2022-1-11\",\"2022-1-12\",\"2022-1-13\",\"2022-1-14\",\"2022-1-15\",\"2022-1-16\",\"2022-1-17\",\"2022-1-18\",\"2022-1-19\",\"2022-1-20\",\"2022-1-21\",\"2022-1-22\",\"2022-1-23\",\"2022-1-24\",\"2022-1-25\",\"2022-1-26\",\"2022-1-27\",\"2022-1-28\",\"2022-1-29\",\"2022-1-30\",\"2022-1-31\",\"2022-2-1\",\"2022-2-1\",\"2022-2-2\",\"2022-2-3\",\"2022-2-4\",\"2022-2-5\",\"2022-2-6\",\"2022-2-7\",\"2022-2-8\",\"2022-2-9\",\"2022-2-10\",\"2022-2-11\",\"2022-2-12\",\"2022-2-13\",\"2022-2-14\",\"2022-2-15\",\"2022-2-16\",\"2022-2-17\",\"2022-2-18\",\"2022-2-19\",\"2022-2-20\",\"2022-2-21\",\"2022-2-22\",\"2022-2-23\",\"2022-2-24\",\"2022-2-25\",\"2022-2-26\",\"2022-2-27\",\"2022-2-28\",\"2022-3-1\",\"2022-3-2\",\"2022-3-3\",\"2022-3-4\",\"2022-3-5\",\"2022-3-6\",\"2022-3-7\",\"2022-3-8\",\"2022-3-9\",\"2022-3-10\",\"2022-3-11\",\"2022-3-12\",\"2022-3-13\",\"2022-3-14\",\"2022-3-15\",\"2022-3-16\",\"2022-3-17\",\"2022-3-18\",\"2022-3-19\",\"2022-3-20\",\"2022-3-21\",\"2022-3-22\",\"2022-3-23\",\"2022-3-24\",\"2022-3-25\",\"2022-3-26\",\"2022-3-27\",\"2022-3-28\",\"2022-3-29\",\"2022-3-30\",\"2022-3-31\",\"2022-4-1\",\"2022-4-2\",\"2022-4-3\",\"2022-4-4\",\"2022-4-5\",\"2022-4-6\",\"2022-4-7\",\"2022-4-8\",\"2022-4-9\",\"2022-4-10\",\"2022-4-11\",\"2022-4-12\",\"2022-4-13\",\"2022-4-14\",\"2022-4-15\",\"2022-4-16\",\"2022-4-17\",\"2022-4-18\",\"2022-4-19\",\"2022-4-20\",\"2022-4-21\",\"2022-4-22\",\"2022-4-23\",\"2022-4-24\",\"2022-4-25\",\"2022-4-26\",\"2022-4-27\",\"2022-4-28\",\"2022-4-29\",\"2022-4-30\",\"2022-5-1\",\"2022-5-2\",\"2022-5-3\",\"2022-5-4\",\"2022-5-5\",\"2022-5-6\",\"2022-5-7\",\"2022-5-8\",\"2022-5-9\",\"2022-5-10\",\"2022-5-11\",\"2022-5-12\",\"2022-5-13\",\"2022-5-14\",\"2022-5-15\",\"2022-5-16\",\"2022-5-17\",\"2022-5-18\",\"2022-5-19\",\"2022-5-20\",\"2022-5-21\",\"2022-5-22\",\"2022-5-23\",\"2022-5-24\",\"2022-5-25\",\"2022-5-26\",\"2022-5-27\",\"2022-5-28\",\"2022-5-29\",\"2022-5-30\",\"2022-5-31\",\"2022-6-1\",\"2022-6-2\",\"2022-6-3\",\"2022-6-4\",\"2022-6-5\",\"2022-6-6\"],\"y\":[1259,1259,1172,2083,2083,2083,2083,1564,1807,1034,1328,1442,1255,1935,1799,1582,1945,1658,1636,1295,1417,1755,1929,1181,1208,975,855,1478,1531,1474,1226,1522,849,1546,1546,1546,1302,1164,1490,1613,1395,1113,1130,1385,1779,2140,1170,1600,1610,1985,1983,1968,1133,1670,1261,1067,1697,1821,1965,2167,2101,1552,1437,2553,2940,3033,3123,2241,2189,1850,2976,3558,4171,3782,3433,3353,3732,5171,5944,5944,5231,5547,4586,4969,6036,7528,7528,7969,7691,5950,6652,8637,6261,4625,3291,2445,3059,2287,4377,3351,5243,5937,4507,4233,3333,5575,7710,9098,8691,3805,2835,3451,4068,4413,4413,5968,6359,8654,2793,3209,6910,8615,9215,9116,7494,8929,9437,11156,10833,8836,10473,11665,11250,12327,13293,13910,13281,12126,12034,12466,12203,10286,10137,12348,11499,7692,8364,11569,9130,6572,10718,6672,6204,7926,9028,11328,11309,11299,11777,8244,1259,1259,1172,2083,2083,2083,2083,1564,1807,1034,1328,1442,1255,1935,1799,1582,1945,1658,1636,1295,1417,1755,1929,1181,1208,975,855,1478,1531,1474,1226,1522,849,1546,1546,1546,1302,1164,1490,1613,1395,1113,1130,1385,1779,2140,1170,1600,1610,1985,1983,1968,1133,1670,1261,1067,1697,1821,1965,2167,2101,1552,1437,2553,2940,3033,3123,2241,2189,1850,2976,3558,4171,3782,3433,3353,3732,5171,5944,5944,5231,5547,4586,4969,6036,7528,7528,7969,7691,5950,6652,8637,6261,4625,3291,2445,3059,2287,4377,3351,5243,5937,4507,4233,3333,5575,7710,9098,8691,3805,2835,3451,4068,4413,4413,5968,6359,8654,2793,3209,6910,8615,9215,9116,7494,8929,9437,11156,10833,8836,10473,11665,11250,12327,13293,13910,13281,12126,12034,12466,12203,10286,10137,12348,11499,7692,8364,11569,9130,6572,10718,6672,6204,7926,9028,11328,11309,11299,11777,8244],\"type\":\"scatter\"}],                        {\"template\":{\"data\":{\"histogram2dcontour\":[{\"type\":\"histogram2dcontour\",\"colorbar\":{\"outlinewidth\":0,\"ticks\":\"\"},\"colorscale\":[[0.0,\"#0d0887\"],[0.1111111111111111,\"#46039f\"],[0.2222222222222222,\"#7201a8\"],[0.3333333333333333,\"#9c179e\"],[0.4444444444444444,\"#bd3786\"],[0.5555555555555556,\"#d8576b\"],[0.6666666666666666,\"#ed7953\"],[0.7777777777777778,\"#fb9f3a\"],[0.8888888888888888,\"#fdca26\"],[1.0,\"#f0f921\"]]}],\"choropleth\":[{\"type\":\"choropleth\",\"colorbar\":{\"outlinewidth\":0,\"ticks\":\"\"}}],\"histogram2d\":[{\"type\":\"histogram2d\",\"colorbar\":{\"outlinewidth\":0,\"ticks\":\"\"},\"colorscale\":[[0.0,\"#0d0887\"],[0.1111111111111111,\"#46039f\"],[0.2222222222222222,\"#7201a8\"],[0.3333333333333333,\"#9c179e\"],[0.4444444444444444,\"#bd3786\"],[0.5555555555555556,\"#d8576b\"],[0.6666666666666666,\"#ed7953\"],[0.7777777777777778,\"#fb9f3a\"],[0.8888888888888888,\"#fdca26\"],[1.0,\"#f0f921\"]]}],\"heatmap\":[{\"type\":\"heatmap\",\"colorbar\":{\"outlinewidth\":0,\"ticks\":\"\"},\"colorscale\":[[0.0,\"#0d0887\"],[0.1111111111111111,\"#46039f\"],[0.2222222222222222,\"#7201a8\"],[0.3333333333333333,\"#9c179e\"],[0.4444444444444444,\"#bd3786\"],[0.5555555555555556,\"#d8576b\"],[0.6666666666666666,\"#ed7953\"],[0.7777777777777778,\"#fb9f3a\"],[0.8888888888888888,\"#fdca26\"],[1.0,\"#f0f921\"]]}],\"heatmapgl\":[{\"type\":\"heatmapgl\",\"colorbar\":{\"outlinewidth\":0,\"ticks\":\"\"},\"colorscale\":[[0.0,\"#0d0887\"],[0.1111111111111111,\"#46039f\"],[0.2222222222222222,\"#7201a8\"],[0.3333333333333333,\"#9c179e\"],[0.4444444444444444,\"#bd3786\"],[0.5555555555555556,\"#d8576b\"],[0.6666666666666666,\"#ed7953\"],[0.7777777777777778,\"#fb9f3a\"],[0.8888888888888888,\"#fdca26\"],[1.0,\"#f0f921\"]]}],\"contourcarpet\":[{\"type\":\"contourcarpet\",\"colorbar\":{\"outlinewidth\":0,\"ticks\":\"\"}}],\"contour\":[{\"type\":\"contour\",\"colorbar\":{\"outlinewidth\":0,\"ticks\":\"\"},\"colorscale\":[[0.0,\"#0d0887\"],[0.1111111111111111,\"#46039f\"],[0.2222222222222222,\"#7201a8\"],[0.3333333333333333,\"#9c179e\"],[0.4444444444444444,\"#bd3786\"],[0.5555555555555556,\"#d8576b\"],[0.6666666666666666,\"#ed7953\"],[0.7777777777777778,\"#fb9f3a\"],[0.8888888888888888,\"#fdca26\"],[1.0,\"#f0f921\"]]}],\"surface\":[{\"type\":\"surface\",\"colorbar\":{\"outlinewidth\":0,\"ticks\":\"\"},\"colorscale\":[[0.0,\"#0d0887\"],[0.1111111111111111,\"#46039f\"],[0.2222222222222222,\"#7201a8\"],[0.3333333333333333,\"#9c179e\"],[0.4444444444444444,\"#bd3786\"],[0.5555555555555556,\"#d8576b\"],[0.6666666666666666,\"#ed7953\"],[0.7777777777777778,\"#fb9f3a\"],[0.8888888888888888,\"#fdca26\"],[1.0,\"#f0f921\"]]}],\"mesh3d\":[{\"type\":\"mesh3d\",\"colorbar\":{\"outlinewidth\":0,\"ticks\":\"\"}}],\"scatter\":[{\"fillpattern\":{\"fillmode\":\"overlay\",\"size\":10,\"solidity\":0.2},\"type\":\"scatter\"}],\"parcoords\":[{\"type\":\"parcoords\",\"line\":{\"colorbar\":{\"outlinewidth\":0,\"ticks\":\"\"}}}],\"scatterpolargl\":[{\"type\":\"scatterpolargl\",\"marker\":{\"colorbar\":{\"outlinewidth\":0,\"ticks\":\"\"}}}],\"bar\":[{\"error_x\":{\"color\":\"#2a3f5f\"},\"error_y\":{\"color\":\"#2a3f5f\"},\"marker\":{\"line\":{\"color\":\"#E5ECF6\",\"width\":0.5},\"pattern\":{\"fillmode\":\"overlay\",\"size\":10,\"solidity\":0.2}},\"type\":\"bar\"}],\"scattergeo\":[{\"type\":\"scattergeo\",\"marker\":{\"colorbar\":{\"outlinewidth\":0,\"ticks\":\"\"}}}],\"scatterpolar\":[{\"type\":\"scatterpolar\",\"marker\":{\"colorbar\":{\"outlinewidth\":0,\"ticks\":\"\"}}}],\"histogram\":[{\"marker\":{\"pattern\":{\"fillmode\":\"overlay\",\"size\":10,\"solidity\":0.2}},\"type\":\"histogram\"}],\"scattergl\":[{\"type\":\"scattergl\",\"marker\":{\"colorbar\":{\"outlinewidth\":0,\"ticks\":\"\"}}}],\"scatter3d\":[{\"type\":\"scatter3d\",\"line\":{\"colorbar\":{\"outlinewidth\":0,\"ticks\":\"\"}},\"marker\":{\"colorbar\":{\"outlinewidth\":0,\"ticks\":\"\"}}}],\"scattermapbox\":[{\"type\":\"scattermapbox\",\"marker\":{\"colorbar\":{\"outlinewidth\":0,\"ticks\":\"\"}}}],\"scatterternary\":[{\"type\":\"scatterternary\",\"marker\":{\"colorbar\":{\"outlinewidth\":0,\"ticks\":\"\"}}}],\"scattercarpet\":[{\"type\":\"scattercarpet\",\"marker\":{\"colorbar\":{\"outlinewidth\":0,\"ticks\":\"\"}}}],\"carpet\":[{\"aaxis\":{\"endlinecolor\":\"#2a3f5f\",\"gridcolor\":\"white\",\"linecolor\":\"white\",\"minorgridcolor\":\"white\",\"startlinecolor\":\"#2a3f5f\"},\"baxis\":{\"endlinecolor\":\"#2a3f5f\",\"gridcolor\":\"white\",\"linecolor\":\"white\",\"minorgridcolor\":\"white\",\"startlinecolor\":\"#2a3f5f\"},\"type\":\"carpet\"}],\"table\":[{\"cells\":{\"fill\":{\"color\":\"#EBF0F8\"},\"line\":{\"color\":\"white\"}},\"header\":{\"fill\":{\"color\":\"#C8D4E3\"},\"line\":{\"color\":\"white\"}},\"type\":\"table\"}],\"barpolar\":[{\"marker\":{\"line\":{\"color\":\"#E5ECF6\",\"width\":0.5},\"pattern\":{\"fillmode\":\"overlay\",\"size\":10,\"solidity\":0.2}},\"type\":\"barpolar\"}],\"pie\":[{\"automargin\":true,\"type\":\"pie\"}]},\"layout\":{\"autotypenumbers\":\"strict\",\"colorway\":[\"#636efa\",\"#EF553B\",\"#00cc96\",\"#ab63fa\",\"#FFA15A\",\"#19d3f3\",\"#FF6692\",\"#B6E880\",\"#FF97FF\",\"#FECB52\"],\"font\":{\"color\":\"#2a3f5f\"},\"hovermode\":\"closest\",\"hoverlabel\":{\"align\":\"left\"},\"paper_bgcolor\":\"white\",\"plot_bgcolor\":\"#E5ECF6\",\"polar\":{\"bgcolor\":\"#E5ECF6\",\"angularaxis\":{\"gridcolor\":\"white\",\"linecolor\":\"white\",\"ticks\":\"\"},\"radialaxis\":{\"gridcolor\":\"white\",\"linecolor\":\"white\",\"ticks\":\"\"}},\"ternary\":{\"bgcolor\":\"#E5ECF6\",\"aaxis\":{\"gridcolor\":\"white\",\"linecolor\":\"white\",\"ticks\":\"\"},\"baxis\":{\"gridcolor\":\"white\",\"linecolor\":\"white\",\"ticks\":\"\"},\"caxis\":{\"gridcolor\":\"white\",\"linecolor\":\"white\",\"ticks\":\"\"}},\"coloraxis\":{\"colorbar\":{\"outlinewidth\":0,\"ticks\":\"\"}},\"colorscale\":{\"sequential\":[[0.0,\"#0d0887\"],[0.1111111111111111,\"#46039f\"],[0.2222222222222222,\"#7201a8\"],[0.3333333333333333,\"#9c179e\"],[0.4444444444444444,\"#bd3786\"],[0.5555555555555556,\"#d8576b\"],[0.6666666666666666,\"#ed7953\"],[0.7777777777777778,\"#fb9f3a\"],[0.8888888888888888,\"#fdca26\"],[1.0,\"#f0f921\"]],\"sequentialminus\":[[0.0,\"#0d0887\"],[0.1111111111111111,\"#46039f\"],[0.2222222222222222,\"#7201a8\"],[0.3333333333333333,\"#9c179e\"],[0.4444444444444444,\"#bd3786\"],[0.5555555555555556,\"#d8576b\"],[0.6666666666666666,\"#ed7953\"],[0.7777777777777778,\"#fb9f3a\"],[0.8888888888888888,\"#fdca26\"],[1.0,\"#f0f921\"]],\"diverging\":[[0,\"#8e0152\"],[0.1,\"#c51b7d\"],[0.2,\"#de77ae\"],[0.3,\"#f1b6da\"],[0.4,\"#fde0ef\"],[0.5,\"#f7f7f7\"],[0.6,\"#e6f5d0\"],[0.7,\"#b8e186\"],[0.8,\"#7fbc41\"],[0.9,\"#4d9221\"],[1,\"#276419\"]]},\"xaxis\":{\"gridcolor\":\"white\",\"linecolor\":\"white\",\"ticks\":\"\",\"title\":{\"standoff\":15},\"zerolinecolor\":\"white\",\"automargin\":true,\"zerolinewidth\":2},\"yaxis\":{\"gridcolor\":\"white\",\"linecolor\":\"white\",\"ticks\":\"\",\"title\":{\"standoff\":15},\"zerolinecolor\":\"white\",\"automargin\":true,\"zerolinewidth\":2},\"scene\":{\"xaxis\":{\"backgroundcolor\":\"#E5ECF6\",\"gridcolor\":\"white\",\"linecolor\":\"white\",\"showbackground\":true,\"ticks\":\"\",\"zerolinecolor\":\"white\",\"gridwidth\":2},\"yaxis\":{\"backgroundcolor\":\"#E5ECF6\",\"gridcolor\":\"white\",\"linecolor\":\"white\",\"showbackground\":true,\"ticks\":\"\",\"zerolinecolor\":\"white\",\"gridwidth\":2},\"zaxis\":{\"backgroundcolor\":\"#E5ECF6\",\"gridcolor\":\"white\",\"linecolor\":\"white\",\"showbackground\":true,\"ticks\":\"\",\"zerolinecolor\":\"white\",\"gridwidth\":2}},\"shapedefaults\":{\"line\":{\"color\":\"#2a3f5f\"}},\"annotationdefaults\":{\"arrowcolor\":\"#2a3f5f\",\"arrowhead\":0,\"arrowwidth\":1},\"geo\":{\"bgcolor\":\"white\",\"landcolor\":\"#E5ECF6\",\"subunitcolor\":\"white\",\"showland\":true,\"showlakes\":true,\"lakecolor\":\"white\"},\"title\":{\"x\":0.05},\"mapbox\":{\"style\":\"light\"}}}},                        {\"responsive\": true}                    ).then(function(){\n                            \nvar gd = document.getElementById('fc7160b3-51da-4824-ae73-ef3b8ec8815b');\nvar x = new MutationObserver(function (mutations, observer) {{\n        var display = window.getComputedStyle(gd).display;\n        if (!display || display === 'none') {{\n            console.log([gd, 'removed!']);\n            Plotly.purge(gd);\n            observer.disconnect();\n        }}\n}});\n\n// Listen for the removal of the full notebook cells\nvar notebookContainer = gd.closest('#notebook-container');\nif (notebookContainer) {{\n    x.observe(notebookContainer, {childList: true});\n}}\n\n// Listen for the clearing of the current output cell\nvar outputEl = gd.closest('.output');\nif (outputEl) {{\n    x.observe(outputEl, {childList: true});\n}}\n\n                        })                };                });            </script>        </div>"
     },
     "metadata": {},
     "output_type": "display_data"
    }
   ],
   "source": [
    "import plotly.graph_objects as go\n",
    "fig = go.Figure()\n",
    "fig.add_trace(go.Scatter(x=df[\"data_przejazdu\"],\n",
    "                         y=df[\"ilosc_przejazdow\"],\n",
    "                         mode='markers',\n",
    "                         marker=dict(size=3, color=\"blue\")))\n",
    "fig.show()"
   ],
   "metadata": {
    "collapsed": false,
    "pycharm": {
     "name": "#%%\n"
    }
   }
  },
  {
   "cell_type": "code",
   "execution_count": 75,
   "outputs": [],
   "source": [
    "\n",
    "all_files = glob.glob(\"root_csv\"+\"/*.csv\")\n",
    "archieved = pd.concat(map(pd.read_csv, all_files), ignore_index=True)\n",
    "archieved = pd.DataFrame(archieved, columns=[\"UID wynajmu\",\"Data zwrotu\"])\n",
    "archieved[\"Data zwrotu\"] = pd.to_datetime(archieved[\"Data zwrotu\"]).dt.date\n",
    "archieved= archieved.groupby(archieved[\"Data zwrotu\"]).count()\n",
    "archieved = archieved.reset_index()"
   ],
   "metadata": {
    "collapsed": false,
    "pycharm": {
     "name": "#%%\n"
    }
   }
  },
  {
   "cell_type": "code",
   "execution_count": 76,
   "outputs": [
    {
     "data": {
      "text/plain": "    Data zwrotu  UID wynajmu  ilosc_przejazdow data_przejazdu\n0    2020-01-01          634               634     2020-01-01\n1    2020-01-02          971               971     2020-01-02\n2    2020-01-03         1017              1017     2020-01-03\n3    2020-01-04          492               492     2020-01-04\n4    2020-01-05          629               629     2020-01-05\n..          ...          ...               ...            ...\n665  2021-11-26         3663              3663     2021-11-26\n666  2021-11-27         3158              3158     2021-11-27\n667  2021-11-28         1191              1191     2021-11-28\n668  2021-11-29         2707              2707     2021-11-29\n669  2021-11-30         2722              2722     2021-11-30\n\n[670 rows x 4 columns]",
      "text/html": "<div>\n<style scoped>\n    .dataframe tbody tr th:only-of-type {\n        vertical-align: middle;\n    }\n\n    .dataframe tbody tr th {\n        vertical-align: top;\n    }\n\n    .dataframe thead th {\n        text-align: right;\n    }\n</style>\n<table border=\"1\" class=\"dataframe\">\n  <thead>\n    <tr style=\"text-align: right;\">\n      <th></th>\n      <th>Data zwrotu</th>\n      <th>UID wynajmu</th>\n      <th>ilosc_przejazdow</th>\n      <th>data_przejazdu</th>\n    </tr>\n  </thead>\n  <tbody>\n    <tr>\n      <th>0</th>\n      <td>2020-01-01</td>\n      <td>634</td>\n      <td>634</td>\n      <td>2020-01-01</td>\n    </tr>\n    <tr>\n      <th>1</th>\n      <td>2020-01-02</td>\n      <td>971</td>\n      <td>971</td>\n      <td>2020-01-02</td>\n    </tr>\n    <tr>\n      <th>2</th>\n      <td>2020-01-03</td>\n      <td>1017</td>\n      <td>1017</td>\n      <td>2020-01-03</td>\n    </tr>\n    <tr>\n      <th>3</th>\n      <td>2020-01-04</td>\n      <td>492</td>\n      <td>492</td>\n      <td>2020-01-04</td>\n    </tr>\n    <tr>\n      <th>4</th>\n      <td>2020-01-05</td>\n      <td>629</td>\n      <td>629</td>\n      <td>2020-01-05</td>\n    </tr>\n    <tr>\n      <th>...</th>\n      <td>...</td>\n      <td>...</td>\n      <td>...</td>\n      <td>...</td>\n    </tr>\n    <tr>\n      <th>665</th>\n      <td>2021-11-26</td>\n      <td>3663</td>\n      <td>3663</td>\n      <td>2021-11-26</td>\n    </tr>\n    <tr>\n      <th>666</th>\n      <td>2021-11-27</td>\n      <td>3158</td>\n      <td>3158</td>\n      <td>2021-11-27</td>\n    </tr>\n    <tr>\n      <th>667</th>\n      <td>2021-11-28</td>\n      <td>1191</td>\n      <td>1191</td>\n      <td>2021-11-28</td>\n    </tr>\n    <tr>\n      <th>668</th>\n      <td>2021-11-29</td>\n      <td>2707</td>\n      <td>2707</td>\n      <td>2021-11-29</td>\n    </tr>\n    <tr>\n      <th>669</th>\n      <td>2021-11-30</td>\n      <td>2722</td>\n      <td>2722</td>\n      <td>2021-11-30</td>\n    </tr>\n  </tbody>\n</table>\n<p>670 rows × 4 columns</p>\n</div>"
     },
     "execution_count": 76,
     "metadata": {},
     "output_type": "execute_result"
    }
   ],
   "source": [
    "archieved[\"ilosc_przejazdow\"] = archieved[\"UID wynajmu\"]\n",
    "archieved[\"data_przejazdu\"] = archieved[\"Data zwrotu\"]\n",
    "# archieved.rename(columns={'UID wynajmu': 'przejazdy'})\n",
    "archieved\n"
   ],
   "metadata": {
    "collapsed": false,
    "pycharm": {
     "name": "#%%\n"
    }
   }
  },
  {
   "cell_type": "code",
   "execution_count": 99,
   "outputs": [
    {
     "data": {
      "text/plain": "               ilosc_przejazdow\ndata_przejazdu                 \n2020-01-01                  634\n2020-01-02                  971\n2020-01-03                 1017\n2020-01-04                  492\n2020-01-05                  629\n...                         ...\n2022-06-02                11328\n2022-06-03                11309\n2022-06-04                11299\n2022-06-05                11777\n2022-06-06                 8244\n\n[990 rows x 1 columns]",
      "text/html": "<div>\n<style scoped>\n    .dataframe tbody tr th:only-of-type {\n        vertical-align: middle;\n    }\n\n    .dataframe tbody tr th {\n        vertical-align: top;\n    }\n\n    .dataframe thead th {\n        text-align: right;\n    }\n</style>\n<table border=\"1\" class=\"dataframe\">\n  <thead>\n    <tr style=\"text-align: right;\">\n      <th></th>\n      <th>ilosc_przejazdow</th>\n    </tr>\n    <tr>\n      <th>data_przejazdu</th>\n      <th></th>\n    </tr>\n  </thead>\n  <tbody>\n    <tr>\n      <th>2020-01-01</th>\n      <td>634</td>\n    </tr>\n    <tr>\n      <th>2020-01-02</th>\n      <td>971</td>\n    </tr>\n    <tr>\n      <th>2020-01-03</th>\n      <td>1017</td>\n    </tr>\n    <tr>\n      <th>2020-01-04</th>\n      <td>492</td>\n    </tr>\n    <tr>\n      <th>2020-01-05</th>\n      <td>629</td>\n    </tr>\n    <tr>\n      <th>...</th>\n      <td>...</td>\n    </tr>\n    <tr>\n      <th>2022-06-02</th>\n      <td>11328</td>\n    </tr>\n    <tr>\n      <th>2022-06-03</th>\n      <td>11309</td>\n    </tr>\n    <tr>\n      <th>2022-06-04</th>\n      <td>11299</td>\n    </tr>\n    <tr>\n      <th>2022-06-05</th>\n      <td>11777</td>\n    </tr>\n    <tr>\n      <th>2022-06-06</th>\n      <td>8244</td>\n    </tr>\n  </tbody>\n</table>\n<p>990 rows × 1 columns</p>\n</div>"
     },
     "execution_count": 99,
     "metadata": {},
     "output_type": "execute_result"
    }
   ],
   "source": [
    "all_time = pd.concat([archieved, df], ignore_index=True).drop([\"Data zwrotu\", \"UID wynajmu\"], axis=1)\n",
    "all_time[\"data_przejazdu\"] = pd.to_datetime(all_time[\"data_przejazdu\"], format='%Y-%m-%d').dt.date\n",
    "all_time.set_index(\"data_przejazdu\", inplace=True)\n",
    "all_time"
   ],
   "metadata": {
    "collapsed": false,
    "pycharm": {
     "name": "#%%\n"
    }
   }
  },
  {
   "cell_type": "code",
   "execution_count": 100,
   "outputs": [
    {
     "data": {
      "text/plain": "            tavg  prcp\ntime                  \n2020-01-01   1.3   0.0\n2020-01-02  -2.2   0.0\n2020-01-03   1.1   0.0\n2020-01-04   4.3   0.5\n2020-01-05   0.3   1.0\n...          ...   ...\n2022-06-01  16.5   0.0\n2022-06-02  15.2   0.3\n2022-06-03  17.3   0.0\n2022-06-04  19.7   3.5\n2022-06-05  19.1   0.0\n\n[887 rows x 2 columns]",
      "text/html": "<div>\n<style scoped>\n    .dataframe tbody tr th:only-of-type {\n        vertical-align: middle;\n    }\n\n    .dataframe tbody tr th {\n        vertical-align: top;\n    }\n\n    .dataframe thead th {\n        text-align: right;\n    }\n</style>\n<table border=\"1\" class=\"dataframe\">\n  <thead>\n    <tr style=\"text-align: right;\">\n      <th></th>\n      <th>tavg</th>\n      <th>prcp</th>\n    </tr>\n    <tr>\n      <th>time</th>\n      <th></th>\n      <th></th>\n    </tr>\n  </thead>\n  <tbody>\n    <tr>\n      <th>2020-01-01</th>\n      <td>1.3</td>\n      <td>0.0</td>\n    </tr>\n    <tr>\n      <th>2020-01-02</th>\n      <td>-2.2</td>\n      <td>0.0</td>\n    </tr>\n    <tr>\n      <th>2020-01-03</th>\n      <td>1.1</td>\n      <td>0.0</td>\n    </tr>\n    <tr>\n      <th>2020-01-04</th>\n      <td>4.3</td>\n      <td>0.5</td>\n    </tr>\n    <tr>\n      <th>2020-01-05</th>\n      <td>0.3</td>\n      <td>1.0</td>\n    </tr>\n    <tr>\n      <th>...</th>\n      <td>...</td>\n      <td>...</td>\n    </tr>\n    <tr>\n      <th>2022-06-01</th>\n      <td>16.5</td>\n      <td>0.0</td>\n    </tr>\n    <tr>\n      <th>2022-06-02</th>\n      <td>15.2</td>\n      <td>0.3</td>\n    </tr>\n    <tr>\n      <th>2022-06-03</th>\n      <td>17.3</td>\n      <td>0.0</td>\n    </tr>\n    <tr>\n      <th>2022-06-04</th>\n      <td>19.7</td>\n      <td>3.5</td>\n    </tr>\n    <tr>\n      <th>2022-06-05</th>\n      <td>19.1</td>\n      <td>0.0</td>\n    </tr>\n  </tbody>\n</table>\n<p>887 rows × 2 columns</p>\n</div>"
     },
     "execution_count": 100,
     "metadata": {},
     "output_type": "execute_result"
    }
   ],
   "source": [
    "import meteostat\n",
    "# from datetime import datetime, timedelta\n",
    "# Przygotowanie obiektów dat\n",
    "start = datetime.datetime(2020, 1, 1)\n",
    "end = datetime.datetime.now()\n",
    "\n",
    "# Pobieranie danych nt. stacji\n",
    "stations = meteostat.Stations()\n",
    "wroclaw_req = stations.nearby(51, 17)\n",
    "wroclaw = wroclaw_req.fetch(1)\n",
    "\n",
    "# Pobieranie danych ze stacji day by day\n",
    "weather_data_req = meteostat.Daily(wroclaw, start, end)\n",
    "weather_data = weather_data_req.fetch()\n",
    "weather_data = weather_data.reset_index()\n",
    "weather_data = weather_data[[\"time\", \"tavg\", \"prcp\"]]\n",
    "weather_data[\"time\"] = pd.to_datetime(weather_data[\"time\"]).dt.date\n",
    "weather_data.set_index(\"time\", inplace=True)\n",
    "weather_data\n"
   ],
   "metadata": {
    "collapsed": false,
    "pycharm": {
     "name": "#%%\n"
    }
   }
  },
  {
   "cell_type": "code",
   "execution_count": 102,
   "outputs": [
    {
     "data": {
      "text/plain": "            ilosc_przejazdow  tavg  prcp\n2020-01-01               634   1.3   0.0\n2020-01-02               971  -2.2   0.0\n2020-01-03              1017   1.1   0.0\n2020-01-04               492   4.3   0.5\n2020-01-05               629   0.3   1.0\n...                      ...   ...   ...\n2022-06-04             11299  19.7   3.5\n2022-06-05             11777  19.1   0.0\n2022-06-05             11777  19.1   0.0\n2022-06-06              8244   0.0   0.0\n2022-06-06              8244   0.0   0.0\n\n[990 rows x 3 columns]",
      "text/html": "<div>\n<style scoped>\n    .dataframe tbody tr th:only-of-type {\n        vertical-align: middle;\n    }\n\n    .dataframe tbody tr th {\n        vertical-align: top;\n    }\n\n    .dataframe thead th {\n        text-align: right;\n    }\n</style>\n<table border=\"1\" class=\"dataframe\">\n  <thead>\n    <tr style=\"text-align: right;\">\n      <th></th>\n      <th>ilosc_przejazdow</th>\n      <th>tavg</th>\n      <th>prcp</th>\n    </tr>\n  </thead>\n  <tbody>\n    <tr>\n      <th>2020-01-01</th>\n      <td>634</td>\n      <td>1.3</td>\n      <td>0.0</td>\n    </tr>\n    <tr>\n      <th>2020-01-02</th>\n      <td>971</td>\n      <td>-2.2</td>\n      <td>0.0</td>\n    </tr>\n    <tr>\n      <th>2020-01-03</th>\n      <td>1017</td>\n      <td>1.1</td>\n      <td>0.0</td>\n    </tr>\n    <tr>\n      <th>2020-01-04</th>\n      <td>492</td>\n      <td>4.3</td>\n      <td>0.5</td>\n    </tr>\n    <tr>\n      <th>2020-01-05</th>\n      <td>629</td>\n      <td>0.3</td>\n      <td>1.0</td>\n    </tr>\n    <tr>\n      <th>...</th>\n      <td>...</td>\n      <td>...</td>\n      <td>...</td>\n    </tr>\n    <tr>\n      <th>2022-06-04</th>\n      <td>11299</td>\n      <td>19.7</td>\n      <td>3.5</td>\n    </tr>\n    <tr>\n      <th>2022-06-05</th>\n      <td>11777</td>\n      <td>19.1</td>\n      <td>0.0</td>\n    </tr>\n    <tr>\n      <th>2022-06-05</th>\n      <td>11777</td>\n      <td>19.1</td>\n      <td>0.0</td>\n    </tr>\n    <tr>\n      <th>2022-06-06</th>\n      <td>8244</td>\n      <td>0.0</td>\n      <td>0.0</td>\n    </tr>\n    <tr>\n      <th>2022-06-06</th>\n      <td>8244</td>\n      <td>0.0</td>\n      <td>0.0</td>\n    </tr>\n  </tbody>\n</table>\n<p>990 rows × 3 columns</p>\n</div>"
     },
     "execution_count": 102,
     "metadata": {},
     "output_type": "execute_result"
    }
   ],
   "source": [
    "# merged = pd.concat([all_time, weather_data],  join=\"inner\", axis=1)\n",
    "merged = all_time.join(weather_data)\n",
    "merged = merged.fillna(0)\n",
    "merged\n"
   ],
   "metadata": {
    "collapsed": false,
    "pycharm": {
     "name": "#%%\n"
    }
   }
  },
  {
   "cell_type": "code",
   "execution_count": 106,
   "outputs": [
    {
     "data": {
      "application/vnd.plotly.v1+json": {
       "data": [
        {
         "marker": {
          "color": "blue",
          "size": 3
         },
         "mode": "markers",
         "x": [
          "2020-01-01",
          "2020-01-02",
          "2020-01-03",
          "2020-01-04",
          "2020-01-05",
          "2020-01-06",
          "2020-01-07",
          "2020-01-08",
          "2020-01-09",
          "2020-01-10",
          "2020-01-11",
          "2020-01-12",
          "2020-01-13",
          "2020-01-14",
          "2020-01-15",
          "2020-01-16",
          "2020-01-17",
          "2020-01-18",
          "2020-01-19",
          "2020-01-20",
          "2020-01-21",
          "2020-01-22",
          "2020-01-23",
          "2020-01-24",
          "2020-01-25",
          "2020-01-26",
          "2020-01-27",
          "2020-01-28",
          "2020-01-29",
          "2020-01-30",
          "2020-01-31",
          "2020-02-01",
          "2020-02-02",
          "2020-02-03",
          "2020-02-04",
          "2020-02-05",
          "2020-02-06",
          "2020-02-07",
          "2020-02-08",
          "2020-02-09",
          "2020-02-10",
          "2020-02-11",
          "2020-02-12",
          "2020-02-13",
          "2020-02-14",
          "2020-02-15",
          "2020-02-16",
          "2020-02-17",
          "2020-02-18",
          "2020-02-19",
          "2020-02-20",
          "2020-02-21",
          "2020-02-22",
          "2020-02-23",
          "2020-02-24",
          "2020-02-25",
          "2020-02-26",
          "2020-02-27",
          "2020-02-28",
          "2020-02-29",
          "2020-03-01",
          "2020-03-02",
          "2020-03-03",
          "2020-03-04",
          "2020-03-05",
          "2020-03-06",
          "2020-03-07",
          "2020-03-08",
          "2020-03-09",
          "2020-03-10",
          "2020-03-11",
          "2020-03-12",
          "2020-03-13",
          "2020-03-14",
          "2020-03-15",
          "2020-03-16",
          "2020-03-17",
          "2020-03-18",
          "2020-03-19",
          "2020-03-20",
          "2020-03-21",
          "2020-03-22",
          "2020-03-23",
          "2020-03-24",
          "2020-03-25",
          "2020-03-26",
          "2020-03-27",
          "2020-03-28",
          "2020-03-29",
          "2020-03-30",
          "2020-03-31",
          "2020-04-01",
          "2020-04-04",
          "2020-04-05",
          "2020-04-06",
          "2020-04-10",
          "2020-05-06",
          "2020-05-07",
          "2020-05-08",
          "2020-05-09",
          "2020-05-10",
          "2020-05-11",
          "2020-05-12",
          "2020-05-13",
          "2020-05-14",
          "2020-05-15",
          "2020-05-16",
          "2020-05-17",
          "2020-05-18",
          "2020-05-19",
          "2020-05-20",
          "2020-05-21",
          "2020-05-22",
          "2020-05-23",
          "2020-05-24",
          "2020-05-25",
          "2020-05-26",
          "2020-05-27",
          "2020-05-28",
          "2020-05-29",
          "2020-05-30",
          "2020-05-31",
          "2020-06-01",
          "2020-06-02",
          "2020-06-03",
          "2020-06-04",
          "2020-06-05",
          "2020-06-06",
          "2020-06-07",
          "2020-06-08",
          "2020-06-09",
          "2020-06-10",
          "2020-06-11",
          "2020-06-12",
          "2020-06-13",
          "2020-06-14",
          "2020-06-15",
          "2020-06-16",
          "2020-06-17",
          "2020-06-18",
          "2020-06-19",
          "2020-06-20",
          "2020-06-21",
          "2020-06-22",
          "2020-06-23",
          "2020-06-24",
          "2020-06-25",
          "2020-06-26",
          "2020-06-27",
          "2020-06-28",
          "2020-06-29",
          "2020-06-30",
          "2020-07-01",
          "2020-07-02",
          "2020-07-03",
          "2020-07-04",
          "2020-07-05",
          "2020-07-06",
          "2020-07-07",
          "2020-07-08",
          "2020-07-09",
          "2020-07-10",
          "2020-07-11",
          "2020-07-12",
          "2020-07-13",
          "2020-07-14",
          "2020-07-15",
          "2020-07-16",
          "2020-07-17",
          "2020-07-18",
          "2020-07-19",
          "2020-07-20",
          "2020-07-21",
          "2020-07-22",
          "2020-07-23",
          "2020-07-24",
          "2020-07-25",
          "2020-07-26",
          "2020-07-27",
          "2020-07-28",
          "2020-07-29",
          "2020-07-30",
          "2020-07-31",
          "2020-08-01",
          "2020-08-02",
          "2020-08-03",
          "2020-08-04",
          "2020-08-05",
          "2020-08-06",
          "2020-08-07",
          "2020-08-08",
          "2020-08-09",
          "2020-08-10",
          "2020-08-11",
          "2020-08-12",
          "2020-08-13",
          "2020-08-14",
          "2020-08-15",
          "2020-08-16",
          "2020-08-17",
          "2020-08-18",
          "2020-08-19",
          "2020-08-20",
          "2020-08-21",
          "2020-08-22",
          "2020-08-23",
          "2020-08-24",
          "2020-08-25",
          "2020-08-26",
          "2020-08-27",
          "2020-08-28",
          "2020-08-29",
          "2020-08-30",
          "2020-08-31",
          "2020-09-01",
          "2020-09-02",
          "2020-09-03",
          "2020-09-04",
          "2020-09-05",
          "2020-09-06",
          "2020-09-07",
          "2020-09-08",
          "2020-09-09",
          "2020-09-10",
          "2020-09-11",
          "2020-09-12",
          "2020-09-13",
          "2020-09-14",
          "2020-09-15",
          "2020-09-16",
          "2020-09-17",
          "2020-09-18",
          "2020-09-19",
          "2020-09-20",
          "2020-09-21",
          "2020-09-22",
          "2020-09-23",
          "2020-09-24",
          "2020-09-25",
          "2020-09-26",
          "2020-09-27",
          "2020-09-28",
          "2020-09-29",
          "2020-09-30",
          "2020-10-01",
          "2020-10-02",
          "2020-10-03",
          "2020-10-04",
          "2020-10-05",
          "2020-10-06",
          "2020-10-07",
          "2020-10-08",
          "2020-10-09",
          "2020-10-10",
          "2020-10-11",
          "2020-10-12",
          "2020-10-13",
          "2020-10-14",
          "2020-10-15",
          "2020-10-16",
          "2020-10-17",
          "2020-10-18",
          "2020-10-19",
          "2020-10-20",
          "2020-10-21",
          "2020-10-22",
          "2020-10-23",
          "2020-10-24",
          "2020-10-25",
          "2020-10-26",
          "2020-10-27",
          "2020-10-28",
          "2020-10-29",
          "2020-10-30",
          "2020-10-31",
          "2020-11-01",
          "2020-11-02",
          "2020-11-03",
          "2020-11-04",
          "2020-11-05",
          "2020-11-06",
          "2020-11-07",
          "2020-11-08",
          "2020-11-09",
          "2020-11-10",
          "2020-11-11",
          "2020-11-12",
          "2020-11-13",
          "2020-11-14",
          "2020-11-15",
          "2020-11-16",
          "2020-11-17",
          "2020-11-18",
          "2020-11-19",
          "2020-11-20",
          "2020-11-21",
          "2020-11-22",
          "2020-11-23",
          "2020-11-24",
          "2020-11-25",
          "2020-11-26",
          "2020-11-27",
          "2020-11-28",
          "2020-11-29",
          "2020-11-30",
          "2020-12-01",
          "2020-12-02",
          "2020-12-03",
          "2020-12-04",
          "2020-12-05",
          "2020-12-06",
          "2020-12-07",
          "2020-12-08",
          "2020-12-09",
          "2020-12-10",
          "2020-12-11",
          "2020-12-12",
          "2020-12-13",
          "2020-12-14",
          "2020-12-15",
          "2020-12-16",
          "2020-12-17",
          "2020-12-18",
          "2020-12-19",
          "2020-12-20",
          "2020-12-21",
          "2020-12-22",
          "2020-12-23",
          "2020-12-24",
          "2020-12-25",
          "2020-12-26",
          "2020-12-27",
          "2020-12-28",
          "2020-12-29",
          "2020-12-30",
          "2020-12-31",
          "2021-01-01",
          "2021-01-02",
          "2021-01-03",
          "2021-01-04",
          "2021-01-05",
          "2021-01-06",
          "2021-01-07",
          "2021-01-08",
          "2021-01-09",
          "2021-01-10",
          "2021-01-11",
          "2021-01-12",
          "2021-01-13",
          "2021-01-14",
          "2021-01-15",
          "2021-01-16",
          "2021-01-17",
          "2021-01-18",
          "2021-01-19",
          "2021-01-20",
          "2021-01-21",
          "2021-01-22",
          "2021-01-23",
          "2021-01-24",
          "2021-01-25",
          "2021-01-26",
          "2021-01-27",
          "2021-01-28",
          "2021-01-29",
          "2021-01-30",
          "2021-01-31",
          "2021-02-01",
          "2021-02-02",
          "2021-02-03",
          "2021-02-04",
          "2021-02-05",
          "2021-02-06",
          "2021-02-07",
          "2021-02-08",
          "2021-02-09",
          "2021-02-10",
          "2021-02-11",
          "2021-02-12",
          "2021-02-13",
          "2021-02-14",
          "2021-02-15",
          "2021-02-16",
          "2021-02-17",
          "2021-02-18",
          "2021-02-19",
          "2021-02-20",
          "2021-02-21",
          "2021-02-22",
          "2021-02-23",
          "2021-02-24",
          "2021-02-25",
          "2021-02-26",
          "2021-02-27",
          "2021-02-28",
          "2021-03-01",
          "2021-03-02",
          "2021-03-03",
          "2021-03-04",
          "2021-03-05",
          "2021-03-06",
          "2021-03-07",
          "2021-03-08",
          "2021-03-09",
          "2021-03-10",
          "2021-03-11",
          "2021-03-12",
          "2021-03-13",
          "2021-03-14",
          "2021-03-15",
          "2021-03-16",
          "2021-03-17",
          "2021-03-18",
          "2021-03-19",
          "2021-03-20",
          "2021-03-21",
          "2021-03-22",
          "2021-03-23",
          "2021-03-24",
          "2021-03-25",
          "2021-03-26",
          "2021-03-27",
          "2021-03-28",
          "2021-03-29",
          "2021-03-30",
          "2021-03-31",
          "2021-04-01",
          "2021-04-02",
          "2021-04-03",
          "2021-04-04",
          "2021-04-05",
          "2021-04-06",
          "2021-04-07",
          "2021-04-08",
          "2021-04-09",
          "2021-04-10",
          "2021-04-11",
          "2021-04-12",
          "2021-04-13",
          "2021-04-14",
          "2021-04-15",
          "2021-04-16",
          "2021-04-17",
          "2021-04-18",
          "2021-04-19",
          "2021-04-20",
          "2021-04-21",
          "2021-04-22",
          "2021-04-23",
          "2021-04-24",
          "2021-04-25",
          "2021-04-26",
          "2021-04-27",
          "2021-04-28",
          "2021-04-29",
          "2021-04-30",
          "2021-05-01",
          "2021-05-02",
          "2021-05-03",
          "2021-05-04",
          "2021-05-05",
          "2021-05-06",
          "2021-05-07",
          "2021-05-08",
          "2021-05-09",
          "2021-05-10",
          "2021-05-11",
          "2021-05-12",
          "2021-05-13",
          "2021-05-14",
          "2021-05-15",
          "2021-05-16",
          "2021-05-17",
          "2021-05-18",
          "2021-05-19",
          "2021-05-20",
          "2021-05-21",
          "2021-05-22",
          "2021-05-23",
          "2021-05-24",
          "2021-05-25",
          "2021-05-26",
          "2021-05-27",
          "2021-05-28",
          "2021-05-29",
          "2021-05-30",
          "2021-05-31",
          "2021-06-01",
          "2021-06-02",
          "2021-06-03",
          "2021-06-04",
          "2021-06-05",
          "2021-06-06",
          "2021-06-07",
          "2021-06-08",
          "2021-06-09",
          "2021-06-10",
          "2021-06-11",
          "2021-06-12",
          "2021-06-13",
          "2021-06-14",
          "2021-06-15",
          "2021-06-16",
          "2021-06-17",
          "2021-06-18",
          "2021-06-19",
          "2021-06-20",
          "2021-06-21",
          "2021-06-22",
          "2021-06-23",
          "2021-06-24",
          "2021-06-25",
          "2021-06-26",
          "2021-06-27",
          "2021-06-28",
          "2021-06-29",
          "2021-06-30",
          "2021-07-01",
          "2021-07-02",
          "2021-07-03",
          "2021-07-04",
          "2021-07-05",
          "2021-07-06",
          "2021-07-07",
          "2021-07-08",
          "2021-07-09",
          "2021-07-10",
          "2021-07-11",
          "2021-07-12",
          "2021-07-13",
          "2021-07-14",
          "2021-07-15",
          "2021-07-16",
          "2021-07-17",
          "2021-07-18",
          "2021-07-19",
          "2021-07-20",
          "2021-07-21",
          "2021-07-22",
          "2021-07-23",
          "2021-07-24",
          "2021-07-25",
          "2021-07-26",
          "2021-07-27",
          "2021-07-28",
          "2021-07-29",
          "2021-07-30",
          "2021-07-31",
          "2021-08-01",
          "2021-08-02",
          "2021-08-03",
          "2021-08-04",
          "2021-08-05",
          "2021-08-06",
          "2021-08-07",
          "2021-08-08",
          "2021-08-09",
          "2021-08-10",
          "2021-08-11",
          "2021-08-12",
          "2021-08-13",
          "2021-08-14",
          "2021-08-15",
          "2021-08-16",
          "2021-08-17",
          "2021-08-18",
          "2021-08-19",
          "2021-08-20",
          "2021-08-21",
          "2021-08-22",
          "2021-08-23",
          "2021-08-24",
          "2021-08-25",
          "2021-08-26",
          "2021-08-27",
          "2021-08-28",
          "2021-08-29",
          "2021-08-30",
          "2021-08-31",
          "2021-09-01",
          "2021-09-02",
          "2021-09-03",
          "2021-09-04",
          "2021-09-05",
          "2021-09-06",
          "2021-09-07",
          "2021-09-08",
          "2021-09-09",
          "2021-09-10",
          "2021-09-11",
          "2021-09-12",
          "2021-09-13",
          "2021-09-14",
          "2021-09-15",
          "2021-09-16",
          "2021-09-17",
          "2021-09-18",
          "2021-09-19",
          "2021-09-20",
          "2021-09-21",
          "2021-09-22",
          "2021-09-23",
          "2021-09-24",
          "2021-09-25",
          "2021-09-26",
          "2021-09-27",
          "2021-09-28",
          "2021-09-29",
          "2021-09-30",
          "2021-10-01",
          "2021-10-02",
          "2021-10-03",
          "2021-10-04",
          "2021-10-05",
          "2021-10-06",
          "2021-10-07",
          "2021-10-08",
          "2021-10-09",
          "2021-10-10",
          "2021-10-11",
          "2021-10-12",
          "2021-10-13",
          "2021-10-14",
          "2021-10-15",
          "2021-10-16",
          "2021-10-17",
          "2021-10-18",
          "2021-10-19",
          "2021-10-20",
          "2021-10-21",
          "2021-10-22",
          "2021-10-23",
          "2021-10-24",
          "2021-10-25",
          "2021-10-26",
          "2021-10-27",
          "2021-10-28",
          "2021-10-29",
          "2021-10-30",
          "2021-10-31",
          "2021-11-01",
          "2021-11-02",
          "2021-11-03",
          "2021-11-04",
          "2021-11-05",
          "2021-11-06",
          "2021-11-07",
          "2021-11-08",
          "2021-11-09",
          "2021-11-10",
          "2021-11-11",
          "2021-11-12",
          "2021-11-13",
          "2021-11-14",
          "2021-11-15",
          "2021-11-16",
          "2021-11-17",
          "2021-11-18",
          "2021-11-19",
          "2021-11-20",
          "2021-11-21",
          "2021-11-22",
          "2021-11-23",
          "2021-11-24",
          "2021-11-25",
          "2021-11-26",
          "2021-11-27",
          "2021-11-28",
          "2021-11-29",
          "2021-11-30",
          "2022-01-01",
          "2022-01-01",
          "2022-01-02",
          "2022-01-02",
          "2022-01-03",
          "2022-01-03",
          "2022-01-04",
          "2022-01-04",
          "2022-01-04",
          "2022-01-04",
          "2022-01-04",
          "2022-01-04",
          "2022-01-05",
          "2022-01-05",
          "2022-01-06",
          "2022-01-06",
          "2022-01-07",
          "2022-01-07",
          "2022-01-08",
          "2022-01-08",
          "2022-01-09",
          "2022-01-09",
          "2022-01-10",
          "2022-01-10",
          "2022-01-11",
          "2022-01-11",
          "2022-01-12",
          "2022-01-12",
          "2022-01-13",
          "2022-01-13",
          "2022-01-14",
          "2022-01-14",
          "2022-01-15",
          "2022-01-15",
          "2022-01-16",
          "2022-01-16",
          "2022-01-17",
          "2022-01-17",
          "2022-01-18",
          "2022-01-18",
          "2022-01-19",
          "2022-01-19",
          "2022-01-20",
          "2022-01-20",
          "2022-01-21",
          "2022-01-21",
          "2022-01-22",
          "2022-01-22",
          "2022-01-23",
          "2022-01-23",
          "2022-01-24",
          "2022-01-24",
          "2022-01-25",
          "2022-01-25",
          "2022-01-26",
          "2022-01-26",
          "2022-01-27",
          "2022-01-27",
          "2022-01-28",
          "2022-01-28",
          "2022-01-29",
          "2022-01-29",
          "2022-01-30",
          "2022-01-30",
          "2022-01-31",
          "2022-01-31",
          "2022-02-01",
          "2022-02-01",
          "2022-02-01",
          "2022-02-01",
          "2022-02-02",
          "2022-02-02",
          "2022-02-03",
          "2022-02-03",
          "2022-02-04",
          "2022-02-04",
          "2022-02-05",
          "2022-02-05",
          "2022-02-06",
          "2022-02-06",
          "2022-02-07",
          "2022-02-07",
          "2022-02-08",
          "2022-02-08",
          "2022-02-09",
          "2022-02-09",
          "2022-02-10",
          "2022-02-10",
          "2022-02-11",
          "2022-02-11",
          "2022-02-12",
          "2022-02-12",
          "2022-02-13",
          "2022-02-13",
          "2022-02-14",
          "2022-02-14",
          "2022-02-15",
          "2022-02-15",
          "2022-02-16",
          "2022-02-16",
          "2022-02-17",
          "2022-02-17",
          "2022-02-18",
          "2022-02-18",
          "2022-02-19",
          "2022-02-19",
          "2022-02-20",
          "2022-02-20",
          "2022-02-21",
          "2022-02-21",
          "2022-02-22",
          "2022-02-22",
          "2022-02-23",
          "2022-02-23",
          "2022-02-24",
          "2022-02-24",
          "2022-02-25",
          "2022-02-25",
          "2022-02-26",
          "2022-02-26",
          "2022-02-27",
          "2022-02-27",
          "2022-02-28",
          "2022-02-28",
          "2022-03-01",
          "2022-03-01",
          "2022-03-02",
          "2022-03-02",
          "2022-03-03",
          "2022-03-03",
          "2022-03-04",
          "2022-03-04",
          "2022-03-05",
          "2022-03-05",
          "2022-03-06",
          "2022-03-06",
          "2022-03-07",
          "2022-03-07",
          "2022-03-08",
          "2022-03-08",
          "2022-03-09",
          "2022-03-09",
          "2022-03-10",
          "2022-03-10",
          "2022-03-11",
          "2022-03-11",
          "2022-03-12",
          "2022-03-12",
          "2022-03-13",
          "2022-03-13",
          "2022-03-14",
          "2022-03-14",
          "2022-03-15",
          "2022-03-15",
          "2022-03-16",
          "2022-03-16",
          "2022-03-17",
          "2022-03-17",
          "2022-03-18",
          "2022-03-18",
          "2022-03-19",
          "2022-03-19",
          "2022-03-20",
          "2022-03-20",
          "2022-03-21",
          "2022-03-21",
          "2022-03-22",
          "2022-03-22",
          "2022-03-23",
          "2022-03-23",
          "2022-03-24",
          "2022-03-24",
          "2022-03-25",
          "2022-03-25",
          "2022-03-26",
          "2022-03-26",
          "2022-03-27",
          "2022-03-27",
          "2022-03-28",
          "2022-03-28",
          "2022-03-29",
          "2022-03-29",
          "2022-03-30",
          "2022-03-30",
          "2022-03-31",
          "2022-03-31",
          "2022-04-01",
          "2022-04-01",
          "2022-04-02",
          "2022-04-02",
          "2022-04-03",
          "2022-04-03",
          "2022-04-04",
          "2022-04-04",
          "2022-04-05",
          "2022-04-05",
          "2022-04-06",
          "2022-04-06",
          "2022-04-07",
          "2022-04-07",
          "2022-04-08",
          "2022-04-08",
          "2022-04-09",
          "2022-04-09",
          "2022-04-10",
          "2022-04-10",
          "2022-04-11",
          "2022-04-11",
          "2022-04-12",
          "2022-04-12",
          "2022-04-13",
          "2022-04-13",
          "2022-04-14",
          "2022-04-14",
          "2022-04-15",
          "2022-04-15",
          "2022-04-16",
          "2022-04-16",
          "2022-04-17",
          "2022-04-17",
          "2022-04-18",
          "2022-04-18",
          "2022-04-19",
          "2022-04-19",
          "2022-04-20",
          "2022-04-20",
          "2022-04-21",
          "2022-04-21",
          "2022-04-22",
          "2022-04-22",
          "2022-04-23",
          "2022-04-23",
          "2022-04-24",
          "2022-04-24",
          "2022-04-25",
          "2022-04-25",
          "2022-04-26",
          "2022-04-26",
          "2022-04-27",
          "2022-04-27",
          "2022-04-28",
          "2022-04-28",
          "2022-04-29",
          "2022-04-29",
          "2022-04-30",
          "2022-04-30",
          "2022-05-01",
          "2022-05-01",
          "2022-05-02",
          "2022-05-02",
          "2022-05-03",
          "2022-05-03",
          "2022-05-04",
          "2022-05-04",
          "2022-05-05",
          "2022-05-05",
          "2022-05-06",
          "2022-05-06",
          "2022-05-07",
          "2022-05-07",
          "2022-05-08",
          "2022-05-08",
          "2022-05-09",
          "2022-05-09",
          "2022-05-10",
          "2022-05-10",
          "2022-05-11",
          "2022-05-11",
          "2022-05-12",
          "2022-05-12",
          "2022-05-13",
          "2022-05-13",
          "2022-05-14",
          "2022-05-14",
          "2022-05-15",
          "2022-05-15",
          "2022-05-16",
          "2022-05-16",
          "2022-05-17",
          "2022-05-17",
          "2022-05-18",
          "2022-05-18",
          "2022-05-19",
          "2022-05-19",
          "2022-05-20",
          "2022-05-20",
          "2022-05-21",
          "2022-05-21",
          "2022-05-22",
          "2022-05-22",
          "2022-05-23",
          "2022-05-23",
          "2022-05-24",
          "2022-05-24",
          "2022-05-25",
          "2022-05-25",
          "2022-05-26",
          "2022-05-26",
          "2022-05-27",
          "2022-05-27",
          "2022-05-28",
          "2022-05-28",
          "2022-05-29",
          "2022-05-29",
          "2022-05-30",
          "2022-05-30",
          "2022-05-31",
          "2022-05-31",
          "2022-06-01",
          "2022-06-01",
          "2022-06-02",
          "2022-06-02",
          "2022-06-03",
          "2022-06-03",
          "2022-06-04",
          "2022-06-04",
          "2022-06-05",
          "2022-06-05",
          "2022-06-06",
          "2022-06-06"
         ],
         "y": [
          634,
          971,
          1017,
          492,
          629,
          570,
          1252,
          1312,
          1410,
          1788,
          998,
          1114,
          1659,
          1762,
          1793,
          1968,
          1556,
          961,
          1032,
          1755,
          1609,
          1305,
          1460,
          1410,
          891,
          803,
          1686,
          1459,
          1631,
          1168,
          1831,
          1477,
          952,
          1347,
          989,
          1433,
          1410,
          1321,
          1138,
          1254,
          985,
          1103,
          1172,
          1586,
          1308,
          1152,
          1124,
          1827,
          1786,
          1306,
          1771,
          1237,
          1396,
          366,
          1598,
          1579,
          1565,
          1707,
          1491,
          1230,
          2454,
          2973,
          2074,
          3585,
          3928,
          3295,
          1494,
          3147,
          3927,
          3988,
          3739,
          3170,
          2359,
          1830,
          1836,
          2426,
          3344,
          4123,
          3270,
          1859,
          1589,
          1067,
          1655,
          1704,
          1613,
          1717,
          2551,
          3657,
          740,
          1550,
          869,
          150,
          1,
          1,
          1,
          6,
          879,
          1229,
          2494,
          4312,
          3330,
          1301,
          2019,
          2398,
          2535,
          3227,
          4580,
          5534,
          4668,
          4209,
          5198,
          4958,
          5245,
          1093,
          2800,
          2297,
          3809,
          5422,
          2887,
          4625,
          5531,
          4405,
          6729,
          4073,
          6613,
          4909,
          2777,
          4676,
          2829,
          4136,
          6246,
          5893,
          7479,
          7114,
          7056,
          7715,
          7102,
          7932,
          8471,
          5664,
          2005,
          2128,
          3403,
          6989,
          6629,
          1560,
          7345,
          5408,
          8004,
          6090,
          4186,
          8250,
          9069,
          7349,
          8406,
          9419,
          9067,
          7949,
          8255,
          4758,
          7692,
          7725,
          6435,
          8065,
          7692,
          9359,
          8114,
          6056,
          6975,
          8522,
          9177,
          6104,
          9054,
          9352,
          8582,
          8013,
          9095,
          6772,
          8418,
          8291,
          9081,
          8932,
          9011,
          9001,
          8748,
          2000,
          2553,
          8670,
          8855,
          8954,
          8427,
          7788,
          8121,
          8828,
          9314,
          9010,
          8311,
          8161,
          8539,
          8834,
          8600,
          6800,
          9179,
          8925,
          6461,
          8382,
          8368,
          9102,
          7081,
          7009,
          8704,
          6718,
          3204,
          5947,
          1899,
          7521,
          7759,
          7504,
          5445,
          7098,
          7316,
          8142,
          9305,
          7859,
          8363,
          8537,
          8366,
          8403,
          8915,
          8956,
          7626,
          7539,
          7547,
          7458,
          7959,
          8615,
          8948,
          8827,
          3654,
          2749,
          4020,
          3235,
          4305,
          6191,
          4377,
          5959,
          8213,
          5130,
          4509,
          6484,
          6238,
          6442,
          5660,
          3370,
          4227,
          3648,
          2091,
          2385,
          4095,
          3230,
          1825,
          2396,
          3443,
          4011,
          4270,
          5083,
          4739,
          4734,
          4961,
          5712,
          3842,
          7086,
          3586,
          2040,
          2960,
          2307,
          3498,
          4026,
          3423,
          3763,
          3858,
          3077,
          3587,
          2384,
          2671,
          2450,
          2792,
          3388,
          3081,
          3632,
          2944,
          3461,
          3564,
          3087,
          3009,
          2456,
          1795,
          2551,
          3087,
          2457,
          2458,
          2170,
          2368,
          1084,
          2248,
          1750,
          1470,
          934,
          1756,
          1883,
          1767,
          1814,
          1600,
          1528,
          1305,
          1493,
          1294,
          1290,
          1390,
          1494,
          1489,
          1549,
          1693,
          1451,
          1128,
          1318,
          1096,
          1125,
          595,
          327,
          503,
          638,
          1086,
          1267,
          1264,
          947,
          622,
          803,
          547,
          1158,
          713,
          676,
          989,
          1157,
          1013,
          685,
          1251,
          1036,
          947,
          794,
          836,
          581,
          409,
          622,
          787,
          1115,
          1219,
          1747,
          1228,
          877,
          1197,
          1129,
          1339,
          1014,
          1329,
          498,
          516,
          737,
          894,
          1085,
          1033,
          1298,
          925,
          298,
          369,
          375,
          347,
          370,
          375,
          426,
          380,
          532,
          400,
          497,
          859,
          1182,
          1494,
          1951,
          1781,
          2153,
          2962,
          3035,
          1897,
          1940,
          3275,
          2500,
          3591,
          4169,
          3067,
          2423,
          2871,
          1491,
          2538,
          2722,
          3158,
          1891,
          2716,
          2741,
          1767,
          2557,
          1561,
          2525,
          2705,
          1687,
          1683,
          646,
          2641,
          2541,
          3028,
          4207,
          5195,
          2869,
          4167,
          3308,
          7704,
          8052,
          4580,
          3630,
          1565,
          2541,
          1420,
          2508,
          1828,
          2453,
          4190,
          5212,
          7942,
          2242,
          3403,
          3222,
          1300,
          1859,
          2580,
          3797,
          3732,
          4864,
          7428,
          4686,
          4082,
          6151,
          5044,
          4909,
          5987,
          7299,
          6166,
          6765,
          4985,
          1331,
          3765,
          5805,
          4945,
          5326,
          3883,
          6855,
          10605,
          9936,
          11279,
          8184,
          7126,
          6919,
          8608,
          9226,
          7113,
          7618,
          7901,
          7972,
          7919,
          7376,
          8093,
          8171,
          6882,
          7296,
          7558,
          6563,
          5662,
          6786,
          8783,
          9652,
          10412,
          11397,
          9305,
          11144,
          11180,
          10954,
          11584,
          11442,
          10028,
          11439,
          6880,
          6639,
          10754,
          10993,
          11352,
          11542,
          11133,
          10419,
          9829,
          8572,
          9476,
          10841,
          9791,
          7693,
          9599,
          10848,
          10966,
          11068,
          9967,
          8948,
          8437,
          10807,
          10564,
          10819,
          11514,
          11050,
          9151,
          6630,
          10313,
          8611,
          8692,
          11325,
          8226,
          11715,
          10763,
          10703,
          10262,
          10055,
          10114,
          10011,
          9883,
          10403,
          10178,
          8693,
          9797,
          10747,
          8348,
          10791,
          10476,
          10403,
          4638,
          8880,
          7667,
          8851,
          4309,
          8532,
          9877,
          9148,
          10364,
          9810,
          10666,
          10406,
          9834,
          9817,
          9183,
          8170,
          8056,
          8978,
          8986,
          7213,
          9597,
          7150,
          6373,
          6903,
          9302,
          5897,
          7361,
          7437,
          7197,
          6792,
          2660,
          8122,
          8980,
          9399,
          9068,
          8861,
          8692,
          8514,
          9644,
          10101,
          9605,
          8664,
          6883,
          8648,
          9345,
          9597,
          7720,
          6940,
          4250,
          4741,
          6445,
          4561,
          5259,
          7357,
          6822,
          7315,
          8324,
          8583,
          7803,
          7054,
          7878,
          7787,
          8889,
          8628,
          9765,
          10619,
          6492,
          8374,
          8393,
          6388,
          5646,
          6838,
          4981,
          6373,
          5996,
          6662,
          5460,
          4616,
          6691,
          8183,
          9271,
          8098,
          6565,
          4266,
          4308,
          6948,
          7216,
          7635,
          7381,
          7353,
          5903,
          4857,
          4864,
          4518,
          7044,
          5470,
          4964,
          5531,
          3785,
          5323,
          6079,
          6471,
          3981,
          3910,
          3928,
          3097,
          4757,
          5665,
          5595,
          5611,
          4554,
          4446,
          3399,
          4232,
          4392,
          5130,
          4811,
          3663,
          3158,
          1191,
          2707,
          2722,
          1259,
          1259,
          1259,
          1259,
          1172,
          1172,
          2083,
          2083,
          2083,
          2083,
          2083,
          2083,
          2083,
          2083,
          1564,
          1564,
          1807,
          1807,
          1034,
          1034,
          1328,
          1328,
          1442,
          1442,
          1255,
          1255,
          1935,
          1935,
          1799,
          1799,
          1582,
          1582,
          1945,
          1945,
          1658,
          1658,
          1636,
          1636,
          1295,
          1295,
          1417,
          1417,
          1755,
          1755,
          1929,
          1929,
          1181,
          1181,
          1208,
          1208,
          975,
          975,
          855,
          855,
          1478,
          1478,
          1531,
          1531,
          1474,
          1474,
          1226,
          1226,
          1522,
          1522,
          849,
          849,
          1546,
          1546,
          1546,
          1546,
          1546,
          1546,
          1302,
          1302,
          1164,
          1164,
          1490,
          1490,
          1613,
          1613,
          1395,
          1395,
          1113,
          1113,
          1130,
          1130,
          1385,
          1385,
          1779,
          1779,
          2140,
          2140,
          1170,
          1170,
          1600,
          1600,
          1610,
          1610,
          1985,
          1985,
          1983,
          1983,
          1968,
          1968,
          1133,
          1133,
          1670,
          1670,
          1261,
          1261,
          1067,
          1067,
          1697,
          1697,
          1821,
          1821,
          1965,
          1965,
          2167,
          2167,
          2101,
          2101,
          1552,
          1552,
          1437,
          1437,
          2553,
          2553,
          2940,
          2940,
          3033,
          3033,
          3123,
          3123,
          2241,
          2241,
          2189,
          2189,
          1850,
          1850,
          2976,
          2976,
          3558,
          3558,
          4171,
          4171,
          3782,
          3782,
          3433,
          3433,
          3353,
          3353,
          3732,
          3732,
          5171,
          5171,
          5944,
          5944,
          5944,
          5944,
          5231,
          5231,
          5547,
          5547,
          4586,
          4586,
          4969,
          4969,
          6036,
          6036,
          7528,
          7528,
          7528,
          7528,
          7969,
          7969,
          7691,
          7691,
          5950,
          5950,
          6652,
          6652,
          8637,
          8637,
          6261,
          6261,
          4625,
          4625,
          3291,
          3291,
          2445,
          2445,
          3059,
          3059,
          2287,
          2287,
          4377,
          4377,
          3351,
          3351,
          5243,
          5243,
          5937,
          5937,
          4507,
          4507,
          4233,
          4233,
          3333,
          3333,
          5575,
          5575,
          7710,
          7710,
          9098,
          9098,
          8691,
          8691,
          3805,
          3805,
          2835,
          2835,
          3451,
          3451,
          4068,
          4068,
          4413,
          4413,
          4413,
          4413,
          5968,
          5968,
          6359,
          6359,
          8654,
          8654,
          2793,
          2793,
          3209,
          3209,
          6910,
          6910,
          8615,
          8615,
          9215,
          9215,
          9116,
          9116,
          7494,
          7494,
          8929,
          8929,
          9437,
          9437,
          11156,
          11156,
          10833,
          10833,
          8836,
          8836,
          10473,
          10473,
          11665,
          11665,
          11250,
          11250,
          12327,
          12327,
          13293,
          13293,
          13910,
          13910,
          13281,
          13281,
          12126,
          12126,
          12034,
          12034,
          12466,
          12466,
          12203,
          12203,
          10286,
          10286,
          10137,
          10137,
          12348,
          12348,
          11499,
          11499,
          7692,
          7692,
          8364,
          8364,
          11569,
          11569,
          9130,
          9130,
          6572,
          6572,
          10718,
          10718,
          6672,
          6672,
          6204,
          6204,
          7926,
          7926,
          9028,
          9028,
          11328,
          11328,
          11309,
          11309,
          11299,
          11299,
          11777,
          11777,
          8244,
          8244
         ],
         "type": "scatter"
        }
       ],
       "layout": {
        "template": {
         "data": {
          "histogram2dcontour": [
           {
            "type": "histogram2dcontour",
            "colorbar": {
             "outlinewidth": 0,
             "ticks": ""
            },
            "colorscale": [
             [
              0.0,
              "#0d0887"
             ],
             [
              0.1111111111111111,
              "#46039f"
             ],
             [
              0.2222222222222222,
              "#7201a8"
             ],
             [
              0.3333333333333333,
              "#9c179e"
             ],
             [
              0.4444444444444444,
              "#bd3786"
             ],
             [
              0.5555555555555556,
              "#d8576b"
             ],
             [
              0.6666666666666666,
              "#ed7953"
             ],
             [
              0.7777777777777778,
              "#fb9f3a"
             ],
             [
              0.8888888888888888,
              "#fdca26"
             ],
             [
              1.0,
              "#f0f921"
             ]
            ]
           }
          ],
          "choropleth": [
           {
            "type": "choropleth",
            "colorbar": {
             "outlinewidth": 0,
             "ticks": ""
            }
           }
          ],
          "histogram2d": [
           {
            "type": "histogram2d",
            "colorbar": {
             "outlinewidth": 0,
             "ticks": ""
            },
            "colorscale": [
             [
              0.0,
              "#0d0887"
             ],
             [
              0.1111111111111111,
              "#46039f"
             ],
             [
              0.2222222222222222,
              "#7201a8"
             ],
             [
              0.3333333333333333,
              "#9c179e"
             ],
             [
              0.4444444444444444,
              "#bd3786"
             ],
             [
              0.5555555555555556,
              "#d8576b"
             ],
             [
              0.6666666666666666,
              "#ed7953"
             ],
             [
              0.7777777777777778,
              "#fb9f3a"
             ],
             [
              0.8888888888888888,
              "#fdca26"
             ],
             [
              1.0,
              "#f0f921"
             ]
            ]
           }
          ],
          "heatmap": [
           {
            "type": "heatmap",
            "colorbar": {
             "outlinewidth": 0,
             "ticks": ""
            },
            "colorscale": [
             [
              0.0,
              "#0d0887"
             ],
             [
              0.1111111111111111,
              "#46039f"
             ],
             [
              0.2222222222222222,
              "#7201a8"
             ],
             [
              0.3333333333333333,
              "#9c179e"
             ],
             [
              0.4444444444444444,
              "#bd3786"
             ],
             [
              0.5555555555555556,
              "#d8576b"
             ],
             [
              0.6666666666666666,
              "#ed7953"
             ],
             [
              0.7777777777777778,
              "#fb9f3a"
             ],
             [
              0.8888888888888888,
              "#fdca26"
             ],
             [
              1.0,
              "#f0f921"
             ]
            ]
           }
          ],
          "heatmapgl": [
           {
            "type": "heatmapgl",
            "colorbar": {
             "outlinewidth": 0,
             "ticks": ""
            },
            "colorscale": [
             [
              0.0,
              "#0d0887"
             ],
             [
              0.1111111111111111,
              "#46039f"
             ],
             [
              0.2222222222222222,
              "#7201a8"
             ],
             [
              0.3333333333333333,
              "#9c179e"
             ],
             [
              0.4444444444444444,
              "#bd3786"
             ],
             [
              0.5555555555555556,
              "#d8576b"
             ],
             [
              0.6666666666666666,
              "#ed7953"
             ],
             [
              0.7777777777777778,
              "#fb9f3a"
             ],
             [
              0.8888888888888888,
              "#fdca26"
             ],
             [
              1.0,
              "#f0f921"
             ]
            ]
           }
          ],
          "contourcarpet": [
           {
            "type": "contourcarpet",
            "colorbar": {
             "outlinewidth": 0,
             "ticks": ""
            }
           }
          ],
          "contour": [
           {
            "type": "contour",
            "colorbar": {
             "outlinewidth": 0,
             "ticks": ""
            },
            "colorscale": [
             [
              0.0,
              "#0d0887"
             ],
             [
              0.1111111111111111,
              "#46039f"
             ],
             [
              0.2222222222222222,
              "#7201a8"
             ],
             [
              0.3333333333333333,
              "#9c179e"
             ],
             [
              0.4444444444444444,
              "#bd3786"
             ],
             [
              0.5555555555555556,
              "#d8576b"
             ],
             [
              0.6666666666666666,
              "#ed7953"
             ],
             [
              0.7777777777777778,
              "#fb9f3a"
             ],
             [
              0.8888888888888888,
              "#fdca26"
             ],
             [
              1.0,
              "#f0f921"
             ]
            ]
           }
          ],
          "surface": [
           {
            "type": "surface",
            "colorbar": {
             "outlinewidth": 0,
             "ticks": ""
            },
            "colorscale": [
             [
              0.0,
              "#0d0887"
             ],
             [
              0.1111111111111111,
              "#46039f"
             ],
             [
              0.2222222222222222,
              "#7201a8"
             ],
             [
              0.3333333333333333,
              "#9c179e"
             ],
             [
              0.4444444444444444,
              "#bd3786"
             ],
             [
              0.5555555555555556,
              "#d8576b"
             ],
             [
              0.6666666666666666,
              "#ed7953"
             ],
             [
              0.7777777777777778,
              "#fb9f3a"
             ],
             [
              0.8888888888888888,
              "#fdca26"
             ],
             [
              1.0,
              "#f0f921"
             ]
            ]
           }
          ],
          "mesh3d": [
           {
            "type": "mesh3d",
            "colorbar": {
             "outlinewidth": 0,
             "ticks": ""
            }
           }
          ],
          "scatter": [
           {
            "fillpattern": {
             "fillmode": "overlay",
             "size": 10,
             "solidity": 0.2
            },
            "type": "scatter"
           }
          ],
          "parcoords": [
           {
            "type": "parcoords",
            "line": {
             "colorbar": {
              "outlinewidth": 0,
              "ticks": ""
             }
            }
           }
          ],
          "scatterpolargl": [
           {
            "type": "scatterpolargl",
            "marker": {
             "colorbar": {
              "outlinewidth": 0,
              "ticks": ""
             }
            }
           }
          ],
          "bar": [
           {
            "error_x": {
             "color": "#2a3f5f"
            },
            "error_y": {
             "color": "#2a3f5f"
            },
            "marker": {
             "line": {
              "color": "#E5ECF6",
              "width": 0.5
             },
             "pattern": {
              "fillmode": "overlay",
              "size": 10,
              "solidity": 0.2
             }
            },
            "type": "bar"
           }
          ],
          "scattergeo": [
           {
            "type": "scattergeo",
            "marker": {
             "colorbar": {
              "outlinewidth": 0,
              "ticks": ""
             }
            }
           }
          ],
          "scatterpolar": [
           {
            "type": "scatterpolar",
            "marker": {
             "colorbar": {
              "outlinewidth": 0,
              "ticks": ""
             }
            }
           }
          ],
          "histogram": [
           {
            "marker": {
             "pattern": {
              "fillmode": "overlay",
              "size": 10,
              "solidity": 0.2
             }
            },
            "type": "histogram"
           }
          ],
          "scattergl": [
           {
            "type": "scattergl",
            "marker": {
             "colorbar": {
              "outlinewidth": 0,
              "ticks": ""
             }
            }
           }
          ],
          "scatter3d": [
           {
            "type": "scatter3d",
            "line": {
             "colorbar": {
              "outlinewidth": 0,
              "ticks": ""
             }
            },
            "marker": {
             "colorbar": {
              "outlinewidth": 0,
              "ticks": ""
             }
            }
           }
          ],
          "scattermapbox": [
           {
            "type": "scattermapbox",
            "marker": {
             "colorbar": {
              "outlinewidth": 0,
              "ticks": ""
             }
            }
           }
          ],
          "scatterternary": [
           {
            "type": "scatterternary",
            "marker": {
             "colorbar": {
              "outlinewidth": 0,
              "ticks": ""
             }
            }
           }
          ],
          "scattercarpet": [
           {
            "type": "scattercarpet",
            "marker": {
             "colorbar": {
              "outlinewidth": 0,
              "ticks": ""
             }
            }
           }
          ],
          "carpet": [
           {
            "aaxis": {
             "endlinecolor": "#2a3f5f",
             "gridcolor": "white",
             "linecolor": "white",
             "minorgridcolor": "white",
             "startlinecolor": "#2a3f5f"
            },
            "baxis": {
             "endlinecolor": "#2a3f5f",
             "gridcolor": "white",
             "linecolor": "white",
             "minorgridcolor": "white",
             "startlinecolor": "#2a3f5f"
            },
            "type": "carpet"
           }
          ],
          "table": [
           {
            "cells": {
             "fill": {
              "color": "#EBF0F8"
             },
             "line": {
              "color": "white"
             }
            },
            "header": {
             "fill": {
              "color": "#C8D4E3"
             },
             "line": {
              "color": "white"
             }
            },
            "type": "table"
           }
          ],
          "barpolar": [
           {
            "marker": {
             "line": {
              "color": "#E5ECF6",
              "width": 0.5
             },
             "pattern": {
              "fillmode": "overlay",
              "size": 10,
              "solidity": 0.2
             }
            },
            "type": "barpolar"
           }
          ],
          "pie": [
           {
            "automargin": true,
            "type": "pie"
           }
          ]
         },
         "layout": {
          "autotypenumbers": "strict",
          "colorway": [
           "#636efa",
           "#EF553B",
           "#00cc96",
           "#ab63fa",
           "#FFA15A",
           "#19d3f3",
           "#FF6692",
           "#B6E880",
           "#FF97FF",
           "#FECB52"
          ],
          "font": {
           "color": "#2a3f5f"
          },
          "hovermode": "closest",
          "hoverlabel": {
           "align": "left"
          },
          "paper_bgcolor": "white",
          "plot_bgcolor": "#E5ECF6",
          "polar": {
           "bgcolor": "#E5ECF6",
           "angularaxis": {
            "gridcolor": "white",
            "linecolor": "white",
            "ticks": ""
           },
           "radialaxis": {
            "gridcolor": "white",
            "linecolor": "white",
            "ticks": ""
           }
          },
          "ternary": {
           "bgcolor": "#E5ECF6",
           "aaxis": {
            "gridcolor": "white",
            "linecolor": "white",
            "ticks": ""
           },
           "baxis": {
            "gridcolor": "white",
            "linecolor": "white",
            "ticks": ""
           },
           "caxis": {
            "gridcolor": "white",
            "linecolor": "white",
            "ticks": ""
           }
          },
          "coloraxis": {
           "colorbar": {
            "outlinewidth": 0,
            "ticks": ""
           }
          },
          "colorscale": {
           "sequential": [
            [
             0.0,
             "#0d0887"
            ],
            [
             0.1111111111111111,
             "#46039f"
            ],
            [
             0.2222222222222222,
             "#7201a8"
            ],
            [
             0.3333333333333333,
             "#9c179e"
            ],
            [
             0.4444444444444444,
             "#bd3786"
            ],
            [
             0.5555555555555556,
             "#d8576b"
            ],
            [
             0.6666666666666666,
             "#ed7953"
            ],
            [
             0.7777777777777778,
             "#fb9f3a"
            ],
            [
             0.8888888888888888,
             "#fdca26"
            ],
            [
             1.0,
             "#f0f921"
            ]
           ],
           "sequentialminus": [
            [
             0.0,
             "#0d0887"
            ],
            [
             0.1111111111111111,
             "#46039f"
            ],
            [
             0.2222222222222222,
             "#7201a8"
            ],
            [
             0.3333333333333333,
             "#9c179e"
            ],
            [
             0.4444444444444444,
             "#bd3786"
            ],
            [
             0.5555555555555556,
             "#d8576b"
            ],
            [
             0.6666666666666666,
             "#ed7953"
            ],
            [
             0.7777777777777778,
             "#fb9f3a"
            ],
            [
             0.8888888888888888,
             "#fdca26"
            ],
            [
             1.0,
             "#f0f921"
            ]
           ],
           "diverging": [
            [
             0,
             "#8e0152"
            ],
            [
             0.1,
             "#c51b7d"
            ],
            [
             0.2,
             "#de77ae"
            ],
            [
             0.3,
             "#f1b6da"
            ],
            [
             0.4,
             "#fde0ef"
            ],
            [
             0.5,
             "#f7f7f7"
            ],
            [
             0.6,
             "#e6f5d0"
            ],
            [
             0.7,
             "#b8e186"
            ],
            [
             0.8,
             "#7fbc41"
            ],
            [
             0.9,
             "#4d9221"
            ],
            [
             1,
             "#276419"
            ]
           ]
          },
          "xaxis": {
           "gridcolor": "white",
           "linecolor": "white",
           "ticks": "",
           "title": {
            "standoff": 15
           },
           "zerolinecolor": "white",
           "automargin": true,
           "zerolinewidth": 2
          },
          "yaxis": {
           "gridcolor": "white",
           "linecolor": "white",
           "ticks": "",
           "title": {
            "standoff": 15
           },
           "zerolinecolor": "white",
           "automargin": true,
           "zerolinewidth": 2
          },
          "scene": {
           "xaxis": {
            "backgroundcolor": "#E5ECF6",
            "gridcolor": "white",
            "linecolor": "white",
            "showbackground": true,
            "ticks": "",
            "zerolinecolor": "white",
            "gridwidth": 2
           },
           "yaxis": {
            "backgroundcolor": "#E5ECF6",
            "gridcolor": "white",
            "linecolor": "white",
            "showbackground": true,
            "ticks": "",
            "zerolinecolor": "white",
            "gridwidth": 2
           },
           "zaxis": {
            "backgroundcolor": "#E5ECF6",
            "gridcolor": "white",
            "linecolor": "white",
            "showbackground": true,
            "ticks": "",
            "zerolinecolor": "white",
            "gridwidth": 2
           }
          },
          "shapedefaults": {
           "line": {
            "color": "#2a3f5f"
           }
          },
          "annotationdefaults": {
           "arrowcolor": "#2a3f5f",
           "arrowhead": 0,
           "arrowwidth": 1
          },
          "geo": {
           "bgcolor": "white",
           "landcolor": "#E5ECF6",
           "subunitcolor": "white",
           "showland": true,
           "showlakes": true,
           "lakecolor": "white"
          },
          "title": {
           "x": 0.05
          },
          "mapbox": {
           "style": "light"
          }
         }
        }
       },
       "config": {
        "plotlyServerURL": "https://plot.ly"
       }
      },
      "text/html": "<div>                            <div id=\"b0557b3e-0fd7-4bf2-9c71-94d99a9e0918\" class=\"plotly-graph-div\" style=\"height:525px; width:100%;\"></div>            <script type=\"text/javascript\">                require([\"plotly\"], function(Plotly) {                    window.PLOTLYENV=window.PLOTLYENV || {};                                    if (document.getElementById(\"b0557b3e-0fd7-4bf2-9c71-94d99a9e0918\")) {                    Plotly.newPlot(                        \"b0557b3e-0fd7-4bf2-9c71-94d99a9e0918\",                        [{\"marker\":{\"color\":\"blue\",\"size\":3},\"mode\":\"markers\",\"x\":[\"2020-01-01\",\"2020-01-02\",\"2020-01-03\",\"2020-01-04\",\"2020-01-05\",\"2020-01-06\",\"2020-01-07\",\"2020-01-08\",\"2020-01-09\",\"2020-01-10\",\"2020-01-11\",\"2020-01-12\",\"2020-01-13\",\"2020-01-14\",\"2020-01-15\",\"2020-01-16\",\"2020-01-17\",\"2020-01-18\",\"2020-01-19\",\"2020-01-20\",\"2020-01-21\",\"2020-01-22\",\"2020-01-23\",\"2020-01-24\",\"2020-01-25\",\"2020-01-26\",\"2020-01-27\",\"2020-01-28\",\"2020-01-29\",\"2020-01-30\",\"2020-01-31\",\"2020-02-01\",\"2020-02-02\",\"2020-02-03\",\"2020-02-04\",\"2020-02-05\",\"2020-02-06\",\"2020-02-07\",\"2020-02-08\",\"2020-02-09\",\"2020-02-10\",\"2020-02-11\",\"2020-02-12\",\"2020-02-13\",\"2020-02-14\",\"2020-02-15\",\"2020-02-16\",\"2020-02-17\",\"2020-02-18\",\"2020-02-19\",\"2020-02-20\",\"2020-02-21\",\"2020-02-22\",\"2020-02-23\",\"2020-02-24\",\"2020-02-25\",\"2020-02-26\",\"2020-02-27\",\"2020-02-28\",\"2020-02-29\",\"2020-03-01\",\"2020-03-02\",\"2020-03-03\",\"2020-03-04\",\"2020-03-05\",\"2020-03-06\",\"2020-03-07\",\"2020-03-08\",\"2020-03-09\",\"2020-03-10\",\"2020-03-11\",\"2020-03-12\",\"2020-03-13\",\"2020-03-14\",\"2020-03-15\",\"2020-03-16\",\"2020-03-17\",\"2020-03-18\",\"2020-03-19\",\"2020-03-20\",\"2020-03-21\",\"2020-03-22\",\"2020-03-23\",\"2020-03-24\",\"2020-03-25\",\"2020-03-26\",\"2020-03-27\",\"2020-03-28\",\"2020-03-29\",\"2020-03-30\",\"2020-03-31\",\"2020-04-01\",\"2020-04-04\",\"2020-04-05\",\"2020-04-06\",\"2020-04-10\",\"2020-05-06\",\"2020-05-07\",\"2020-05-08\",\"2020-05-09\",\"2020-05-10\",\"2020-05-11\",\"2020-05-12\",\"2020-05-13\",\"2020-05-14\",\"2020-05-15\",\"2020-05-16\",\"2020-05-17\",\"2020-05-18\",\"2020-05-19\",\"2020-05-20\",\"2020-05-21\",\"2020-05-22\",\"2020-05-23\",\"2020-05-24\",\"2020-05-25\",\"2020-05-26\",\"2020-05-27\",\"2020-05-28\",\"2020-05-29\",\"2020-05-30\",\"2020-05-31\",\"2020-06-01\",\"2020-06-02\",\"2020-06-03\",\"2020-06-04\",\"2020-06-05\",\"2020-06-06\",\"2020-06-07\",\"2020-06-08\",\"2020-06-09\",\"2020-06-10\",\"2020-06-11\",\"2020-06-12\",\"2020-06-13\",\"2020-06-14\",\"2020-06-15\",\"2020-06-16\",\"2020-06-17\",\"2020-06-18\",\"2020-06-19\",\"2020-06-20\",\"2020-06-21\",\"2020-06-22\",\"2020-06-23\",\"2020-06-24\",\"2020-06-25\",\"2020-06-26\",\"2020-06-27\",\"2020-06-28\",\"2020-06-29\",\"2020-06-30\",\"2020-07-01\",\"2020-07-02\",\"2020-07-03\",\"2020-07-04\",\"2020-07-05\",\"2020-07-06\",\"2020-07-07\",\"2020-07-08\",\"2020-07-09\",\"2020-07-10\",\"2020-07-11\",\"2020-07-12\",\"2020-07-13\",\"2020-07-14\",\"2020-07-15\",\"2020-07-16\",\"2020-07-17\",\"2020-07-18\",\"2020-07-19\",\"2020-07-20\",\"2020-07-21\",\"2020-07-22\",\"2020-07-23\",\"2020-07-24\",\"2020-07-25\",\"2020-07-26\",\"2020-07-27\",\"2020-07-28\",\"2020-07-29\",\"2020-07-30\",\"2020-07-31\",\"2020-08-01\",\"2020-08-02\",\"2020-08-03\",\"2020-08-04\",\"2020-08-05\",\"2020-08-06\",\"2020-08-07\",\"2020-08-08\",\"2020-08-09\",\"2020-08-10\",\"2020-08-11\",\"2020-08-12\",\"2020-08-13\",\"2020-08-14\",\"2020-08-15\",\"2020-08-16\",\"2020-08-17\",\"2020-08-18\",\"2020-08-19\",\"2020-08-20\",\"2020-08-21\",\"2020-08-22\",\"2020-08-23\",\"2020-08-24\",\"2020-08-25\",\"2020-08-26\",\"2020-08-27\",\"2020-08-28\",\"2020-08-29\",\"2020-08-30\",\"2020-08-31\",\"2020-09-01\",\"2020-09-02\",\"2020-09-03\",\"2020-09-04\",\"2020-09-05\",\"2020-09-06\",\"2020-09-07\",\"2020-09-08\",\"2020-09-09\",\"2020-09-10\",\"2020-09-11\",\"2020-09-12\",\"2020-09-13\",\"2020-09-14\",\"2020-09-15\",\"2020-09-16\",\"2020-09-17\",\"2020-09-18\",\"2020-09-19\",\"2020-09-20\",\"2020-09-21\",\"2020-09-22\",\"2020-09-23\",\"2020-09-24\",\"2020-09-25\",\"2020-09-26\",\"2020-09-27\",\"2020-09-28\",\"2020-09-29\",\"2020-09-30\",\"2020-10-01\",\"2020-10-02\",\"2020-10-03\",\"2020-10-04\",\"2020-10-05\",\"2020-10-06\",\"2020-10-07\",\"2020-10-08\",\"2020-10-09\",\"2020-10-10\",\"2020-10-11\",\"2020-10-12\",\"2020-10-13\",\"2020-10-14\",\"2020-10-15\",\"2020-10-16\",\"2020-10-17\",\"2020-10-18\",\"2020-10-19\",\"2020-10-20\",\"2020-10-21\",\"2020-10-22\",\"2020-10-23\",\"2020-10-24\",\"2020-10-25\",\"2020-10-26\",\"2020-10-27\",\"2020-10-28\",\"2020-10-29\",\"2020-10-30\",\"2020-10-31\",\"2020-11-01\",\"2020-11-02\",\"2020-11-03\",\"2020-11-04\",\"2020-11-05\",\"2020-11-06\",\"2020-11-07\",\"2020-11-08\",\"2020-11-09\",\"2020-11-10\",\"2020-11-11\",\"2020-11-12\",\"2020-11-13\",\"2020-11-14\",\"2020-11-15\",\"2020-11-16\",\"2020-11-17\",\"2020-11-18\",\"2020-11-19\",\"2020-11-20\",\"2020-11-21\",\"2020-11-22\",\"2020-11-23\",\"2020-11-24\",\"2020-11-25\",\"2020-11-26\",\"2020-11-27\",\"2020-11-28\",\"2020-11-29\",\"2020-11-30\",\"2020-12-01\",\"2020-12-02\",\"2020-12-03\",\"2020-12-04\",\"2020-12-05\",\"2020-12-06\",\"2020-12-07\",\"2020-12-08\",\"2020-12-09\",\"2020-12-10\",\"2020-12-11\",\"2020-12-12\",\"2020-12-13\",\"2020-12-14\",\"2020-12-15\",\"2020-12-16\",\"2020-12-17\",\"2020-12-18\",\"2020-12-19\",\"2020-12-20\",\"2020-12-21\",\"2020-12-22\",\"2020-12-23\",\"2020-12-24\",\"2020-12-25\",\"2020-12-26\",\"2020-12-27\",\"2020-12-28\",\"2020-12-29\",\"2020-12-30\",\"2020-12-31\",\"2021-01-01\",\"2021-01-02\",\"2021-01-03\",\"2021-01-04\",\"2021-01-05\",\"2021-01-06\",\"2021-01-07\",\"2021-01-08\",\"2021-01-09\",\"2021-01-10\",\"2021-01-11\",\"2021-01-12\",\"2021-01-13\",\"2021-01-14\",\"2021-01-15\",\"2021-01-16\",\"2021-01-17\",\"2021-01-18\",\"2021-01-19\",\"2021-01-20\",\"2021-01-21\",\"2021-01-22\",\"2021-01-23\",\"2021-01-24\",\"2021-01-25\",\"2021-01-26\",\"2021-01-27\",\"2021-01-28\",\"2021-01-29\",\"2021-01-30\",\"2021-01-31\",\"2021-02-01\",\"2021-02-02\",\"2021-02-03\",\"2021-02-04\",\"2021-02-05\",\"2021-02-06\",\"2021-02-07\",\"2021-02-08\",\"2021-02-09\",\"2021-02-10\",\"2021-02-11\",\"2021-02-12\",\"2021-02-13\",\"2021-02-14\",\"2021-02-15\",\"2021-02-16\",\"2021-02-17\",\"2021-02-18\",\"2021-02-19\",\"2021-02-20\",\"2021-02-21\",\"2021-02-22\",\"2021-02-23\",\"2021-02-24\",\"2021-02-25\",\"2021-02-26\",\"2021-02-27\",\"2021-02-28\",\"2021-03-01\",\"2021-03-02\",\"2021-03-03\",\"2021-03-04\",\"2021-03-05\",\"2021-03-06\",\"2021-03-07\",\"2021-03-08\",\"2021-03-09\",\"2021-03-10\",\"2021-03-11\",\"2021-03-12\",\"2021-03-13\",\"2021-03-14\",\"2021-03-15\",\"2021-03-16\",\"2021-03-17\",\"2021-03-18\",\"2021-03-19\",\"2021-03-20\",\"2021-03-21\",\"2021-03-22\",\"2021-03-23\",\"2021-03-24\",\"2021-03-25\",\"2021-03-26\",\"2021-03-27\",\"2021-03-28\",\"2021-03-29\",\"2021-03-30\",\"2021-03-31\",\"2021-04-01\",\"2021-04-02\",\"2021-04-03\",\"2021-04-04\",\"2021-04-05\",\"2021-04-06\",\"2021-04-07\",\"2021-04-08\",\"2021-04-09\",\"2021-04-10\",\"2021-04-11\",\"2021-04-12\",\"2021-04-13\",\"2021-04-14\",\"2021-04-15\",\"2021-04-16\",\"2021-04-17\",\"2021-04-18\",\"2021-04-19\",\"2021-04-20\",\"2021-04-21\",\"2021-04-22\",\"2021-04-23\",\"2021-04-24\",\"2021-04-25\",\"2021-04-26\",\"2021-04-27\",\"2021-04-28\",\"2021-04-29\",\"2021-04-30\",\"2021-05-01\",\"2021-05-02\",\"2021-05-03\",\"2021-05-04\",\"2021-05-05\",\"2021-05-06\",\"2021-05-07\",\"2021-05-08\",\"2021-05-09\",\"2021-05-10\",\"2021-05-11\",\"2021-05-12\",\"2021-05-13\",\"2021-05-14\",\"2021-05-15\",\"2021-05-16\",\"2021-05-17\",\"2021-05-18\",\"2021-05-19\",\"2021-05-20\",\"2021-05-21\",\"2021-05-22\",\"2021-05-23\",\"2021-05-24\",\"2021-05-25\",\"2021-05-26\",\"2021-05-27\",\"2021-05-28\",\"2021-05-29\",\"2021-05-30\",\"2021-05-31\",\"2021-06-01\",\"2021-06-02\",\"2021-06-03\",\"2021-06-04\",\"2021-06-05\",\"2021-06-06\",\"2021-06-07\",\"2021-06-08\",\"2021-06-09\",\"2021-06-10\",\"2021-06-11\",\"2021-06-12\",\"2021-06-13\",\"2021-06-14\",\"2021-06-15\",\"2021-06-16\",\"2021-06-17\",\"2021-06-18\",\"2021-06-19\",\"2021-06-20\",\"2021-06-21\",\"2021-06-22\",\"2021-06-23\",\"2021-06-24\",\"2021-06-25\",\"2021-06-26\",\"2021-06-27\",\"2021-06-28\",\"2021-06-29\",\"2021-06-30\",\"2021-07-01\",\"2021-07-02\",\"2021-07-03\",\"2021-07-04\",\"2021-07-05\",\"2021-07-06\",\"2021-07-07\",\"2021-07-08\",\"2021-07-09\",\"2021-07-10\",\"2021-07-11\",\"2021-07-12\",\"2021-07-13\",\"2021-07-14\",\"2021-07-15\",\"2021-07-16\",\"2021-07-17\",\"2021-07-18\",\"2021-07-19\",\"2021-07-20\",\"2021-07-21\",\"2021-07-22\",\"2021-07-23\",\"2021-07-24\",\"2021-07-25\",\"2021-07-26\",\"2021-07-27\",\"2021-07-28\",\"2021-07-29\",\"2021-07-30\",\"2021-07-31\",\"2021-08-01\",\"2021-08-02\",\"2021-08-03\",\"2021-08-04\",\"2021-08-05\",\"2021-08-06\",\"2021-08-07\",\"2021-08-08\",\"2021-08-09\",\"2021-08-10\",\"2021-08-11\",\"2021-08-12\",\"2021-08-13\",\"2021-08-14\",\"2021-08-15\",\"2021-08-16\",\"2021-08-17\",\"2021-08-18\",\"2021-08-19\",\"2021-08-20\",\"2021-08-21\",\"2021-08-22\",\"2021-08-23\",\"2021-08-24\",\"2021-08-25\",\"2021-08-26\",\"2021-08-27\",\"2021-08-28\",\"2021-08-29\",\"2021-08-30\",\"2021-08-31\",\"2021-09-01\",\"2021-09-02\",\"2021-09-03\",\"2021-09-04\",\"2021-09-05\",\"2021-09-06\",\"2021-09-07\",\"2021-09-08\",\"2021-09-09\",\"2021-09-10\",\"2021-09-11\",\"2021-09-12\",\"2021-09-13\",\"2021-09-14\",\"2021-09-15\",\"2021-09-16\",\"2021-09-17\",\"2021-09-18\",\"2021-09-19\",\"2021-09-20\",\"2021-09-21\",\"2021-09-22\",\"2021-09-23\",\"2021-09-24\",\"2021-09-25\",\"2021-09-26\",\"2021-09-27\",\"2021-09-28\",\"2021-09-29\",\"2021-09-30\",\"2021-10-01\",\"2021-10-02\",\"2021-10-03\",\"2021-10-04\",\"2021-10-05\",\"2021-10-06\",\"2021-10-07\",\"2021-10-08\",\"2021-10-09\",\"2021-10-10\",\"2021-10-11\",\"2021-10-12\",\"2021-10-13\",\"2021-10-14\",\"2021-10-15\",\"2021-10-16\",\"2021-10-17\",\"2021-10-18\",\"2021-10-19\",\"2021-10-20\",\"2021-10-21\",\"2021-10-22\",\"2021-10-23\",\"2021-10-24\",\"2021-10-25\",\"2021-10-26\",\"2021-10-27\",\"2021-10-28\",\"2021-10-29\",\"2021-10-30\",\"2021-10-31\",\"2021-11-01\",\"2021-11-02\",\"2021-11-03\",\"2021-11-04\",\"2021-11-05\",\"2021-11-06\",\"2021-11-07\",\"2021-11-08\",\"2021-11-09\",\"2021-11-10\",\"2021-11-11\",\"2021-11-12\",\"2021-11-13\",\"2021-11-14\",\"2021-11-15\",\"2021-11-16\",\"2021-11-17\",\"2021-11-18\",\"2021-11-19\",\"2021-11-20\",\"2021-11-21\",\"2021-11-22\",\"2021-11-23\",\"2021-11-24\",\"2021-11-25\",\"2021-11-26\",\"2021-11-27\",\"2021-11-28\",\"2021-11-29\",\"2021-11-30\",\"2022-01-01\",\"2022-01-01\",\"2022-01-02\",\"2022-01-02\",\"2022-01-03\",\"2022-01-03\",\"2022-01-04\",\"2022-01-04\",\"2022-01-04\",\"2022-01-04\",\"2022-01-04\",\"2022-01-04\",\"2022-01-05\",\"2022-01-05\",\"2022-01-06\",\"2022-01-06\",\"2022-01-07\",\"2022-01-07\",\"2022-01-08\",\"2022-01-08\",\"2022-01-09\",\"2022-01-09\",\"2022-01-10\",\"2022-01-10\",\"2022-01-11\",\"2022-01-11\",\"2022-01-12\",\"2022-01-12\",\"2022-01-13\",\"2022-01-13\",\"2022-01-14\",\"2022-01-14\",\"2022-01-15\",\"2022-01-15\",\"2022-01-16\",\"2022-01-16\",\"2022-01-17\",\"2022-01-17\",\"2022-01-18\",\"2022-01-18\",\"2022-01-19\",\"2022-01-19\",\"2022-01-20\",\"2022-01-20\",\"2022-01-21\",\"2022-01-21\",\"2022-01-22\",\"2022-01-22\",\"2022-01-23\",\"2022-01-23\",\"2022-01-24\",\"2022-01-24\",\"2022-01-25\",\"2022-01-25\",\"2022-01-26\",\"2022-01-26\",\"2022-01-27\",\"2022-01-27\",\"2022-01-28\",\"2022-01-28\",\"2022-01-29\",\"2022-01-29\",\"2022-01-30\",\"2022-01-30\",\"2022-01-31\",\"2022-01-31\",\"2022-02-01\",\"2022-02-01\",\"2022-02-01\",\"2022-02-01\",\"2022-02-02\",\"2022-02-02\",\"2022-02-03\",\"2022-02-03\",\"2022-02-04\",\"2022-02-04\",\"2022-02-05\",\"2022-02-05\",\"2022-02-06\",\"2022-02-06\",\"2022-02-07\",\"2022-02-07\",\"2022-02-08\",\"2022-02-08\",\"2022-02-09\",\"2022-02-09\",\"2022-02-10\",\"2022-02-10\",\"2022-02-11\",\"2022-02-11\",\"2022-02-12\",\"2022-02-12\",\"2022-02-13\",\"2022-02-13\",\"2022-02-14\",\"2022-02-14\",\"2022-02-15\",\"2022-02-15\",\"2022-02-16\",\"2022-02-16\",\"2022-02-17\",\"2022-02-17\",\"2022-02-18\",\"2022-02-18\",\"2022-02-19\",\"2022-02-19\",\"2022-02-20\",\"2022-02-20\",\"2022-02-21\",\"2022-02-21\",\"2022-02-22\",\"2022-02-22\",\"2022-02-23\",\"2022-02-23\",\"2022-02-24\",\"2022-02-24\",\"2022-02-25\",\"2022-02-25\",\"2022-02-26\",\"2022-02-26\",\"2022-02-27\",\"2022-02-27\",\"2022-02-28\",\"2022-02-28\",\"2022-03-01\",\"2022-03-01\",\"2022-03-02\",\"2022-03-02\",\"2022-03-03\",\"2022-03-03\",\"2022-03-04\",\"2022-03-04\",\"2022-03-05\",\"2022-03-05\",\"2022-03-06\",\"2022-03-06\",\"2022-03-07\",\"2022-03-07\",\"2022-03-08\",\"2022-03-08\",\"2022-03-09\",\"2022-03-09\",\"2022-03-10\",\"2022-03-10\",\"2022-03-11\",\"2022-03-11\",\"2022-03-12\",\"2022-03-12\",\"2022-03-13\",\"2022-03-13\",\"2022-03-14\",\"2022-03-14\",\"2022-03-15\",\"2022-03-15\",\"2022-03-16\",\"2022-03-16\",\"2022-03-17\",\"2022-03-17\",\"2022-03-18\",\"2022-03-18\",\"2022-03-19\",\"2022-03-19\",\"2022-03-20\",\"2022-03-20\",\"2022-03-21\",\"2022-03-21\",\"2022-03-22\",\"2022-03-22\",\"2022-03-23\",\"2022-03-23\",\"2022-03-24\",\"2022-03-24\",\"2022-03-25\",\"2022-03-25\",\"2022-03-26\",\"2022-03-26\",\"2022-03-27\",\"2022-03-27\",\"2022-03-28\",\"2022-03-28\",\"2022-03-29\",\"2022-03-29\",\"2022-03-30\",\"2022-03-30\",\"2022-03-31\",\"2022-03-31\",\"2022-04-01\",\"2022-04-01\",\"2022-04-02\",\"2022-04-02\",\"2022-04-03\",\"2022-04-03\",\"2022-04-04\",\"2022-04-04\",\"2022-04-05\",\"2022-04-05\",\"2022-04-06\",\"2022-04-06\",\"2022-04-07\",\"2022-04-07\",\"2022-04-08\",\"2022-04-08\",\"2022-04-09\",\"2022-04-09\",\"2022-04-10\",\"2022-04-10\",\"2022-04-11\",\"2022-04-11\",\"2022-04-12\",\"2022-04-12\",\"2022-04-13\",\"2022-04-13\",\"2022-04-14\",\"2022-04-14\",\"2022-04-15\",\"2022-04-15\",\"2022-04-16\",\"2022-04-16\",\"2022-04-17\",\"2022-04-17\",\"2022-04-18\",\"2022-04-18\",\"2022-04-19\",\"2022-04-19\",\"2022-04-20\",\"2022-04-20\",\"2022-04-21\",\"2022-04-21\",\"2022-04-22\",\"2022-04-22\",\"2022-04-23\",\"2022-04-23\",\"2022-04-24\",\"2022-04-24\",\"2022-04-25\",\"2022-04-25\",\"2022-04-26\",\"2022-04-26\",\"2022-04-27\",\"2022-04-27\",\"2022-04-28\",\"2022-04-28\",\"2022-04-29\",\"2022-04-29\",\"2022-04-30\",\"2022-04-30\",\"2022-05-01\",\"2022-05-01\",\"2022-05-02\",\"2022-05-02\",\"2022-05-03\",\"2022-05-03\",\"2022-05-04\",\"2022-05-04\",\"2022-05-05\",\"2022-05-05\",\"2022-05-06\",\"2022-05-06\",\"2022-05-07\",\"2022-05-07\",\"2022-05-08\",\"2022-05-08\",\"2022-05-09\",\"2022-05-09\",\"2022-05-10\",\"2022-05-10\",\"2022-05-11\",\"2022-05-11\",\"2022-05-12\",\"2022-05-12\",\"2022-05-13\",\"2022-05-13\",\"2022-05-14\",\"2022-05-14\",\"2022-05-15\",\"2022-05-15\",\"2022-05-16\",\"2022-05-16\",\"2022-05-17\",\"2022-05-17\",\"2022-05-18\",\"2022-05-18\",\"2022-05-19\",\"2022-05-19\",\"2022-05-20\",\"2022-05-20\",\"2022-05-21\",\"2022-05-21\",\"2022-05-22\",\"2022-05-22\",\"2022-05-23\",\"2022-05-23\",\"2022-05-24\",\"2022-05-24\",\"2022-05-25\",\"2022-05-25\",\"2022-05-26\",\"2022-05-26\",\"2022-05-27\",\"2022-05-27\",\"2022-05-28\",\"2022-05-28\",\"2022-05-29\",\"2022-05-29\",\"2022-05-30\",\"2022-05-30\",\"2022-05-31\",\"2022-05-31\",\"2022-06-01\",\"2022-06-01\",\"2022-06-02\",\"2022-06-02\",\"2022-06-03\",\"2022-06-03\",\"2022-06-04\",\"2022-06-04\",\"2022-06-05\",\"2022-06-05\",\"2022-06-06\",\"2022-06-06\"],\"y\":[634,971,1017,492,629,570,1252,1312,1410,1788,998,1114,1659,1762,1793,1968,1556,961,1032,1755,1609,1305,1460,1410,891,803,1686,1459,1631,1168,1831,1477,952,1347,989,1433,1410,1321,1138,1254,985,1103,1172,1586,1308,1152,1124,1827,1786,1306,1771,1237,1396,366,1598,1579,1565,1707,1491,1230,2454,2973,2074,3585,3928,3295,1494,3147,3927,3988,3739,3170,2359,1830,1836,2426,3344,4123,3270,1859,1589,1067,1655,1704,1613,1717,2551,3657,740,1550,869,150,1,1,1,6,879,1229,2494,4312,3330,1301,2019,2398,2535,3227,4580,5534,4668,4209,5198,4958,5245,1093,2800,2297,3809,5422,2887,4625,5531,4405,6729,4073,6613,4909,2777,4676,2829,4136,6246,5893,7479,7114,7056,7715,7102,7932,8471,5664,2005,2128,3403,6989,6629,1560,7345,5408,8004,6090,4186,8250,9069,7349,8406,9419,9067,7949,8255,4758,7692,7725,6435,8065,7692,9359,8114,6056,6975,8522,9177,6104,9054,9352,8582,8013,9095,6772,8418,8291,9081,8932,9011,9001,8748,2000,2553,8670,8855,8954,8427,7788,8121,8828,9314,9010,8311,8161,8539,8834,8600,6800,9179,8925,6461,8382,8368,9102,7081,7009,8704,6718,3204,5947,1899,7521,7759,7504,5445,7098,7316,8142,9305,7859,8363,8537,8366,8403,8915,8956,7626,7539,7547,7458,7959,8615,8948,8827,3654,2749,4020,3235,4305,6191,4377,5959,8213,5130,4509,6484,6238,6442,5660,3370,4227,3648,2091,2385,4095,3230,1825,2396,3443,4011,4270,5083,4739,4734,4961,5712,3842,7086,3586,2040,2960,2307,3498,4026,3423,3763,3858,3077,3587,2384,2671,2450,2792,3388,3081,3632,2944,3461,3564,3087,3009,2456,1795,2551,3087,2457,2458,2170,2368,1084,2248,1750,1470,934,1756,1883,1767,1814,1600,1528,1305,1493,1294,1290,1390,1494,1489,1549,1693,1451,1128,1318,1096,1125,595,327,503,638,1086,1267,1264,947,622,803,547,1158,713,676,989,1157,1013,685,1251,1036,947,794,836,581,409,622,787,1115,1219,1747,1228,877,1197,1129,1339,1014,1329,498,516,737,894,1085,1033,1298,925,298,369,375,347,370,375,426,380,532,400,497,859,1182,1494,1951,1781,2153,2962,3035,1897,1940,3275,2500,3591,4169,3067,2423,2871,1491,2538,2722,3158,1891,2716,2741,1767,2557,1561,2525,2705,1687,1683,646,2641,2541,3028,4207,5195,2869,4167,3308,7704,8052,4580,3630,1565,2541,1420,2508,1828,2453,4190,5212,7942,2242,3403,3222,1300,1859,2580,3797,3732,4864,7428,4686,4082,6151,5044,4909,5987,7299,6166,6765,4985,1331,3765,5805,4945,5326,3883,6855,10605,9936,11279,8184,7126,6919,8608,9226,7113,7618,7901,7972,7919,7376,8093,8171,6882,7296,7558,6563,5662,6786,8783,9652,10412,11397,9305,11144,11180,10954,11584,11442,10028,11439,6880,6639,10754,10993,11352,11542,11133,10419,9829,8572,9476,10841,9791,7693,9599,10848,10966,11068,9967,8948,8437,10807,10564,10819,11514,11050,9151,6630,10313,8611,8692,11325,8226,11715,10763,10703,10262,10055,10114,10011,9883,10403,10178,8693,9797,10747,8348,10791,10476,10403,4638,8880,7667,8851,4309,8532,9877,9148,10364,9810,10666,10406,9834,9817,9183,8170,8056,8978,8986,7213,9597,7150,6373,6903,9302,5897,7361,7437,7197,6792,2660,8122,8980,9399,9068,8861,8692,8514,9644,10101,9605,8664,6883,8648,9345,9597,7720,6940,4250,4741,6445,4561,5259,7357,6822,7315,8324,8583,7803,7054,7878,7787,8889,8628,9765,10619,6492,8374,8393,6388,5646,6838,4981,6373,5996,6662,5460,4616,6691,8183,9271,8098,6565,4266,4308,6948,7216,7635,7381,7353,5903,4857,4864,4518,7044,5470,4964,5531,3785,5323,6079,6471,3981,3910,3928,3097,4757,5665,5595,5611,4554,4446,3399,4232,4392,5130,4811,3663,3158,1191,2707,2722,1259,1259,1259,1259,1172,1172,2083,2083,2083,2083,2083,2083,2083,2083,1564,1564,1807,1807,1034,1034,1328,1328,1442,1442,1255,1255,1935,1935,1799,1799,1582,1582,1945,1945,1658,1658,1636,1636,1295,1295,1417,1417,1755,1755,1929,1929,1181,1181,1208,1208,975,975,855,855,1478,1478,1531,1531,1474,1474,1226,1226,1522,1522,849,849,1546,1546,1546,1546,1546,1546,1302,1302,1164,1164,1490,1490,1613,1613,1395,1395,1113,1113,1130,1130,1385,1385,1779,1779,2140,2140,1170,1170,1600,1600,1610,1610,1985,1985,1983,1983,1968,1968,1133,1133,1670,1670,1261,1261,1067,1067,1697,1697,1821,1821,1965,1965,2167,2167,2101,2101,1552,1552,1437,1437,2553,2553,2940,2940,3033,3033,3123,3123,2241,2241,2189,2189,1850,1850,2976,2976,3558,3558,4171,4171,3782,3782,3433,3433,3353,3353,3732,3732,5171,5171,5944,5944,5944,5944,5231,5231,5547,5547,4586,4586,4969,4969,6036,6036,7528,7528,7528,7528,7969,7969,7691,7691,5950,5950,6652,6652,8637,8637,6261,6261,4625,4625,3291,3291,2445,2445,3059,3059,2287,2287,4377,4377,3351,3351,5243,5243,5937,5937,4507,4507,4233,4233,3333,3333,5575,5575,7710,7710,9098,9098,8691,8691,3805,3805,2835,2835,3451,3451,4068,4068,4413,4413,4413,4413,5968,5968,6359,6359,8654,8654,2793,2793,3209,3209,6910,6910,8615,8615,9215,9215,9116,9116,7494,7494,8929,8929,9437,9437,11156,11156,10833,10833,8836,8836,10473,10473,11665,11665,11250,11250,12327,12327,13293,13293,13910,13910,13281,13281,12126,12126,12034,12034,12466,12466,12203,12203,10286,10286,10137,10137,12348,12348,11499,11499,7692,7692,8364,8364,11569,11569,9130,9130,6572,6572,10718,10718,6672,6672,6204,6204,7926,7926,9028,9028,11328,11328,11309,11309,11299,11299,11777,11777,8244,8244],\"type\":\"scatter\"}],                        {\"template\":{\"data\":{\"histogram2dcontour\":[{\"type\":\"histogram2dcontour\",\"colorbar\":{\"outlinewidth\":0,\"ticks\":\"\"},\"colorscale\":[[0.0,\"#0d0887\"],[0.1111111111111111,\"#46039f\"],[0.2222222222222222,\"#7201a8\"],[0.3333333333333333,\"#9c179e\"],[0.4444444444444444,\"#bd3786\"],[0.5555555555555556,\"#d8576b\"],[0.6666666666666666,\"#ed7953\"],[0.7777777777777778,\"#fb9f3a\"],[0.8888888888888888,\"#fdca26\"],[1.0,\"#f0f921\"]]}],\"choropleth\":[{\"type\":\"choropleth\",\"colorbar\":{\"outlinewidth\":0,\"ticks\":\"\"}}],\"histogram2d\":[{\"type\":\"histogram2d\",\"colorbar\":{\"outlinewidth\":0,\"ticks\":\"\"},\"colorscale\":[[0.0,\"#0d0887\"],[0.1111111111111111,\"#46039f\"],[0.2222222222222222,\"#7201a8\"],[0.3333333333333333,\"#9c179e\"],[0.4444444444444444,\"#bd3786\"],[0.5555555555555556,\"#d8576b\"],[0.6666666666666666,\"#ed7953\"],[0.7777777777777778,\"#fb9f3a\"],[0.8888888888888888,\"#fdca26\"],[1.0,\"#f0f921\"]]}],\"heatmap\":[{\"type\":\"heatmap\",\"colorbar\":{\"outlinewidth\":0,\"ticks\":\"\"},\"colorscale\":[[0.0,\"#0d0887\"],[0.1111111111111111,\"#46039f\"],[0.2222222222222222,\"#7201a8\"],[0.3333333333333333,\"#9c179e\"],[0.4444444444444444,\"#bd3786\"],[0.5555555555555556,\"#d8576b\"],[0.6666666666666666,\"#ed7953\"],[0.7777777777777778,\"#fb9f3a\"],[0.8888888888888888,\"#fdca26\"],[1.0,\"#f0f921\"]]}],\"heatmapgl\":[{\"type\":\"heatmapgl\",\"colorbar\":{\"outlinewidth\":0,\"ticks\":\"\"},\"colorscale\":[[0.0,\"#0d0887\"],[0.1111111111111111,\"#46039f\"],[0.2222222222222222,\"#7201a8\"],[0.3333333333333333,\"#9c179e\"],[0.4444444444444444,\"#bd3786\"],[0.5555555555555556,\"#d8576b\"],[0.6666666666666666,\"#ed7953\"],[0.7777777777777778,\"#fb9f3a\"],[0.8888888888888888,\"#fdca26\"],[1.0,\"#f0f921\"]]}],\"contourcarpet\":[{\"type\":\"contourcarpet\",\"colorbar\":{\"outlinewidth\":0,\"ticks\":\"\"}}],\"contour\":[{\"type\":\"contour\",\"colorbar\":{\"outlinewidth\":0,\"ticks\":\"\"},\"colorscale\":[[0.0,\"#0d0887\"],[0.1111111111111111,\"#46039f\"],[0.2222222222222222,\"#7201a8\"],[0.3333333333333333,\"#9c179e\"],[0.4444444444444444,\"#bd3786\"],[0.5555555555555556,\"#d8576b\"],[0.6666666666666666,\"#ed7953\"],[0.7777777777777778,\"#fb9f3a\"],[0.8888888888888888,\"#fdca26\"],[1.0,\"#f0f921\"]]}],\"surface\":[{\"type\":\"surface\",\"colorbar\":{\"outlinewidth\":0,\"ticks\":\"\"},\"colorscale\":[[0.0,\"#0d0887\"],[0.1111111111111111,\"#46039f\"],[0.2222222222222222,\"#7201a8\"],[0.3333333333333333,\"#9c179e\"],[0.4444444444444444,\"#bd3786\"],[0.5555555555555556,\"#d8576b\"],[0.6666666666666666,\"#ed7953\"],[0.7777777777777778,\"#fb9f3a\"],[0.8888888888888888,\"#fdca26\"],[1.0,\"#f0f921\"]]}],\"mesh3d\":[{\"type\":\"mesh3d\",\"colorbar\":{\"outlinewidth\":0,\"ticks\":\"\"}}],\"scatter\":[{\"fillpattern\":{\"fillmode\":\"overlay\",\"size\":10,\"solidity\":0.2},\"type\":\"scatter\"}],\"parcoords\":[{\"type\":\"parcoords\",\"line\":{\"colorbar\":{\"outlinewidth\":0,\"ticks\":\"\"}}}],\"scatterpolargl\":[{\"type\":\"scatterpolargl\",\"marker\":{\"colorbar\":{\"outlinewidth\":0,\"ticks\":\"\"}}}],\"bar\":[{\"error_x\":{\"color\":\"#2a3f5f\"},\"error_y\":{\"color\":\"#2a3f5f\"},\"marker\":{\"line\":{\"color\":\"#E5ECF6\",\"width\":0.5},\"pattern\":{\"fillmode\":\"overlay\",\"size\":10,\"solidity\":0.2}},\"type\":\"bar\"}],\"scattergeo\":[{\"type\":\"scattergeo\",\"marker\":{\"colorbar\":{\"outlinewidth\":0,\"ticks\":\"\"}}}],\"scatterpolar\":[{\"type\":\"scatterpolar\",\"marker\":{\"colorbar\":{\"outlinewidth\":0,\"ticks\":\"\"}}}],\"histogram\":[{\"marker\":{\"pattern\":{\"fillmode\":\"overlay\",\"size\":10,\"solidity\":0.2}},\"type\":\"histogram\"}],\"scattergl\":[{\"type\":\"scattergl\",\"marker\":{\"colorbar\":{\"outlinewidth\":0,\"ticks\":\"\"}}}],\"scatter3d\":[{\"type\":\"scatter3d\",\"line\":{\"colorbar\":{\"outlinewidth\":0,\"ticks\":\"\"}},\"marker\":{\"colorbar\":{\"outlinewidth\":0,\"ticks\":\"\"}}}],\"scattermapbox\":[{\"type\":\"scattermapbox\",\"marker\":{\"colorbar\":{\"outlinewidth\":0,\"ticks\":\"\"}}}],\"scatterternary\":[{\"type\":\"scatterternary\",\"marker\":{\"colorbar\":{\"outlinewidth\":0,\"ticks\":\"\"}}}],\"scattercarpet\":[{\"type\":\"scattercarpet\",\"marker\":{\"colorbar\":{\"outlinewidth\":0,\"ticks\":\"\"}}}],\"carpet\":[{\"aaxis\":{\"endlinecolor\":\"#2a3f5f\",\"gridcolor\":\"white\",\"linecolor\":\"white\",\"minorgridcolor\":\"white\",\"startlinecolor\":\"#2a3f5f\"},\"baxis\":{\"endlinecolor\":\"#2a3f5f\",\"gridcolor\":\"white\",\"linecolor\":\"white\",\"minorgridcolor\":\"white\",\"startlinecolor\":\"#2a3f5f\"},\"type\":\"carpet\"}],\"table\":[{\"cells\":{\"fill\":{\"color\":\"#EBF0F8\"},\"line\":{\"color\":\"white\"}},\"header\":{\"fill\":{\"color\":\"#C8D4E3\"},\"line\":{\"color\":\"white\"}},\"type\":\"table\"}],\"barpolar\":[{\"marker\":{\"line\":{\"color\":\"#E5ECF6\",\"width\":0.5},\"pattern\":{\"fillmode\":\"overlay\",\"size\":10,\"solidity\":0.2}},\"type\":\"barpolar\"}],\"pie\":[{\"automargin\":true,\"type\":\"pie\"}]},\"layout\":{\"autotypenumbers\":\"strict\",\"colorway\":[\"#636efa\",\"#EF553B\",\"#00cc96\",\"#ab63fa\",\"#FFA15A\",\"#19d3f3\",\"#FF6692\",\"#B6E880\",\"#FF97FF\",\"#FECB52\"],\"font\":{\"color\":\"#2a3f5f\"},\"hovermode\":\"closest\",\"hoverlabel\":{\"align\":\"left\"},\"paper_bgcolor\":\"white\",\"plot_bgcolor\":\"#E5ECF6\",\"polar\":{\"bgcolor\":\"#E5ECF6\",\"angularaxis\":{\"gridcolor\":\"white\",\"linecolor\":\"white\",\"ticks\":\"\"},\"radialaxis\":{\"gridcolor\":\"white\",\"linecolor\":\"white\",\"ticks\":\"\"}},\"ternary\":{\"bgcolor\":\"#E5ECF6\",\"aaxis\":{\"gridcolor\":\"white\",\"linecolor\":\"white\",\"ticks\":\"\"},\"baxis\":{\"gridcolor\":\"white\",\"linecolor\":\"white\",\"ticks\":\"\"},\"caxis\":{\"gridcolor\":\"white\",\"linecolor\":\"white\",\"ticks\":\"\"}},\"coloraxis\":{\"colorbar\":{\"outlinewidth\":0,\"ticks\":\"\"}},\"colorscale\":{\"sequential\":[[0.0,\"#0d0887\"],[0.1111111111111111,\"#46039f\"],[0.2222222222222222,\"#7201a8\"],[0.3333333333333333,\"#9c179e\"],[0.4444444444444444,\"#bd3786\"],[0.5555555555555556,\"#d8576b\"],[0.6666666666666666,\"#ed7953\"],[0.7777777777777778,\"#fb9f3a\"],[0.8888888888888888,\"#fdca26\"],[1.0,\"#f0f921\"]],\"sequentialminus\":[[0.0,\"#0d0887\"],[0.1111111111111111,\"#46039f\"],[0.2222222222222222,\"#7201a8\"],[0.3333333333333333,\"#9c179e\"],[0.4444444444444444,\"#bd3786\"],[0.5555555555555556,\"#d8576b\"],[0.6666666666666666,\"#ed7953\"],[0.7777777777777778,\"#fb9f3a\"],[0.8888888888888888,\"#fdca26\"],[1.0,\"#f0f921\"]],\"diverging\":[[0,\"#8e0152\"],[0.1,\"#c51b7d\"],[0.2,\"#de77ae\"],[0.3,\"#f1b6da\"],[0.4,\"#fde0ef\"],[0.5,\"#f7f7f7\"],[0.6,\"#e6f5d0\"],[0.7,\"#b8e186\"],[0.8,\"#7fbc41\"],[0.9,\"#4d9221\"],[1,\"#276419\"]]},\"xaxis\":{\"gridcolor\":\"white\",\"linecolor\":\"white\",\"ticks\":\"\",\"title\":{\"standoff\":15},\"zerolinecolor\":\"white\",\"automargin\":true,\"zerolinewidth\":2},\"yaxis\":{\"gridcolor\":\"white\",\"linecolor\":\"white\",\"ticks\":\"\",\"title\":{\"standoff\":15},\"zerolinecolor\":\"white\",\"automargin\":true,\"zerolinewidth\":2},\"scene\":{\"xaxis\":{\"backgroundcolor\":\"#E5ECF6\",\"gridcolor\":\"white\",\"linecolor\":\"white\",\"showbackground\":true,\"ticks\":\"\",\"zerolinecolor\":\"white\",\"gridwidth\":2},\"yaxis\":{\"backgroundcolor\":\"#E5ECF6\",\"gridcolor\":\"white\",\"linecolor\":\"white\",\"showbackground\":true,\"ticks\":\"\",\"zerolinecolor\":\"white\",\"gridwidth\":2},\"zaxis\":{\"backgroundcolor\":\"#E5ECF6\",\"gridcolor\":\"white\",\"linecolor\":\"white\",\"showbackground\":true,\"ticks\":\"\",\"zerolinecolor\":\"white\",\"gridwidth\":2}},\"shapedefaults\":{\"line\":{\"color\":\"#2a3f5f\"}},\"annotationdefaults\":{\"arrowcolor\":\"#2a3f5f\",\"arrowhead\":0,\"arrowwidth\":1},\"geo\":{\"bgcolor\":\"white\",\"landcolor\":\"#E5ECF6\",\"subunitcolor\":\"white\",\"showland\":true,\"showlakes\":true,\"lakecolor\":\"white\"},\"title\":{\"x\":0.05},\"mapbox\":{\"style\":\"light\"}}}},                        {\"responsive\": true}                    ).then(function(){\n                            \nvar gd = document.getElementById('b0557b3e-0fd7-4bf2-9c71-94d99a9e0918');\nvar x = new MutationObserver(function (mutations, observer) {{\n        var display = window.getComputedStyle(gd).display;\n        if (!display || display === 'none') {{\n            console.log([gd, 'removed!']);\n            Plotly.purge(gd);\n            observer.disconnect();\n        }}\n}});\n\n// Listen for the removal of the full notebook cells\nvar notebookContainer = gd.closest('#notebook-container');\nif (notebookContainer) {{\n    x.observe(notebookContainer, {childList: true});\n}}\n\n// Listen for the clearing of the current output cell\nvar outputEl = gd.closest('.output');\nif (outputEl) {{\n    x.observe(outputEl, {childList: true});\n}}\n\n                        })                };                });            </script>        </div>"
     },
     "metadata": {},
     "output_type": "display_data"
    }
   ],
   "source": [
    "\n",
    "fig = go.Figure()\n",
    "fig.add_trace(go.Scatter(x=merged.index,\n",
    "                         y=merged[\"ilosc_przejazdow\"],\n",
    "                         mode='markers',\n",
    "                         marker=dict(size=3, color=\"blue\")\n",
    "                         ))\n",
    "fig.show()"
   ],
   "metadata": {
    "collapsed": false,
    "pycharm": {
     "name": "#%%\n"
    }
   }
  }
 ],
 "metadata": {
  "kernelspec": {
   "display_name": "Python 3",
   "language": "python",
   "name": "python3"
  },
  "language_info": {
   "codemirror_mode": {
    "name": "ipython",
    "version": 2
   },
   "file_extension": ".py",
   "mimetype": "text/x-python",
   "name": "python",
   "nbconvert_exporter": "python",
   "pygments_lexer": "ipython2",
   "version": "2.7.6"
  }
 },
 "nbformat": 4,
 "nbformat_minor": 0
}